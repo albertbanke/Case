{
 "cells": [
  {
   "attachments": {},
   "cell_type": "markdown",
   "metadata": {},
   "source": [
    "# 🔬 Initialization & data wrangling\n",
    "\n",
    "I denne blok sætter vi environmentet op, med initialisering af nødvendige moduler samt upload af data. Formålet er at skabe et udgangspunkt for data analyse med python og dets stærke data wrangling moduler såsom pandas og numpy. "
   ]
  },
  {
   "cell_type": "markdown",
   "metadata": {},
   "source": []
  }
 ],
 "metadata": {
  "language_info": {
   "name": "python"
  },
  "orig_nbformat": 4
 },
 "nbformat": 4,
 "nbformat_minor": 2
}
