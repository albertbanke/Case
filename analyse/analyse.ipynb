{
 "cells": [
  {
   "attachments": {},
   "cell_type": "markdown",
   "metadata": {},
   "source": [
    "To do \n",
    "\n",
    "Tors/fre\n",
    "\n",
    "1. Rød Tråd - fortæl en historie!\n",
    "2. Sammenlign med andre år\n",
    "\n",
    "Findings \n",
    "\n",
    "1. Dårligste og bedste arbejdspladsvilkår i 2018 (branche)\n",
    "2. Største ændring +/- fra 2014-16-18\n",
    "3. Køn/alder (clustering - implikationer ift sensitive attributer)\n",
    "4. Kombination - hvad siger det sammen - og videre analyse, hvad ligger i overfladen, som kan blive bedre med mere data/undersøgelse"
   ]
  },
  {
   "attachments": {},
   "cell_type": "markdown",
   "metadata": {},
   "source": [
    "# Case / PFA / Arbejdstilsynets rapport 2018\n",
    "\n",
    "*af Albert Cort Banke*\n",
    "\n",
    "---\n",
    "\n",
    "## Introduktion\n",
    "\n",
    "Velkommen til min Jupyter Notebook, hvor jeg vil præsentere resultaterne af min undersøgelse af Arbejdstilsynets rapport fra 2018. \n",
    "\n",
    "Notebooken er struktureret i to dele. Første del er en **data wrangling** (DW) del med initialisering og dataforberedelse. Anden del er **dataanalyse** (DA), hvor jeg præsenterer resultater i **EDA (exploratory data analysis)**-delen og resultater i **machine learning-delen**.\n",
    "\n",
    "**Principper for notebooken og kodningen**\n",
    "\n",
    "Med denne notebook stræber jeg efter at opnå tre ting:\n",
    "\n",
    "1. At arbejde så **pythonic** som muligt for at sikre en høj grad af effektivitet og læsbarhed i koden.\n",
    "2. At forklare alle trin med kommentarer for at skabe gennemsigtighed og samtidig gøre det muligt at genskabe resultaterne.\n",
    "3. At visualisere data og modeller for at understøtte mine resultater.\n",
    "\n",
    "**God læsning!**\n"
   ]
  },
  {
   "attachments": {},
   "cell_type": "markdown",
   "metadata": {},
   "source": [
    "_____________________"
   ]
  },
  {
   "attachments": {},
   "cell_type": "markdown",
   "metadata": {},
   "source": [
    "## 1. DW: Initialization & data inspektion\n",
    "\n",
    "I denne blok sættes environmentet op, med initialisering af nødvendige libraries samt upload af data. Formålet er at skabe et udgangspunkt for data analyse med python og dets data wrangling libraries pandas og numpy, data analysis vha. seaborn og kvantitativ analyse hjulpet af machine learning librariet scikit-learn.\n",
    "\n",
    "Notebooken er kodet i Python 3.10.6 med nedenstående libraries og dependencies."
   ]
  },
  {
   "cell_type": "code",
   "execution_count": 1331,
   "metadata": {},
   "outputs": [],
   "source": [
    "# Indlæs libraries\n",
    "\n",
    "# Data wrangling\n",
    "import pandas as pd\n",
    "import numpy as np\n",
    "import re\n",
    "\n",
    "# Visualization \n",
    "import missingno as msno\n",
    "import matplotlib.pyplot as plt\n",
    "import plotly.express as px\n",
    "import plotly.graph_objects as go\n",
    "\n",
    "# Machine learning \n",
    "from sklearn.cluster import KMeans\n",
    "from sklearn.preprocessing import StandardScaler\n",
    "\n",
    "# System\n",
    "import warnings\n",
    "warnings.simplefilter(action='ignore', category=FutureWarning)\n",
    "warnings.simplefilter(action='ignore', category=UserWarning)\n",
    "pd.options.mode.chained_assignment = None  # Suppress warning about assigning to a copy of a slice of a DataFrame"
   ]
  },
  {
   "cell_type": "code",
   "execution_count": 1281,
   "metadata": {},
   "outputs": [
    {
     "name": "stdout",
     "output_type": "stream",
     "text": [
      "Requirement already satisfied: scikit-learn in /Users/albertcortbanke/opt/anaconda3/envs/infomsdasm/lib/python3.10/site-packages (1.2.1)\n",
      "Requirement already satisfied: joblib>=1.1.1 in /Users/albertcortbanke/opt/anaconda3/envs/infomsdasm/lib/python3.10/site-packages (from scikit-learn) (1.2.0)\n",
      "Requirement already satisfied: threadpoolctl>=2.0.0 in /Users/albertcortbanke/opt/anaconda3/envs/infomsdasm/lib/python3.10/site-packages (from scikit-learn) (3.1.0)\n",
      "Requirement already satisfied: scipy>=1.3.2 in /Users/albertcortbanke/opt/anaconda3/envs/infomsdasm/lib/python3.10/site-packages (from scikit-learn) (1.9.3)\n",
      "Requirement already satisfied: numpy>=1.17.3 in /Users/albertcortbanke/opt/anaconda3/envs/infomsdasm/lib/python3.10/site-packages (from scikit-learn) (1.23.4)\n",
      "Note: you may need to restart the kernel to use updated packages.\n",
      "Requirement already satisfied: missingno in /Users/albertcortbanke/opt/anaconda3/envs/infomsdasm/lib/python3.10/site-packages (0.5.1)\n",
      "Requirement already satisfied: matplotlib in /Users/albertcortbanke/opt/anaconda3/envs/infomsdasm/lib/python3.10/site-packages (from missingno) (3.6.2)\n",
      "Requirement already satisfied: scipy in /Users/albertcortbanke/opt/anaconda3/envs/infomsdasm/lib/python3.10/site-packages (from missingno) (1.9.3)\n",
      "Requirement already satisfied: numpy in /Users/albertcortbanke/opt/anaconda3/envs/infomsdasm/lib/python3.10/site-packages (from missingno) (1.23.4)\n",
      "Requirement already satisfied: seaborn in /Users/albertcortbanke/opt/anaconda3/envs/infomsdasm/lib/python3.10/site-packages (from missingno) (0.12.2)\n",
      "Requirement already satisfied: kiwisolver>=1.0.1 in /Users/albertcortbanke/opt/anaconda3/envs/infomsdasm/lib/python3.10/site-packages (from matplotlib->missingno) (1.4.4)\n",
      "Requirement already satisfied: fonttools>=4.22.0 in /Users/albertcortbanke/opt/anaconda3/envs/infomsdasm/lib/python3.10/site-packages (from matplotlib->missingno) (4.38.0)\n",
      "Requirement already satisfied: packaging>=20.0 in /Users/albertcortbanke/opt/anaconda3/envs/infomsdasm/lib/python3.10/site-packages (from matplotlib->missingno) (21.3)\n",
      "Requirement already satisfied: contourpy>=1.0.1 in /Users/albertcortbanke/opt/anaconda3/envs/infomsdasm/lib/python3.10/site-packages (from matplotlib->missingno) (1.0.6)\n",
      "Requirement already satisfied: pyparsing>=2.2.1 in /Users/albertcortbanke/opt/anaconda3/envs/infomsdasm/lib/python3.10/site-packages (from matplotlib->missingno) (3.0.9)\n",
      "Requirement already satisfied: pillow>=6.2.0 in /Users/albertcortbanke/opt/anaconda3/envs/infomsdasm/lib/python3.10/site-packages (from matplotlib->missingno) (9.2.0)\n",
      "Requirement already satisfied: cycler>=0.10 in /Users/albertcortbanke/opt/anaconda3/envs/infomsdasm/lib/python3.10/site-packages (from matplotlib->missingno) (0.11.0)\n",
      "Requirement already satisfied: python-dateutil>=2.7 in /Users/albertcortbanke/opt/anaconda3/envs/infomsdasm/lib/python3.10/site-packages (from matplotlib->missingno) (2.8.2)\n",
      "Requirement already satisfied: pandas>=0.25 in /Users/albertcortbanke/opt/anaconda3/envs/infomsdasm/lib/python3.10/site-packages (from seaborn->missingno) (1.5.1)\n",
      "Requirement already satisfied: pytz>=2020.1 in /Users/albertcortbanke/opt/anaconda3/envs/infomsdasm/lib/python3.10/site-packages (from pandas>=0.25->seaborn->missingno) (2022.6)\n",
      "Requirement already satisfied: six>=1.5 in /Users/albertcortbanke/opt/anaconda3/envs/infomsdasm/lib/python3.10/site-packages (from python-dateutil>=2.7->matplotlib->missingno) (1.16.0)\n",
      "Note: you may need to restart the kernel to use updated packages.\n"
     ]
    }
   ],
   "source": [
    "%pip install scikit-learn\n",
    "%pip install missingno\n"
   ]
  },
  {
   "cell_type": "code",
   "execution_count": 1282,
   "metadata": {},
   "outputs": [
    {
     "name": "stdout",
     "output_type": "stream",
     "text": [
      "Requirement already satisfied: openpyxl in /Users/albertcortbanke/opt/anaconda3/envs/infomsdasm/lib/python3.10/site-packages (3.1.1)\n",
      "Requirement already satisfied: et-xmlfile in /Users/albertcortbanke/opt/anaconda3/envs/infomsdasm/lib/python3.10/site-packages (from openpyxl) (1.1.0)\n",
      "Note: you may need to restart the kernel to use updated packages.\n"
     ]
    }
   ],
   "source": [
    "%pip install openpyxl"
   ]
  },
  {
   "attachments": {},
   "cell_type": "markdown",
   "metadata": {},
   "source": [
    "### 1. Indlæs og inspicer dataet\n",
    "\n",
    "Data består af to semikolonseparerede filer fra det Nationale Center For Arbejdsmiljøs undersøgelse om fysiske og psykiske forhold fra 50.000 adspurgte danskere i 2018.\n",
    "\n",
    "Det ene ark vedrører brancher og jobtyper. Det andet ark vedrører alder og køn."
   ]
  },
  {
   "cell_type": "code",
   "execution_count": 1283,
   "metadata": {},
   "outputs": [],
   "source": [
    "# Filepaths, tilpas disse til lokal-sti\n",
    "\n",
    "brancher_fp = r'/Users/albertcortbanke/Case/data/arbejdsmarkedsanalyse_brancher.csv'\n",
    "koen_alder_fp = r'/Users/albertcortbanke/Case/data/arbejdsmarkedsanalyse_koen_alder.csv'"
   ]
  },
  {
   "cell_type": "code",
   "execution_count": 1284,
   "metadata": {},
   "outputs": [],
   "source": [
    "# Indlæs data med pandas read_csv, brug delimiter = ; til at spalte data korrekt og samtidig enconding = 'latin-1' for at tilpasse encoding til dataet (det er lidt... funky)\n",
    "\n",
    "branche_data = pd.read_csv(brancher_fp, delimiter = \";\", encoding='latin-1')\n",
    "koen_alder_data = pd.read_csv(koen_alder_fp, delimiter = \";\", encoding='latin-1')"
   ]
  },
  {
   "cell_type": "code",
   "execution_count": 1285,
   "metadata": {},
   "outputs": [
    {
     "data": {
      "text/html": [
       "<div>\n",
       "<style scoped>\n",
       "    .dataframe tbody tr th:only-of-type {\n",
       "        vertical-align: middle;\n",
       "    }\n",
       "\n",
       "    .dataframe tbody tr th {\n",
       "        vertical-align: top;\n",
       "    }\n",
       "\n",
       "    .dataframe thead th {\n",
       "        text-align: right;\n",
       "    }\n",
       "</style>\n",
       "<table border=\"1\" class=\"dataframe\">\n",
       "  <thead>\n",
       "    <tr style=\"text-align: right;\">\n",
       "      <th></th>\n",
       "      <th>Field Values Index</th>\n",
       "      <th>Ordforklaring</th>\n",
       "      <th>Akse</th>\n",
       "      <th>Farveskala</th>\n",
       "      <th>Field Values Index (Fixed)</th>\n",
       "      <th>Navigation - Arbejdsmiljøprofiler</th>\n",
       "      <th>Score (Indekseret score) (gennemsnit)</th>\n",
       "      <th>Score (Indekseret score) (gennemsnit) (label)</th>\n",
       "      <th>Score (Total) (Fixed)</th>\n",
       "      <th>Gennemsnit</th>\n",
       "      <th>...</th>\n",
       "      <th>Main Group</th>\n",
       "      <th>Score</th>\n",
       "      <th>Field Values</th>\n",
       "      <th>Mean</th>\n",
       "      <th>Question Label</th>\n",
       "      <th>Sluttekst</th>\n",
       "      <th>Spm Formulering</th>\n",
       "      <th>Topic Label</th>\n",
       "      <th>Type</th>\n",
       "      <th>Year</th>\n",
       "    </tr>\n",
       "  </thead>\n",
       "  <tbody>\n",
       "    <tr>\n",
       "      <th>0</th>\n",
       "      <td>49,824544</td>\n",
       "      <td>Spørgsmål: Hvor ofte oplever du, at du har nok...</td>\n",
       "      <td>Score</td>\n",
       "      <td>-5,059771093</td>\n",
       "      <td>54,88431509</td>\n",
       "      <td>Arbejdsmiljøprofiler</td>\n",
       "      <td>52,18088073</td>\n",
       "      <td>2,609044037</td>\n",
       "      <td>-2,609044037</td>\n",
       "      <td>NaN</td>\n",
       "      <td>...</td>\n",
       "      <td>Job</td>\n",
       "      <td>2,658698159</td>\n",
       "      <td>-2,658698159</td>\n",
       "      <td>2,658698159</td>\n",
       "      <td>Ikke nok tid til arbejdsopgaver</td>\n",
       "      <td>I resultaterne præsenteres den gennemsnitlige ...</td>\n",
       "      <td>Hvor ofte oplever du, at du har nok tid til di...</td>\n",
       "      <td>Kvantitative krav og grænseløshed</td>\n",
       "      <td>kont</td>\n",
       "      <td>2018</td>\n",
       "    </tr>\n",
       "    <tr>\n",
       "      <th>1</th>\n",
       "      <td>59,24585073</td>\n",
       "      <td>Spørgsmål: Hvor ofte oplever du, at du har nok...</td>\n",
       "      <td>Score</td>\n",
       "      <td>4,361535635</td>\n",
       "      <td>54,88431509</td>\n",
       "      <td>Arbejdsmiljøprofiler</td>\n",
       "      <td>52,18088073</td>\n",
       "      <td>2,609044037</td>\n",
       "      <td>-2,609044037</td>\n",
       "      <td>NaN</td>\n",
       "      <td>...</td>\n",
       "      <td>Job</td>\n",
       "      <td>2,566242056</td>\n",
       "      <td>-2,566242056</td>\n",
       "      <td>2,566242056</td>\n",
       "      <td>Ikke nok tid til arbejdsopgaver</td>\n",
       "      <td>I resultaterne præsenteres den gennemsnitlige ...</td>\n",
       "      <td>Hvor ofte oplever du, at du har nok tid til di...</td>\n",
       "      <td>Kvantitative krav og grænseløshed</td>\n",
       "      <td>kont</td>\n",
       "      <td>2018</td>\n",
       "    </tr>\n",
       "    <tr>\n",
       "      <th>2</th>\n",
       "      <td>89,95423342</td>\n",
       "      <td>Spørgsmål: Hvor ofte oplever du, at du har nok...</td>\n",
       "      <td>Score</td>\n",
       "      <td>35,06991833</td>\n",
       "      <td>54,88431509</td>\n",
       "      <td>Arbejdsmiljøprofiler</td>\n",
       "      <td>52,18088073</td>\n",
       "      <td>2,609044037</td>\n",
       "      <td>-2,609044037</td>\n",
       "      <td>NaN</td>\n",
       "      <td>...</td>\n",
       "      <td>Job</td>\n",
       "      <td>2,264884984</td>\n",
       "      <td>-2,264884984</td>\n",
       "      <td>2,264884984</td>\n",
       "      <td>Ikke nok tid til arbejdsopgaver</td>\n",
       "      <td>I resultaterne præsenteres den gennemsnitlige ...</td>\n",
       "      <td>Hvor ofte oplever du, at du har nok tid til di...</td>\n",
       "      <td>Kvantitative krav og grænseløshed</td>\n",
       "      <td>kont</td>\n",
       "      <td>2018</td>\n",
       "    </tr>\n",
       "    <tr>\n",
       "      <th>3</th>\n",
       "      <td>44,36525953</td>\n",
       "      <td>Spørgsmål: Hvor ofte oplever du, at du har nok...</td>\n",
       "      <td>Score</td>\n",
       "      <td>-10,51905556</td>\n",
       "      <td>54,88431509</td>\n",
       "      <td>Arbejdsmiljøprofiler</td>\n",
       "      <td>52,18088073</td>\n",
       "      <td>2,609044037</td>\n",
       "      <td>-2,609044037</td>\n",
       "      <td>NaN</td>\n",
       "      <td>...</td>\n",
       "      <td>Job</td>\n",
       "      <td>2,712272911</td>\n",
       "      <td>-2,712272911</td>\n",
       "      <td>2,712272911</td>\n",
       "      <td>Ikke nok tid til arbejdsopgaver</td>\n",
       "      <td>I resultaterne præsenteres den gennemsnitlige ...</td>\n",
       "      <td>Hvor ofte oplever du, at du har nok tid til di...</td>\n",
       "      <td>Kvantitative krav og grænseløshed</td>\n",
       "      <td>kont</td>\n",
       "      <td>2018</td>\n",
       "    </tr>\n",
       "    <tr>\n",
       "      <th>4</th>\n",
       "      <td>85,4477087</td>\n",
       "      <td>Spørgsmål: Hvor ofte oplever du, at du har nok...</td>\n",
       "      <td>Score</td>\n",
       "      <td>30,5633936</td>\n",
       "      <td>54,88431509</td>\n",
       "      <td>Arbejdsmiljøprofiler</td>\n",
       "      <td>52,18088073</td>\n",
       "      <td>2,609044037</td>\n",
       "      <td>-2,609044037</td>\n",
       "      <td>NaN</td>\n",
       "      <td>...</td>\n",
       "      <td>Job</td>\n",
       "      <td>2,309109817</td>\n",
       "      <td>-2,309109817</td>\n",
       "      <td>2,309109817</td>\n",
       "      <td>Ikke nok tid til arbejdsopgaver</td>\n",
       "      <td>I resultaterne præsenteres den gennemsnitlige ...</td>\n",
       "      <td>Hvor ofte oplever du, at du har nok tid til di...</td>\n",
       "      <td>Kvantitative krav og grænseløshed</td>\n",
       "      <td>kont</td>\n",
       "      <td>2018</td>\n",
       "    </tr>\n",
       "  </tbody>\n",
       "</table>\n",
       "<p>5 rows × 41 columns</p>\n",
       "</div>"
      ],
      "text/plain": [
       "  Field Values Index                                      Ordforklaring  \\\n",
       "0          49,824544  Spørgsmål: Hvor ofte oplever du, at du har nok...   \n",
       "1        59,24585073  Spørgsmål: Hvor ofte oplever du, at du har nok...   \n",
       "2        89,95423342  Spørgsmål: Hvor ofte oplever du, at du har nok...   \n",
       "3        44,36525953  Spørgsmål: Hvor ofte oplever du, at du har nok...   \n",
       "4         85,4477087  Spørgsmål: Hvor ofte oplever du, at du har nok...   \n",
       "\n",
       "    Akse    Farveskala Field Values Index (Fixed)  \\\n",
       "0  Score  -5,059771093                54,88431509   \n",
       "1  Score   4,361535635                54,88431509   \n",
       "2  Score   35,06991833                54,88431509   \n",
       "3  Score  -10,51905556                54,88431509   \n",
       "4  Score    30,5633936                54,88431509   \n",
       "\n",
       "  Navigation - Arbejdsmiljøprofiler Score (Indekseret score) (gennemsnit)  \\\n",
       "0              Arbejdsmiljøprofiler                           52,18088073   \n",
       "1              Arbejdsmiljøprofiler                           52,18088073   \n",
       "2              Arbejdsmiljøprofiler                           52,18088073   \n",
       "3              Arbejdsmiljøprofiler                           52,18088073   \n",
       "4              Arbejdsmiljøprofiler                           52,18088073   \n",
       "\n",
       "  Score (Indekseret score) (gennemsnit) (label) Score (Total) (Fixed)  \\\n",
       "0                                   2,609044037          -2,609044037   \n",
       "1                                   2,609044037          -2,609044037   \n",
       "2                                   2,609044037          -2,609044037   \n",
       "3                                   2,609044037          -2,609044037   \n",
       "4                                   2,609044037          -2,609044037   \n",
       "\n",
       "  Gennemsnit  ... Main Group        Score  Field Values         Mean  \\\n",
       "0        NaN  ...        Job  2,658698159  -2,658698159  2,658698159   \n",
       "1        NaN  ...        Job  2,566242056  -2,566242056  2,566242056   \n",
       "2        NaN  ...        Job  2,264884984  -2,264884984  2,264884984   \n",
       "3        NaN  ...        Job  2,712272911  -2,712272911  2,712272911   \n",
       "4        NaN  ...        Job  2,309109817  -2,309109817  2,309109817   \n",
       "\n",
       "                    Question Label  \\\n",
       "0  Ikke nok tid til arbejdsopgaver   \n",
       "1  Ikke nok tid til arbejdsopgaver   \n",
       "2  Ikke nok tid til arbejdsopgaver   \n",
       "3  Ikke nok tid til arbejdsopgaver   \n",
       "4  Ikke nok tid til arbejdsopgaver   \n",
       "\n",
       "                                           Sluttekst  \\\n",
       "0  I resultaterne præsenteres den gennemsnitlige ...   \n",
       "1  I resultaterne præsenteres den gennemsnitlige ...   \n",
       "2  I resultaterne præsenteres den gennemsnitlige ...   \n",
       "3  I resultaterne præsenteres den gennemsnitlige ...   \n",
       "4  I resultaterne præsenteres den gennemsnitlige ...   \n",
       "\n",
       "                                     Spm Formulering  \\\n",
       "0  Hvor ofte oplever du, at du har nok tid til di...   \n",
       "1  Hvor ofte oplever du, at du har nok tid til di...   \n",
       "2  Hvor ofte oplever du, at du har nok tid til di...   \n",
       "3  Hvor ofte oplever du, at du har nok tid til di...   \n",
       "4  Hvor ofte oplever du, at du har nok tid til di...   \n",
       "\n",
       "                         Topic Label  Type  Year  \n",
       "0  Kvantitative krav og grænseløshed  kont  2018  \n",
       "1  Kvantitative krav og grænseløshed  kont  2018  \n",
       "2  Kvantitative krav og grænseløshed  kont  2018  \n",
       "3  Kvantitative krav og grænseløshed  kont  2018  \n",
       "4  Kvantitative krav og grænseløshed  kont  2018  \n",
       "\n",
       "[5 rows x 41 columns]"
      ]
     },
     "execution_count": 1285,
     "metadata": {},
     "output_type": "execute_result"
    }
   ],
   "source": [
    "# Check at begge data frames er blevet loaded korrekt (i.e ingen formatterings-issues eller lignende)\n",
    "\n",
    "branche_data.head() # ser helt fint ud"
   ]
  },
  {
   "cell_type": "code",
   "execution_count": 1286,
   "metadata": {},
   "outputs": [
    {
     "data": {
      "text/html": [
       "<div>\n",
       "<style scoped>\n",
       "    .dataframe tbody tr th:only-of-type {\n",
       "        vertical-align: middle;\n",
       "    }\n",
       "\n",
       "    .dataframe tbody tr th {\n",
       "        vertical-align: top;\n",
       "    }\n",
       "\n",
       "    .dataframe thead th {\n",
       "        text-align: right;\n",
       "    }\n",
       "</style>\n",
       "<table border=\"1\" class=\"dataframe\">\n",
       "  <thead>\n",
       "    <tr style=\"text-align: right;\">\n",
       "      <th></th>\n",
       "      <th>Group</th>\n",
       "      <th>Question Label</th>\n",
       "      <th>Topic Label</th>\n",
       "      <th>Year</th>\n",
       "      <th>Akse</th>\n",
       "      <th>Ordforklaring</th>\n",
       "      <th>Antpers</th>\n",
       "      <th>Farveskala</th>\n",
       "      <th>Gennemsnit</th>\n",
       "      <th>Score (Indekseret score) (gennemsnit) (label)</th>\n",
       "      <th>Score (Indekseret score) (gennemsnit)</th>\n",
       "      <th>Score (Indekseret score)</th>\n",
       "      <th>Score</th>\n",
       "    </tr>\n",
       "  </thead>\n",
       "  <tbody>\n",
       "    <tr>\n",
       "      <th>0</th>\n",
       "      <td>Mænd, 55 - 64 år</td>\n",
       "      <td>Symptomer på angst</td>\n",
       "      <td>Angstsymptomer</td>\n",
       "      <td>2018</td>\n",
       "      <td>Score</td>\n",
       "      <td>Spørgsmål: I de sidste fire uger, hvor meget h...</td>\n",
       "      <td>5080</td>\n",
       "      <td>38,852616243</td>\n",
       "      <td>NaN</td>\n",
       "      <td>NaN</td>\n",
       "      <td>NaN</td>\n",
       "      <td>18,223967423</td>\n",
       "      <td>0,911198371</td>\n",
       "    </tr>\n",
       "    <tr>\n",
       "      <th>1</th>\n",
       "      <td>Mænd, 45 - 54 år</td>\n",
       "      <td>Symptomer på angst</td>\n",
       "      <td>Angstsymptomer</td>\n",
       "      <td>2018</td>\n",
       "      <td>Score</td>\n",
       "      <td>Spørgsmål: I de sidste fire uger, hvor meget h...</td>\n",
       "      <td>5367</td>\n",
       "      <td>29,425529088</td>\n",
       "      <td>NaN</td>\n",
       "      <td>NaN</td>\n",
       "      <td>NaN</td>\n",
       "      <td>19,637802224</td>\n",
       "      <td>0,981890111</td>\n",
       "    </tr>\n",
       "    <tr>\n",
       "      <th>2</th>\n",
       "      <td>Mænd, 35 - 44 år</td>\n",
       "      <td>Symptomer på angst</td>\n",
       "      <td>Angstsymptomer</td>\n",
       "      <td>2018</td>\n",
       "      <td>Score</td>\n",
       "      <td>Spørgsmål: I de sidste fire uger, hvor meget h...</td>\n",
       "      <td>3496</td>\n",
       "      <td>18,435371488</td>\n",
       "      <td>NaN</td>\n",
       "      <td>NaN</td>\n",
       "      <td>NaN</td>\n",
       "      <td>21,286059742</td>\n",
       "      <td>1,064302987</td>\n",
       "    </tr>\n",
       "    <tr>\n",
       "      <th>3</th>\n",
       "      <td>Mænd, 25 - 34 år</td>\n",
       "      <td>Symptomer på angst</td>\n",
       "      <td>Angstsymptomer</td>\n",
       "      <td>2018</td>\n",
       "      <td>Score</td>\n",
       "      <td>Spørgsmål: I de sidste fire uger, hvor meget h...</td>\n",
       "      <td>1876</td>\n",
       "      <td>2,222449347</td>\n",
       "      <td>NaN</td>\n",
       "      <td>NaN</td>\n",
       "      <td>NaN</td>\n",
       "      <td>23,717605476</td>\n",
       "      <td>1,185880274</td>\n",
       "    </tr>\n",
       "    <tr>\n",
       "      <th>4</th>\n",
       "      <td>Mænd, 18 - 24 år</td>\n",
       "      <td>Symptomer på angst</td>\n",
       "      <td>Angstsymptomer</td>\n",
       "      <td>2018</td>\n",
       "      <td>Score</td>\n",
       "      <td>Spørgsmål: I de sidste fire uger, hvor meget h...</td>\n",
       "      <td>591</td>\n",
       "      <td>9,439166690</td>\n",
       "      <td>NaN</td>\n",
       "      <td>NaN</td>\n",
       "      <td>NaN</td>\n",
       "      <td>22,635272623</td>\n",
       "      <td>1,131763631</td>\n",
       "    </tr>\n",
       "  </tbody>\n",
       "</table>\n",
       "</div>"
      ],
      "text/plain": [
       "              Group      Question Label     Topic Label  Year   Akse  \\\n",
       "0  Mænd, 55 - 64 år  Symptomer på angst  Angstsymptomer  2018  Score   \n",
       "1  Mænd, 45 - 54 år  Symptomer på angst  Angstsymptomer  2018  Score   \n",
       "2  Mænd, 35 - 44 år  Symptomer på angst  Angstsymptomer  2018  Score   \n",
       "3  Mænd, 25 - 34 år  Symptomer på angst  Angstsymptomer  2018  Score   \n",
       "4  Mænd, 18 - 24 år  Symptomer på angst  Angstsymptomer  2018  Score   \n",
       "\n",
       "                                       Ordforklaring  Antpers    Farveskala  \\\n",
       "0  Spørgsmål: I de sidste fire uger, hvor meget h...     5080  38,852616243   \n",
       "1  Spørgsmål: I de sidste fire uger, hvor meget h...     5367  29,425529088   \n",
       "2  Spørgsmål: I de sidste fire uger, hvor meget h...     3496  18,435371488   \n",
       "3  Spørgsmål: I de sidste fire uger, hvor meget h...     1876   2,222449347   \n",
       "4  Spørgsmål: I de sidste fire uger, hvor meget h...      591   9,439166690   \n",
       "\n",
       "   Gennemsnit  Score (Indekseret score) (gennemsnit) (label)  \\\n",
       "0         NaN                                            NaN   \n",
       "1         NaN                                            NaN   \n",
       "2         NaN                                            NaN   \n",
       "3         NaN                                            NaN   \n",
       "4         NaN                                            NaN   \n",
       "\n",
       "   Score (Indekseret score) (gennemsnit) Score (Indekseret score)        Score  \n",
       "0                                    NaN             18,223967423  0,911198371  \n",
       "1                                    NaN             19,637802224  0,981890111  \n",
       "2                                    NaN             21,286059742  1,064302987  \n",
       "3                                    NaN             23,717605476  1,185880274  \n",
       "4                                    NaN             22,635272623  1,131763631  "
      ]
     },
     "execution_count": 1286,
     "metadata": {},
     "output_type": "execute_result"
    }
   ],
   "source": [
    "koen_alder_data.head() # ser også fint ud, kolonnerne er sat rigtigt op og der er index"
   ]
  },
  {
   "attachments": {},
   "cell_type": "markdown",
   "metadata": {},
   "source": [
    "**Kort beskrivelse af hvad dataets opgbyning**\n",
    "\n",
    "* Første data frame, branche_alder_data, er en opsamling af surveys om arbejdsmiljø og helbred blandt danskere i arbejdsmarkedet anno 2018. Hver række indeholder et spørgsmål, et svar fra en gruppe (bl.a. Brandmænd, bus- og taxachauffører) og det indekserede gennemsnit (for alle grupper) samt den individuelle score for gruppen.\n",
    "\n",
    "* Anden data frame, koen_alder_data, er en også opsamling af surveys af samme kilde som ovenfor. Forskellen er at grupperingerne er ud fra køn (M/K) og alder i bins (45 - 54 år, 18 - 24 år). \n"
   ]
  },
  {
   "attachments": {},
   "cell_type": "markdown",
   "metadata": {},
   "source": [
    "**To vigtige takeaways fra en initiel inspektion af dataet**\n",
    "\n",
    "1) Vi har at gøre med brede og korte datasæt. Altså datasæt med mange attributer men få instances; eksempelvis har branche_data 8115 rows × 41 columns. Dette giver intuitivt god mening når vi ved at dataet er sampled ud fra grupper, og kolonner som 'Antpers' tit er i tusinde. \n",
    "\n",
    "2) Det ser ud til at det er en del kolonner med manglende data og samtidig er meget af dataet indkodet med den danske (2,423) - hvilket vi gør bedst ved at ændre for computational standards. Lad os dog først tage et dybere kig i manglende data, da det er ekstremt vigtigt at forholde sig til"
   ]
  },
  {
   "cell_type": "code",
   "execution_count": 1287,
   "metadata": {},
   "outputs": [
    {
     "name": "stdout",
     "output_type": "stream",
     "text": [
      "<class 'pandas.core.frame.DataFrame'>\n",
      "RangeIndex: 8115 entries, 0 to 8114\n",
      "Data columns (total 41 columns):\n",
      " #   Column                                         Non-Null Count  Dtype  \n",
      "---  ------                                         --------------  -----  \n",
      " 0   Field Values Index                             8096 non-null   object \n",
      " 1   Ordforklaring                                  7737 non-null   object \n",
      " 2   Akse                                           8096 non-null   object \n",
      " 3   Farveskala                                     8096 non-null   object \n",
      " 4   Field Values Index (Fixed)                     8115 non-null   object \n",
      " 5   Navigation - Arbejdsmiljøprofiler              8115 non-null   object \n",
      " 6   Score (Indekseret score) (gennemsnit)          8115 non-null   object \n",
      " 7   Score (Indekseret score) (gennemsnit) (label)  8115 non-null   object \n",
      " 8   Score (Total) (Fixed)                          8115 non-null   object \n",
      " 9   Gennemsnit                                     109 non-null    object \n",
      " 10  Score (Indekseret score)                       8096 non-null   object \n",
      " 11  Score (Total)                                  109 non-null    object \n",
      " 12  Antpct                                         3308 non-null   object \n",
      " 13  Antpers                                        8115 non-null   int64  \n",
      " 14  Group                                          8115 non-null   object \n",
      " 15  Hoej Score Godt                                8115 non-null   int64  \n",
      " 16  Kategori10                                     152 non-null    float64\n",
      " 17  Kategori11                                     152 non-null    object \n",
      " 18  Kategori12                                     0 non-null      float64\n",
      " 19  Kategori13                                     0 non-null      float64\n",
      " 20  Kategori14                                     0 non-null      float64\n",
      " 21  Kategori15                                     0 non-null      float64\n",
      " 22  Kategori1                                      7737 non-null   object \n",
      " 23  Kategori2                                      7281 non-null   object \n",
      " 24  Kategori3                                      7129 non-null   object \n",
      " 25  Kategori4                                      6602 non-null   object \n",
      " 26  Kategori5                                      6530 non-null   object \n",
      " 27  Kategori6                                      2265 non-null   object \n",
      " 28  Kategori7                                      152 non-null    float64\n",
      " 29  Kategori8                                      152 non-null    float64\n",
      " 30  Kategori9                                      152 non-null    float64\n",
      " 31  Main Group                                     8115 non-null   object \n",
      " 32  Score                                          8096 non-null   object \n",
      " 33  Field Values                                   8096 non-null   object \n",
      " 34  Mean                                           4788 non-null   object \n",
      " 35  Question Label                                 8115 non-null   object \n",
      " 36  Sluttekst                                      7737 non-null   object \n",
      " 37  Spm Formulering                                7737 non-null   object \n",
      " 38  Topic Label                                    8115 non-null   object \n",
      " 39  Type                                           8096 non-null   object \n",
      " 40  Year                                           8115 non-null   int64  \n",
      "dtypes: float64(8), int64(3), object(30)\n",
      "memory usage: 2.5+ MB\n"
     ]
    }
   ],
   "source": [
    "# Her checker vi dataets integritet, ved bl.a. at kigge på antallet af manglende data i de forskellige kolonner med pandas info() method\n",
    "\n",
    "branche_data.info() "
   ]
  },
  {
   "cell_type": "code",
   "execution_count": 1288,
   "metadata": {},
   "outputs": [
    {
     "name": "stdout",
     "output_type": "stream",
     "text": [
      "<class 'pandas.core.frame.DataFrame'>\n",
      "RangeIndex: 1308 entries, 0 to 1307\n",
      "Data columns (total 13 columns):\n",
      " #   Column                                         Non-Null Count  Dtype  \n",
      "---  ------                                         --------------  -----  \n",
      " 0   Group                                          1308 non-null   object \n",
      " 1   Question Label                                 1308 non-null   object \n",
      " 2   Topic Label                                    1308 non-null   object \n",
      " 3   Year                                           1308 non-null   int64  \n",
      " 4   Akse                                           1308 non-null   object \n",
      " 5   Ordforklaring                                  1248 non-null   object \n",
      " 6   Antpers                                        1308 non-null   int64  \n",
      " 7   Farveskala                                     1308 non-null   object \n",
      " 8   Gennemsnit                                     0 non-null      float64\n",
      " 9   Score (Indekseret score) (gennemsnit) (label)  0 non-null      float64\n",
      " 10  Score (Indekseret score) (gennemsnit)          0 non-null      float64\n",
      " 11  Score (Indekseret score)                       1308 non-null   object \n",
      " 12  Score                                          1308 non-null   object \n",
      "dtypes: float64(3), int64(2), object(8)\n",
      "memory usage: 133.0+ KB\n"
     ]
    }
   ],
   "source": [
    "koen_alder_data.info()"
   ]
  },
  {
   "attachments": {},
   "cell_type": "markdown",
   "metadata": {},
   "source": [
    "Ovenstående viser at begge data frames har kolonner der er incomplete. Derudover ser man at det er en blanding af object og int64 data types, alså en blanding af tekst og numeriske værdier. Dette skal addreseres da incompleteness er vigtigt for videre statistiske analyser og machine learning modelling. \n",
    "\n",
    "Til sammenligning er branche_data både bredere (flere kolonner; 41 i alt) og længere (flere rækker; 8115 i alt) end koen_alder_data, der har 13 kolonner og 1308 rækker. \n",
    "\n",
    "Nedenfor visualisereres missingness for at vise, hvor meget data der mangler:"
   ]
  },
  {
   "cell_type": "code",
   "execution_count": 1289,
   "metadata": {},
   "outputs": [
    {
     "data": {
      "text/plain": [
       "<AxesSubplot: >"
      ]
     },
     "execution_count": 1289,
     "metadata": {},
     "output_type": "execute_result"
    },
    {
     "data": {
      "image/png": "[encoded data removed]",
      "text/plain": [
       "<Figure size 2500x1000 with 2 Axes>"
      ]
     },
     "metadata": {},
     "output_type": "display_data"
    }
   ],
   "source": [
    "# Visualisering af manglende data for branche_data\n",
    "msno.matrix(branche_data, color=(0.50, 0.50, 0.50)) # bemærk at alle kolonners titler kan ses her "
   ]
  },
  {
   "cell_type": "code",
   "execution_count": 1290,
   "metadata": {},
   "outputs": [
    {
     "data": {
      "text/plain": [
       "<AxesSubplot: >"
      ]
     },
     "execution_count": 1290,
     "metadata": {},
     "output_type": "execute_result"
    },
    {
     "data": {
      "image/png": "[encoded data removed]",
      "text/plain": [
       "<Figure size 2500x1000 with 2 Axes>"
      ]
     },
     "metadata": {},
     "output_type": "display_data"
    }
   ],
   "source": [
    "# Visualisering af manglende data for koen_alder_data\n",
    "msno.matrix(koen_alder_data, color=(0.50, 0.50, 0.50))"
   ]
  },
  {
   "attachments": {},
   "cell_type": "markdown",
   "metadata": {},
   "source": [
    "Ud fra graferne, kan man se at der skal graves dybere med data transformations i preprocessing steppet for at gøre dataet klar til EDA (eksplorativ data analyse) og modellering. Dette ses bl.a. i kolonnen 'gennemsnit' for branche_data og koen_alder_data, der ekstremt sparse i begge. "
   ]
  },
  {
   "attachments": {},
   "cell_type": "markdown",
   "metadata": {},
   "source": [
    "# 2. DW: Data pre-processing\n",
    "\n",
    "I denne blok pre-processes begge datasæt så de er klar til EDA. Transformationerne hjælper med at enable data og udvinde findings. Principperne for denne data-preprocessing er respekt for det originale stamdata. To vigtige transformationer finder sted:\n",
    "\n",
    "1) Dimensionalitets reduktion. Vi kan ikke gøre os kloge på noget, når der er over 60 kolonner i spil. Vi skal finde de vigtigste og rigeste data kilder i begge data frames.  \n",
    "2) Konvertere data typer til deres korrekte type. Det vil sige objects some 'Score (Total) (Fixed)' skal konverteres fra object til float64.\n",
    "3) Transformere missing data"
   ]
  },
  {
   "attachments": {},
   "cell_type": "markdown",
   "metadata": {},
   "source": [
    "### 1) Dimensionalitets reduktion\n",
    "\n",
    "Især den første data frame, brance_data, har en stor dimensionalitet. For at øge modellering og visualiseringers effekt gør vi os klogt i at vælge de vigtigste kolonner med bedst, og mest, information, for at finde gode findings. Nu da vi har visualiseret hvor dataet er sparse, altså hvor det mangler noget, kan vi bruge det som pejlemærke til denne del. \n",
    "\n",
    "Den bedste måde at gøre dette initielle skridt er at undersøge kolonnerne individuelt, og se om det er nogle kolonner der gengiver det samme eller unødvendig information. For numeriske kolonner kan man eksempelvis bruge correlations analyse til at se om der er høj correlation mellem kolonner. Dette gør vi dog ikke endnu, da dataet mangler at blive transformeret.\n",
    "\n",
    "Efter at have undersøgt data framen branche_data, er det klart at visse kolonner godt kan fjernes. Eksempelvis gentages alle kategorierne i 'Ordforklaring' og derfor kan man beholde sidstnævnte. "
   ]
  },
  {
   "cell_type": "code",
   "execution_count": 1291,
   "metadata": {},
   "outputs": [
    {
     "data": {
      "text/html": [
       "<div>\n",
       "<style scoped>\n",
       "    .dataframe tbody tr th:only-of-type {\n",
       "        vertical-align: middle;\n",
       "    }\n",
       "\n",
       "    .dataframe tbody tr th {\n",
       "        vertical-align: top;\n",
       "    }\n",
       "\n",
       "    .dataframe thead th {\n",
       "        text-align: right;\n",
       "    }\n",
       "</style>\n",
       "<table border=\"1\" class=\"dataframe\">\n",
       "  <thead>\n",
       "    <tr style=\"text-align: right;\">\n",
       "      <th></th>\n",
       "      <th>Ordforklaring</th>\n",
       "      <th>Akse</th>\n",
       "      <th>Score (Indekseret score) (gennemsnit) (label)</th>\n",
       "      <th>Antpct</th>\n",
       "      <th>Antpers</th>\n",
       "      <th>Group</th>\n",
       "      <th>Hoej Score Godt</th>\n",
       "      <th>Score</th>\n",
       "      <th>Question Label</th>\n",
       "      <th>Topic Label</th>\n",
       "      <th>Type</th>\n",
       "      <th>Year</th>\n",
       "    </tr>\n",
       "  </thead>\n",
       "  <tbody>\n",
       "    <tr>\n",
       "      <th>0</th>\n",
       "      <td>Spørgsmål: Hvor ofte oplever du, at du har nok...</td>\n",
       "      <td>Score</td>\n",
       "      <td>2,609044037</td>\n",
       "      <td>NaN</td>\n",
       "      <td>224</td>\n",
       "      <td>Bibliotekarer og beskæftigede med kultur</td>\n",
       "      <td>0</td>\n",
       "      <td>2,658698159</td>\n",
       "      <td>Ikke nok tid til arbejdsopgaver</td>\n",
       "      <td>Kvantitative krav og grænseløshed</td>\n",
       "      <td>kont</td>\n",
       "      <td>2018</td>\n",
       "    </tr>\n",
       "    <tr>\n",
       "      <th>1</th>\n",
       "      <td>Spørgsmål: Hvor ofte oplever du, at du har nok...</td>\n",
       "      <td>Score</td>\n",
       "      <td>2,609044037</td>\n",
       "      <td>NaN</td>\n",
       "      <td>388</td>\n",
       "      <td>Bogholdere</td>\n",
       "      <td>0</td>\n",
       "      <td>2,566242056</td>\n",
       "      <td>Ikke nok tid til arbejdsopgaver</td>\n",
       "      <td>Kvantitative krav og grænseløshed</td>\n",
       "      <td>kont</td>\n",
       "      <td>2018</td>\n",
       "    </tr>\n",
       "    <tr>\n",
       "      <th>2</th>\n",
       "      <td>Spørgsmål: Hvor ofte oplever du, at du har nok...</td>\n",
       "      <td>Score</td>\n",
       "      <td>2,609044037</td>\n",
       "      <td>NaN</td>\n",
       "      <td>189</td>\n",
       "      <td>Brandmænd, reddere og sikkerhedsvagter</td>\n",
       "      <td>0</td>\n",
       "      <td>2,264884984</td>\n",
       "      <td>Ikke nok tid til arbejdsopgaver</td>\n",
       "      <td>Kvantitative krav og grænseløshed</td>\n",
       "      <td>kont</td>\n",
       "      <td>2018</td>\n",
       "    </tr>\n",
       "    <tr>\n",
       "      <th>3</th>\n",
       "      <td>Spørgsmål: Hvor ofte oplever du, at du har nok...</td>\n",
       "      <td>Score</td>\n",
       "      <td>2,609044037</td>\n",
       "      <td>NaN</td>\n",
       "      <td>182</td>\n",
       "      <td>Bude og kurerer</td>\n",
       "      <td>0</td>\n",
       "      <td>2,712272911</td>\n",
       "      <td>Ikke nok tid til arbejdsopgaver</td>\n",
       "      <td>Kvantitative krav og grænseløshed</td>\n",
       "      <td>kont</td>\n",
       "      <td>2018</td>\n",
       "    </tr>\n",
       "    <tr>\n",
       "      <th>4</th>\n",
       "      <td>Spørgsmål: Hvor ofte oplever du, at du har nok...</td>\n",
       "      <td>Score</td>\n",
       "      <td>2,609044037</td>\n",
       "      <td>NaN</td>\n",
       "      <td>280</td>\n",
       "      <td>Bus- og taxachauffører, lokoførere m.fl.</td>\n",
       "      <td>0</td>\n",
       "      <td>2,309109817</td>\n",
       "      <td>Ikke nok tid til arbejdsopgaver</td>\n",
       "      <td>Kvantitative krav og grænseløshed</td>\n",
       "      <td>kont</td>\n",
       "      <td>2018</td>\n",
       "    </tr>\n",
       "  </tbody>\n",
       "</table>\n",
       "</div>"
      ],
      "text/plain": [
       "                                       Ordforklaring   Akse  \\\n",
       "0  Spørgsmål: Hvor ofte oplever du, at du har nok...  Score   \n",
       "1  Spørgsmål: Hvor ofte oplever du, at du har nok...  Score   \n",
       "2  Spørgsmål: Hvor ofte oplever du, at du har nok...  Score   \n",
       "3  Spørgsmål: Hvor ofte oplever du, at du har nok...  Score   \n",
       "4  Spørgsmål: Hvor ofte oplever du, at du har nok...  Score   \n",
       "\n",
       "  Score (Indekseret score) (gennemsnit) (label) Antpct  Antpers  \\\n",
       "0                                   2,609044037    NaN      224   \n",
       "1                                   2,609044037    NaN      388   \n",
       "2                                   2,609044037    NaN      189   \n",
       "3                                   2,609044037    NaN      182   \n",
       "4                                   2,609044037    NaN      280   \n",
       "\n",
       "                                      Group  Hoej Score Godt        Score  \\\n",
       "0  Bibliotekarer og beskæftigede med kultur                0  2,658698159   \n",
       "1                                Bogholdere                0  2,566242056   \n",
       "2    Brandmænd, reddere og sikkerhedsvagter                0  2,264884984   \n",
       "3                           Bude og kurerer                0  2,712272911   \n",
       "4  Bus- og taxachauffører, lokoførere m.fl.                0  2,309109817   \n",
       "\n",
       "                    Question Label                        Topic Label  Type  \\\n",
       "0  Ikke nok tid til arbejdsopgaver  Kvantitative krav og grænseløshed  kont   \n",
       "1  Ikke nok tid til arbejdsopgaver  Kvantitative krav og grænseløshed  kont   \n",
       "2  Ikke nok tid til arbejdsopgaver  Kvantitative krav og grænseløshed  kont   \n",
       "3  Ikke nok tid til arbejdsopgaver  Kvantitative krav og grænseløshed  kont   \n",
       "4  Ikke nok tid til arbejdsopgaver  Kvantitative krav og grænseløshed  kont   \n",
       "\n",
       "   Year  \n",
       "0  2018  \n",
       "1  2018  \n",
       "2  2018  \n",
       "3  2018  \n",
       "4  2018  "
      ]
     },
     "execution_count": 1291,
     "metadata": {},
     "output_type": "execute_result"
    }
   ],
   "source": [
    "# Liste af kolonner der droppes \n",
    "columns_to_drop = ['Spm Formulering', 'Field Values Index', 'Farveskala', 'Field Values Index (Fixed)', 'Navigation - Arbejdsmiljøprofiler', 'Gennemsnit', \n",
    "                   'Score (Total)', 'Main Group', 'Kategori1', 'Kategori2', 'Kategori3', 'Kategori4', 'Kategori5', 'Kategori6', 'Kategori7', 'Kategori8', 'Kategori9',\n",
    "                   'Kategori10', 'Kategori11', 'Kategori12', 'Kategori13', 'Kategori14', 'Kategori15', 'Score (Total) (Fixed)', 'Field Values', 'Mean', 'Sluttekst', \n",
    "                   'Score (Indekseret score) (gennemsnit)', 'Score (Indekseret score)']\n",
    "\n",
    "# Score == Mean == -(Field Values). Derfor nøjes vi med at beholde score & Score (Indekseret score) (gennemsnit) (label)\n",
    "# Bemærk også at det ville være en lille smule mere clean at lave columns to keep, men at det er vigtigt at vise, hvad der fjernes fra data framen\n",
    "\n",
    "# Drop de specificerede kolonner\n",
    "branche_data = branche_data.drop(columns=columns_to_drop)\n",
    "\n",
    "# Vi recaller framen for at se den igen. Den ser langt bedre ud og mere klar til EDA og [...]\n",
    "branche_data.head()"
   ]
  },
  {
   "cell_type": "code",
   "execution_count": 1292,
   "metadata": {},
   "outputs": [
    {
     "data": {
      "text/html": [
       "<div>\n",
       "<style scoped>\n",
       "    .dataframe tbody tr th:only-of-type {\n",
       "        vertical-align: middle;\n",
       "    }\n",
       "\n",
       "    .dataframe tbody tr th {\n",
       "        vertical-align: top;\n",
       "    }\n",
       "\n",
       "    .dataframe thead th {\n",
       "        text-align: right;\n",
       "    }\n",
       "</style>\n",
       "<table border=\"1\" class=\"dataframe\">\n",
       "  <thead>\n",
       "    <tr style=\"text-align: right;\">\n",
       "      <th></th>\n",
       "      <th>Group</th>\n",
       "      <th>Question Label</th>\n",
       "      <th>Topic Label</th>\n",
       "      <th>Year</th>\n",
       "      <th>Akse</th>\n",
       "      <th>Ordforklaring</th>\n",
       "      <th>Antpers</th>\n",
       "      <th>Score (Indekseret score)</th>\n",
       "      <th>Score</th>\n",
       "    </tr>\n",
       "  </thead>\n",
       "  <tbody>\n",
       "    <tr>\n",
       "      <th>0</th>\n",
       "      <td>Mænd, 55 - 64 år</td>\n",
       "      <td>Symptomer på angst</td>\n",
       "      <td>Angstsymptomer</td>\n",
       "      <td>2018</td>\n",
       "      <td>Score</td>\n",
       "      <td>Spørgsmål: I de sidste fire uger, hvor meget h...</td>\n",
       "      <td>5080</td>\n",
       "      <td>18,223967423</td>\n",
       "      <td>0,911198371</td>\n",
       "    </tr>\n",
       "    <tr>\n",
       "      <th>1</th>\n",
       "      <td>Mænd, 45 - 54 år</td>\n",
       "      <td>Symptomer på angst</td>\n",
       "      <td>Angstsymptomer</td>\n",
       "      <td>2018</td>\n",
       "      <td>Score</td>\n",
       "      <td>Spørgsmål: I de sidste fire uger, hvor meget h...</td>\n",
       "      <td>5367</td>\n",
       "      <td>19,637802224</td>\n",
       "      <td>0,981890111</td>\n",
       "    </tr>\n",
       "    <tr>\n",
       "      <th>2</th>\n",
       "      <td>Mænd, 35 - 44 år</td>\n",
       "      <td>Symptomer på angst</td>\n",
       "      <td>Angstsymptomer</td>\n",
       "      <td>2018</td>\n",
       "      <td>Score</td>\n",
       "      <td>Spørgsmål: I de sidste fire uger, hvor meget h...</td>\n",
       "      <td>3496</td>\n",
       "      <td>21,286059742</td>\n",
       "      <td>1,064302987</td>\n",
       "    </tr>\n",
       "    <tr>\n",
       "      <th>3</th>\n",
       "      <td>Mænd, 25 - 34 år</td>\n",
       "      <td>Symptomer på angst</td>\n",
       "      <td>Angstsymptomer</td>\n",
       "      <td>2018</td>\n",
       "      <td>Score</td>\n",
       "      <td>Spørgsmål: I de sidste fire uger, hvor meget h...</td>\n",
       "      <td>1876</td>\n",
       "      <td>23,717605476</td>\n",
       "      <td>1,185880274</td>\n",
       "    </tr>\n",
       "    <tr>\n",
       "      <th>4</th>\n",
       "      <td>Mænd, 18 - 24 år</td>\n",
       "      <td>Symptomer på angst</td>\n",
       "      <td>Angstsymptomer</td>\n",
       "      <td>2018</td>\n",
       "      <td>Score</td>\n",
       "      <td>Spørgsmål: I de sidste fire uger, hvor meget h...</td>\n",
       "      <td>591</td>\n",
       "      <td>22,635272623</td>\n",
       "      <td>1,131763631</td>\n",
       "    </tr>\n",
       "  </tbody>\n",
       "</table>\n",
       "</div>"
      ],
      "text/plain": [
       "              Group      Question Label     Topic Label  Year   Akse  \\\n",
       "0  Mænd, 55 - 64 år  Symptomer på angst  Angstsymptomer  2018  Score   \n",
       "1  Mænd, 45 - 54 år  Symptomer på angst  Angstsymptomer  2018  Score   \n",
       "2  Mænd, 35 - 44 år  Symptomer på angst  Angstsymptomer  2018  Score   \n",
       "3  Mænd, 25 - 34 år  Symptomer på angst  Angstsymptomer  2018  Score   \n",
       "4  Mænd, 18 - 24 år  Symptomer på angst  Angstsymptomer  2018  Score   \n",
       "\n",
       "                                       Ordforklaring  Antpers  \\\n",
       "0  Spørgsmål: I de sidste fire uger, hvor meget h...     5080   \n",
       "1  Spørgsmål: I de sidste fire uger, hvor meget h...     5367   \n",
       "2  Spørgsmål: I de sidste fire uger, hvor meget h...     3496   \n",
       "3  Spørgsmål: I de sidste fire uger, hvor meget h...     1876   \n",
       "4  Spørgsmål: I de sidste fire uger, hvor meget h...      591   \n",
       "\n",
       "  Score (Indekseret score)        Score  \n",
       "0             18,223967423  0,911198371  \n",
       "1             19,637802224  0,981890111  \n",
       "2             21,286059742  1,064302987  \n",
       "3             23,717605476  1,185880274  \n",
       "4             22,635272623  1,131763631  "
      ]
     },
     "execution_count": 1292,
     "metadata": {},
     "output_type": "execute_result"
    }
   ],
   "source": [
    "# For den anden data frame, koen_alder_data, er det kun fordelagtigt at droppe Farveskala samt Gennemsnit, Score (Indekseret score)(gennemsnit label) \n",
    "# og Score (Indekseret score)(gennemsnit) da disse kolonner er tomme\n",
    "\n",
    "columns_to_drop = ['Score (Indekseret score) (gennemsnit)', 'Score (Indekseret score) (gennemsnit) (label)', 'Farveskala', 'Gennemsnit']\n",
    "\n",
    "# Drop de specificerede kolonner\n",
    "koen_alder_data = koen_alder_data.drop(columns=columns_to_drop)\n",
    "\n",
    "koen_alder_data.head() # Igen en god clean data frame, bemærk også her at kolonnerne score og score (indekseret score) skal have en transformation. "
   ]
  },
  {
   "attachments": {},
   "cell_type": "markdown",
   "metadata": {},
   "source": [
    "### 2) Konvertere data typer til deres korrekte type\n",
    "\n",
    "Fordi at Pandas read_csv havde svært ved at formatere vores data til deres korrekte datatyper (eksempelvis er Score af typen 'object' e.g. en string) skal vi have vores Regex frem og bygge en skarp funktion der kan behandle begge data frames. Den er bygget herunder og transformerer hurtigt, og korrekt, begge data frames kolonner til deres korrekte type som demonstreret. "
   ]
  },
  {
   "cell_type": "code",
   "execution_count": 1293,
   "metadata": {},
   "outputs": [
    {
     "name": "stdout",
     "output_type": "stream",
     "text": [
      "value counts for branche_data før transformationen:\n"
     ]
    },
    {
     "data": {
      "text/plain": [
       "object    9\n",
       "int64     3\n",
       "dtype: int64"
      ]
     },
     "metadata": {},
     "output_type": "display_data"
    },
    {
     "name": "stdout",
     "output_type": "stream",
     "text": [
      "\n",
      "value counts for koen_alder_data før transformationen:\n"
     ]
    },
    {
     "data": {
      "text/plain": [
       "object    7\n",
       "int64     2\n",
       "dtype: int64"
      ]
     },
     "metadata": {},
     "output_type": "display_data"
    }
   ],
   "source": [
    "# Her ser vi antallet af value counts for branche_data og koen_alder_data før\n",
    "\n",
    "print(\"value counts for branche_data før transformationen:\")\n",
    "display(branche_data.dtypes.value_counts())\n",
    "print(\"\\nvalue counts for koen_alder_data før transformationen:\")\n",
    "display(koen_alder_data.dtypes.value_counts())"
   ]
  },
  {
   "cell_type": "code",
   "execution_count": 1294,
   "metadata": {},
   "outputs": [],
   "source": [
    "# Funktionen konverterer kolonner med tal og komma separatorer til numeriske værdier.\n",
    "def convert_columns_to_numeric(df):\n",
    "    # Itererer igennem alle kolonner i dataframen\n",
    "    for column in df.columns:\n",
    "        # Tjekker om kolonnens datatype er 'object' og om kolonnen kun indeholder talværdier og komma separatorer vha. regex\n",
    "        # Vi vil nemlig ikke have at 'Ordforklaring' konverteres ved en fejl\n",
    "        if df[column].dtype == 'object' and re.match(r'^[0-9,]+$', df[column].str.strip().str.cat()):\n",
    "            try:\n",
    "                # Erstatter komma separatorer med punktum separatorer.\n",
    "                df[column] = df[column].str.replace(',', '.')\n",
    "                # Konverterer kolonnen til numerisk datatype.\n",
    "                df[column] = pd.to_numeric(df[column], errors='coerce')\n",
    "            except ValueError:\n",
    "                pass\n",
    "    # Returnerer den konverterede dataframe.\n",
    "    return df"
   ]
  },
  {
   "cell_type": "code",
   "execution_count": 1295,
   "metadata": {},
   "outputs": [],
   "source": [
    "# Konverter dele af branche_datas kolonner til numerisk\n",
    "branche_data = convert_columns_to_numeric(branche_data)\n",
    "\n",
    "# Konverter dele af koen_alder_datas kolonner til numerisk\n",
    "koen_alder_data = convert_columns_to_numeric(koen_alder_data)"
   ]
  },
  {
   "cell_type": "code",
   "execution_count": 1296,
   "metadata": {},
   "outputs": [
    {
     "name": "stdout",
     "output_type": "stream",
     "text": [
      "value counts for branche_data efter transformationen:\n"
     ]
    },
    {
     "data": {
      "text/plain": [
       "object     6\n",
       "float64    3\n",
       "int64      3\n",
       "dtype: int64"
      ]
     },
     "metadata": {},
     "output_type": "display_data"
    },
    {
     "name": "stdout",
     "output_type": "stream",
     "text": [
      "\n",
      "value counts for koen_alder_data efter transformationen:\n"
     ]
    },
    {
     "data": {
      "text/plain": [
       "object     5\n",
       "int64      2\n",
       "float64    2\n",
       "dtype: int64"
      ]
     },
     "metadata": {},
     "output_type": "display_data"
    }
   ],
   "source": [
    "# Her ser vi antallet af value counts for branche_data og koen_alder_data efter transformationen\n",
    "\n",
    "print(\"value counts for branche_data efter transformationen:\")\n",
    "display(branche_data.dtypes.value_counts())\n",
    "print(\"\\nvalue counts for koen_alder_data efter transformationen:\")\n",
    "display(koen_alder_data.dtypes.value_counts())\n",
    "\n",
    "# Succes!"
   ]
  },
  {
   "attachments": {},
   "cell_type": "markdown",
   "metadata": {},
   "source": [
    "### 3) Transformering af manglende og synligt data\n",
    "\n",
    "* Ved at inspicere de to data frames ovenfor ved vi at vi skal forholde os til manglende data. **Vi fjerner rækker fra kolonner som har lav incompleteness (under 5% af samlet data)**\n",
    "\n",
    "* Kolonnen 'Ordforklaring' indeholder meget ekstra tekst som ikke er nødvendigt (/n og Spørgsmål: for hver række). Dette fjerner vi også. \n",
    "\n",
    "* Vi reformatterer grupperne i koen_alder_data ved at spalte køn og alder ud i to individuelle kolonner. Dette er vigtigt for den videre modellering\n",
    "\n",
    "* Mange af spørgsmålene ikke homogenitet i deres svargrundlag. Eksempelvis er nogle scoret fra 1-5. 1-6, 1-10, Ja/Nej, 0-100. Dette fikses ved key-word filtrering\n",
    "\n",
    "* Kolonnen 'Hoej Score Godt' mangler i data framen koen_alder. Denne skabes med de korrekte værdier ud fra et Left-Join (Merge) med branche_data framen's indhold"
   ]
  },
  {
   "cell_type": "code",
   "execution_count": 1297,
   "metadata": {},
   "outputs": [
    {
     "name": "stdout",
     "output_type": "stream",
     "text": [
      "<class 'pandas.core.frame.DataFrame'>\n",
      "RangeIndex: 1308 entries, 0 to 1307\n",
      "Data columns (total 9 columns):\n",
      " #   Column                    Non-Null Count  Dtype  \n",
      "---  ------                    --------------  -----  \n",
      " 0   Group                     1308 non-null   object \n",
      " 1   Question Label            1308 non-null   object \n",
      " 2   Topic Label               1308 non-null   object \n",
      " 3   Year                      1308 non-null   int64  \n",
      " 4   Akse                      1308 non-null   object \n",
      " 5   Ordforklaring             1248 non-null   object \n",
      " 6   Antpers                   1308 non-null   int64  \n",
      " 7   Score (Indekseret score)  1308 non-null   float64\n",
      " 8   Score                     1308 non-null   float64\n",
      "dtypes: float64(2), int64(2), object(5)\n",
      "memory usage: 92.1+ KB\n"
     ]
    }
   ],
   "source": [
    "koen_alder_data.info()"
   ]
  },
  {
   "cell_type": "code",
   "execution_count": 1298,
   "metadata": {},
   "outputs": [
    {
     "name": "stdout",
     "output_type": "stream",
     "text": [
      "Længde af data framen: 8115. Antal af non-null values i 'Type' kolonnen: 8096. Antal af missing values i 'Type' kolonnen: 19 (0.23%)\n",
      "Længde af data framen: 1308. Antal af non-null values i 'Ordforklaring' kolonnen: 1248. Antal af missing values i 'Ordforklaring' kolonnen: 60 (4.59%)\n"
     ]
    }
   ],
   "source": [
    "# Inspicere en udvalgt kolonne i branche_data og koen_alder_data der repræsenterer flere kolonner med incompleteness\n",
    "\n",
    "# Laver en funktion der tager længden af det komplette data og sammenligner med en kolonne med missingness\n",
    "def print_null_info(dataframe, column):\n",
    "    total_rækker = len(dataframe)\n",
    "    non_null_rækker = dataframe[column].count()\n",
    "    missing_rækker = total_rækker - non_null_rækker\n",
    "    print(\"Længde af data framen: {}. Antal af non-null values i '{}' kolonnen: {}. Antal af missing values i '{}' kolonnen: {} ({:.2f}%)\".\n",
    "          format(total_rækker, column, non_null_rækker, column, missing_rækker, (missing_rækker/total_rækker)*100))\n",
    "\n",
    "# Brug funktionen på branche_data \n",
    "print_null_info(branche_data, 'Type')\n",
    "\n",
    "# Brug funktionen på koen_alder_data\n",
    "print_null_info(koen_alder_data, 'Ordforklaring')"
   ]
  },
  {
   "cell_type": "code",
   "execution_count": 1299,
   "metadata": {},
   "outputs": [],
   "source": [
    "# Begge er altså under vores threshold (<5% af den totale mængde data). Vi kan derfor fjerne rækkerne fra dataet\n",
    "\n",
    "branche_data = branche_data.dropna(subset=['Type'])\n",
    "\n",
    "koen_alder_data = koen_alder_data.dropna(subset=['Ordforklaring'])"
   ]
  },
  {
   "cell_type": "code",
   "execution_count": 1300,
   "metadata": {},
   "outputs": [
    {
     "data": {
      "text/plain": [
       "'Hvor ofte oplever du at du har nok tid til dine arbejdsopgaver 1 Altid 2 Ofte 3 Sommetider 4 Sjældent 5 Aldrig I resultaterne præsenteres den gennemsnitlige score 1 5'"
      ]
     },
     "execution_count": 1300,
     "metadata": {},
     "output_type": "execute_result"
    }
   ],
   "source": [
    "# Her fjernes unødvendig tekst fra Ordfoklarings-kolonnen. Bemærl her at der bruges anonyme funktioner (lambda) for demonstrative purposes. Der kunne også bygges en funktion ligesom ovenfor\n",
    "\n",
    "# Definer et regex mønster, der matcher 'Spørgsmål:' og efterfølgende kun bevarer single mellemrum og ikke-special-karakterer\n",
    "regex_pattern = r'Spørgsmål:\\s+|\\s{2,}|\\W+'\n",
    "\n",
    "# Anvend regex mønsteret på 'Ordforklaring' kolonnen i begge dataframes\n",
    "branche_data['Ordforklaring'] = branche_data['Ordforklaring'].apply(lambda x: re.sub(regex_pattern, ' ', str(x)).strip())\n",
    "koen_alder_data['Ordforklaring'] = koen_alder_data['Ordforklaring'].apply(lambda x: re.sub(regex_pattern, ' ', str(x)).strip())\n",
    "\n",
    "# Tjek en af rækkerne\n",
    "branche_data.Ordforklaring[1] # ser godt ud"
   ]
  },
  {
   "cell_type": "code",
   "execution_count": 1301,
   "metadata": {},
   "outputs": [
    {
     "data": {
      "text/html": [
       "<div>\n",
       "<style scoped>\n",
       "    .dataframe tbody tr th:only-of-type {\n",
       "        vertical-align: middle;\n",
       "    }\n",
       "\n",
       "    .dataframe tbody tr th {\n",
       "        vertical-align: top;\n",
       "    }\n",
       "\n",
       "    .dataframe thead th {\n",
       "        text-align: right;\n",
       "    }\n",
       "</style>\n",
       "<table border=\"1\" class=\"dataframe\">\n",
       "  <thead>\n",
       "    <tr style=\"text-align: right;\">\n",
       "      <th></th>\n",
       "      <th>Group</th>\n",
       "      <th>Question Label</th>\n",
       "      <th>Topic Label</th>\n",
       "      <th>Year</th>\n",
       "      <th>Akse</th>\n",
       "      <th>Ordforklaring</th>\n",
       "      <th>Antpers</th>\n",
       "      <th>Score (Indekseret score)</th>\n",
       "      <th>Score</th>\n",
       "      <th>køn</th>\n",
       "      <th>alder</th>\n",
       "    </tr>\n",
       "  </thead>\n",
       "  <tbody>\n",
       "    <tr>\n",
       "      <th>1303</th>\n",
       "      <td>Kvinder, 25 - 34 år</td>\n",
       "      <td>Fysisk vold</td>\n",
       "      <td>Vold og trusler</td>\n",
       "      <td>2018</td>\n",
       "      <td>Andel (%)</td>\n",
       "      <td>Har du indenfor de sidste 12 måneder været uds...</td>\n",
       "      <td>2398</td>\n",
       "      <td>9.368184</td>\n",
       "      <td>9.368184</td>\n",
       "      <td>Kvinder</td>\n",
       "      <td>25 - 34 år</td>\n",
       "    </tr>\n",
       "    <tr>\n",
       "      <th>1304</th>\n",
       "      <td>Kvinder, 18 - 24 år</td>\n",
       "      <td>Trusler</td>\n",
       "      <td>Vold og trusler</td>\n",
       "      <td>2018</td>\n",
       "      <td>Andel (%)</td>\n",
       "      <td>Har du indenfor de sidste 12 måneder været uds...</td>\n",
       "      <td>691</td>\n",
       "      <td>7.562770</td>\n",
       "      <td>7.562770</td>\n",
       "      <td>Kvinder</td>\n",
       "      <td>18 - 24 år</td>\n",
       "    </tr>\n",
       "    <tr>\n",
       "      <th>1305</th>\n",
       "      <td>Kvinder, 18 - 24 år</td>\n",
       "      <td>Fysisk vold</td>\n",
       "      <td>Vold og trusler</td>\n",
       "      <td>2018</td>\n",
       "      <td>Andel (%)</td>\n",
       "      <td>Har du indenfor de sidste 12 måneder været uds...</td>\n",
       "      <td>690</td>\n",
       "      <td>7.334526</td>\n",
       "      <td>7.334526</td>\n",
       "      <td>Kvinder</td>\n",
       "      <td>18 - 24 år</td>\n",
       "    </tr>\n",
       "    <tr>\n",
       "      <th>1306</th>\n",
       "      <td>Kvinder</td>\n",
       "      <td>Trusler</td>\n",
       "      <td>Vold og trusler</td>\n",
       "      <td>2018</td>\n",
       "      <td>Andel (%)</td>\n",
       "      <td>Har du indenfor de sidste 12 måneder været uds...</td>\n",
       "      <td>19694</td>\n",
       "      <td>10.985068</td>\n",
       "      <td>10.985068</td>\n",
       "      <td>Kvinder</td>\n",
       "      <td>18-100 år</td>\n",
       "    </tr>\n",
       "    <tr>\n",
       "      <th>1307</th>\n",
       "      <td>Kvinder</td>\n",
       "      <td>Fysisk vold</td>\n",
       "      <td>Vold og trusler</td>\n",
       "      <td>2018</td>\n",
       "      <td>Andel (%)</td>\n",
       "      <td>Har du indenfor de sidste 12 måneder været uds...</td>\n",
       "      <td>19701</td>\n",
       "      <td>8.482935</td>\n",
       "      <td>8.482935</td>\n",
       "      <td>Kvinder</td>\n",
       "      <td>18-100 år</td>\n",
       "    </tr>\n",
       "  </tbody>\n",
       "</table>\n",
       "</div>"
      ],
      "text/plain": [
       "                    Group Question Label      Topic Label  Year       Akse  \\\n",
       "1303  Kvinder, 25 - 34 år    Fysisk vold  Vold og trusler  2018  Andel (%)   \n",
       "1304  Kvinder, 18 - 24 år        Trusler  Vold og trusler  2018  Andel (%)   \n",
       "1305  Kvinder, 18 - 24 år    Fysisk vold  Vold og trusler  2018  Andel (%)   \n",
       "1306              Kvinder        Trusler  Vold og trusler  2018  Andel (%)   \n",
       "1307              Kvinder    Fysisk vold  Vold og trusler  2018  Andel (%)   \n",
       "\n",
       "                                          Ordforklaring  Antpers  \\\n",
       "1303  Har du indenfor de sidste 12 måneder været uds...     2398   \n",
       "1304  Har du indenfor de sidste 12 måneder været uds...      691   \n",
       "1305  Har du indenfor de sidste 12 måneder været uds...      690   \n",
       "1306  Har du indenfor de sidste 12 måneder været uds...    19694   \n",
       "1307  Har du indenfor de sidste 12 måneder været uds...    19701   \n",
       "\n",
       "      Score (Indekseret score)      Score      køn       alder  \n",
       "1303                  9.368184   9.368184  Kvinder  25 - 34 år  \n",
       "1304                  7.562770   7.562770  Kvinder  18 - 24 år  \n",
       "1305                  7.334526   7.334526  Kvinder  18 - 24 år  \n",
       "1306                 10.985068  10.985068  Kvinder   18-100 år  \n",
       "1307                  8.482935   8.482935  Kvinder   18-100 år  "
      ]
     },
     "execution_count": 1301,
     "metadata": {},
     "output_type": "execute_result"
    }
   ],
   "source": [
    "# Re-encoder Group kolonnen til to nye kolonner, en der indeholder køn, og så en der indeholder aldersgruppe.\n",
    "\n",
    "# Bruger igen regex mønster til at fange informationen vi ønsker \n",
    "koen_alder_data[['køn', 'alder']] = koen_alder_data['Group'].str.extract(r'(\\w+),?\\s*(\\d+\\s*-\\s*\\d+\\s*år)?')\n",
    "\n",
    "# Fillna på alder, der hvor det er totaler\n",
    "koen_alder_data['alder'] = koen_alder_data['alder'].fillna('18-100 år')\n",
    "\n",
    "koen_alder_data.tail() # det ser helt fint ud"
   ]
  },
  {
   "attachments": {},
   "cell_type": "markdown",
   "metadata": {},
   "source": [
    "Efter at have inspiceret spørgsmålene pba. ovenstående transformering, står det klart at sammenligningsgrundlaget er dårligt mellem diverse typer af spørgsmål. Eksempelvis rates nogle 1-5, 1-10, Ja/Nej, 0-100. Vi går os altså klogt i at udvælge et subset af dataet. Efter manuelt at have gennemgået spørgsmålene for branche_data og koen_alder_data er der størst repræsentation i spørgsmålene der rates fra 1-5 og returneres med et gennemsnit. \n",
    "\n",
    "Derfor kan vi lave en ret smart, samt elegant, filtrering af begge datasæt ved at søge efter **'I resultaterne præsenteres den gennemsnitlige score 1 5'** i vores formatterede 'Ordforklarings'-kolonne"
   ]
  },
  {
   "cell_type": "code",
   "execution_count": 1302,
   "metadata": {},
   "outputs": [
    {
     "name": "stdout",
     "output_type": "stream",
     "text": [
      "(3420, 12)\n",
      "(540, 11)\n"
     ]
    }
   ],
   "source": [
    "# Filtrer dataet\n",
    "branche_data_filtered = branche_data[branche_data['Ordforklaring'].str.contains('I resultaterne præsenteres den gennemsnitlige score 1 5')]\n",
    "koen_alder_data_filtered = koen_alder_data[koen_alder_data['Ordforklaring'].str.contains('I resultaterne præsenteres den gennemsnitlige score 1 5')]\n",
    "\n",
    "# Check at dataet indeholder færre rækker men samme antal kolonner\n",
    "print(branche_data_filtered.shape) # Ser godt ud\n",
    "print(koen_alder_data_filtered.shape) # Samme her"
   ]
  },
  {
   "cell_type": "code",
   "execution_count": 1303,
   "metadata": {},
   "outputs": [],
   "source": [
    "# Skaber kolonenn 'Hoej Score Godt' i data framen koen_alder_data_filtreret ud fra tilsvarende værdier for 'Ordforklaring' i branche_data_filtered\n",
    "\n",
    "# Merge data frames\n",
    "merged_df = koen_alder_data_filtered.merge(branche_data_filtered, on='Ordforklaring', how='left')\n",
    "\n",
    "# Drop duplikater og reset index\n",
    "merged_df.drop_duplicates(subset='Ordforklaring', inplace=True)\n",
    "merged_df.set_index('Ordforklaring', inplace=True)\n",
    "\n",
    "# Skab kolonnen i den originale data frame ud fra merged_df's værdier (inhereted fra )\n",
    "koen_alder_data_filtered['Hoej Score Godt'] = koen_alder_data_filtered['Ordforklaring'].map(merged_df['Hoej Score Godt'])\n"
   ]
  },
  {
   "attachments": {},
   "cell_type": "markdown",
   "metadata": {},
   "source": [
    "Kort afsluttende kommentar til DW. Vi har virkelig gjort nogle store fremskridt, ved bl.a. at transformere data typer og tekst, spaltet kolonner og filtreret ud fra homogenitet. Ovenfor kan man se at vores data er blevet lidt kortere (færre rækker) end førhen. Til dette skal en Data Scientist kommentar knyttes, nemlig; **kvalitet, over kvantitet - *især* når det kommer til data**"
   ]
  },
  {
   "attachments": {},
   "cell_type": "markdown",
   "metadata": {},
   "source": [
    "__________"
   ]
  },
  {
   "attachments": {},
   "cell_type": "markdown",
   "metadata": {},
   "source": [
    "## 3. DA: Eksplorativ Data Analyse (EDA)\n",
    "\n",
    "I denne blok analyseres det processerede data eksplorativt med statistik og visualiseringer. Dette afgiver to interresante findings, som præsenteres og analyseres sammen. \n",
    "\n",
    "Et godt udgangspunkt for at lave stærke dataanalyser er at stille skarpe spørgsmål. Her er to problemformuleringer til de to datasæt - begge med et samfundsmæssigt makro-perspektiv. \n",
    "\n",
    "\n",
    "* Hvordan scorer arbejdsmiljøet i forskellige brancher i 2018?\n",
    "* Hvordan scorer arbejdsmiljøet i forskellige grupper af køn og alder i 2018?\n",
    "\n",
    "\n",
    "De to findings er\n",
    "\n",
    "1) Arbejdsmiljøet scorer bedst i brancher med mere selvstændighed og ansvar, som typisk er i det private\n",
    "2) Arbejdsmiljøet scorer bedst i grupper med mænd og grupper som er yngre\n",
    "\n",
    "Gå gennem koden nedenfor, for at se findings og deres tilsvarende analyse"
   ]
  },
  {
   "attachments": {},
   "cell_type": "markdown",
   "metadata": {},
   "source": [
    "### 1) Statistik"
   ]
  },
  {
   "cell_type": "code",
   "execution_count": 1304,
   "metadata": {},
   "outputs": [
    {
     "data": {
      "text/html": [
       "<div>\n",
       "<style scoped>\n",
       "    .dataframe tbody tr th:only-of-type {\n",
       "        vertical-align: middle;\n",
       "    }\n",
       "\n",
       "    .dataframe tbody tr th {\n",
       "        vertical-align: top;\n",
       "    }\n",
       "\n",
       "    .dataframe thead th {\n",
       "        text-align: right;\n",
       "    }\n",
       "</style>\n",
       "<table border=\"1\" class=\"dataframe\">\n",
       "  <thead>\n",
       "    <tr style=\"text-align: right;\">\n",
       "      <th></th>\n",
       "      <th>Score (Indekseret score) (gennemsnit) (label)</th>\n",
       "      <th>Antpct</th>\n",
       "      <th>Antpers</th>\n",
       "      <th>Hoej Score Godt</th>\n",
       "      <th>Score</th>\n",
       "      <th>Year</th>\n",
       "    </tr>\n",
       "  </thead>\n",
       "  <tbody>\n",
       "    <tr>\n",
       "      <th>count</th>\n",
       "      <td>2204.000000</td>\n",
       "      <td>0.0</td>\n",
       "      <td>2204.000000</td>\n",
       "      <td>2204.0</td>\n",
       "      <td>2204.000000</td>\n",
       "      <td>2204.0</td>\n",
       "    </tr>\n",
       "    <tr>\n",
       "      <th>mean</th>\n",
       "      <td>3.722826</td>\n",
       "      <td>NaN</td>\n",
       "      <td>968.494555</td>\n",
       "      <td>1.0</td>\n",
       "      <td>3.688327</td>\n",
       "      <td>2018.0</td>\n",
       "    </tr>\n",
       "    <tr>\n",
       "      <th>std</th>\n",
       "      <td>0.320690</td>\n",
       "      <td>NaN</td>\n",
       "      <td>4172.115373</td>\n",
       "      <td>0.0</td>\n",
       "      <td>0.369750</td>\n",
       "      <td>0.0</td>\n",
       "    </tr>\n",
       "    <tr>\n",
       "      <th>min</th>\n",
       "      <td>3.155008</td>\n",
       "      <td>NaN</td>\n",
       "      <td>35.000000</td>\n",
       "      <td>1.0</td>\n",
       "      <td>2.539004</td>\n",
       "      <td>2018.0</td>\n",
       "    </tr>\n",
       "    <tr>\n",
       "      <th>25%</th>\n",
       "      <td>3.546519</td>\n",
       "      <td>NaN</td>\n",
       "      <td>193.000000</td>\n",
       "      <td>1.0</td>\n",
       "      <td>3.414974</td>\n",
       "      <td>2018.0</td>\n",
       "    </tr>\n",
       "    <tr>\n",
       "      <th>50%</th>\n",
       "      <td>3.762483</td>\n",
       "      <td>NaN</td>\n",
       "      <td>277.000000</td>\n",
       "      <td>1.0</td>\n",
       "      <td>3.706780</td>\n",
       "      <td>2018.0</td>\n",
       "    </tr>\n",
       "    <tr>\n",
       "      <th>75%</th>\n",
       "      <td>3.884033</td>\n",
       "      <td>NaN</td>\n",
       "      <td>608.000000</td>\n",
       "      <td>1.0</td>\n",
       "      <td>3.941122</td>\n",
       "      <td>2018.0</td>\n",
       "    </tr>\n",
       "    <tr>\n",
       "      <th>max</th>\n",
       "      <td>4.303816</td>\n",
       "      <td>NaN</td>\n",
       "      <td>37190.000000</td>\n",
       "      <td>1.0</td>\n",
       "      <td>4.727714</td>\n",
       "      <td>2018.0</td>\n",
       "    </tr>\n",
       "  </tbody>\n",
       "</table>\n",
       "</div>"
      ],
      "text/plain": [
       "       Score (Indekseret score) (gennemsnit) (label)  Antpct       Antpers  \\\n",
       "count                                    2204.000000     0.0   2204.000000   \n",
       "mean                                        3.722826     NaN    968.494555   \n",
       "std                                         0.320690     NaN   4172.115373   \n",
       "min                                         3.155008     NaN     35.000000   \n",
       "25%                                         3.546519     NaN    193.000000   \n",
       "50%                                         3.762483     NaN    277.000000   \n",
       "75%                                         3.884033     NaN    608.000000   \n",
       "max                                         4.303816     NaN  37190.000000   \n",
       "\n",
       "       Hoej Score Godt        Score    Year  \n",
       "count           2204.0  2204.000000  2204.0  \n",
       "mean               1.0     3.688327  2018.0  \n",
       "std                0.0     0.369750     0.0  \n",
       "min                1.0     2.539004  2018.0  \n",
       "25%                1.0     3.414974  2018.0  \n",
       "50%                1.0     3.706780  2018.0  \n",
       "75%                1.0     3.941122  2018.0  \n",
       "max                1.0     4.727714  2018.0  "
      ]
     },
     "execution_count": 1304,
     "metadata": {},
     "output_type": "execute_result"
    }
   ],
   "source": [
    "# Vi starter med at udforske dataets statistikker, efter vores transformationer i DW.\n",
    "\n",
    "# Summary statistics, hvor 'Hoej Score Godt' == 1, for branche_data_filtered\n",
    "\n",
    "branche_data_filtered[branche_data_filtered['Hoej Score Godt'] == 1].describe()"
   ]
  },
  {
   "cell_type": "code",
   "execution_count": 1305,
   "metadata": {},
   "outputs": [
    {
     "data": {
      "text/html": [
       "<div>\n",
       "<style scoped>\n",
       "    .dataframe tbody tr th:only-of-type {\n",
       "        vertical-align: middle;\n",
       "    }\n",
       "\n",
       "    .dataframe tbody tr th {\n",
       "        vertical-align: top;\n",
       "    }\n",
       "\n",
       "    .dataframe thead th {\n",
       "        text-align: right;\n",
       "    }\n",
       "</style>\n",
       "<table border=\"1\" class=\"dataframe\">\n",
       "  <thead>\n",
       "    <tr style=\"text-align: right;\">\n",
       "      <th></th>\n",
       "      <th>Score (Indekseret score) (gennemsnit) (label)</th>\n",
       "      <th>Antpct</th>\n",
       "      <th>Antpers</th>\n",
       "      <th>Hoej Score Godt</th>\n",
       "      <th>Score</th>\n",
       "      <th>Year</th>\n",
       "    </tr>\n",
       "  </thead>\n",
       "  <tbody>\n",
       "    <tr>\n",
       "      <th>count</th>\n",
       "      <td>1216.000000</td>\n",
       "      <td>0.0</td>\n",
       "      <td>1216.000000</td>\n",
       "      <td>1216.0</td>\n",
       "      <td>1216.000000</td>\n",
       "      <td>1216.0</td>\n",
       "    </tr>\n",
       "    <tr>\n",
       "      <th>mean</th>\n",
       "      <td>2.824478</td>\n",
       "      <td>NaN</td>\n",
       "      <td>967.391447</td>\n",
       "      <td>0.0</td>\n",
       "      <td>2.819438</td>\n",
       "      <td>2018.0</td>\n",
       "    </tr>\n",
       "    <tr>\n",
       "      <th>std</th>\n",
       "      <td>0.454704</td>\n",
       "      <td>NaN</td>\n",
       "      <td>4168.768733</td>\n",
       "      <td>0.0</td>\n",
       "      <td>0.505727</td>\n",
       "      <td>0.0</td>\n",
       "    </tr>\n",
       "    <tr>\n",
       "      <th>min</th>\n",
       "      <td>1.793953</td>\n",
       "      <td>NaN</td>\n",
       "      <td>35.000000</td>\n",
       "      <td>0.0</td>\n",
       "      <td>1.217248</td>\n",
       "      <td>2018.0</td>\n",
       "    </tr>\n",
       "    <tr>\n",
       "      <th>25%</th>\n",
       "      <td>2.600991</td>\n",
       "      <td>NaN</td>\n",
       "      <td>191.750000</td>\n",
       "      <td>0.0</td>\n",
       "      <td>2.539528</td>\n",
       "      <td>2018.0</td>\n",
       "    </tr>\n",
       "    <tr>\n",
       "      <th>50%</th>\n",
       "      <td>2.886710</td>\n",
       "      <td>NaN</td>\n",
       "      <td>275.000000</td>\n",
       "      <td>0.0</td>\n",
       "      <td>2.830700</td>\n",
       "      <td>2018.0</td>\n",
       "    </tr>\n",
       "    <tr>\n",
       "      <th>75%</th>\n",
       "      <td>3.079284</td>\n",
       "      <td>NaN</td>\n",
       "      <td>606.000000</td>\n",
       "      <td>0.0</td>\n",
       "      <td>3.103138</td>\n",
       "      <td>2018.0</td>\n",
       "    </tr>\n",
       "    <tr>\n",
       "      <th>max</th>\n",
       "      <td>3.848065</td>\n",
       "      <td>NaN</td>\n",
       "      <td>37577.000000</td>\n",
       "      <td>0.0</td>\n",
       "      <td>4.416672</td>\n",
       "      <td>2018.0</td>\n",
       "    </tr>\n",
       "  </tbody>\n",
       "</table>\n",
       "</div>"
      ],
      "text/plain": [
       "       Score (Indekseret score) (gennemsnit) (label)  Antpct       Antpers  \\\n",
       "count                                    1216.000000     0.0   1216.000000   \n",
       "mean                                        2.824478     NaN    967.391447   \n",
       "std                                         0.454704     NaN   4168.768733   \n",
       "min                                         1.793953     NaN     35.000000   \n",
       "25%                                         2.600991     NaN    191.750000   \n",
       "50%                                         2.886710     NaN    275.000000   \n",
       "75%                                         3.079284     NaN    606.000000   \n",
       "max                                         3.848065     NaN  37577.000000   \n",
       "\n",
       "       Hoej Score Godt        Score    Year  \n",
       "count           1216.0  1216.000000  1216.0  \n",
       "mean               0.0     2.819438  2018.0  \n",
       "std                0.0     0.505727     0.0  \n",
       "min                0.0     1.217248  2018.0  \n",
       "25%                0.0     2.539528  2018.0  \n",
       "50%                0.0     2.830700  2018.0  \n",
       "75%                0.0     3.103138  2018.0  \n",
       "max                0.0     4.416672  2018.0  "
      ]
     },
     "execution_count": 1305,
     "metadata": {},
     "output_type": "execute_result"
    }
   ],
   "source": [
    "# Summary statistics, hvor 'Hoej Score Godt' == 0, for branche_data_filtered\n",
    "\n",
    "branche_data_filtered[branche_data_filtered['Hoej Score Godt'] == 0].describe()"
   ]
  },
  {
   "attachments": {},
   "cell_type": "markdown",
   "metadata": {},
   "source": [
    "* Den statistiske analyse af branche_data_filtered viser den gennemsnitlige indekserede score for spørgsmål hvor høj score er godt er 3.72. For data hvor høj score er dårligt er dette tal 2.83. Dette fremviser at respondenterne i undersøgelsen generelt har svaret højere ved spørgsmål hvor 5 er godt end hvor 5 er dårligt. \n",
    "\n",
    "* Gennemsnittet af antal personer der har svaret på hvert spørgsmål er 968 hvor høj score er godt, imens at det er 967 hvor høj score er dårligt. Dette tal skal dog holdes op i lyset af at der er total rækker der kan skabe statistisk inflation i dette. **Fokus skal derfor rættes på medianen (50%) hvor tallet falder til henholdsvis 277 og 275 respektivt.**\n",
    "\n",
    "* Der er en lille diskrepans på gennemsnittet for 'Score' og Score Indekseret Gennemsnit. Dette er dog ned til 1. decimal og ændrer derfor ikke i det store billede for dataet og vores fremtidige analyse"
   ]
  },
  {
   "cell_type": "code",
   "execution_count": 1306,
   "metadata": {},
   "outputs": [
    {
     "data": {
      "text/html": [
       "<div>\n",
       "<style scoped>\n",
       "    .dataframe tbody tr th:only-of-type {\n",
       "        vertical-align: middle;\n",
       "    }\n",
       "\n",
       "    .dataframe tbody tr th {\n",
       "        vertical-align: top;\n",
       "    }\n",
       "\n",
       "    .dataframe thead th {\n",
       "        text-align: right;\n",
       "    }\n",
       "</style>\n",
       "<table border=\"1\" class=\"dataframe\">\n",
       "  <thead>\n",
       "    <tr style=\"text-align: right;\">\n",
       "      <th></th>\n",
       "      <th>Year</th>\n",
       "      <th>Antpers</th>\n",
       "      <th>Score (Indekseret score)</th>\n",
       "      <th>Score</th>\n",
       "      <th>Hoej Score Godt</th>\n",
       "    </tr>\n",
       "  </thead>\n",
       "  <tbody>\n",
       "    <tr>\n",
       "      <th>count</th>\n",
       "      <td>348.0</td>\n",
       "      <td>348.000000</td>\n",
       "      <td>348.000000</td>\n",
       "      <td>348.000000</td>\n",
       "      <td>348.0</td>\n",
       "    </tr>\n",
       "    <tr>\n",
       "      <th>mean</th>\n",
       "      <td>2018.0</td>\n",
       "      <td>6133.798851</td>\n",
       "      <td>74.486151</td>\n",
       "      <td>3.724308</td>\n",
       "      <td>1.0</td>\n",
       "    </tr>\n",
       "    <tr>\n",
       "      <th>std</th>\n",
       "      <td>0.0</td>\n",
       "      <td>5822.437094</td>\n",
       "      <td>6.594351</td>\n",
       "      <td>0.329718</td>\n",
       "      <td>0.0</td>\n",
       "    </tr>\n",
       "    <tr>\n",
       "      <th>min</th>\n",
       "      <td>2018.0</td>\n",
       "      <td>610.000000</td>\n",
       "      <td>60.879596</td>\n",
       "      <td>3.043980</td>\n",
       "      <td>1.0</td>\n",
       "    </tr>\n",
       "    <tr>\n",
       "      <th>25%</th>\n",
       "      <td>2018.0</td>\n",
       "      <td>2270.750000</td>\n",
       "      <td>69.485500</td>\n",
       "      <td>3.474275</td>\n",
       "      <td>1.0</td>\n",
       "    </tr>\n",
       "    <tr>\n",
       "      <th>50%</th>\n",
       "      <td>2018.0</td>\n",
       "      <td>4716.500000</td>\n",
       "      <td>74.987705</td>\n",
       "      <td>3.749385</td>\n",
       "      <td>1.0</td>\n",
       "    </tr>\n",
       "    <tr>\n",
       "      <th>75%</th>\n",
       "      <td>2018.0</td>\n",
       "      <td>5916.250000</td>\n",
       "      <td>78.530131</td>\n",
       "      <td>3.926507</td>\n",
       "      <td>1.0</td>\n",
       "    </tr>\n",
       "    <tr>\n",
       "      <th>max</th>\n",
       "      <td>2018.0</td>\n",
       "      <td>19969.000000</td>\n",
       "      <td>88.695413</td>\n",
       "      <td>4.434771</td>\n",
       "      <td>1.0</td>\n",
       "    </tr>\n",
       "  </tbody>\n",
       "</table>\n",
       "</div>"
      ],
      "text/plain": [
       "         Year       Antpers  Score (Indekseret score)       Score  \\\n",
       "count   348.0    348.000000                348.000000  348.000000   \n",
       "mean   2018.0   6133.798851                 74.486151    3.724308   \n",
       "std       0.0   5822.437094                  6.594351    0.329718   \n",
       "min    2018.0    610.000000                 60.879596    3.043980   \n",
       "25%    2018.0   2270.750000                 69.485500    3.474275   \n",
       "50%    2018.0   4716.500000                 74.987705    3.749385   \n",
       "75%    2018.0   5916.250000                 78.530131    3.926507   \n",
       "max    2018.0  19969.000000                 88.695413    4.434771   \n",
       "\n",
       "       Hoej Score Godt  \n",
       "count            348.0  \n",
       "mean               1.0  \n",
       "std                0.0  \n",
       "min                1.0  \n",
       "25%                1.0  \n",
       "50%                1.0  \n",
       "75%                1.0  \n",
       "max                1.0  "
      ]
     },
     "execution_count": 1306,
     "metadata": {},
     "output_type": "execute_result"
    }
   ],
   "source": [
    "# Vi analyserer også det andet datasæt koen_alder_data_filtered\n",
    "\n",
    "koen_alder_data_filtered[koen_alder_data_filtered['Hoej Score Godt'] == 1].describe()"
   ]
  },
  {
   "cell_type": "code",
   "execution_count": 1307,
   "metadata": {},
   "outputs": [
    {
     "data": {
      "text/html": [
       "<div>\n",
       "<style scoped>\n",
       "    .dataframe tbody tr th:only-of-type {\n",
       "        vertical-align: middle;\n",
       "    }\n",
       "\n",
       "    .dataframe tbody tr th {\n",
       "        vertical-align: top;\n",
       "    }\n",
       "\n",
       "    .dataframe thead th {\n",
       "        text-align: right;\n",
       "    }\n",
       "</style>\n",
       "<table border=\"1\" class=\"dataframe\">\n",
       "  <thead>\n",
       "    <tr style=\"text-align: right;\">\n",
       "      <th></th>\n",
       "      <th>Year</th>\n",
       "      <th>Antpers</th>\n",
       "      <th>Score (Indekseret score)</th>\n",
       "      <th>Score</th>\n",
       "      <th>Hoej Score Godt</th>\n",
       "    </tr>\n",
       "  </thead>\n",
       "  <tbody>\n",
       "    <tr>\n",
       "      <th>count</th>\n",
       "      <td>192.0</td>\n",
       "      <td>192.00000</td>\n",
       "      <td>192.000000</td>\n",
       "      <td>192.000000</td>\n",
       "      <td>192.0</td>\n",
       "    </tr>\n",
       "    <tr>\n",
       "      <th>mean</th>\n",
       "      <td>2018.0</td>\n",
       "      <td>6126.81250</td>\n",
       "      <td>56.315480</td>\n",
       "      <td>2.815774</td>\n",
       "      <td>0.0</td>\n",
       "    </tr>\n",
       "    <tr>\n",
       "      <th>std</th>\n",
       "      <td>0.0</td>\n",
       "      <td>5825.63768</td>\n",
       "      <td>9.730638</td>\n",
       "      <td>0.486532</td>\n",
       "      <td>0.0</td>\n",
       "    </tr>\n",
       "    <tr>\n",
       "      <th>min</th>\n",
       "      <td>2018.0</td>\n",
       "      <td>616.00000</td>\n",
       "      <td>32.102065</td>\n",
       "      <td>1.605103</td>\n",
       "      <td>0.0</td>\n",
       "    </tr>\n",
       "    <tr>\n",
       "      <th>25%</th>\n",
       "      <td>2018.0</td>\n",
       "      <td>2285.75000</td>\n",
       "      <td>51.693791</td>\n",
       "      <td>2.584690</td>\n",
       "      <td>0.0</td>\n",
       "    </tr>\n",
       "    <tr>\n",
       "      <th>50%</th>\n",
       "      <td>2018.0</td>\n",
       "      <td>4811.50000</td>\n",
       "      <td>57.070546</td>\n",
       "      <td>2.853527</td>\n",
       "      <td>0.0</td>\n",
       "    </tr>\n",
       "    <tr>\n",
       "      <th>75%</th>\n",
       "      <td>2018.0</td>\n",
       "      <td>5939.75000</td>\n",
       "      <td>61.995728</td>\n",
       "      <td>3.099786</td>\n",
       "      <td>0.0</td>\n",
       "    </tr>\n",
       "    <tr>\n",
       "      <th>max</th>\n",
       "      <td>2018.0</td>\n",
       "      <td>20189.00000</td>\n",
       "      <td>80.038526</td>\n",
       "      <td>4.001926</td>\n",
       "      <td>0.0</td>\n",
       "    </tr>\n",
       "  </tbody>\n",
       "</table>\n",
       "</div>"
      ],
      "text/plain": [
       "         Year      Antpers  Score (Indekseret score)       Score  \\\n",
       "count   192.0    192.00000                192.000000  192.000000   \n",
       "mean   2018.0   6126.81250                 56.315480    2.815774   \n",
       "std       0.0   5825.63768                  9.730638    0.486532   \n",
       "min    2018.0    616.00000                 32.102065    1.605103   \n",
       "25%    2018.0   2285.75000                 51.693791    2.584690   \n",
       "50%    2018.0   4811.50000                 57.070546    2.853527   \n",
       "75%    2018.0   5939.75000                 61.995728    3.099786   \n",
       "max    2018.0  20189.00000                 80.038526    4.001926   \n",
       "\n",
       "       Hoej Score Godt  \n",
       "count            192.0  \n",
       "mean               0.0  \n",
       "std                0.0  \n",
       "min                0.0  \n",
       "25%                0.0  \n",
       "50%                0.0  \n",
       "75%                0.0  \n",
       "max                0.0  "
      ]
     },
     "execution_count": 1307,
     "metadata": {},
     "output_type": "execute_result"
    }
   ],
   "source": [
    "koen_alder_data_filtered[koen_alder_data_filtered['Hoej Score Godt'] == 0].describe()"
   ]
  },
  {
   "attachments": {},
   "cell_type": "markdown",
   "metadata": {},
   "source": [
    "* Den statistiske analyse af koen_alder_data_filtered viser den gennemsnitlige indekserede score for spørgsmål hvor høj score er godt er 3.72. For data hvor høj score er dårligt er dette tal 2.815. Dette peger på stort overlap blandt spørgsmålene, men samtidig også den samplede population\n",
    "\n",
    "* En stor forskel ift. branche-dataet er gennemsnittet af antal personer der har svaret på hvert spørgsmål. **Sættes fokus på medianen (50%) som beskrevet i analysen for branche-dataet, er tallene 4716 og 4811 respektivt.** altså markant højere end før. Dette giver god mening, da sampling her ikke er på branche men derimod på køn og grupperet alder\n",
    "\n",
    "* Der er flere spørgsmål hvor 'Hoej Score Godt' er == 1. Tallene er 348 for godt og 192 for ikke godt. "
   ]
  },
  {
   "attachments": {},
   "cell_type": "markdown",
   "metadata": {},
   "source": [
    "### 2) Visualiseringer"
   ]
  },
  {
   "cell_type": "code",
   "execution_count": null,
   "metadata": {},
   "outputs": [],
   "source": []
  },
  {
   "cell_type": "code",
   "execution_count": 1308,
   "metadata": {},
   "outputs": [],
   "source": [
    "# Bygger en visualiserings funktion med Plotly, der kan genbruges på tværs af de to data frames \n",
    "\n",
    "def plot_top_and_bottom_groups(dataframe, hsg_value, kilde):\n",
    "    # Filtrer dataframen til kun at inkludere rækker, hvor 'Hoej Score Godt' er lig med hsg_værdi\n",
    "    filtreret_hoej_score_data = dataframe[dataframe['Hoej Score Godt'] == hsg_value]\n",
    "\n",
    "    # Gruppér data efter \"Group\" kolonnen og beregn hver gruppes gennemsnitsscore for alle spørgsmål\n",
    "    grupperet_data = filtreret_hoej_score_data.groupby(['Group'], as_index=False).mean()\n",
    "\n",
    "    # Sortér data efter gennemsnitsscore i faldende orden\n",
    "    grupperet_data.sort_values(by='Score', ascending=True, inplace=True)\n",
    "\n",
    "    # Filtrer de øverste 5 og de nederste 5 grupper\n",
    "    top_5_grupper = grupperet_data.head(5)\n",
    "    bottom_5_grupper = grupperet_data.tail(5)\n",
    "\n",
    "    # Tilføj en kolonne for at adskille de øverste og nederste 5 grupper\n",
    "    top_5_grupper.loc[:, 'Group Type'] = 'Nederste 5 Grupper'\n",
    "    bottom_5_grupper.loc[:, 'Group Type'] = 'Øverste 5 Grupper'\n",
    "\n",
    "    # Kobl de to dataframes\n",
    "    kombineret_data = pd.concat([top_5_grupper, bottom_5_grupper])\n",
    "\n",
    "    # Opret et søjlediagram med Plotlys px\n",
    "    fig = px.bar(kombineret_data, x='Score', y='Group', color='Group Type', color_discrete_sequence=['lightsalmon', '#1f77b4'], orientation='h')\n",
    "    fig.update_layout(title=f'Øverste og nederste 5 grupper efter samlet score for {kilde}. Høj score godt = {hsg_value}', xaxis_title='Score', yaxis_title='Group')\n",
    "    fig.show()\n",
    "\n"
   ]
  },
  {
   "attachments": {},
   "cell_type": "markdown",
   "metadata": {},
   "source": [
    "#### Branche data"
   ]
  },
  {
   "cell_type": "code",
   "execution_count": 1309,
   "metadata": {},
   "outputs": [
    {
     "data": {
      "application/vnd.plotly.v1+json": {
       "config": {
        "plotlyServerURL": "https://plot.ly"
       },
       "data": [
        {
         "alignmentgroup": "True",
         "hovertemplate": "Group Type=Nederste 5 Grupper<br>Score=%{x}<br>Group=%{y}<extra></extra>",
         "legendgroup": "Nederste 5 Grupper",
         "marker": {
          "color": "lightsalmon",
          "pattern": {
           "shape": ""
          }
         },
         "name": "Nederste 5 Grupper",
         "offsetgroup": "Nederste 5 Grupper",
         "orientation": "h",
         "showlegend": true,
         "textposition": "auto",
         "type": "bar",
         "x": [
          3.419797299551724,
          3.440240885896552,
          3.4673987027586204,
          3.480888222551724,
          3.481338753206897
         ],
         "xaxis": "x",
         "y": [
          "Passagerservicemedarbejdere",
          "Bude og kurerer",
          "Nærings- og nydelsesmiddelindustrimedarbejdere",
          "Præcisionshåndværkere",
          "Politi og fængselsbetjente"
         ],
         "yaxis": "y"
        },
        {
         "alignmentgroup": "True",
         "hovertemplate": "Group Type=Øverste 5 Grupper<br>Score=%{x}<br>Group=%{y}<extra></extra>",
         "legendgroup": "Øverste 5 Grupper",
         "marker": {
          "color": "#1f77b4",
          "pattern": {
           "shape": ""
          }
         },
         "name": "Øverste 5 Grupper",
         "offsetgroup": "Øverste 5 Grupper",
         "orientation": "h",
         "showlegend": true,
         "textposition": "auto",
         "type": "bar",
         "x": [
          3.8473837389655174,
          3.8501838596551723,
          3.884164780448276,
          3.9273909443448276,
          3.938459844689655
         ],
         "xaxis": "x",
         "y": [
          "Revisorer, rådgivere og analytikere",
          "Uoplyst",
          "Frisører og kosmetologer",
          "Farmaceuter, tandlæger og dyrlæger",
          "Ledere"
         ],
         "yaxis": "y"
        }
       ],
       "layout": {
        "barmode": "relative",
        "legend": {
         "title": {
          "text": "Group Type"
         },
         "tracegroupgap": 0
        },
        "margin": {
         "t": 60
        },
        "template": {
         "data": {
          "bar": [
           {
            "error_x": {
             "color": "#2a3f5f"
            },
            "error_y": {
             "color": "#2a3f5f"
            },
            "marker": {
             "line": {
              "color": "#E5ECF6",
              "width": 0.5
             },
             "pattern": {
              "fillmode": "overlay",
              "size": 10,
              "solidity": 0.2
             }
            },
            "type": "bar"
           }
          ],
          "barpolar": [
           {
            "marker": {
             "line": {
              "color": "#E5ECF6",
              "width": 0.5
             },
             "pattern": {
              "fillmode": "overlay",
              "size": 10,
              "solidity": 0.2
             }
            },
            "type": "barpolar"
           }
          ],
          "carpet": [
           {
            "aaxis": {
             "endlinecolor": "#2a3f5f",
             "gridcolor": "white",
             "linecolor": "white",
             "minorgridcolor": "white",
             "startlinecolor": "#2a3f5f"
            },
            "baxis": {
             "endlinecolor": "#2a3f5f",
             "gridcolor": "white",
             "linecolor": "white",
             "minorgridcolor": "white",
             "startlinecolor": "#2a3f5f"
            },
            "type": "carpet"
           }
          ],
          "choropleth": [
           {
            "colorbar": {
             "outlinewidth": 0,
             "ticks": ""
            },
            "type": "choropleth"
           }
          ],
          "contour": [
           {
            "colorbar": {
             "outlinewidth": 0,
             "ticks": ""
            },
            "colorscale": [
             [
              0,
              "#0d0887"
             ],
             [
              0.1111111111111111,
              "#46039f"
             ],
             [
              0.2222222222222222,
              "#7201a8"
             ],
             [
              0.3333333333333333,
              "#9c179e"
             ],
             [
              0.4444444444444444,
              "#bd3786"
             ],
             [
              0.5555555555555556,
              "#d8576b"
             ],
             [
              0.6666666666666666,
              "#ed7953"
             ],
             [
              0.7777777777777778,
              "#fb9f3a"
             ],
             [
              0.8888888888888888,
              "#fdca26"
             ],
             [
              1,
              "#f0f921"
             ]
            ],
            "type": "contour"
           }
          ],
          "contourcarpet": [
           {
            "colorbar": {
             "outlinewidth": 0,
             "ticks": ""
            },
            "type": "contourcarpet"
           }
          ],
          "heatmap": [
           {
            "colorbar": {
             "outlinewidth": 0,
             "ticks": ""
            },
            "colorscale": [
             [
              0,
              "#0d0887"
             ],
             [
              0.1111111111111111,
              "#46039f"
             ],
             [
              0.2222222222222222,
              "#7201a8"
             ],
             [
              0.3333333333333333,
              "#9c179e"
             ],
             [
              0.4444444444444444,
              "#bd3786"
             ],
             [
              0.5555555555555556,
              "#d8576b"
             ],
             [
              0.6666666666666666,
              "#ed7953"
             ],
             [
              0.7777777777777778,
              "#fb9f3a"
             ],
             [
              0.8888888888888888,
              "#fdca26"
             ],
             [
              1,
              "#f0f921"
             ]
            ],
            "type": "heatmap"
           }
          ],
          "heatmapgl": [
           {
            "colorbar": {
             "outlinewidth": 0,
             "ticks": ""
            },
            "colorscale": [
             [
              0,
              "#0d0887"
             ],
             [
              0.1111111111111111,
              "#46039f"
             ],
             [
              0.2222222222222222,
              "#7201a8"
             ],
             [
              0.3333333333333333,
              "#9c179e"
             ],
             [
              0.4444444444444444,
              "#bd3786"
             ],
             [
              0.5555555555555556,
              "#d8576b"
             ],
             [
              0.6666666666666666,
              "#ed7953"
             ],
             [
              0.7777777777777778,
              "#fb9f3a"
             ],
             [
              0.8888888888888888,
              "#fdca26"
             ],
             [
              1,
              "#f0f921"
             ]
            ],
            "type": "heatmapgl"
           }
          ],
          "histogram": [
           {
            "marker": {
             "pattern": {
              "fillmode": "overlay",
              "size": 10,
              "solidity": 0.2
             }
            },
            "type": "histogram"
           }
          ],
          "histogram2d": [
           {
            "colorbar": {
             "outlinewidth": 0,
             "ticks": ""
            },
            "colorscale": [
             [
              0,
              "#0d0887"
             ],
             [
              0.1111111111111111,
              "#46039f"
             ],
             [
              0.2222222222222222,
              "#7201a8"
             ],
             [
              0.3333333333333333,
              "#9c179e"
             ],
             [
              0.4444444444444444,
              "#bd3786"
             ],
             [
              0.5555555555555556,
              "#d8576b"
             ],
             [
              0.6666666666666666,
              "#ed7953"
             ],
             [
              0.7777777777777778,
              "#fb9f3a"
             ],
             [
              0.8888888888888888,
              "#fdca26"
             ],
             [
              1,
              "#f0f921"
             ]
            ],
            "type": "histogram2d"
           }
          ],
          "histogram2dcontour": [
           {
            "colorbar": {
             "outlinewidth": 0,
             "ticks": ""
            },
            "colorscale": [
             [
              0,
              "#0d0887"
             ],
             [
              0.1111111111111111,
              "#46039f"
             ],
             [
              0.2222222222222222,
              "#7201a8"
             ],
             [
              0.3333333333333333,
              "#9c179e"
             ],
             [
              0.4444444444444444,
              "#bd3786"
             ],
             [
              0.5555555555555556,
              "#d8576b"
             ],
             [
              0.6666666666666666,
              "#ed7953"
             ],
             [
              0.7777777777777778,
              "#fb9f3a"
             ],
             [
              0.8888888888888888,
              "#fdca26"
             ],
             [
              1,
              "#f0f921"
             ]
            ],
            "type": "histogram2dcontour"
           }
          ],
          "mesh3d": [
           {
            "colorbar": {
             "outlinewidth": 0,
             "ticks": ""
            },
            "type": "mesh3d"
           }
          ],
          "parcoords": [
           {
            "line": {
             "colorbar": {
              "outlinewidth": 0,
              "ticks": ""
             }
            },
            "type": "parcoords"
           }
          ],
          "pie": [
           {
            "automargin": true,
            "type": "pie"
           }
          ],
          "scatter": [
           {
            "fillpattern": {
             "fillmode": "overlay",
             "size": 10,
             "solidity": 0.2
            },
            "type": "scatter"
           }
          ],
          "scatter3d": [
           {
            "line": {
             "colorbar": {
              "outlinewidth": 0,
              "ticks": ""
             }
            },
            "marker": {
             "colorbar": {
              "outlinewidth": 0,
              "ticks": ""
             }
            },
            "type": "scatter3d"
           }
          ],
          "scattercarpet": [
           {
            "marker": {
             "colorbar": {
              "outlinewidth": 0,
              "ticks": ""
             }
            },
            "type": "scattercarpet"
           }
          ],
          "scattergeo": [
           {
            "marker": {
             "colorbar": {
              "outlinewidth": 0,
              "ticks": ""
             }
            },
            "type": "scattergeo"
           }
          ],
          "scattergl": [
           {
            "marker": {
             "colorbar": {
              "outlinewidth": 0,
              "ticks": ""
             }
            },
            "type": "scattergl"
           }
          ],
          "scattermapbox": [
           {
            "marker": {
             "colorbar": {
              "outlinewidth": 0,
              "ticks": ""
             }
            },
            "type": "scattermapbox"
           }
          ],
          "scatterpolar": [
           {
            "marker": {
             "colorbar": {
              "outlinewidth": 0,
              "ticks": ""
             }
            },
            "type": "scatterpolar"
           }
          ],
          "scatterpolargl": [
           {
            "marker": {
             "colorbar": {
              "outlinewidth": 0,
              "ticks": ""
             }
            },
            "type": "scatterpolargl"
           }
          ],
          "scatterternary": [
           {
            "marker": {
             "colorbar": {
              "outlinewidth": 0,
              "ticks": ""
             }
            },
            "type": "scatterternary"
           }
          ],
          "surface": [
           {
            "colorbar": {
             "outlinewidth": 0,
             "ticks": ""
            },
            "colorscale": [
             [
              0,
              "#0d0887"
             ],
             [
              0.1111111111111111,
              "#46039f"
             ],
             [
              0.2222222222222222,
              "#7201a8"
             ],
             [
              0.3333333333333333,
              "#9c179e"
             ],
             [
              0.4444444444444444,
              "#bd3786"
             ],
             [
              0.5555555555555556,
              "#d8576b"
             ],
             [
              0.6666666666666666,
              "#ed7953"
             ],
             [
              0.7777777777777778,
              "#fb9f3a"
             ],
             [
              0.8888888888888888,
              "#fdca26"
             ],
             [
              1,
              "#f0f921"
             ]
            ],
            "type": "surface"
           }
          ],
          "table": [
           {
            "cells": {
             "fill": {
              "color": "#EBF0F8"
             },
             "line": {
              "color": "white"
             }
            },
            "header": {
             "fill": {
              "color": "#C8D4E3"
             },
             "line": {
              "color": "white"
             }
            },
            "type": "table"
           }
          ]
         },
         "layout": {
          "annotationdefaults": {
           "arrowcolor": "#2a3f5f",
           "arrowhead": 0,
           "arrowwidth": 1
          },
          "autotypenumbers": "strict",
          "coloraxis": {
           "colorbar": {
            "outlinewidth": 0,
            "ticks": ""
           }
          },
          "colorscale": {
           "diverging": [
            [
             0,
             "#8e0152"
            ],
            [
             0.1,
             "#c51b7d"
            ],
            [
             0.2,
             "#de77ae"
            ],
            [
             0.3,
             "#f1b6da"
            ],
            [
             0.4,
             "#fde0ef"
            ],
            [
             0.5,
             "#f7f7f7"
            ],
            [
             0.6,
             "#e6f5d0"
            ],
            [
             0.7,
             "#b8e186"
            ],
            [
             0.8,
             "#7fbc41"
            ],
            [
             0.9,
             "#4d9221"
            ],
            [
             1,
             "#276419"
            ]
           ],
           "sequential": [
            [
             0,
             "#0d0887"
            ],
            [
             0.1111111111111111,
             "#46039f"
            ],
            [
             0.2222222222222222,
             "#7201a8"
            ],
            [
             0.3333333333333333,
             "#9c179e"
            ],
            [
             0.4444444444444444,
             "#bd3786"
            ],
            [
             0.5555555555555556,
             "#d8576b"
            ],
            [
             0.6666666666666666,
             "#ed7953"
            ],
            [
             0.7777777777777778,
             "#fb9f3a"
            ],
            [
             0.8888888888888888,
             "#fdca26"
            ],
            [
             1,
             "#f0f921"
            ]
           ],
           "sequentialminus": [
            [
             0,
             "#0d0887"
            ],
            [
             0.1111111111111111,
             "#46039f"
            ],
            [
             0.2222222222222222,
             "#7201a8"
            ],
            [
             0.3333333333333333,
             "#9c179e"
            ],
            [
             0.4444444444444444,
             "#bd3786"
            ],
            [
             0.5555555555555556,
             "#d8576b"
            ],
            [
             0.6666666666666666,
             "#ed7953"
            ],
            [
             0.7777777777777778,
             "#fb9f3a"
            ],
            [
             0.8888888888888888,
             "#fdca26"
            ],
            [
             1,
             "#f0f921"
            ]
           ]
          },
          "colorway": [
           "#636efa",
           "#EF553B",
           "#00cc96",
           "#ab63fa",
           "#FFA15A",
           "#19d3f3",
           "#FF6692",
           "#B6E880",
           "#FF97FF",
           "#FECB52"
          ],
          "font": {
           "color": "#2a3f5f"
          },
          "geo": {
           "bgcolor": "white",
           "lakecolor": "white",
           "landcolor": "#E5ECF6",
           "showlakes": true,
           "showland": true,
           "subunitcolor": "white"
          },
          "hoverlabel": {
           "align": "left"
          },
          "hovermode": "closest",
          "mapbox": {
           "style": "light"
          },
          "paper_bgcolor": "white",
          "plot_bgcolor": "#E5ECF6",
          "polar": {
           "angularaxis": {
            "gridcolor": "white",
            "linecolor": "white",
            "ticks": ""
           },
           "bgcolor": "#E5ECF6",
           "radialaxis": {
            "gridcolor": "white",
            "linecolor": "white",
            "ticks": ""
           }
          },
          "scene": {
           "xaxis": {
            "backgroundcolor": "#E5ECF6",
            "gridcolor": "white",
            "gridwidth": 2,
            "linecolor": "white",
            "showbackground": true,
            "ticks": "",
            "zerolinecolor": "white"
           },
           "yaxis": {
            "backgroundcolor": "#E5ECF6",
            "gridcolor": "white",
            "gridwidth": 2,
            "linecolor": "white",
            "showbackground": true,
            "ticks": "",
            "zerolinecolor": "white"
           },
           "zaxis": {
            "backgroundcolor": "#E5ECF6",
            "gridcolor": "white",
            "gridwidth": 2,
            "linecolor": "white",
            "showbackground": true,
            "ticks": "",
            "zerolinecolor": "white"
           }
          },
          "shapedefaults": {
           "line": {
            "color": "#2a3f5f"
           }
          },
          "ternary": {
           "aaxis": {
            "gridcolor": "white",
            "linecolor": "white",
            "ticks": ""
           },
           "baxis": {
            "gridcolor": "white",
            "linecolor": "white",
            "ticks": ""
           },
           "bgcolor": "#E5ECF6",
           "caxis": {
            "gridcolor": "white",
            "linecolor": "white",
            "ticks": ""
           }
          },
          "title": {
           "x": 0.05
          },
          "xaxis": {
           "automargin": true,
           "gridcolor": "white",
           "linecolor": "white",
           "ticks": "",
           "title": {
            "standoff": 15
           },
           "zerolinecolor": "white",
           "zerolinewidth": 2
          },
          "yaxis": {
           "automargin": true,
           "gridcolor": "white",
           "linecolor": "white",
           "ticks": "",
           "title": {
            "standoff": 15
           },
           "zerolinecolor": "white",
           "zerolinewidth": 2
          }
         }
        },
        "title": {
         "text": "Øverste og nederste 5 grupper efter samlet score for branche data. Høj score godt = 1"
        },
        "xaxis": {
         "anchor": "y",
         "domain": [
          0,
          1
         ],
         "title": {
          "text": "Score"
         }
        },
        "yaxis": {
         "anchor": "x",
         "domain": [
          0,
          1
         ],
         "title": {
          "text": "Group"
         }
        }
       }
      }
     },
     "metadata": {},
     "output_type": "display_data"
    }
   ],
   "source": [
    "plot_top_and_bottom_groups(branche_data_filtered, 1, 'branche data')"
   ]
  },
  {
   "cell_type": "code",
   "execution_count": 1310,
   "metadata": {},
   "outputs": [
    {
     "data": {
      "application/vnd.plotly.v1+json": {
       "config": {
        "plotlyServerURL": "https://plot.ly"
       },
       "data": [
        {
         "alignmentgroup": "True",
         "hovertemplate": "Group Type=Nederste 5 Grupper<br>Score=%{x}<br>Group=%{y}<extra></extra>",
         "legendgroup": "Nederste 5 Grupper",
         "marker": {
          "color": "lightsalmon",
          "pattern": {
           "shape": ""
          }
         },
         "name": "Nederste 5 Grupper",
         "offsetgroup": "Nederste 5 Grupper",
         "orientation": "h",
         "showlegend": true,
         "textposition": "auto",
         "type": "bar",
         "x": [
          2.617660357,
          2.652127758875,
          2.66235104,
          2.6646268503125,
          2.6668171418125
         ],
         "xaxis": "x",
         "y": [
          "Tekniske tegnere",
          "Frisører og kosmetologer",
          "Jord- og betonarbejdere",
          "Dagplejere og børneomsorgsbeskæftigede",
          "Tømrere og snedkere"
         ],
         "yaxis": "y"
        },
        {
         "alignmentgroup": "True",
         "hovertemplate": "Group Type=Øverste 5 Grupper<br>Score=%{x}<br>Group=%{y}<extra></extra>",
         "legendgroup": "Øverste 5 Grupper",
         "marker": {
          "color": "#1f77b4",
          "pattern": {
           "shape": ""
          }
         },
         "name": "Øverste 5 Grupper",
         "offsetgroup": "Øverste 5 Grupper",
         "orientation": "h",
         "showlegend": true,
         "textposition": "auto",
         "type": "bar",
         "x": [
          2.9947307773125003,
          3.029811516,
          3.073238663875,
          3.109016724125,
          3.120241292625
         ],
         "xaxis": "x",
         "y": [
          "SOSU´er",
          "Sygeplejersker",
          "Gymnasielærere",
          "Socialrådgivere",
          "Læger"
         ],
         "yaxis": "y"
        }
       ],
       "layout": {
        "barmode": "relative",
        "legend": {
         "title": {
          "text": "Group Type"
         },
         "tracegroupgap": 0
        },
        "margin": {
         "t": 60
        },
        "template": {
         "data": {
          "bar": [
           {
            "error_x": {
             "color": "#2a3f5f"
            },
            "error_y": {
             "color": "#2a3f5f"
            },
            "marker": {
             "line": {
              "color": "#E5ECF6",
              "width": 0.5
             },
             "pattern": {
              "fillmode": "overlay",
              "size": 10,
              "solidity": 0.2
             }
            },
            "type": "bar"
           }
          ],
          "barpolar": [
           {
            "marker": {
             "line": {
              "color": "#E5ECF6",
              "width": 0.5
             },
             "pattern": {
              "fillmode": "overlay",
              "size": 10,
              "solidity": 0.2
             }
            },
            "type": "barpolar"
           }
          ],
          "carpet": [
           {
            "aaxis": {
             "endlinecolor": "#2a3f5f",
             "gridcolor": "white",
             "linecolor": "white",
             "minorgridcolor": "white",
             "startlinecolor": "#2a3f5f"
            },
            "baxis": {
             "endlinecolor": "#2a3f5f",
             "gridcolor": "white",
             "linecolor": "white",
             "minorgridcolor": "white",
             "startlinecolor": "#2a3f5f"
            },
            "type": "carpet"
           }
          ],
          "choropleth": [
           {
            "colorbar": {
             "outlinewidth": 0,
             "ticks": ""
            },
            "type": "choropleth"
           }
          ],
          "contour": [
           {
            "colorbar": {
             "outlinewidth": 0,
             "ticks": ""
            },
            "colorscale": [
             [
              0,
              "#0d0887"
             ],
             [
              0.1111111111111111,
              "#46039f"
             ],
             [
              0.2222222222222222,
              "#7201a8"
             ],
             [
              0.3333333333333333,
              "#9c179e"
             ],
             [
              0.4444444444444444,
              "#bd3786"
             ],
             [
              0.5555555555555556,
              "#d8576b"
             ],
             [
              0.6666666666666666,
              "#ed7953"
             ],
             [
              0.7777777777777778,
              "#fb9f3a"
             ],
             [
              0.8888888888888888,
              "#fdca26"
             ],
             [
              1,
              "#f0f921"
             ]
            ],
            "type": "contour"
           }
          ],
          "contourcarpet": [
           {
            "colorbar": {
             "outlinewidth": 0,
             "ticks": ""
            },
            "type": "contourcarpet"
           }
          ],
          "heatmap": [
           {
            "colorbar": {
             "outlinewidth": 0,
             "ticks": ""
            },
            "colorscale": [
             [
              0,
              "#0d0887"
             ],
             [
              0.1111111111111111,
              "#46039f"
             ],
             [
              0.2222222222222222,
              "#7201a8"
             ],
             [
              0.3333333333333333,
              "#9c179e"
             ],
             [
              0.4444444444444444,
              "#bd3786"
             ],
             [
              0.5555555555555556,
              "#d8576b"
             ],
             [
              0.6666666666666666,
              "#ed7953"
             ],
             [
              0.7777777777777778,
              "#fb9f3a"
             ],
             [
              0.8888888888888888,
              "#fdca26"
             ],
             [
              1,
              "#f0f921"
             ]
            ],
            "type": "heatmap"
           }
          ],
          "heatmapgl": [
           {
            "colorbar": {
             "outlinewidth": 0,
             "ticks": ""
            },
            "colorscale": [
             [
              0,
              "#0d0887"
             ],
             [
              0.1111111111111111,
              "#46039f"
             ],
             [
              0.2222222222222222,
              "#7201a8"
             ],
             [
              0.3333333333333333,
              "#9c179e"
             ],
             [
              0.4444444444444444,
              "#bd3786"
             ],
             [
              0.5555555555555556,
              "#d8576b"
             ],
             [
              0.6666666666666666,
              "#ed7953"
             ],
             [
              0.7777777777777778,
              "#fb9f3a"
             ],
             [
              0.8888888888888888,
              "#fdca26"
             ],
             [
              1,
              "#f0f921"
             ]
            ],
            "type": "heatmapgl"
           }
          ],
          "histogram": [
           {
            "marker": {
             "pattern": {
              "fillmode": "overlay",
              "size": 10,
              "solidity": 0.2
             }
            },
            "type": "histogram"
           }
          ],
          "histogram2d": [
           {
            "colorbar": {
             "outlinewidth": 0,
             "ticks": ""
            },
            "colorscale": [
             [
              0,
              "#0d0887"
             ],
             [
              0.1111111111111111,
              "#46039f"
             ],
             [
              0.2222222222222222,
              "#7201a8"
             ],
             [
              0.3333333333333333,
              "#9c179e"
             ],
             [
              0.4444444444444444,
              "#bd3786"
             ],
             [
              0.5555555555555556,
              "#d8576b"
             ],
             [
              0.6666666666666666,
              "#ed7953"
             ],
             [
              0.7777777777777778,
              "#fb9f3a"
             ],
             [
              0.8888888888888888,
              "#fdca26"
             ],
             [
              1,
              "#f0f921"
             ]
            ],
            "type": "histogram2d"
           }
          ],
          "histogram2dcontour": [
           {
            "colorbar": {
             "outlinewidth": 0,
             "ticks": ""
            },
            "colorscale": [
             [
              0,
              "#0d0887"
             ],
             [
              0.1111111111111111,
              "#46039f"
             ],
             [
              0.2222222222222222,
              "#7201a8"
             ],
             [
              0.3333333333333333,
              "#9c179e"
             ],
             [
              0.4444444444444444,
              "#bd3786"
             ],
             [
              0.5555555555555556,
              "#d8576b"
             ],
             [
              0.6666666666666666,
              "#ed7953"
             ],
             [
              0.7777777777777778,
              "#fb9f3a"
             ],
             [
              0.8888888888888888,
              "#fdca26"
             ],
             [
              1,
              "#f0f921"
             ]
            ],
            "type": "histogram2dcontour"
           }
          ],
          "mesh3d": [
           {
            "colorbar": {
             "outlinewidth": 0,
             "ticks": ""
            },
            "type": "mesh3d"
           }
          ],
          "parcoords": [
           {
            "line": {
             "colorbar": {
              "outlinewidth": 0,
              "ticks": ""
             }
            },
            "type": "parcoords"
           }
          ],
          "pie": [
           {
            "automargin": true,
            "type": "pie"
           }
          ],
          "scatter": [
           {
            "fillpattern": {
             "fillmode": "overlay",
             "size": 10,
             "solidity": 0.2
            },
            "type": "scatter"
           }
          ],
          "scatter3d": [
           {
            "line": {
             "colorbar": {
              "outlinewidth": 0,
              "ticks": ""
             }
            },
            "marker": {
             "colorbar": {
              "outlinewidth": 0,
              "ticks": ""
             }
            },
            "type": "scatter3d"
           }
          ],
          "scattercarpet": [
           {
            "marker": {
             "colorbar": {
              "outlinewidth": 0,
              "ticks": ""
             }
            },
            "type": "scattercarpet"
           }
          ],
          "scattergeo": [
           {
            "marker": {
             "colorbar": {
              "outlinewidth": 0,
              "ticks": ""
             }
            },
            "type": "scattergeo"
           }
          ],
          "scattergl": [
           {
            "marker": {
             "colorbar": {
              "outlinewidth": 0,
              "ticks": ""
             }
            },
            "type": "scattergl"
           }
          ],
          "scattermapbox": [
           {
            "marker": {
             "colorbar": {
              "outlinewidth": 0,
              "ticks": ""
             }
            },
            "type": "scattermapbox"
           }
          ],
          "scatterpolar": [
           {
            "marker": {
             "colorbar": {
              "outlinewidth": 0,
              "ticks": ""
             }
            },
            "type": "scatterpolar"
           }
          ],
          "scatterpolargl": [
           {
            "marker": {
             "colorbar": {
              "outlinewidth": 0,
              "ticks": ""
             }
            },
            "type": "scatterpolargl"
           }
          ],
          "scatterternary": [
           {
            "marker": {
             "colorbar": {
              "outlinewidth": 0,
              "ticks": ""
             }
            },
            "type": "scatterternary"
           }
          ],
          "surface": [
           {
            "colorbar": {
             "outlinewidth": 0,
             "ticks": ""
            },
            "colorscale": [
             [
              0,
              "#0d0887"
             ],
             [
              0.1111111111111111,
              "#46039f"
             ],
             [
              0.2222222222222222,
              "#7201a8"
             ],
             [
              0.3333333333333333,
              "#9c179e"
             ],
             [
              0.4444444444444444,
              "#bd3786"
             ],
             [
              0.5555555555555556,
              "#d8576b"
             ],
             [
              0.6666666666666666,
              "#ed7953"
             ],
             [
              0.7777777777777778,
              "#fb9f3a"
             ],
             [
              0.8888888888888888,
              "#fdca26"
             ],
             [
              1,
              "#f0f921"
             ]
            ],
            "type": "surface"
           }
          ],
          "table": [
           {
            "cells": {
             "fill": {
              "color": "#EBF0F8"
             },
             "line": {
              "color": "white"
             }
            },
            "header": {
             "fill": {
              "color": "#C8D4E3"
             },
             "line": {
              "color": "white"
             }
            },
            "type": "table"
           }
          ]
         },
         "layout": {
          "annotationdefaults": {
           "arrowcolor": "#2a3f5f",
           "arrowhead": 0,
           "arrowwidth": 1
          },
          "autotypenumbers": "strict",
          "coloraxis": {
           "colorbar": {
            "outlinewidth": 0,
            "ticks": ""
           }
          },
          "colorscale": {
           "diverging": [
            [
             0,
             "#8e0152"
            ],
            [
             0.1,
             "#c51b7d"
            ],
            [
             0.2,
             "#de77ae"
            ],
            [
             0.3,
             "#f1b6da"
            ],
            [
             0.4,
             "#fde0ef"
            ],
            [
             0.5,
             "#f7f7f7"
            ],
            [
             0.6,
             "#e6f5d0"
            ],
            [
             0.7,
             "#b8e186"
            ],
            [
             0.8,
             "#7fbc41"
            ],
            [
             0.9,
             "#4d9221"
            ],
            [
             1,
             "#276419"
            ]
           ],
           "sequential": [
            [
             0,
             "#0d0887"
            ],
            [
             0.1111111111111111,
             "#46039f"
            ],
            [
             0.2222222222222222,
             "#7201a8"
            ],
            [
             0.3333333333333333,
             "#9c179e"
            ],
            [
             0.4444444444444444,
             "#bd3786"
            ],
            [
             0.5555555555555556,
             "#d8576b"
            ],
            [
             0.6666666666666666,
             "#ed7953"
            ],
            [
             0.7777777777777778,
             "#fb9f3a"
            ],
            [
             0.8888888888888888,
             "#fdca26"
            ],
            [
             1,
             "#f0f921"
            ]
           ],
           "sequentialminus": [
            [
             0,
             "#0d0887"
            ],
            [
             0.1111111111111111,
             "#46039f"
            ],
            [
             0.2222222222222222,
             "#7201a8"
            ],
            [
             0.3333333333333333,
             "#9c179e"
            ],
            [
             0.4444444444444444,
             "#bd3786"
            ],
            [
             0.5555555555555556,
             "#d8576b"
            ],
            [
             0.6666666666666666,
             "#ed7953"
            ],
            [
             0.7777777777777778,
             "#fb9f3a"
            ],
            [
             0.8888888888888888,
             "#fdca26"
            ],
            [
             1,
             "#f0f921"
            ]
           ]
          },
          "colorway": [
           "#636efa",
           "#EF553B",
           "#00cc96",
           "#ab63fa",
           "#FFA15A",
           "#19d3f3",
           "#FF6692",
           "#B6E880",
           "#FF97FF",
           "#FECB52"
          ],
          "font": {
           "color": "#2a3f5f"
          },
          "geo": {
           "bgcolor": "white",
           "lakecolor": "white",
           "landcolor": "#E5ECF6",
           "showlakes": true,
           "showland": true,
           "subunitcolor": "white"
          },
          "hoverlabel": {
           "align": "left"
          },
          "hovermode": "closest",
          "mapbox": {
           "style": "light"
          },
          "paper_bgcolor": "white",
          "plot_bgcolor": "#E5ECF6",
          "polar": {
           "angularaxis": {
            "gridcolor": "white",
            "linecolor": "white",
            "ticks": ""
           },
           "bgcolor": "#E5ECF6",
           "radialaxis": {
            "gridcolor": "white",
            "linecolor": "white",
            "ticks": ""
           }
          },
          "scene": {
           "xaxis": {
            "backgroundcolor": "#E5ECF6",
            "gridcolor": "white",
            "gridwidth": 2,
            "linecolor": "white",
            "showbackground": true,
            "ticks": "",
            "zerolinecolor": "white"
           },
           "yaxis": {
            "backgroundcolor": "#E5ECF6",
            "gridcolor": "white",
            "gridwidth": 2,
            "linecolor": "white",
            "showbackground": true,
            "ticks": "",
            "zerolinecolor": "white"
           },
           "zaxis": {
            "backgroundcolor": "#E5ECF6",
            "gridcolor": "white",
            "gridwidth": 2,
            "linecolor": "white",
            "showbackground": true,
            "ticks": "",
            "zerolinecolor": "white"
           }
          },
          "shapedefaults": {
           "line": {
            "color": "#2a3f5f"
           }
          },
          "ternary": {
           "aaxis": {
            "gridcolor": "white",
            "linecolor": "white",
            "ticks": ""
           },
           "baxis": {
            "gridcolor": "white",
            "linecolor": "white",
            "ticks": ""
           },
           "bgcolor": "#E5ECF6",
           "caxis": {
            "gridcolor": "white",
            "linecolor": "white",
            "ticks": ""
           }
          },
          "title": {
           "x": 0.05
          },
          "xaxis": {
           "automargin": true,
           "gridcolor": "white",
           "linecolor": "white",
           "ticks": "",
           "title": {
            "standoff": 15
           },
           "zerolinecolor": "white",
           "zerolinewidth": 2
          },
          "yaxis": {
           "automargin": true,
           "gridcolor": "white",
           "linecolor": "white",
           "ticks": "",
           "title": {
            "standoff": 15
           },
           "zerolinecolor": "white",
           "zerolinewidth": 2
          }
         }
        },
        "title": {
         "text": "Øverste og nederste 5 grupper efter samlet score for branche data. Høj score godt = 0"
        },
        "xaxis": {
         "anchor": "y",
         "domain": [
          0,
          1
         ],
         "title": {
          "text": "Score"
         }
        },
        "yaxis": {
         "anchor": "x",
         "domain": [
          0,
          1
         ],
         "title": {
          "text": "Group"
         }
        }
       }
      }
     },
     "metadata": {},
     "output_type": "display_data"
    }
   ],
   "source": [
    "plot_top_and_bottom_groups(branche_data_filtered, 0, 'branche data')"
   ]
  },
  {
   "attachments": {},
   "cell_type": "markdown",
   "metadata": {},
   "source": [
    "#### Problemstilling: Hvordan scorer arbejdsmiljøet i forskellige brancher i 2018?\n",
    "\n",
    "#### **Finding 1: Arbejdsmiljøet scorer bedst i brancher med mere selvstændighed og ansvar, som typisk er i det private.**\n",
    "\n",
    "Når man sammenligner de øverste 5 grupper med de nederste 5 grupper i den første graf, er to ting tydelige. Ledere scorer højest i HSG = 1 med en gennemsnitlig score på 3.93, mens passagerservicemedarbejdere scorer lavest med en gennemsnitlig score på 3.41.\n",
    "\n",
    "De øverste 5 grupper i denne graf med HSG = 1 består typisk af brancher og arbejdstyper, der har mere selvstændighed og ansvar, såsom frisører, kosmetologer og ledere. Disse brancher er mere autonome end f.eks. bud og kurer, der findes i de nederste 5 grupper. For eksempel har frisører mere frihed og ejer ofte deres egen butik, mens bud typisk er ansat i en virksomhed som DHL.\n",
    "\n",
    "Når man sammenligner de øverste 5 grupper med de nederste 5 grupper i den anden graf med HSG = 0, ser man et klart mønster: Folk ansat i offentlige stillinger scorer i gennemsnit højere. Socialrådgivere (3.10), gymnasielærere (3.07) og SOSU-assistenter (2.99) er typisk ansat i offentlige stillinger (med undtagelse af særlige stillinger som vikariater). De nederste 5 grupper indeholder typisk brancher, der er mere privat end offentlig i ansættelsesnatur, såsom frisører og kosmetologer (2.65) og f.eks. også tømrere og snedkere (2.66).\n",
    "\n",
    "Det er vigtigt at bemærke, at dataet er et snapshot fra 2018, og det er derfor nødvendigt at sammenligne med andre tidspunkter for at se udviklingen i de forskellige branchers arbejdsmiljø."
   ]
  },
  {
   "attachments": {},
   "cell_type": "markdown",
   "metadata": {},
   "source": [
    "#### Køn og alder data"
   ]
  },
  {
   "cell_type": "code",
   "execution_count": 1311,
   "metadata": {},
   "outputs": [
    {
     "data": {
      "application/vnd.plotly.v1+json": {
       "config": {
        "plotlyServerURL": "https://plot.ly"
       },
       "data": [
        {
         "alignmentgroup": "True",
         "hovertemplate": "Group Type=Nederste 5 Grupper<br>Score=%{x}<br>Group=%{y}<extra></extra>",
         "legendgroup": "Nederste 5 Grupper",
         "marker": {
          "color": "lightsalmon",
          "pattern": {
           "shape": ""
          }
         },
         "name": "Nederste 5 Grupper",
         "offsetgroup": "Nederste 5 Grupper",
         "orientation": "h",
         "showlegend": true,
         "textposition": "auto",
         "type": "bar",
         "x": [
          3.697843903724138,
          3.708080600413793,
          3.711487478275862,
          3.711936177896552,
          3.714746862551724
         ],
         "xaxis": "x",
         "y": [
          "Kvinder, 25 - 34 år",
          "Kvinder, 55 - 64 år",
          "Mænd, 35 - 44 år",
          "Mænd, 45 - 54 år",
          "Mænd, 55 - 64 år"
         ],
         "yaxis": "y"
        },
        {
         "alignmentgroup": "True",
         "hovertemplate": "Group Type=Øverste 5 Grupper<br>Score=%{x}<br>Group=%{y}<extra></extra>",
         "legendgroup": "Øverste 5 Grupper",
         "marker": {
          "color": "#1f77b4",
          "pattern": {
           "shape": ""
          }
         },
         "name": "Øverste 5 Grupper",
         "offsetgroup": "Øverste 5 Grupper",
         "orientation": "h",
         "showlegend": true,
         "textposition": "auto",
         "type": "bar",
         "x": [
          3.7184124728275862,
          3.727783502,
          3.7393321807931033,
          3.7568327589655173,
          3.769627015448276
         ],
         "xaxis": "x",
         "y": [
          "Kvinder, 45 - 54 år",
          "Mænd",
          "Kvinder, 35 - 44 år",
          "Mænd, 25 - 34 år",
          "Mænd, 18 - 24 år"
         ],
         "yaxis": "y"
        }
       ],
       "layout": {
        "barmode": "relative",
        "legend": {
         "title": {
          "text": "Group Type"
         },
         "tracegroupgap": 0
        },
        "margin": {
         "t": 60
        },
        "template": {
         "data": {
          "bar": [
           {
            "error_x": {
             "color": "#2a3f5f"
            },
            "error_y": {
             "color": "#2a3f5f"
            },
            "marker": {
             "line": {
              "color": "#E5ECF6",
              "width": 0.5
             },
             "pattern": {
              "fillmode": "overlay",
              "size": 10,
              "solidity": 0.2
             }
            },
            "type": "bar"
           }
          ],
          "barpolar": [
           {
            "marker": {
             "line": {
              "color": "#E5ECF6",
              "width": 0.5
             },
             "pattern": {
              "fillmode": "overlay",
              "size": 10,
              "solidity": 0.2
             }
            },
            "type": "barpolar"
           }
          ],
          "carpet": [
           {
            "aaxis": {
             "endlinecolor": "#2a3f5f",
             "gridcolor": "white",
             "linecolor": "white",
             "minorgridcolor": "white",
             "startlinecolor": "#2a3f5f"
            },
            "baxis": {
             "endlinecolor": "#2a3f5f",
             "gridcolor": "white",
             "linecolor": "white",
             "minorgridcolor": "white",
             "startlinecolor": "#2a3f5f"
            },
            "type": "carpet"
           }
          ],
          "choropleth": [
           {
            "colorbar": {
             "outlinewidth": 0,
             "ticks": ""
            },
            "type": "choropleth"
           }
          ],
          "contour": [
           {
            "colorbar": {
             "outlinewidth": 0,
             "ticks": ""
            },
            "colorscale": [
             [
              0,
              "#0d0887"
             ],
             [
              0.1111111111111111,
              "#46039f"
             ],
             [
              0.2222222222222222,
              "#7201a8"
             ],
             [
              0.3333333333333333,
              "#9c179e"
             ],
             [
              0.4444444444444444,
              "#bd3786"
             ],
             [
              0.5555555555555556,
              "#d8576b"
             ],
             [
              0.6666666666666666,
              "#ed7953"
             ],
             [
              0.7777777777777778,
              "#fb9f3a"
             ],
             [
              0.8888888888888888,
              "#fdca26"
             ],
             [
              1,
              "#f0f921"
             ]
            ],
            "type": "contour"
           }
          ],
          "contourcarpet": [
           {
            "colorbar": {
             "outlinewidth": 0,
             "ticks": ""
            },
            "type": "contourcarpet"
           }
          ],
          "heatmap": [
           {
            "colorbar": {
             "outlinewidth": 0,
             "ticks": ""
            },
            "colorscale": [
             [
              0,
              "#0d0887"
             ],
             [
              0.1111111111111111,
              "#46039f"
             ],
             [
              0.2222222222222222,
              "#7201a8"
             ],
             [
              0.3333333333333333,
              "#9c179e"
             ],
             [
              0.4444444444444444,
              "#bd3786"
             ],
             [
              0.5555555555555556,
              "#d8576b"
             ],
             [
              0.6666666666666666,
              "#ed7953"
             ],
             [
              0.7777777777777778,
              "#fb9f3a"
             ],
             [
              0.8888888888888888,
              "#fdca26"
             ],
             [
              1,
              "#f0f921"
             ]
            ],
            "type": "heatmap"
           }
          ],
          "heatmapgl": [
           {
            "colorbar": {
             "outlinewidth": 0,
             "ticks": ""
            },
            "colorscale": [
             [
              0,
              "#0d0887"
             ],
             [
              0.1111111111111111,
              "#46039f"
             ],
             [
              0.2222222222222222,
              "#7201a8"
             ],
             [
              0.3333333333333333,
              "#9c179e"
             ],
             [
              0.4444444444444444,
              "#bd3786"
             ],
             [
              0.5555555555555556,
              "#d8576b"
             ],
             [
              0.6666666666666666,
              "#ed7953"
             ],
             [
              0.7777777777777778,
              "#fb9f3a"
             ],
             [
              0.8888888888888888,
              "#fdca26"
             ],
             [
              1,
              "#f0f921"
             ]
            ],
            "type": "heatmapgl"
           }
          ],
          "histogram": [
           {
            "marker": {
             "pattern": {
              "fillmode": "overlay",
              "size": 10,
              "solidity": 0.2
             }
            },
            "type": "histogram"
           }
          ],
          "histogram2d": [
           {
            "colorbar": {
             "outlinewidth": 0,
             "ticks": ""
            },
            "colorscale": [
             [
              0,
              "#0d0887"
             ],
             [
              0.1111111111111111,
              "#46039f"
             ],
             [
              0.2222222222222222,
              "#7201a8"
             ],
             [
              0.3333333333333333,
              "#9c179e"
             ],
             [
              0.4444444444444444,
              "#bd3786"
             ],
             [
              0.5555555555555556,
              "#d8576b"
             ],
             [
              0.6666666666666666,
              "#ed7953"
             ],
             [
              0.7777777777777778,
              "#fb9f3a"
             ],
             [
              0.8888888888888888,
              "#fdca26"
             ],
             [
              1,
              "#f0f921"
             ]
            ],
            "type": "histogram2d"
           }
          ],
          "histogram2dcontour": [
           {
            "colorbar": {
             "outlinewidth": 0,
             "ticks": ""
            },
            "colorscale": [
             [
              0,
              "#0d0887"
             ],
             [
              0.1111111111111111,
              "#46039f"
             ],
             [
              0.2222222222222222,
              "#7201a8"
             ],
             [
              0.3333333333333333,
              "#9c179e"
             ],
             [
              0.4444444444444444,
              "#bd3786"
             ],
             [
              0.5555555555555556,
              "#d8576b"
             ],
             [
              0.6666666666666666,
              "#ed7953"
             ],
             [
              0.7777777777777778,
              "#fb9f3a"
             ],
             [
              0.8888888888888888,
              "#fdca26"
             ],
             [
              1,
              "#f0f921"
             ]
            ],
            "type": "histogram2dcontour"
           }
          ],
          "mesh3d": [
           {
            "colorbar": {
             "outlinewidth": 0,
             "ticks": ""
            },
            "type": "mesh3d"
           }
          ],
          "parcoords": [
           {
            "line": {
             "colorbar": {
              "outlinewidth": 0,
              "ticks": ""
             }
            },
            "type": "parcoords"
           }
          ],
          "pie": [
           {
            "automargin": true,
            "type": "pie"
           }
          ],
          "scatter": [
           {
            "fillpattern": {
             "fillmode": "overlay",
             "size": 10,
             "solidity": 0.2
            },
            "type": "scatter"
           }
          ],
          "scatter3d": [
           {
            "line": {
             "colorbar": {
              "outlinewidth": 0,
              "ticks": ""
             }
            },
            "marker": {
             "colorbar": {
              "outlinewidth": 0,
              "ticks": ""
             }
            },
            "type": "scatter3d"
           }
          ],
          "scattercarpet": [
           {
            "marker": {
             "colorbar": {
              "outlinewidth": 0,
              "ticks": ""
             }
            },
            "type": "scattercarpet"
           }
          ],
          "scattergeo": [
           {
            "marker": {
             "colorbar": {
              "outlinewidth": 0,
              "ticks": ""
             }
            },
            "type": "scattergeo"
           }
          ],
          "scattergl": [
           {
            "marker": {
             "colorbar": {
              "outlinewidth": 0,
              "ticks": ""
             }
            },
            "type": "scattergl"
           }
          ],
          "scattermapbox": [
           {
            "marker": {
             "colorbar": {
              "outlinewidth": 0,
              "ticks": ""
             }
            },
            "type": "scattermapbox"
           }
          ],
          "scatterpolar": [
           {
            "marker": {
             "colorbar": {
              "outlinewidth": 0,
              "ticks": ""
             }
            },
            "type": "scatterpolar"
           }
          ],
          "scatterpolargl": [
           {
            "marker": {
             "colorbar": {
              "outlinewidth": 0,
              "ticks": ""
             }
            },
            "type": "scatterpolargl"
           }
          ],
          "scatterternary": [
           {
            "marker": {
             "colorbar": {
              "outlinewidth": 0,
              "ticks": ""
             }
            },
            "type": "scatterternary"
           }
          ],
          "surface": [
           {
            "colorbar": {
             "outlinewidth": 0,
             "ticks": ""
            },
            "colorscale": [
             [
              0,
              "#0d0887"
             ],
             [
              0.1111111111111111,
              "#46039f"
             ],
             [
              0.2222222222222222,
              "#7201a8"
             ],
             [
              0.3333333333333333,
              "#9c179e"
             ],
             [
              0.4444444444444444,
              "#bd3786"
             ],
             [
              0.5555555555555556,
              "#d8576b"
             ],
             [
              0.6666666666666666,
              "#ed7953"
             ],
             [
              0.7777777777777778,
              "#fb9f3a"
             ],
             [
              0.8888888888888888,
              "#fdca26"
             ],
             [
              1,
              "#f0f921"
             ]
            ],
            "type": "surface"
           }
          ],
          "table": [
           {
            "cells": {
             "fill": {
              "color": "#EBF0F8"
             },
             "line": {
              "color": "white"
             }
            },
            "header": {
             "fill": {
              "color": "#C8D4E3"
             },
             "line": {
              "color": "white"
             }
            },
            "type": "table"
           }
          ]
         },
         "layout": {
          "annotationdefaults": {
           "arrowcolor": "#2a3f5f",
           "arrowhead": 0,
           "arrowwidth": 1
          },
          "autotypenumbers": "strict",
          "coloraxis": {
           "colorbar": {
            "outlinewidth": 0,
            "ticks": ""
           }
          },
          "colorscale": {
           "diverging": [
            [
             0,
             "#8e0152"
            ],
            [
             0.1,
             "#c51b7d"
            ],
            [
             0.2,
             "#de77ae"
            ],
            [
             0.3,
             "#f1b6da"
            ],
            [
             0.4,
             "#fde0ef"
            ],
            [
             0.5,
             "#f7f7f7"
            ],
            [
             0.6,
             "#e6f5d0"
            ],
            [
             0.7,
             "#b8e186"
            ],
            [
             0.8,
             "#7fbc41"
            ],
            [
             0.9,
             "#4d9221"
            ],
            [
             1,
             "#276419"
            ]
           ],
           "sequential": [
            [
             0,
             "#0d0887"
            ],
            [
             0.1111111111111111,
             "#46039f"
            ],
            [
             0.2222222222222222,
             "#7201a8"
            ],
            [
             0.3333333333333333,
             "#9c179e"
            ],
            [
             0.4444444444444444,
             "#bd3786"
            ],
            [
             0.5555555555555556,
             "#d8576b"
            ],
            [
             0.6666666666666666,
             "#ed7953"
            ],
            [
             0.7777777777777778,
             "#fb9f3a"
            ],
            [
             0.8888888888888888,
             "#fdca26"
            ],
            [
             1,
             "#f0f921"
            ]
           ],
           "sequentialminus": [
            [
             0,
             "#0d0887"
            ],
            [
             0.1111111111111111,
             "#46039f"
            ],
            [
             0.2222222222222222,
             "#7201a8"
            ],
            [
             0.3333333333333333,
             "#9c179e"
            ],
            [
             0.4444444444444444,
             "#bd3786"
            ],
            [
             0.5555555555555556,
             "#d8576b"
            ],
            [
             0.6666666666666666,
             "#ed7953"
            ],
            [
             0.7777777777777778,
             "#fb9f3a"
            ],
            [
             0.8888888888888888,
             "#fdca26"
            ],
            [
             1,
             "#f0f921"
            ]
           ]
          },
          "colorway": [
           "#636efa",
           "#EF553B",
           "#00cc96",
           "#ab63fa",
           "#FFA15A",
           "#19d3f3",
           "#FF6692",
           "#B6E880",
           "#FF97FF",
           "#FECB52"
          ],
          "font": {
           "color": "#2a3f5f"
          },
          "geo": {
           "bgcolor": "white",
           "lakecolor": "white",
           "landcolor": "#E5ECF6",
           "showlakes": true,
           "showland": true,
           "subunitcolor": "white"
          },
          "hoverlabel": {
           "align": "left"
          },
          "hovermode": "closest",
          "mapbox": {
           "style": "light"
          },
          "paper_bgcolor": "white",
          "plot_bgcolor": "#E5ECF6",
          "polar": {
           "angularaxis": {
            "gridcolor": "white",
            "linecolor": "white",
            "ticks": ""
           },
           "bgcolor": "#E5ECF6",
           "radialaxis": {
            "gridcolor": "white",
            "linecolor": "white",
            "ticks": ""
           }
          },
          "scene": {
           "xaxis": {
            "backgroundcolor": "#E5ECF6",
            "gridcolor": "white",
            "gridwidth": 2,
            "linecolor": "white",
            "showbackground": true,
            "ticks": "",
            "zerolinecolor": "white"
           },
           "yaxis": {
            "backgroundcolor": "#E5ECF6",
            "gridcolor": "white",
            "gridwidth": 2,
            "linecolor": "white",
            "showbackground": true,
            "ticks": "",
            "zerolinecolor": "white"
           },
           "zaxis": {
            "backgroundcolor": "#E5ECF6",
            "gridcolor": "white",
            "gridwidth": 2,
            "linecolor": "white",
            "showbackground": true,
            "ticks": "",
            "zerolinecolor": "white"
           }
          },
          "shapedefaults": {
           "line": {
            "color": "#2a3f5f"
           }
          },
          "ternary": {
           "aaxis": {
            "gridcolor": "white",
            "linecolor": "white",
            "ticks": ""
           },
           "baxis": {
            "gridcolor": "white",
            "linecolor": "white",
            "ticks": ""
           },
           "bgcolor": "#E5ECF6",
           "caxis": {
            "gridcolor": "white",
            "linecolor": "white",
            "ticks": ""
           }
          },
          "title": {
           "x": 0.05
          },
          "xaxis": {
           "automargin": true,
           "gridcolor": "white",
           "linecolor": "white",
           "ticks": "",
           "title": {
            "standoff": 15
           },
           "zerolinecolor": "white",
           "zerolinewidth": 2
          },
          "yaxis": {
           "automargin": true,
           "gridcolor": "white",
           "linecolor": "white",
           "ticks": "",
           "title": {
            "standoff": 15
           },
           "zerolinecolor": "white",
           "zerolinewidth": 2
          }
         }
        },
        "title": {
         "text": "Øverste og nederste 5 grupper efter samlet score for køn og alder data. Høj score godt = 1"
        },
        "xaxis": {
         "anchor": "y",
         "domain": [
          0,
          1
         ],
         "title": {
          "text": "Score"
         }
        },
        "yaxis": {
         "anchor": "x",
         "domain": [
          0,
          1
         ],
         "title": {
          "text": "Group"
         }
        }
       }
      }
     },
     "metadata": {},
     "output_type": "display_data"
    }
   ],
   "source": [
    "plot_top_and_bottom_groups(koen_alder_data_filtered, 1, 'køn og alder data')"
   ]
  },
  {
   "cell_type": "code",
   "execution_count": 1312,
   "metadata": {},
   "outputs": [
    {
     "data": {
      "application/vnd.plotly.v1+json": {
       "config": {
        "plotlyServerURL": "https://plot.ly"
       },
       "data": [
        {
         "alignmentgroup": "True",
         "hovertemplate": "Group Type=Nederste 5 Grupper<br>Score=%{x}<br>Group=%{y}<extra></extra>",
         "legendgroup": "Nederste 5 Grupper",
         "marker": {
          "color": "lightsalmon",
          "pattern": {
           "shape": ""
          }
         },
         "name": "Nederste 5 Grupper",
         "offsetgroup": "Nederste 5 Grupper",
         "orientation": "h",
         "showlegend": true,
         "textposition": "auto",
         "type": "bar",
         "x": [
          2.657311692875,
          2.72552203,
          2.7732708579375,
          2.7772465059374998,
          2.786042544375
         ],
         "xaxis": "x",
         "y": [
          "Mænd, 18 - 24 år",
          "Mænd, 55 - 64 år",
          "Mænd",
          "Kvinder, 18 - 24 år",
          "Mænd, 25 - 34 år"
         ],
         "yaxis": "y"
        },
        {
         "alignmentgroup": "True",
         "hovertemplate": "Group Type=Øverste 5 Grupper<br>Score=%{x}<br>Group=%{y}<extra></extra>",
         "legendgroup": "Øverste 5 Grupper",
         "marker": {
          "color": "#1f77b4",
          "pattern": {
           "shape": ""
          }
         },
         "name": "Øverste 5 Grupper",
         "offsetgroup": "Øverste 5 Grupper",
         "orientation": "h",
         "showlegend": true,
         "textposition": "auto",
         "type": "bar",
         "x": [
          2.83845259125,
          2.880363088625,
          2.8804681514375,
          2.892849730375,
          2.957450360375
         ],
         "xaxis": "x",
         "y": [
          "Kvinder, 55 - 64 år",
          "Kvinder",
          "Kvinder, 45 - 54 år",
          "Kvinder, 35 - 44 år",
          "Kvinder, 25 - 34 år"
         ],
         "yaxis": "y"
        }
       ],
       "layout": {
        "barmode": "relative",
        "legend": {
         "title": {
          "text": "Group Type"
         },
         "tracegroupgap": 0
        },
        "margin": {
         "t": 60
        },
        "template": {
         "data": {
          "bar": [
           {
            "error_x": {
             "color": "#2a3f5f"
            },
            "error_y": {
             "color": "#2a3f5f"
            },
            "marker": {
             "line": {
              "color": "#E5ECF6",
              "width": 0.5
             },
             "pattern": {
              "fillmode": "overlay",
              "size": 10,
              "solidity": 0.2
             }
            },
            "type": "bar"
           }
          ],
          "barpolar": [
           {
            "marker": {
             "line": {
              "color": "#E5ECF6",
              "width": 0.5
             },
             "pattern": {
              "fillmode": "overlay",
              "size": 10,
              "solidity": 0.2
             }
            },
            "type": "barpolar"
           }
          ],
          "carpet": [
           {
            "aaxis": {
             "endlinecolor": "#2a3f5f",
             "gridcolor": "white",
             "linecolor": "white",
             "minorgridcolor": "white",
             "startlinecolor": "#2a3f5f"
            },
            "baxis": {
             "endlinecolor": "#2a3f5f",
             "gridcolor": "white",
             "linecolor": "white",
             "minorgridcolor": "white",
             "startlinecolor": "#2a3f5f"
            },
            "type": "carpet"
           }
          ],
          "choropleth": [
           {
            "colorbar": {
             "outlinewidth": 0,
             "ticks": ""
            },
            "type": "choropleth"
           }
          ],
          "contour": [
           {
            "colorbar": {
             "outlinewidth": 0,
             "ticks": ""
            },
            "colorscale": [
             [
              0,
              "#0d0887"
             ],
             [
              0.1111111111111111,
              "#46039f"
             ],
             [
              0.2222222222222222,
              "#7201a8"
             ],
             [
              0.3333333333333333,
              "#9c179e"
             ],
             [
              0.4444444444444444,
              "#bd3786"
             ],
             [
              0.5555555555555556,
              "#d8576b"
             ],
             [
              0.6666666666666666,
              "#ed7953"
             ],
             [
              0.7777777777777778,
              "#fb9f3a"
             ],
             [
              0.8888888888888888,
              "#fdca26"
             ],
             [
              1,
              "#f0f921"
             ]
            ],
            "type": "contour"
           }
          ],
          "contourcarpet": [
           {
            "colorbar": {
             "outlinewidth": 0,
             "ticks": ""
            },
            "type": "contourcarpet"
           }
          ],
          "heatmap": [
           {
            "colorbar": {
             "outlinewidth": 0,
             "ticks": ""
            },
            "colorscale": [
             [
              0,
              "#0d0887"
             ],
             [
              0.1111111111111111,
              "#46039f"
             ],
             [
              0.2222222222222222,
              "#7201a8"
             ],
             [
              0.3333333333333333,
              "#9c179e"
             ],
             [
              0.4444444444444444,
              "#bd3786"
             ],
             [
              0.5555555555555556,
              "#d8576b"
             ],
             [
              0.6666666666666666,
              "#ed7953"
             ],
             [
              0.7777777777777778,
              "#fb9f3a"
             ],
             [
              0.8888888888888888,
              "#fdca26"
             ],
             [
              1,
              "#f0f921"
             ]
            ],
            "type": "heatmap"
           }
          ],
          "heatmapgl": [
           {
            "colorbar": {
             "outlinewidth": 0,
             "ticks": ""
            },
            "colorscale": [
             [
              0,
              "#0d0887"
             ],
             [
              0.1111111111111111,
              "#46039f"
             ],
             [
              0.2222222222222222,
              "#7201a8"
             ],
             [
              0.3333333333333333,
              "#9c179e"
             ],
             [
              0.4444444444444444,
              "#bd3786"
             ],
             [
              0.5555555555555556,
              "#d8576b"
             ],
             [
              0.6666666666666666,
              "#ed7953"
             ],
             [
              0.7777777777777778,
              "#fb9f3a"
             ],
             [
              0.8888888888888888,
              "#fdca26"
             ],
             [
              1,
              "#f0f921"
             ]
            ],
            "type": "heatmapgl"
           }
          ],
          "histogram": [
           {
            "marker": {
             "pattern": {
              "fillmode": "overlay",
              "size": 10,
              "solidity": 0.2
             }
            },
            "type": "histogram"
           }
          ],
          "histogram2d": [
           {
            "colorbar": {
             "outlinewidth": 0,
             "ticks": ""
            },
            "colorscale": [
             [
              0,
              "#0d0887"
             ],
             [
              0.1111111111111111,
              "#46039f"
             ],
             [
              0.2222222222222222,
              "#7201a8"
             ],
             [
              0.3333333333333333,
              "#9c179e"
             ],
             [
              0.4444444444444444,
              "#bd3786"
             ],
             [
              0.5555555555555556,
              "#d8576b"
             ],
             [
              0.6666666666666666,
              "#ed7953"
             ],
             [
              0.7777777777777778,
              "#fb9f3a"
             ],
             [
              0.8888888888888888,
              "#fdca26"
             ],
             [
              1,
              "#f0f921"
             ]
            ],
            "type": "histogram2d"
           }
          ],
          "histogram2dcontour": [
           {
            "colorbar": {
             "outlinewidth": 0,
             "ticks": ""
            },
            "colorscale": [
             [
              0,
              "#0d0887"
             ],
             [
              0.1111111111111111,
              "#46039f"
             ],
             [
              0.2222222222222222,
              "#7201a8"
             ],
             [
              0.3333333333333333,
              "#9c179e"
             ],
             [
              0.4444444444444444,
              "#bd3786"
             ],
             [
              0.5555555555555556,
              "#d8576b"
             ],
             [
              0.6666666666666666,
              "#ed7953"
             ],
             [
              0.7777777777777778,
              "#fb9f3a"
             ],
             [
              0.8888888888888888,
              "#fdca26"
             ],
             [
              1,
              "#f0f921"
             ]
            ],
            "type": "histogram2dcontour"
           }
          ],
          "mesh3d": [
           {
            "colorbar": {
             "outlinewidth": 0,
             "ticks": ""
            },
            "type": "mesh3d"
           }
          ],
          "parcoords": [
           {
            "line": {
             "colorbar": {
              "outlinewidth": 0,
              "ticks": ""
             }
            },
            "type": "parcoords"
           }
          ],
          "pie": [
           {
            "automargin": true,
            "type": "pie"
           }
          ],
          "scatter": [
           {
            "fillpattern": {
             "fillmode": "overlay",
             "size": 10,
             "solidity": 0.2
            },
            "type": "scatter"
           }
          ],
          "scatter3d": [
           {
            "line": {
             "colorbar": {
              "outlinewidth": 0,
              "ticks": ""
             }
            },
            "marker": {
             "colorbar": {
              "outlinewidth": 0,
              "ticks": ""
             }
            },
            "type": "scatter3d"
           }
          ],
          "scattercarpet": [
           {
            "marker": {
             "colorbar": {
              "outlinewidth": 0,
              "ticks": ""
             }
            },
            "type": "scattercarpet"
           }
          ],
          "scattergeo": [
           {
            "marker": {
             "colorbar": {
              "outlinewidth": 0,
              "ticks": ""
             }
            },
            "type": "scattergeo"
           }
          ],
          "scattergl": [
           {
            "marker": {
             "colorbar": {
              "outlinewidth": 0,
              "ticks": ""
             }
            },
            "type": "scattergl"
           }
          ],
          "scattermapbox": [
           {
            "marker": {
             "colorbar": {
              "outlinewidth": 0,
              "ticks": ""
             }
            },
            "type": "scattermapbox"
           }
          ],
          "scatterpolar": [
           {
            "marker": {
             "colorbar": {
              "outlinewidth": 0,
              "ticks": ""
             }
            },
            "type": "scatterpolar"
           }
          ],
          "scatterpolargl": [
           {
            "marker": {
             "colorbar": {
              "outlinewidth": 0,
              "ticks": ""
             }
            },
            "type": "scatterpolargl"
           }
          ],
          "scatterternary": [
           {
            "marker": {
             "colorbar": {
              "outlinewidth": 0,
              "ticks": ""
             }
            },
            "type": "scatterternary"
           }
          ],
          "surface": [
           {
            "colorbar": {
             "outlinewidth": 0,
             "ticks": ""
            },
            "colorscale": [
             [
              0,
              "#0d0887"
             ],
             [
              0.1111111111111111,
              "#46039f"
             ],
             [
              0.2222222222222222,
              "#7201a8"
             ],
             [
              0.3333333333333333,
              "#9c179e"
             ],
             [
              0.4444444444444444,
              "#bd3786"
             ],
             [
              0.5555555555555556,
              "#d8576b"
             ],
             [
              0.6666666666666666,
              "#ed7953"
             ],
             [
              0.7777777777777778,
              "#fb9f3a"
             ],
             [
              0.8888888888888888,
              "#fdca26"
             ],
             [
              1,
              "#f0f921"
             ]
            ],
            "type": "surface"
           }
          ],
          "table": [
           {
            "cells": {
             "fill": {
              "color": "#EBF0F8"
             },
             "line": {
              "color": "white"
             }
            },
            "header": {
             "fill": {
              "color": "#C8D4E3"
             },
             "line": {
              "color": "white"
             }
            },
            "type": "table"
           }
          ]
         },
         "layout": {
          "annotationdefaults": {
           "arrowcolor": "#2a3f5f",
           "arrowhead": 0,
           "arrowwidth": 1
          },
          "autotypenumbers": "strict",
          "coloraxis": {
           "colorbar": {
            "outlinewidth": 0,
            "ticks": ""
           }
          },
          "colorscale": {
           "diverging": [
            [
             0,
             "#8e0152"
            ],
            [
             0.1,
             "#c51b7d"
            ],
            [
             0.2,
             "#de77ae"
            ],
            [
             0.3,
             "#f1b6da"
            ],
            [
             0.4,
             "#fde0ef"
            ],
            [
             0.5,
             "#f7f7f7"
            ],
            [
             0.6,
             "#e6f5d0"
            ],
            [
             0.7,
             "#b8e186"
            ],
            [
             0.8,
             "#7fbc41"
            ],
            [
             0.9,
             "#4d9221"
            ],
            [
             1,
             "#276419"
            ]
           ],
           "sequential": [
            [
             0,
             "#0d0887"
            ],
            [
             0.1111111111111111,
             "#46039f"
            ],
            [
             0.2222222222222222,
             "#7201a8"
            ],
            [
             0.3333333333333333,
             "#9c179e"
            ],
            [
             0.4444444444444444,
             "#bd3786"
            ],
            [
             0.5555555555555556,
             "#d8576b"
            ],
            [
             0.6666666666666666,
             "#ed7953"
            ],
            [
             0.7777777777777778,
             "#fb9f3a"
            ],
            [
             0.8888888888888888,
             "#fdca26"
            ],
            [
             1,
             "#f0f921"
            ]
           ],
           "sequentialminus": [
            [
             0,
             "#0d0887"
            ],
            [
             0.1111111111111111,
             "#46039f"
            ],
            [
             0.2222222222222222,
             "#7201a8"
            ],
            [
             0.3333333333333333,
             "#9c179e"
            ],
            [
             0.4444444444444444,
             "#bd3786"
            ],
            [
             0.5555555555555556,
             "#d8576b"
            ],
            [
             0.6666666666666666,
             "#ed7953"
            ],
            [
             0.7777777777777778,
             "#fb9f3a"
            ],
            [
             0.8888888888888888,
             "#fdca26"
            ],
            [
             1,
             "#f0f921"
            ]
           ]
          },
          "colorway": [
           "#636efa",
           "#EF553B",
           "#00cc96",
           "#ab63fa",
           "#FFA15A",
           "#19d3f3",
           "#FF6692",
           "#B6E880",
           "#FF97FF",
           "#FECB52"
          ],
          "font": {
           "color": "#2a3f5f"
          },
          "geo": {
           "bgcolor": "white",
           "lakecolor": "white",
           "landcolor": "#E5ECF6",
           "showlakes": true,
           "showland": true,
           "subunitcolor": "white"
          },
          "hoverlabel": {
           "align": "left"
          },
          "hovermode": "closest",
          "mapbox": {
           "style": "light"
          },
          "paper_bgcolor": "white",
          "plot_bgcolor": "#E5ECF6",
          "polar": {
           "angularaxis": {
            "gridcolor": "white",
            "linecolor": "white",
            "ticks": ""
           },
           "bgcolor": "#E5ECF6",
           "radialaxis": {
            "gridcolor": "white",
            "linecolor": "white",
            "ticks": ""
           }
          },
          "scene": {
           "xaxis": {
            "backgroundcolor": "#E5ECF6",
            "gridcolor": "white",
            "gridwidth": 2,
            "linecolor": "white",
            "showbackground": true,
            "ticks": "",
            "zerolinecolor": "white"
           },
           "yaxis": {
            "backgroundcolor": "#E5ECF6",
            "gridcolor": "white",
            "gridwidth": 2,
            "linecolor": "white",
            "showbackground": true,
            "ticks": "",
            "zerolinecolor": "white"
           },
           "zaxis": {
            "backgroundcolor": "#E5ECF6",
            "gridcolor": "white",
            "gridwidth": 2,
            "linecolor": "white",
            "showbackground": true,
            "ticks": "",
            "zerolinecolor": "white"
           }
          },
          "shapedefaults": {
           "line": {
            "color": "#2a3f5f"
           }
          },
          "ternary": {
           "aaxis": {
            "gridcolor": "white",
            "linecolor": "white",
            "ticks": ""
           },
           "baxis": {
            "gridcolor": "white",
            "linecolor": "white",
            "ticks": ""
           },
           "bgcolor": "#E5ECF6",
           "caxis": {
            "gridcolor": "white",
            "linecolor": "white",
            "ticks": ""
           }
          },
          "title": {
           "x": 0.05
          },
          "xaxis": {
           "automargin": true,
           "gridcolor": "white",
           "linecolor": "white",
           "ticks": "",
           "title": {
            "standoff": 15
           },
           "zerolinecolor": "white",
           "zerolinewidth": 2
          },
          "yaxis": {
           "automargin": true,
           "gridcolor": "white",
           "linecolor": "white",
           "ticks": "",
           "title": {
            "standoff": 15
           },
           "zerolinecolor": "white",
           "zerolinewidth": 2
          }
         }
        },
        "title": {
         "text": "Øverste og nederste 5 grupper efter samlet score for køn og alder data. Høj score godt = 0"
        },
        "xaxis": {
         "anchor": "y",
         "domain": [
          0,
          1
         ],
         "title": {
          "text": "Score"
         }
        },
        "yaxis": {
         "anchor": "x",
         "domain": [
          0,
          1
         ],
         "title": {
          "text": "Group"
         }
        }
       }
      }
     },
     "metadata": {},
     "output_type": "display_data"
    }
   ],
   "source": [
    "plot_top_and_bottom_groups(koen_alder_data_filtered, 0, 'køn og alder data')"
   ]
  },
  {
   "attachments": {},
   "cell_type": "markdown",
   "metadata": {},
   "source": [
    "#### Problemstilling: Hvordan scorer arbejdsmiljøet i forskellige grupper af køn og alder i 2018?\n",
    "\n",
    "#### **Finding 2: Arbejdsmiljøet scorer bedst i grupper med mænd og grupper som er yngre**\n",
    "\n",
    "Når man sammenligner de øverste 5 grupper med de nederste 5 grupper i den første graf med HSG = 1, er det tydeligt, at mænd i alderen 18-24 scorer højest med en gennemsnitlig score på 3.77, mens kvinder i alderen 25-34 scorer lavest med en gennemsnitlig score på 3.69. De øverste 5 grupper i denne graf består af et flertal af grupper med mænd (3 ud af 5) og de to øverste grupper er de yngste i sættet (18-24 år og 25-34 år).\n",
    "\n",
    "Når man sammenligner de øverste 5 grupper med de nederste 5 grupper i den anden graf med HSG = 0, ser man et klart mønster: Grupper med kvinder scorer i gennemsnit højere. Kvinder i alderen 25-34 har den højeste score (2.95) og alle grupper i de øverste 5 værdier i denne graf er kvinder. Samtidig er kvinders samlede gruppe i de øverste rækker med en score på 2.88, mens mænds samlede gruppe er at finde i de nederste 5 rækker med en score på 2.77. Selvom forskellen mellem kvinders og mænds score for arbejdsmiljø ikke er stor i decimalpunkter, er det vigtigt at fokusere på det overordnede billede. Kvinder er overrepræsenterede, når scoren for arbejdsmiljø er høj, hvilket indikerer et dårligt arbejdsmiljø for kvinder.\n",
    "\n",
    "Det er vigtigt at bemærke, at dataet er et snapshot fra 2018, og det er derfor nødvendigt at sammenligne med andre tidspunkter for at se udviklingen i arbejdsmiljøet i grupper med forskellige køn og alder. Desuden er det værd at bemærke, at dataet ikke tager højde for personer, der ikke identificerer sig som mand eller kvinde, hvilket begrænser generaliserbarheden til den danske befolkning."
   ]
  },
  {
   "attachments": {},
   "cell_type": "markdown",
   "metadata": {},
   "source": [
    "Grafen nedenfor er et boxplot der confirmer ovenstående finding"
   ]
  },
  {
   "cell_type": "code",
   "execution_count": 1313,
   "metadata": {},
   "outputs": [
    {
     "data": {
      "application/vnd.plotly.v1+json": {
       "config": {
        "plotlyServerURL": "https://plot.ly"
       },
       "data": [
        {
         "alignmentgroup": "True",
         "hovertemplate": "køn=Mænd<br>alder=%{x}<br>Score=%{y}<extra></extra>",
         "legendgroup": "Mænd",
         "marker": {
          "color": "#636efa"
         },
         "name": "Mænd",
         "notched": false,
         "offsetgroup": "Mænd",
         "orientation": "v",
         "showlegend": true,
         "type": "box",
         "x": [
          "55 - 64 år",
          "55 - 64 år",
          "45 - 54 år",
          "45 - 54 år",
          "35 - 44 år",
          "35 - 44 år",
          "25 - 34 år",
          "25 - 34 år",
          "18 - 24 år",
          "18 - 24 år",
          "18-100 år",
          "18-100 år",
          "55 - 64 år",
          "55 - 64 år",
          "45 - 54 år",
          "45 - 54 år",
          "35 - 44 år",
          "35 - 44 år",
          "25 - 34 år",
          "25 - 34 år",
          "18 - 24 år",
          "18 - 24 år",
          "18-100 år",
          "18-100 år",
          "55 - 64 år",
          "55 - 64 år",
          "45 - 54 år",
          "45 - 54 år",
          "35 - 44 år",
          "35 - 44 år",
          "25 - 34 år",
          "25 - 34 år",
          "18 - 24 år",
          "18 - 24 år",
          "18-100 år",
          "18-100 år",
          "55 - 64 år",
          "55 - 64 år",
          "55 - 64 år",
          "55 - 64 år",
          "55 - 64 år",
          "55 - 64 år",
          "45 - 54 år",
          "45 - 54 år",
          "45 - 54 år",
          "45 - 54 år",
          "45 - 54 år",
          "45 - 54 år",
          "35 - 44 år",
          "35 - 44 år",
          "35 - 44 år",
          "35 - 44 år",
          "35 - 44 år",
          "35 - 44 år",
          "25 - 34 år",
          "25 - 34 år",
          "25 - 34 år",
          "25 - 34 år",
          "25 - 34 år",
          "25 - 34 år",
          "18 - 24 år",
          "18 - 24 år",
          "18 - 24 år",
          "18 - 24 år",
          "18 - 24 år",
          "18 - 24 år",
          "18-100 år",
          "18-100 år",
          "18-100 år",
          "18-100 år",
          "18-100 år",
          "18-100 år",
          "55 - 64 år",
          "55 - 64 år",
          "55 - 64 år",
          "55 - 64 år",
          "45 - 54 år",
          "45 - 54 år",
          "45 - 54 år",
          "45 - 54 år",
          "35 - 44 år",
          "35 - 44 år",
          "35 - 44 år",
          "35 - 44 år",
          "25 - 34 år",
          "25 - 34 år",
          "25 - 34 år",
          "25 - 34 år",
          "18 - 24 år",
          "18 - 24 år",
          "18 - 24 år",
          "18 - 24 år",
          "18-100 år",
          "18-100 år",
          "18-100 år",
          "18-100 år"
         ],
         "x0": " ",
         "xaxis": "x",
         "y": [
          2.853098299,
          2.67952554,
          2.759396374,
          2.641641511,
          2.638134448,
          2.633146327,
          2.513286154,
          2.58159004,
          2.447667951,
          2.30307456,
          2.664455208,
          2.599684729,
          1.800638387,
          1.962916835,
          1.806331334,
          2.055820587,
          1.732964381,
          1.942739845,
          1.701516523,
          1.970543343,
          1.614299391,
          1.849724009,
          1.745083478,
          1.972108328,
          2.432950727,
          2.665128651,
          2.563316897,
          2.75591581,
          2.66962388,
          2.839481099,
          2.637608621,
          2.810442377,
          2.519824115,
          2.611865531,
          2.575489558,
          2.755958111,
          3.096576227,
          3.129938169,
          3.0581291,
          2.905336181,
          2.426876025,
          3.655583785,
          3.201688268,
          3.330013739,
          3.145661283,
          3.064285831,
          2.520284838,
          3.769437413,
          3.285926552,
          3.359762715,
          3.208685772,
          3.106721535,
          2.670238936,
          3.862917833,
          3.218924593,
          3.277030305,
          3.116709346,
          3.056016848,
          2.585722704,
          3.820067408,
          3.047301258,
          3.248232894,
          2.891803835,
          2.848209927,
          2.338939034,
          3.833370754,
          3.190327637,
          3.280413651,
          3.113001863,
          3.021441286,
          2.534144798,
          3.787395094,
          2.720451716,
          2.812633976,
          2.629539666,
          2.779029196,
          2.740093019,
          2.890898594,
          2.552058739,
          2.89460127,
          2.801101636,
          3.044107467,
          2.392076231,
          3.045889529,
          2.861929096,
          3.062343442,
          2.27492108,
          3.08802883,
          2.7624952,
          3.068414075,
          2.156489159,
          2.975275393,
          2.778167304,
          2.964835672,
          2.43360735,
          2.95621966
         ],
         "y0": " ",
         "yaxis": "y"
        },
        {
         "alignmentgroup": "True",
         "hovertemplate": "køn=Kvinder<br>alder=%{x}<br>Score=%{y}<extra></extra>",
         "legendgroup": "Kvinder",
         "marker": {
          "color": "#EF553B"
         },
         "name": "Kvinder",
         "notched": false,
         "offsetgroup": "Kvinder",
         "orientation": "v",
         "showlegend": true,
         "type": "box",
         "x": [
          "55 - 64 år",
          "55 - 64 år",
          "45 - 54 år",
          "45 - 54 år",
          "35 - 44 år",
          "35 - 44 år",
          "25 - 34 år",
          "25 - 34 år",
          "18 - 24 år",
          "18 - 24 år",
          "18-100 år",
          "18-100 år",
          "55 - 64 år",
          "55 - 64 år",
          "45 - 54 år",
          "45 - 54 år",
          "35 - 44 år",
          "35 - 44 år",
          "25 - 34 år",
          "25 - 34 år",
          "18 - 24 år",
          "18 - 24 år",
          "18-100 år",
          "18-100 år",
          "55 - 64 år",
          "55 - 64 år",
          "45 - 54 år",
          "45 - 54 år",
          "35 - 44 år",
          "35 - 44 år",
          "25 - 34 år",
          "25 - 34 år",
          "18 - 24 år",
          "18 - 24 år",
          "18-100 år",
          "18-100 år",
          "55 - 64 år",
          "55 - 64 år",
          "55 - 64 år",
          "55 - 64 år",
          "55 - 64 år",
          "55 - 64 år",
          "45 - 54 år",
          "45 - 54 år",
          "45 - 54 år",
          "45 - 54 år",
          "45 - 54 år",
          "45 - 54 år",
          "35 - 44 år",
          "35 - 44 år",
          "35 - 44 år",
          "35 - 44 år",
          "35 - 44 år",
          "35 - 44 år",
          "25 - 34 år",
          "25 - 34 år",
          "25 - 34 år",
          "25 - 34 år",
          "25 - 34 år",
          "25 - 34 år",
          "18 - 24 år",
          "18 - 24 år",
          "18 - 24 år",
          "18 - 24 år",
          "18 - 24 år",
          "18 - 24 år",
          "18-100 år",
          "18-100 år",
          "18-100 år",
          "18-100 år",
          "18-100 år",
          "18-100 år",
          "55 - 64 år",
          "55 - 64 år",
          "55 - 64 år",
          "55 - 64 år",
          "45 - 54 år",
          "45 - 54 år",
          "45 - 54 år",
          "45 - 54 år",
          "35 - 44 år",
          "35 - 44 år",
          "35 - 44 år",
          "35 - 44 år",
          "25 - 34 år",
          "25 - 34 år",
          "25 - 34 år",
          "25 - 34 år",
          "18 - 24 år",
          "18 - 24 år",
          "18 - 24 år",
          "18 - 24 år",
          "18-100 år",
          "18-100 år",
          "18-100 år",
          "18-100 år"
         ],
         "x0": " ",
         "xaxis": "x",
         "y": [
          3.349186384,
          3.045096242,
          3.236802771,
          2.994062144,
          3.159817608,
          2.974961619,
          3.130775135,
          2.994192925,
          2.670103769,
          2.679679137,
          3.167275841,
          2.970616703,
          1.892452839,
          2.003444378,
          1.8917305,
          2.119197718,
          1.883302853,
          2.12799398,
          1.817981429,
          2.185734736,
          1.605103259,
          2.123467047,
          1.847607554,
          2.112541748,
          2.458162963,
          2.820637372,
          2.517608833,
          2.853956289,
          2.568699198,
          2.884963372,
          2.645198261,
          2.953725574,
          2.518702963,
          2.712947822,
          2.543005308,
          2.86131252,
          3.070675643,
          2.658320448,
          3.090406954,
          2.684153894,
          2.628131655,
          3.830554186,
          3.165235966,
          2.871951691,
          3.118147433,
          2.822237317,
          2.70214486,
          3.886916226,
          3.206397561,
          2.878293975,
          3.137400352,
          2.827358454,
          2.752171598,
          3.934375014,
          3.291672679,
          2.920265934,
          3.172695888,
          2.984949206,
          2.783867773,
          4.001926313,
          2.896145268,
          3.030311713,
          2.706241397,
          2.704521759,
          2.430253698,
          3.939932155,
          3.156715,
          2.855471954,
          3.090465461,
          2.817102931,
          2.69090143,
          3.914350777,
          2.932879719,
          3.01648462,
          2.94578991,
          2.988864253,
          2.915721173,
          3.10819118,
          2.823857109,
          3.059729213,
          2.928059962,
          3.232924932,
          2.610245553,
          3.178629655,
          3.071834031,
          3.430144169,
          2.609086045,
          3.325155668,
          3.097474695,
          3.501579047,
          2.560622523,
          3.258857843,
          2.967805865,
          3.215966148,
          2.732233918,
          3.14243626
         ],
         "y0": " ",
         "yaxis": "y"
        }
       ],
       "layout": {
        "boxmode": "group",
        "legend": {
         "title": {
          "text": "køn"
         },
         "tracegroupgap": 0
        },
        "margin": {
         "t": 60
        },
        "template": {
         "data": {
          "bar": [
           {
            "error_x": {
             "color": "#2a3f5f"
            },
            "error_y": {
             "color": "#2a3f5f"
            },
            "marker": {
             "line": {
              "color": "#E5ECF6",
              "width": 0.5
             },
             "pattern": {
              "fillmode": "overlay",
              "size": 10,
              "solidity": 0.2
             }
            },
            "type": "bar"
           }
          ],
          "barpolar": [
           {
            "marker": {
             "line": {
              "color": "#E5ECF6",
              "width": 0.5
             },
             "pattern": {
              "fillmode": "overlay",
              "size": 10,
              "solidity": 0.2
             }
            },
            "type": "barpolar"
           }
          ],
          "carpet": [
           {
            "aaxis": {
             "endlinecolor": "#2a3f5f",
             "gridcolor": "white",
             "linecolor": "white",
             "minorgridcolor": "white",
             "startlinecolor": "#2a3f5f"
            },
            "baxis": {
             "endlinecolor": "#2a3f5f",
             "gridcolor": "white",
             "linecolor": "white",
             "minorgridcolor": "white",
             "startlinecolor": "#2a3f5f"
            },
            "type": "carpet"
           }
          ],
          "choropleth": [
           {
            "colorbar": {
             "outlinewidth": 0,
             "ticks": ""
            },
            "type": "choropleth"
           }
          ],
          "contour": [
           {
            "colorbar": {
             "outlinewidth": 0,
             "ticks": ""
            },
            "colorscale": [
             [
              0,
              "#0d0887"
             ],
             [
              0.1111111111111111,
              "#46039f"
             ],
             [
              0.2222222222222222,
              "#7201a8"
             ],
             [
              0.3333333333333333,
              "#9c179e"
             ],
             [
              0.4444444444444444,
              "#bd3786"
             ],
             [
              0.5555555555555556,
              "#d8576b"
             ],
             [
              0.6666666666666666,
              "#ed7953"
             ],
             [
              0.7777777777777778,
              "#fb9f3a"
             ],
             [
              0.8888888888888888,
              "#fdca26"
             ],
             [
              1,
              "#f0f921"
             ]
            ],
            "type": "contour"
           }
          ],
          "contourcarpet": [
           {
            "colorbar": {
             "outlinewidth": 0,
             "ticks": ""
            },
            "type": "contourcarpet"
           }
          ],
          "heatmap": [
           {
            "colorbar": {
             "outlinewidth": 0,
             "ticks": ""
            },
            "colorscale": [
             [
              0,
              "#0d0887"
             ],
             [
              0.1111111111111111,
              "#46039f"
             ],
             [
              0.2222222222222222,
              "#7201a8"
             ],
             [
              0.3333333333333333,
              "#9c179e"
             ],
             [
              0.4444444444444444,
              "#bd3786"
             ],
             [
              0.5555555555555556,
              "#d8576b"
             ],
             [
              0.6666666666666666,
              "#ed7953"
             ],
             [
              0.7777777777777778,
              "#fb9f3a"
             ],
             [
              0.8888888888888888,
              "#fdca26"
             ],
             [
              1,
              "#f0f921"
             ]
            ],
            "type": "heatmap"
           }
          ],
          "heatmapgl": [
           {
            "colorbar": {
             "outlinewidth": 0,
             "ticks": ""
            },
            "colorscale": [
             [
              0,
              "#0d0887"
             ],
             [
              0.1111111111111111,
              "#46039f"
             ],
             [
              0.2222222222222222,
              "#7201a8"
             ],
             [
              0.3333333333333333,
              "#9c179e"
             ],
             [
              0.4444444444444444,
              "#bd3786"
             ],
             [
              0.5555555555555556,
              "#d8576b"
             ],
             [
              0.6666666666666666,
              "#ed7953"
             ],
             [
              0.7777777777777778,
              "#fb9f3a"
             ],
             [
              0.8888888888888888,
              "#fdca26"
             ],
             [
              1,
              "#f0f921"
             ]
            ],
            "type": "heatmapgl"
           }
          ],
          "histogram": [
           {
            "marker": {
             "pattern": {
              "fillmode": "overlay",
              "size": 10,
              "solidity": 0.2
             }
            },
            "type": "histogram"
           }
          ],
          "histogram2d": [
           {
            "colorbar": {
             "outlinewidth": 0,
             "ticks": ""
            },
            "colorscale": [
             [
              0,
              "#0d0887"
             ],
             [
              0.1111111111111111,
              "#46039f"
             ],
             [
              0.2222222222222222,
              "#7201a8"
             ],
             [
              0.3333333333333333,
              "#9c179e"
             ],
             [
              0.4444444444444444,
              "#bd3786"
             ],
             [
              0.5555555555555556,
              "#d8576b"
             ],
             [
              0.6666666666666666,
              "#ed7953"
             ],
             [
              0.7777777777777778,
              "#fb9f3a"
             ],
             [
              0.8888888888888888,
              "#fdca26"
             ],
             [
              1,
              "#f0f921"
             ]
            ],
            "type": "histogram2d"
           }
          ],
          "histogram2dcontour": [
           {
            "colorbar": {
             "outlinewidth": 0,
             "ticks": ""
            },
            "colorscale": [
             [
              0,
              "#0d0887"
             ],
             [
              0.1111111111111111,
              "#46039f"
             ],
             [
              0.2222222222222222,
              "#7201a8"
             ],
             [
              0.3333333333333333,
              "#9c179e"
             ],
             [
              0.4444444444444444,
              "#bd3786"
             ],
             [
              0.5555555555555556,
              "#d8576b"
             ],
             [
              0.6666666666666666,
              "#ed7953"
             ],
             [
              0.7777777777777778,
              "#fb9f3a"
             ],
             [
              0.8888888888888888,
              "#fdca26"
             ],
             [
              1,
              "#f0f921"
             ]
            ],
            "type": "histogram2dcontour"
           }
          ],
          "mesh3d": [
           {
            "colorbar": {
             "outlinewidth": 0,
             "ticks": ""
            },
            "type": "mesh3d"
           }
          ],
          "parcoords": [
           {
            "line": {
             "colorbar": {
              "outlinewidth": 0,
              "ticks": ""
             }
            },
            "type": "parcoords"
           }
          ],
          "pie": [
           {
            "automargin": true,
            "type": "pie"
           }
          ],
          "scatter": [
           {
            "fillpattern": {
             "fillmode": "overlay",
             "size": 10,
             "solidity": 0.2
            },
            "type": "scatter"
           }
          ],
          "scatter3d": [
           {
            "line": {
             "colorbar": {
              "outlinewidth": 0,
              "ticks": ""
             }
            },
            "marker": {
             "colorbar": {
              "outlinewidth": 0,
              "ticks": ""
             }
            },
            "type": "scatter3d"
           }
          ],
          "scattercarpet": [
           {
            "marker": {
             "colorbar": {
              "outlinewidth": 0,
              "ticks": ""
             }
            },
            "type": "scattercarpet"
           }
          ],
          "scattergeo": [
           {
            "marker": {
             "colorbar": {
              "outlinewidth": 0,
              "ticks": ""
             }
            },
            "type": "scattergeo"
           }
          ],
          "scattergl": [
           {
            "marker": {
             "colorbar": {
              "outlinewidth": 0,
              "ticks": ""
             }
            },
            "type": "scattergl"
           }
          ],
          "scattermapbox": [
           {
            "marker": {
             "colorbar": {
              "outlinewidth": 0,
              "ticks": ""
             }
            },
            "type": "scattermapbox"
           }
          ],
          "scatterpolar": [
           {
            "marker": {
             "colorbar": {
              "outlinewidth": 0,
              "ticks": ""
             }
            },
            "type": "scatterpolar"
           }
          ],
          "scatterpolargl": [
           {
            "marker": {
             "colorbar": {
              "outlinewidth": 0,
              "ticks": ""
             }
            },
            "type": "scatterpolargl"
           }
          ],
          "scatterternary": [
           {
            "marker": {
             "colorbar": {
              "outlinewidth": 0,
              "ticks": ""
             }
            },
            "type": "scatterternary"
           }
          ],
          "surface": [
           {
            "colorbar": {
             "outlinewidth": 0,
             "ticks": ""
            },
            "colorscale": [
             [
              0,
              "#0d0887"
             ],
             [
              0.1111111111111111,
              "#46039f"
             ],
             [
              0.2222222222222222,
              "#7201a8"
             ],
             [
              0.3333333333333333,
              "#9c179e"
             ],
             [
              0.4444444444444444,
              "#bd3786"
             ],
             [
              0.5555555555555556,
              "#d8576b"
             ],
             [
              0.6666666666666666,
              "#ed7953"
             ],
             [
              0.7777777777777778,
              "#fb9f3a"
             ],
             [
              0.8888888888888888,
              "#fdca26"
             ],
             [
              1,
              "#f0f921"
             ]
            ],
            "type": "surface"
           }
          ],
          "table": [
           {
            "cells": {
             "fill": {
              "color": "#EBF0F8"
             },
             "line": {
              "color": "white"
             }
            },
            "header": {
             "fill": {
              "color": "#C8D4E3"
             },
             "line": {
              "color": "white"
             }
            },
            "type": "table"
           }
          ]
         },
         "layout": {
          "annotationdefaults": {
           "arrowcolor": "#2a3f5f",
           "arrowhead": 0,
           "arrowwidth": 1
          },
          "autotypenumbers": "strict",
          "coloraxis": {
           "colorbar": {
            "outlinewidth": 0,
            "ticks": ""
           }
          },
          "colorscale": {
           "diverging": [
            [
             0,
             "#8e0152"
            ],
            [
             0.1,
             "#c51b7d"
            ],
            [
             0.2,
             "#de77ae"
            ],
            [
             0.3,
             "#f1b6da"
            ],
            [
             0.4,
             "#fde0ef"
            ],
            [
             0.5,
             "#f7f7f7"
            ],
            [
             0.6,
             "#e6f5d0"
            ],
            [
             0.7,
             "#b8e186"
            ],
            [
             0.8,
             "#7fbc41"
            ],
            [
             0.9,
             "#4d9221"
            ],
            [
             1,
             "#276419"
            ]
           ],
           "sequential": [
            [
             0,
             "#0d0887"
            ],
            [
             0.1111111111111111,
             "#46039f"
            ],
            [
             0.2222222222222222,
             "#7201a8"
            ],
            [
             0.3333333333333333,
             "#9c179e"
            ],
            [
             0.4444444444444444,
             "#bd3786"
            ],
            [
             0.5555555555555556,
             "#d8576b"
            ],
            [
             0.6666666666666666,
             "#ed7953"
            ],
            [
             0.7777777777777778,
             "#fb9f3a"
            ],
            [
             0.8888888888888888,
             "#fdca26"
            ],
            [
             1,
             "#f0f921"
            ]
           ],
           "sequentialminus": [
            [
             0,
             "#0d0887"
            ],
            [
             0.1111111111111111,
             "#46039f"
            ],
            [
             0.2222222222222222,
             "#7201a8"
            ],
            [
             0.3333333333333333,
             "#9c179e"
            ],
            [
             0.4444444444444444,
             "#bd3786"
            ],
            [
             0.5555555555555556,
             "#d8576b"
            ],
            [
             0.6666666666666666,
             "#ed7953"
            ],
            [
             0.7777777777777778,
             "#fb9f3a"
            ],
            [
             0.8888888888888888,
             "#fdca26"
            ],
            [
             1,
             "#f0f921"
            ]
           ]
          },
          "colorway": [
           "#636efa",
           "#EF553B",
           "#00cc96",
           "#ab63fa",
           "#FFA15A",
           "#19d3f3",
           "#FF6692",
           "#B6E880",
           "#FF97FF",
           "#FECB52"
          ],
          "font": {
           "color": "#2a3f5f"
          },
          "geo": {
           "bgcolor": "white",
           "lakecolor": "white",
           "landcolor": "#E5ECF6",
           "showlakes": true,
           "showland": true,
           "subunitcolor": "white"
          },
          "hoverlabel": {
           "align": "left"
          },
          "hovermode": "closest",
          "mapbox": {
           "style": "light"
          },
          "paper_bgcolor": "white",
          "plot_bgcolor": "#E5ECF6",
          "polar": {
           "angularaxis": {
            "gridcolor": "white",
            "linecolor": "white",
            "ticks": ""
           },
           "bgcolor": "#E5ECF6",
           "radialaxis": {
            "gridcolor": "white",
            "linecolor": "white",
            "ticks": ""
           }
          },
          "scene": {
           "xaxis": {
            "backgroundcolor": "#E5ECF6",
            "gridcolor": "white",
            "gridwidth": 2,
            "linecolor": "white",
            "showbackground": true,
            "ticks": "",
            "zerolinecolor": "white"
           },
           "yaxis": {
            "backgroundcolor": "#E5ECF6",
            "gridcolor": "white",
            "gridwidth": 2,
            "linecolor": "white",
            "showbackground": true,
            "ticks": "",
            "zerolinecolor": "white"
           },
           "zaxis": {
            "backgroundcolor": "#E5ECF6",
            "gridcolor": "white",
            "gridwidth": 2,
            "linecolor": "white",
            "showbackground": true,
            "ticks": "",
            "zerolinecolor": "white"
           }
          },
          "shapedefaults": {
           "line": {
            "color": "#2a3f5f"
           }
          },
          "ternary": {
           "aaxis": {
            "gridcolor": "white",
            "linecolor": "white",
            "ticks": ""
           },
           "baxis": {
            "gridcolor": "white",
            "linecolor": "white",
            "ticks": ""
           },
           "bgcolor": "#E5ECF6",
           "caxis": {
            "gridcolor": "white",
            "linecolor": "white",
            "ticks": ""
           }
          },
          "title": {
           "x": 0.05
          },
          "xaxis": {
           "automargin": true,
           "gridcolor": "white",
           "linecolor": "white",
           "ticks": "",
           "title": {
            "standoff": 15
           },
           "zerolinecolor": "white",
           "zerolinewidth": 2
          },
          "yaxis": {
           "automargin": true,
           "gridcolor": "white",
           "linecolor": "white",
           "ticks": "",
           "title": {
            "standoff": 15
           },
           "zerolinecolor": "white",
           "zerolinewidth": 2
          }
         }
        },
        "xaxis": {
         "anchor": "y",
         "domain": [
          0,
          1
         ],
         "title": {
          "text": "alder"
         }
        },
        "yaxis": {
         "anchor": "x",
         "domain": [
          0,
          1
         ],
         "title": {
          "text": "Score"
         }
        }
       }
      }
     },
     "metadata": {},
     "output_type": "display_data"
    }
   ],
   "source": [
    "df = koen_alder_data_filtered[koen_alder_data_filtered['Hoej Score Godt'] == 0]\n",
    "fig = px.box(df, x='alder', y='Score', color='køn')\n",
    "fig.show()"
   ]
  },
  {
   "attachments": {},
   "cell_type": "markdown",
   "metadata": {},
   "source": [
    "_________"
   ]
  },
  {
   "attachments": {},
   "cell_type": "markdown",
   "metadata": {},
   "source": [
    "## 4. DA: Time-Series Analyse og Cluster-Modelling\n",
    "\n",
    "I denne blok bruger vi indsigterne fra ovenstående EDA til at lave mere dybdegående analyser af vores data. Dette inkluderer en (kort) time-series analyse af informationen omkring offentlige brancher. Bagefter laves der clustering modelling (unsupervised learning). Tilsammen afgiver dette afgiver to interresante findings, som præsenteres og analyseres sammen. \n",
    "\n",
    "Igen stilles der to problemformuleringer til de to datasæt. Denne gange zoomes der ind på specifikke brancher og aldersgrupper. \n",
    "\n",
    "* Hvordan har arbejdsmiljøet udviklet sig for branchen undervisning (eksempelvis gymnasielærere) ift. tid til arbejdsopgaver fra 2012 til 2018?\n",
    "* Spørgsmål til clustering\n",
    "\n",
    "De to findings er\n",
    "\n",
    "1) Arbejdsmiljøet scorer bedst i brancher med mere selvstændighed og ansvar, som typisk er i det private\n",
    "2) Arbejdsmiljøet scorer bedst i grupper med mænd og grupper som er yngre"
   ]
  },
  {
   "attachments": {},
   "cell_type": "markdown",
   "metadata": {},
   "source": [
    "### 1) Time-series analyse\n",
    "\n",
    "Data indlæses fra https://at.dk/arbejdsmiljoe-i-tal/national-overvaagning-af-arbejdsmiljoeet-blandt-loenmodtagere-2021/arbejdsmiljoe-og-helbred-2012-2018/. Bagefter plottes det sammen med data fra branche_data_filtered som er repræsentativt for undervisningsbranchen"
   ]
  },
  {
   "cell_type": "code",
   "execution_count": 1314,
   "metadata": {},
   "outputs": [
    {
     "data": {
      "text/html": [
       "<div>\n",
       "<style scoped>\n",
       "    .dataframe tbody tr th:only-of-type {\n",
       "        vertical-align: middle;\n",
       "    }\n",
       "\n",
       "    .dataframe tbody tr th {\n",
       "        vertical-align: top;\n",
       "    }\n",
       "\n",
       "    .dataframe thead th {\n",
       "        text-align: right;\n",
       "    }\n",
       "</style>\n",
       "<table border=\"1\" class=\"dataframe\">\n",
       "  <thead>\n",
       "    <tr style=\"text-align: right;\">\n",
       "      <th></th>\n",
       "      <th>År</th>\n",
       "      <th>Score eller andel</th>\n",
       "      <th>Øvre konfidensgrænse</th>\n",
       "      <th>Nedre konfidensgrænse</th>\n",
       "      <th>topic_label</th>\n",
       "      <th>Antal personer</th>\n",
       "      <th>Spørgsmålsformulering</th>\n",
       "      <th>Branche</th>\n",
       "      <th>main_group</th>\n",
       "      <th>Antal svarpersoner</th>\n",
       "      <th>...</th>\n",
       "      <th>topic_label2</th>\n",
       "      <th>hoej_score_godt</th>\n",
       "      <th>Start_y_akse</th>\n",
       "      <th>Sex</th>\n",
       "      <th>Age</th>\n",
       "      <th>Målt_Ved_Spørgsmålet</th>\n",
       "      <th>Score</th>\n",
       "      <th>test</th>\n",
       "      <th>IsFiltered</th>\n",
       "      <th>GRoupIsFiltered</th>\n",
       "    </tr>\n",
       "  </thead>\n",
       "  <tbody>\n",
       "    <tr>\n",
       "      <th>0</th>\n",
       "      <td>2012</td>\n",
       "      <td>2.626250</td>\n",
       "      <td>2.667541</td>\n",
       "      <td>2.584960</td>\n",
       "      <td>Kvantitative krav og grænseløshed</td>\n",
       "      <td>2564</td>\n",
       "      <td>Ikke nok tid til arbejdsopgaver\\n\\nHvor ofte o...</td>\n",
       "      <td>Undervisning</td>\n",
       "      <td>at_br36</td>\n",
       "      <td>2564</td>\n",
       "      <td>...</td>\n",
       "      <td>Kvantitative krav og grænseløshed</td>\n",
       "      <td>0</td>\n",
       "      <td>1</td>\n",
       "      <td>Ukendt</td>\n",
       "      <td>Ukendt</td>\n",
       "      <td>Målt ved spørgsmålet:</td>\n",
       "      <td>6.136376</td>\n",
       "      <td>0</td>\n",
       "      <td>False</td>\n",
       "      <td>0</td>\n",
       "    </tr>\n",
       "    <tr>\n",
       "      <th>1</th>\n",
       "      <td>2014</td>\n",
       "      <td>2.694688</td>\n",
       "      <td>2.736669</td>\n",
       "      <td>2.652707</td>\n",
       "      <td>Kvantitative krav og grænseløshed</td>\n",
       "      <td>2602</td>\n",
       "      <td>Ikke nok tid til arbejdsopgaver\\n\\nHvor ofte o...</td>\n",
       "      <td>Undervisning</td>\n",
       "      <td>at_br36</td>\n",
       "      <td>2602</td>\n",
       "      <td>...</td>\n",
       "      <td>Kvantitative krav og grænseløshed</td>\n",
       "      <td>0</td>\n",
       "      <td>1</td>\n",
       "      <td>Ukendt</td>\n",
       "      <td>Ukendt</td>\n",
       "      <td>Målt ved spørgsmålet:</td>\n",
       "      <td>6.136376</td>\n",
       "      <td>0</td>\n",
       "      <td>False</td>\n",
       "      <td>0</td>\n",
       "    </tr>\n",
       "    <tr>\n",
       "      <th>2</th>\n",
       "      <td>2016</td>\n",
       "      <td>2.945910</td>\n",
       "      <td>2.998930</td>\n",
       "      <td>2.892889</td>\n",
       "      <td>Kvantitative krav og grænseløshed</td>\n",
       "      <td>2671</td>\n",
       "      <td>Ikke nok tid til arbejdsopgaver\\n\\nHvor ofte o...</td>\n",
       "      <td>Undervisning</td>\n",
       "      <td>at_br36</td>\n",
       "      <td>2671</td>\n",
       "      <td>...</td>\n",
       "      <td>Kvantitative krav og grænseløshed</td>\n",
       "      <td>0</td>\n",
       "      <td>1</td>\n",
       "      <td>Ukendt</td>\n",
       "      <td>Ukendt</td>\n",
       "      <td>Målt ved spørgsmålet:</td>\n",
       "      <td>6.136376</td>\n",
       "      <td>0</td>\n",
       "      <td>False</td>\n",
       "      <td>0</td>\n",
       "    </tr>\n",
       "    <tr>\n",
       "      <th>3</th>\n",
       "      <td>2018</td>\n",
       "      <td>2.896863</td>\n",
       "      <td>2.934863</td>\n",
       "      <td>2.858862</td>\n",
       "      <td>Kvantitative krav og grænseløshed</td>\n",
       "      <td>3520</td>\n",
       "      <td>Ikke nok tid til arbejdsopgaver\\n\\nHvor ofte o...</td>\n",
       "      <td>Undervisning</td>\n",
       "      <td>at_br36</td>\n",
       "      <td>3520</td>\n",
       "      <td>...</td>\n",
       "      <td>Kvantitative krav og grænseløshed</td>\n",
       "      <td>0</td>\n",
       "      <td>1</td>\n",
       "      <td>Ukendt</td>\n",
       "      <td>Ukendt</td>\n",
       "      <td>Målt ved spørgsmålet:</td>\n",
       "      <td>6.136376</td>\n",
       "      <td>0</td>\n",
       "      <td>False</td>\n",
       "      <td>0</td>\n",
       "    </tr>\n",
       "  </tbody>\n",
       "</table>\n",
       "<p>4 rows × 28 columns</p>\n",
       "</div>"
      ],
      "text/plain": [
       "     År  Score eller andel  Øvre konfidensgrænse  Nedre konfidensgrænse  \\\n",
       "0  2012           2.626250              2.667541               2.584960   \n",
       "1  2014           2.694688              2.736669               2.652707   \n",
       "2  2016           2.945910              2.998930               2.892889   \n",
       "3  2018           2.896863              2.934863               2.858862   \n",
       "\n",
       "                         topic_label  Antal personer  \\\n",
       "0  Kvantitative krav og grænseløshed            2564   \n",
       "1  Kvantitative krav og grænseløshed            2602   \n",
       "2  Kvantitative krav og grænseløshed            2671   \n",
       "3  Kvantitative krav og grænseløshed            3520   \n",
       "\n",
       "                               Spørgsmålsformulering       Branche main_group  \\\n",
       "0  Ikke nok tid til arbejdsopgaver\\n\\nHvor ofte o...  Undervisning    at_br36   \n",
       "1  Ikke nok tid til arbejdsopgaver\\n\\nHvor ofte o...  Undervisning    at_br36   \n",
       "2  Ikke nok tid til arbejdsopgaver\\n\\nHvor ofte o...  Undervisning    at_br36   \n",
       "3  Ikke nok tid til arbejdsopgaver\\n\\nHvor ofte o...  Undervisning    at_br36   \n",
       "\n",
       "   Antal svarpersoner  ...                       topic_label2  \\\n",
       "0                2564  ...  Kvantitative krav og grænseløshed   \n",
       "1                2602  ...  Kvantitative krav og grænseløshed   \n",
       "2                2671  ...  Kvantitative krav og grænseløshed   \n",
       "3                3520  ...  Kvantitative krav og grænseløshed   \n",
       "\n",
       "   hoej_score_godt Start_y_akse     Sex     Age    Målt_Ved_Spørgsmålet  \\\n",
       "0                0            1  Ukendt  Ukendt  Målt ved spørgsmålet:    \n",
       "1                0            1  Ukendt  Ukendt  Målt ved spørgsmålet:    \n",
       "2                0            1  Ukendt  Ukendt  Målt ved spørgsmålet:    \n",
       "3                0            1  Ukendt  Ukendt  Målt ved spørgsmålet:    \n",
       "\n",
       "      Score test IsFiltered  GRoupIsFiltered  \n",
       "0  6.136376    0      False                0  \n",
       "1  6.136376    0      False                0  \n",
       "2  6.136376    0      False                0  \n",
       "3  6.136376    0      False                0  \n",
       "\n",
       "[4 rows x 28 columns]"
      ]
     },
     "execution_count": 1314,
     "metadata": {},
     "output_type": "execute_result"
    }
   ],
   "source": [
    "# Sætter filepathen\n",
    "excel_fp = r'/Users/albertcortbanke/Case/data/Udvikling i branchen undervisning (2012 til 2018).xlsm'\n",
    "\n",
    "# Reader dataet med read_excel\n",
    "undervisning_2012_2018 = pd.read_excel(excel_fp)\n",
    "\n",
    "# Checker at dataet er loaded korrekt\n",
    "undervisning_2012_2018 # Ser helt fint ud, ikke behov for så tunge transformationer som tidligere data "
   ]
  },
  {
   "cell_type": "code",
   "execution_count": 1315,
   "metadata": {},
   "outputs": [
    {
     "data": {
      "text/html": [
       "<div>\n",
       "<style scoped>\n",
       "    .dataframe tbody tr th:only-of-type {\n",
       "        vertical-align: middle;\n",
       "    }\n",
       "\n",
       "    .dataframe tbody tr th {\n",
       "        vertical-align: top;\n",
       "    }\n",
       "\n",
       "    .dataframe thead th {\n",
       "        text-align: right;\n",
       "    }\n",
       "</style>\n",
       "<table border=\"1\" class=\"dataframe\">\n",
       "  <thead>\n",
       "    <tr style=\"text-align: right;\">\n",
       "      <th></th>\n",
       "      <th>Ordforklaring</th>\n",
       "      <th>Akse</th>\n",
       "      <th>Score (Indekseret score) (gennemsnit) (label)</th>\n",
       "      <th>Antpct</th>\n",
       "      <th>Antpers</th>\n",
       "      <th>Group</th>\n",
       "      <th>Hoej Score Godt</th>\n",
       "      <th>Score</th>\n",
       "      <th>Question Label</th>\n",
       "      <th>Topic Label</th>\n",
       "      <th>Type</th>\n",
       "      <th>Year</th>\n",
       "    </tr>\n",
       "  </thead>\n",
       "  <tbody>\n",
       "    <tr>\n",
       "      <th>16</th>\n",
       "      <td>Hvor ofte oplever du at du har nok tid til din...</td>\n",
       "      <td>Score</td>\n",
       "      <td>2.609044</td>\n",
       "      <td>NaN</td>\n",
       "      <td>349</td>\n",
       "      <td>Gymnasielærere</td>\n",
       "      <td>0</td>\n",
       "      <td>3.021370</td>\n",
       "      <td>Ikke nok tid til arbejdsopgaver</td>\n",
       "      <td>Kvantitative krav og grænseløshed</td>\n",
       "      <td>kont</td>\n",
       "      <td>2018</td>\n",
       "    </tr>\n",
       "    <tr>\n",
       "      <th>73</th>\n",
       "      <td>Hvor ofte oplever du at du har nok tid til din...</td>\n",
       "      <td>Score</td>\n",
       "      <td>2.609044</td>\n",
       "      <td>NaN</td>\n",
       "      <td>634</td>\n",
       "      <td>Undervisere og forskere ved universiteter</td>\n",
       "      <td>0</td>\n",
       "      <td>2.878754</td>\n",
       "      <td>Ikke nok tid til arbejdsopgaver</td>\n",
       "      <td>Kvantitative krav og grænseløshed</td>\n",
       "      <td>kont</td>\n",
       "      <td>2018</td>\n",
       "    </tr>\n",
       "    <tr>\n",
       "      <th>74</th>\n",
       "      <td>Hvor ofte oplever du at du har nok tid til din...</td>\n",
       "      <td>Score</td>\n",
       "      <td>2.609044</td>\n",
       "      <td>NaN</td>\n",
       "      <td>259</td>\n",
       "      <td>Undervisere ved erhvervsskoler</td>\n",
       "      <td>0</td>\n",
       "      <td>2.862231</td>\n",
       "      <td>Ikke nok tid til arbejdsopgaver</td>\n",
       "      <td>Kvantitative krav og grænseløshed</td>\n",
       "      <td>kont</td>\n",
       "      <td>2018</td>\n",
       "    </tr>\n",
       "  </tbody>\n",
       "</table>\n",
       "</div>"
      ],
      "text/plain": [
       "                                        Ordforklaring   Akse  \\\n",
       "16  Hvor ofte oplever du at du har nok tid til din...  Score   \n",
       "73  Hvor ofte oplever du at du har nok tid til din...  Score   \n",
       "74  Hvor ofte oplever du at du har nok tid til din...  Score   \n",
       "\n",
       "    Score (Indekseret score) (gennemsnit) (label)  Antpct  Antpers  \\\n",
       "16                                       2.609044     NaN      349   \n",
       "73                                       2.609044     NaN      634   \n",
       "74                                       2.609044     NaN      259   \n",
       "\n",
       "                                        Group  Hoej Score Godt     Score  \\\n",
       "16                             Gymnasielærere                0  3.021370   \n",
       "73  Undervisere og forskere ved universiteter                0  2.878754   \n",
       "74             Undervisere ved erhvervsskoler                0  2.862231   \n",
       "\n",
       "                     Question Label                        Topic Label  Type  \\\n",
       "16  Ikke nok tid til arbejdsopgaver  Kvantitative krav og grænseløshed  kont   \n",
       "73  Ikke nok tid til arbejdsopgaver  Kvantitative krav og grænseløshed  kont   \n",
       "74  Ikke nok tid til arbejdsopgaver  Kvantitative krav og grænseløshed  kont   \n",
       "\n",
       "    Year  \n",
       "16  2018  \n",
       "73  2018  \n",
       "74  2018  "
      ]
     },
     "execution_count": 1315,
     "metadata": {},
     "output_type": "execute_result"
    }
   ],
   "source": [
    "# Laver en skal af branche der indeholder undervisere og 'Question Label' er 'Ikke nok tid til arbejdsopgaver'\n",
    "\n",
    "branche_data_filtered_shell = branche_data_filtered[((branche_data_filtered['Group'] == 'Gymnasielærere') | \n",
    "                                                      (branche_data_filtered['Group'] == 'Undervisere og forskere ved universiteter') | \n",
    "                                                      (branche_data_filtered['Group'] == 'Undervisere ved erhvervsskoler')) & \n",
    "                                                     (branche_data_filtered['Question Label'].str.contains('Ikke nok tid til arbejdsopgaver'))]\n",
    "\n",
    "branche_data_filtered_shell"
   ]
  },
  {
   "cell_type": "code",
   "execution_count": 1316,
   "metadata": {},
   "outputs": [
    {
     "data": {
      "application/vnd.plotly.v1+json": {
       "config": {
        "plotlyServerURL": "https://plot.ly"
       },
       "data": [
        {
         "hovertemplate": "År=%{x}<br>Score=%{y}<extra></extra>",
         "legendgroup": "",
         "line": {
          "color": "#636efa",
          "dash": "solid"
         },
         "marker": {
          "symbol": "circle"
         },
         "mode": "lines",
         "name": "",
         "orientation": "v",
         "showlegend": false,
         "type": "scatter",
         "x": [
          2012,
          2014,
          2016,
          2018
         ],
         "xaxis": "x",
         "y": [
          2.62625038701486,
          2.69468820191423,
          2.94590951572064,
          2.89686261894857
         ],
         "yaxis": "y"
        },
        {
         "mode": "markers",
         "name": "Gymnasielærere",
         "type": "scatter",
         "x": [
          2018
         ],
         "y": [
          3.021369643
         ]
        },
        {
         "mode": "markers",
         "name": "Undervisere og forskere ved universiteter",
         "type": "scatter",
         "x": [
          2018
         ],
         "y": [
          2.878754178
         ]
        },
        {
         "mode": "markers",
         "name": "Undervisere ved erhvervsskoler",
         "type": "scatter",
         "x": [
          2018
         ],
         "y": [
          2.862230798
         ]
        }
       ],
       "layout": {
        "annotations": [
         {
          "font": {
           "color": "darkgray",
           "size": 14
          },
          "showarrow": false,
          "text": "Folkeskolereform",
          "x": 2014,
          "y": 1,
          "yanchor": "bottom",
          "yref": "paper"
         }
        ],
        "legend": {
         "tracegroupgap": 0
        },
        "shapes": [
         {
          "line": {
           "color": "darkgray",
           "width": 2
          },
          "type": "line",
          "x0": 2014,
          "x1": 2014,
          "y0": 0,
          "y1": 1,
          "yref": "paper"
         }
        ],
        "template": {
         "data": {
          "bar": [
           {
            "error_x": {
             "color": "#2a3f5f"
            },
            "error_y": {
             "color": "#2a3f5f"
            },
            "marker": {
             "line": {
              "color": "#E5ECF6",
              "width": 0.5
             },
             "pattern": {
              "fillmode": "overlay",
              "size": 10,
              "solidity": 0.2
             }
            },
            "type": "bar"
           }
          ],
          "barpolar": [
           {
            "marker": {
             "line": {
              "color": "#E5ECF6",
              "width": 0.5
             },
             "pattern": {
              "fillmode": "overlay",
              "size": 10,
              "solidity": 0.2
             }
            },
            "type": "barpolar"
           }
          ],
          "carpet": [
           {
            "aaxis": {
             "endlinecolor": "#2a3f5f",
             "gridcolor": "white",
             "linecolor": "white",
             "minorgridcolor": "white",
             "startlinecolor": "#2a3f5f"
            },
            "baxis": {
             "endlinecolor": "#2a3f5f",
             "gridcolor": "white",
             "linecolor": "white",
             "minorgridcolor": "white",
             "startlinecolor": "#2a3f5f"
            },
            "type": "carpet"
           }
          ],
          "choropleth": [
           {
            "colorbar": {
             "outlinewidth": 0,
             "ticks": ""
            },
            "type": "choropleth"
           }
          ],
          "contour": [
           {
            "colorbar": {
             "outlinewidth": 0,
             "ticks": ""
            },
            "colorscale": [
             [
              0,
              "#0d0887"
             ],
             [
              0.1111111111111111,
              "#46039f"
             ],
             [
              0.2222222222222222,
              "#7201a8"
             ],
             [
              0.3333333333333333,
              "#9c179e"
             ],
             [
              0.4444444444444444,
              "#bd3786"
             ],
             [
              0.5555555555555556,
              "#d8576b"
             ],
             [
              0.6666666666666666,
              "#ed7953"
             ],
             [
              0.7777777777777778,
              "#fb9f3a"
             ],
             [
              0.8888888888888888,
              "#fdca26"
             ],
             [
              1,
              "#f0f921"
             ]
            ],
            "type": "contour"
           }
          ],
          "contourcarpet": [
           {
            "colorbar": {
             "outlinewidth": 0,
             "ticks": ""
            },
            "type": "contourcarpet"
           }
          ],
          "heatmap": [
           {
            "colorbar": {
             "outlinewidth": 0,
             "ticks": ""
            },
            "colorscale": [
             [
              0,
              "#0d0887"
             ],
             [
              0.1111111111111111,
              "#46039f"
             ],
             [
              0.2222222222222222,
              "#7201a8"
             ],
             [
              0.3333333333333333,
              "#9c179e"
             ],
             [
              0.4444444444444444,
              "#bd3786"
             ],
             [
              0.5555555555555556,
              "#d8576b"
             ],
             [
              0.6666666666666666,
              "#ed7953"
             ],
             [
              0.7777777777777778,
              "#fb9f3a"
             ],
             [
              0.8888888888888888,
              "#fdca26"
             ],
             [
              1,
              "#f0f921"
             ]
            ],
            "type": "heatmap"
           }
          ],
          "heatmapgl": [
           {
            "colorbar": {
             "outlinewidth": 0,
             "ticks": ""
            },
            "colorscale": [
             [
              0,
              "#0d0887"
             ],
             [
              0.1111111111111111,
              "#46039f"
             ],
             [
              0.2222222222222222,
              "#7201a8"
             ],
             [
              0.3333333333333333,
              "#9c179e"
             ],
             [
              0.4444444444444444,
              "#bd3786"
             ],
             [
              0.5555555555555556,
              "#d8576b"
             ],
             [
              0.6666666666666666,
              "#ed7953"
             ],
             [
              0.7777777777777778,
              "#fb9f3a"
             ],
             [
              0.8888888888888888,
              "#fdca26"
             ],
             [
              1,
              "#f0f921"
             ]
            ],
            "type": "heatmapgl"
           }
          ],
          "histogram": [
           {
            "marker": {
             "pattern": {
              "fillmode": "overlay",
              "size": 10,
              "solidity": 0.2
             }
            },
            "type": "histogram"
           }
          ],
          "histogram2d": [
           {
            "colorbar": {
             "outlinewidth": 0,
             "ticks": ""
            },
            "colorscale": [
             [
              0,
              "#0d0887"
             ],
             [
              0.1111111111111111,
              "#46039f"
             ],
             [
              0.2222222222222222,
              "#7201a8"
             ],
             [
              0.3333333333333333,
              "#9c179e"
             ],
             [
              0.4444444444444444,
              "#bd3786"
             ],
             [
              0.5555555555555556,
              "#d8576b"
             ],
             [
              0.6666666666666666,
              "#ed7953"
             ],
             [
              0.7777777777777778,
              "#fb9f3a"
             ],
             [
              0.8888888888888888,
              "#fdca26"
             ],
             [
              1,
              "#f0f921"
             ]
            ],
            "type": "histogram2d"
           }
          ],
          "histogram2dcontour": [
           {
            "colorbar": {
             "outlinewidth": 0,
             "ticks": ""
            },
            "colorscale": [
             [
              0,
              "#0d0887"
             ],
             [
              0.1111111111111111,
              "#46039f"
             ],
             [
              0.2222222222222222,
              "#7201a8"
             ],
             [
              0.3333333333333333,
              "#9c179e"
             ],
             [
              0.4444444444444444,
              "#bd3786"
             ],
             [
              0.5555555555555556,
              "#d8576b"
             ],
             [
              0.6666666666666666,
              "#ed7953"
             ],
             [
              0.7777777777777778,
              "#fb9f3a"
             ],
             [
              0.8888888888888888,
              "#fdca26"
             ],
             [
              1,
              "#f0f921"
             ]
            ],
            "type": "histogram2dcontour"
           }
          ],
          "mesh3d": [
           {
            "colorbar": {
             "outlinewidth": 0,
             "ticks": ""
            },
            "type": "mesh3d"
           }
          ],
          "parcoords": [
           {
            "line": {
             "colorbar": {
              "outlinewidth": 0,
              "ticks": ""
             }
            },
            "type": "parcoords"
           }
          ],
          "pie": [
           {
            "automargin": true,
            "type": "pie"
           }
          ],
          "scatter": [
           {
            "fillpattern": {
             "fillmode": "overlay",
             "size": 10,
             "solidity": 0.2
            },
            "type": "scatter"
           }
          ],
          "scatter3d": [
           {
            "line": {
             "colorbar": {
              "outlinewidth": 0,
              "ticks": ""
             }
            },
            "marker": {
             "colorbar": {
              "outlinewidth": 0,
              "ticks": ""
             }
            },
            "type": "scatter3d"
           }
          ],
          "scattercarpet": [
           {
            "marker": {
             "colorbar": {
              "outlinewidth": 0,
              "ticks": ""
             }
            },
            "type": "scattercarpet"
           }
          ],
          "scattergeo": [
           {
            "marker": {
             "colorbar": {
              "outlinewidth": 0,
              "ticks": ""
             }
            },
            "type": "scattergeo"
           }
          ],
          "scattergl": [
           {
            "marker": {
             "colorbar": {
              "outlinewidth": 0,
              "ticks": ""
             }
            },
            "type": "scattergl"
           }
          ],
          "scattermapbox": [
           {
            "marker": {
             "colorbar": {
              "outlinewidth": 0,
              "ticks": ""
             }
            },
            "type": "scattermapbox"
           }
          ],
          "scatterpolar": [
           {
            "marker": {
             "colorbar": {
              "outlinewidth": 0,
              "ticks": ""
             }
            },
            "type": "scatterpolar"
           }
          ],
          "scatterpolargl": [
           {
            "marker": {
             "colorbar": {
              "outlinewidth": 0,
              "ticks": ""
             }
            },
            "type": "scatterpolargl"
           }
          ],
          "scatterternary": [
           {
            "marker": {
             "colorbar": {
              "outlinewidth": 0,
              "ticks": ""
             }
            },
            "type": "scatterternary"
           }
          ],
          "surface": [
           {
            "colorbar": {
             "outlinewidth": 0,
             "ticks": ""
            },
            "colorscale": [
             [
              0,
              "#0d0887"
             ],
             [
              0.1111111111111111,
              "#46039f"
             ],
             [
              0.2222222222222222,
              "#7201a8"
             ],
             [
              0.3333333333333333,
              "#9c179e"
             ],
             [
              0.4444444444444444,
              "#bd3786"
             ],
             [
              0.5555555555555556,
              "#d8576b"
             ],
             [
              0.6666666666666666,
              "#ed7953"
             ],
             [
              0.7777777777777778,
              "#fb9f3a"
             ],
             [
              0.8888888888888888,
              "#fdca26"
             ],
             [
              1,
              "#f0f921"
             ]
            ],
            "type": "surface"
           }
          ],
          "table": [
           {
            "cells": {
             "fill": {
              "color": "#EBF0F8"
             },
             "line": {
              "color": "white"
             }
            },
            "header": {
             "fill": {
              "color": "#C8D4E3"
             },
             "line": {
              "color": "white"
             }
            },
            "type": "table"
           }
          ]
         },
         "layout": {
          "annotationdefaults": {
           "arrowcolor": "#2a3f5f",
           "arrowhead": 0,
           "arrowwidth": 1
          },
          "autotypenumbers": "strict",
          "coloraxis": {
           "colorbar": {
            "outlinewidth": 0,
            "ticks": ""
           }
          },
          "colorscale": {
           "diverging": [
            [
             0,
             "#8e0152"
            ],
            [
             0.1,
             "#c51b7d"
            ],
            [
             0.2,
             "#de77ae"
            ],
            [
             0.3,
             "#f1b6da"
            ],
            [
             0.4,
             "#fde0ef"
            ],
            [
             0.5,
             "#f7f7f7"
            ],
            [
             0.6,
             "#e6f5d0"
            ],
            [
             0.7,
             "#b8e186"
            ],
            [
             0.8,
             "#7fbc41"
            ],
            [
             0.9,
             "#4d9221"
            ],
            [
             1,
             "#276419"
            ]
           ],
           "sequential": [
            [
             0,
             "#0d0887"
            ],
            [
             0.1111111111111111,
             "#46039f"
            ],
            [
             0.2222222222222222,
             "#7201a8"
            ],
            [
             0.3333333333333333,
             "#9c179e"
            ],
            [
             0.4444444444444444,
             "#bd3786"
            ],
            [
             0.5555555555555556,
             "#d8576b"
            ],
            [
             0.6666666666666666,
             "#ed7953"
            ],
            [
             0.7777777777777778,
             "#fb9f3a"
            ],
            [
             0.8888888888888888,
             "#fdca26"
            ],
            [
             1,
             "#f0f921"
            ]
           ],
           "sequentialminus": [
            [
             0,
             "#0d0887"
            ],
            [
             0.1111111111111111,
             "#46039f"
            ],
            [
             0.2222222222222222,
             "#7201a8"
            ],
            [
             0.3333333333333333,
             "#9c179e"
            ],
            [
             0.4444444444444444,
             "#bd3786"
            ],
            [
             0.5555555555555556,
             "#d8576b"
            ],
            [
             0.6666666666666666,
             "#ed7953"
            ],
            [
             0.7777777777777778,
             "#fb9f3a"
            ],
            [
             0.8888888888888888,
             "#fdca26"
            ],
            [
             1,
             "#f0f921"
            ]
           ]
          },
          "colorway": [
           "#636efa",
           "#EF553B",
           "#00cc96",
           "#ab63fa",
           "#FFA15A",
           "#19d3f3",
           "#FF6692",
           "#B6E880",
           "#FF97FF",
           "#FECB52"
          ],
          "font": {
           "color": "#2a3f5f"
          },
          "geo": {
           "bgcolor": "white",
           "lakecolor": "white",
           "landcolor": "#E5ECF6",
           "showlakes": true,
           "showland": true,
           "subunitcolor": "white"
          },
          "hoverlabel": {
           "align": "left"
          },
          "hovermode": "closest",
          "mapbox": {
           "style": "light"
          },
          "paper_bgcolor": "white",
          "plot_bgcolor": "#E5ECF6",
          "polar": {
           "angularaxis": {
            "gridcolor": "white",
            "linecolor": "white",
            "ticks": ""
           },
           "bgcolor": "#E5ECF6",
           "radialaxis": {
            "gridcolor": "white",
            "linecolor": "white",
            "ticks": ""
           }
          },
          "scene": {
           "xaxis": {
            "backgroundcolor": "#E5ECF6",
            "gridcolor": "white",
            "gridwidth": 2,
            "linecolor": "white",
            "showbackground": true,
            "ticks": "",
            "zerolinecolor": "white"
           },
           "yaxis": {
            "backgroundcolor": "#E5ECF6",
            "gridcolor": "white",
            "gridwidth": 2,
            "linecolor": "white",
            "showbackground": true,
            "ticks": "",
            "zerolinecolor": "white"
           },
           "zaxis": {
            "backgroundcolor": "#E5ECF6",
            "gridcolor": "white",
            "gridwidth": 2,
            "linecolor": "white",
            "showbackground": true,
            "ticks": "",
            "zerolinecolor": "white"
           }
          },
          "shapedefaults": {
           "line": {
            "color": "#2a3f5f"
           }
          },
          "ternary": {
           "aaxis": {
            "gridcolor": "white",
            "linecolor": "white",
            "ticks": ""
           },
           "baxis": {
            "gridcolor": "white",
            "linecolor": "white",
            "ticks": ""
           },
           "bgcolor": "#E5ECF6",
           "caxis": {
            "gridcolor": "white",
            "linecolor": "white",
            "ticks": ""
           }
          },
          "title": {
           "x": 0.05
          },
          "xaxis": {
           "automargin": true,
           "gridcolor": "white",
           "linecolor": "white",
           "ticks": "",
           "title": {
            "standoff": 15
           },
           "zerolinecolor": "white",
           "zerolinewidth": 2
          },
          "yaxis": {
           "automargin": true,
           "gridcolor": "white",
           "linecolor": "white",
           "ticks": "",
           "title": {
            "standoff": 15
           },
           "zerolinecolor": "white",
           "zerolinewidth": 2
          }
         }
        },
        "title": {
         "text": "Udvikling i tid til arbejdsopgaver for branchen \"Undervisning\" fra 2012-2018 (HSG = 0)"
        },
        "xaxis": {
         "anchor": "y",
         "domain": [
          0,
          1
         ],
         "title": {
          "text": "År"
         }
        },
        "yaxis": {
         "anchor": "x",
         "domain": [
          0,
          1
         ],
         "title": {
          "text": "Score"
         }
        }
       }
      }
     },
     "metadata": {},
     "output_type": "display_data"
    }
   ],
   "source": [
    "# Opret et line plot med data fra undervisning_2012_2018\n",
    "# x-akse er \"År\" og y-akse er \"Score eller andel\", som er navngivet som \"Score\"\n",
    "fig = px.line(undervisning_2012_2018, x='År', y='Score eller andel', title='Udvikling i tid til arbejdsopgaver for branchen \"Undervisning\" fra 2012-2018 (HSG = 0)', labels={'Score eller andel': 'Score'})\n",
    "\n",
    "# Tilføj et scatter plot for hver unik gruppe i branche_data_filtered_shell\n",
    "for group in branche_data_filtered_shell['Group']:\n",
    "    # Filtrer branche_data_filtered_shell for en given gruppe\n",
    "    df = branche_data_filtered_shell[branche_data_filtered_shell['Group'] == group]\n",
    "    # Tilføj scatter plot til fig med data fra df\n",
    "    fig.add_scatter(x=df['Year'], y=df['Score'], mode='markers', name=group)\n",
    "\n",
    "# Tilføj en lodret linje til fig på år 2014\n",
    "fig.add_shape(\n",
    "    type='line',\n",
    "    x0=2014,\n",
    "    x1=2014,\n",
    "    y0=0,\n",
    "    y1=1,\n",
    "    yref='paper',\n",
    "    line=dict(color='darkgray', width=2)\n",
    ")\n",
    "\n",
    "# Tilføj en annotation til fig, der angiver \"Folkeskolereform\" på linjen\n",
    "fig.add_annotation(\n",
    "    x=2014,\n",
    "    y=1,\n",
    "    yref='paper',\n",
    "    yanchor='bottom',\n",
    "    text='Folkeskolereform',\n",
    "    font=dict(color='darkgray', size=14),\n",
    "    showarrow=False\n",
    ")\n",
    "\n",
    "# Vis fig\n",
    "fig.show()\n"
   ]
  },
  {
   "attachments": {},
   "cell_type": "markdown",
   "metadata": {},
   "source": [
    "#### Problemstilling: Hvordan har arbejdsmiljøet udviklet sig for branchen undervisning (eksmempelvis gymnasielærere) ift. tid til arbejdsopgaver fra 2012 til 2018?\n",
    "\n",
    "#### **Finding 3: Tid til arbejdsopgaver for branchen undervisning er blevet mindre fra 2012 til 2018.**\n",
    "\n",
    "Ved at sammenligne punkterne på grafen og iagttage udviklingen for branchen undervisning, er det tydeligt, at tiden til arbejdsopgaver er blevet mindre. I 2012 ratede branche scoren til 2.6 (mindre er bedre), mens tallet steg til 2.9 i 2018. Selvom den nominelle stigning kan synes lille, repræsenterer dette en stigning på 11,5%. Det betyder altså, at der er mindre tid til de opgaver, som undervisere, såsom gymnasielærere, skal løse. Dette understøtter Finding 1 godt, som viste, at gymnasielærere (og andre brancher inden for det offentlige) lå lavest i forhold til rating af deres arbejdsmiljø.\n",
    "\n",
    "Her er der visualiseret data for et specifikt emne i Arbejdstilsynets rapport - 'Kvantitative krav og grænseløshed'. Ved at gå fra et makrobillede til et mikrobillede af dataet er vi i stand til at lave nogle induktive overvejelser. Bl.a. kan man undersøge reformer som 'Folkeskolereformen' fra 2014, og om disse har haft implikationer på branchens tilstand. Plotter man denne reform på dataet og ser ændringer efter reformen blev lanceret kan det ikke afkræftes at det kan have haft en effekt. "
   ]
  },
  {
   "attachments": {},
   "cell_type": "markdown",
   "metadata": {},
   "source": [
    "### 2) Clustering-analyse\n",
    "\n",
    "For den sidste finding... TEKST ..."
   ]
  },
  {
   "cell_type": "code",
   "execution_count": 1330,
   "metadata": {},
   "outputs": [
    {
     "data": {
      "text/html": [
       "<div>\n",
       "<style scoped>\n",
       "    .dataframe tbody tr th:only-of-type {\n",
       "        vertical-align: middle;\n",
       "    }\n",
       "\n",
       "    .dataframe tbody tr th {\n",
       "        vertical-align: top;\n",
       "    }\n",
       "\n",
       "    .dataframe thead th {\n",
       "        text-align: right;\n",
       "    }\n",
       "</style>\n",
       "<table border=\"1\" class=\"dataframe\">\n",
       "  <thead>\n",
       "    <tr style=\"text-align: right;\">\n",
       "      <th></th>\n",
       "      <th>Group</th>\n",
       "      <th>Question Label</th>\n",
       "      <th>Topic Label</th>\n",
       "      <th>Year</th>\n",
       "      <th>Akse</th>\n",
       "      <th>Ordforklaring</th>\n",
       "      <th>Antpers</th>\n",
       "      <th>Score (Indekseret score)</th>\n",
       "      <th>Score</th>\n",
       "      <th>køn</th>\n",
       "      <th>alder</th>\n",
       "      <th>Hoej Score Godt</th>\n",
       "      <th>Cluster</th>\n",
       "      <th>køn_n</th>\n",
       "      <th>alder_n</th>\n",
       "    </tr>\n",
       "  </thead>\n",
       "  <tbody>\n",
       "    <tr>\n",
       "      <th>12</th>\n",
       "      <td>Mænd, 55 - 64 år</td>\n",
       "      <td>Psykisk arbejdsevne</td>\n",
       "      <td>Arbejdsevne</td>\n",
       "      <td>2018</td>\n",
       "      <td>Score</td>\n",
       "      <td>Hvordan vurderer du din nuværende arbejdsevne ...</td>\n",
       "      <td>5123</td>\n",
       "      <td>75.879584</td>\n",
       "      <td>3.793979</td>\n",
       "      <td>Mænd</td>\n",
       "      <td>55 - 64 år</td>\n",
       "      <td>1</td>\n",
       "      <td>1</td>\n",
       "      <td>0</td>\n",
       "      <td>4</td>\n",
       "    </tr>\n",
       "    <tr>\n",
       "      <th>13</th>\n",
       "      <td>Mænd, 55 - 64 år</td>\n",
       "      <td>Fysisk arbejdsevne</td>\n",
       "      <td>Arbejdsevne</td>\n",
       "      <td>2018</td>\n",
       "      <td>Score</td>\n",
       "      <td>Hvordan vurderer du din nuværende arbejdsevne ...</td>\n",
       "      <td>5125</td>\n",
       "      <td>75.105668</td>\n",
       "      <td>3.755283</td>\n",
       "      <td>Mænd</td>\n",
       "      <td>55 - 64 år</td>\n",
       "      <td>1</td>\n",
       "      <td>1</td>\n",
       "      <td>0</td>\n",
       "      <td>4</td>\n",
       "    </tr>\n",
       "    <tr>\n",
       "      <th>15</th>\n",
       "      <td>Mænd, 45 - 54 år</td>\n",
       "      <td>Psykisk arbejdsevne</td>\n",
       "      <td>Arbejdsevne</td>\n",
       "      <td>2018</td>\n",
       "      <td>Score</td>\n",
       "      <td>Hvordan vurderer du din nuværende arbejdsevne ...</td>\n",
       "      <td>5415</td>\n",
       "      <td>77.932704</td>\n",
       "      <td>3.896635</td>\n",
       "      <td>Mænd</td>\n",
       "      <td>45 - 54 år</td>\n",
       "      <td>1</td>\n",
       "      <td>1</td>\n",
       "      <td>0</td>\n",
       "      <td>3</td>\n",
       "    </tr>\n",
       "    <tr>\n",
       "      <th>16</th>\n",
       "      <td>Mænd, 45 - 54 år</td>\n",
       "      <td>Fysisk arbejdsevne</td>\n",
       "      <td>Arbejdsevne</td>\n",
       "      <td>2018</td>\n",
       "      <td>Score</td>\n",
       "      <td>Hvordan vurderer du din nuværende arbejdsevne ...</td>\n",
       "      <td>5422</td>\n",
       "      <td>79.307499</td>\n",
       "      <td>3.965375</td>\n",
       "      <td>Mænd</td>\n",
       "      <td>45 - 54 år</td>\n",
       "      <td>1</td>\n",
       "      <td>1</td>\n",
       "      <td>0</td>\n",
       "      <td>3</td>\n",
       "    </tr>\n",
       "    <tr>\n",
       "      <th>18</th>\n",
       "      <td>Mænd, 35 - 44 år</td>\n",
       "      <td>Psykisk arbejdsevne</td>\n",
       "      <td>Arbejdsevne</td>\n",
       "      <td>2018</td>\n",
       "      <td>Score</td>\n",
       "      <td>Hvordan vurderer du din nuværende arbejdsevne ...</td>\n",
       "      <td>3564</td>\n",
       "      <td>77.810989</td>\n",
       "      <td>3.890549</td>\n",
       "      <td>Mænd</td>\n",
       "      <td>35 - 44 år</td>\n",
       "      <td>1</td>\n",
       "      <td>1</td>\n",
       "      <td>0</td>\n",
       "      <td>2</td>\n",
       "    </tr>\n",
       "    <tr>\n",
       "      <th>...</th>\n",
       "      <td>...</td>\n",
       "      <td>...</td>\n",
       "      <td>...</td>\n",
       "      <td>...</td>\n",
       "      <td>...</td>\n",
       "      <td>...</td>\n",
       "      <td>...</td>\n",
       "      <td>...</td>\n",
       "      <td>...</td>\n",
       "      <td>...</td>\n",
       "      <td>...</td>\n",
       "      <td>...</td>\n",
       "      <td>...</td>\n",
       "      <td>...</td>\n",
       "      <td>...</td>\n",
       "    </tr>\n",
       "    <tr>\n",
       "      <th>1167</th>\n",
       "      <td>Kvinder, 25 - 34 år</td>\n",
       "      <td>Ikke udhvilet</td>\n",
       "      <td>Træthed og søvnproblemer</td>\n",
       "      <td>2018</td>\n",
       "      <td>Score</td>\n",
       "      <td>Inden for de seneste fire uger hvor ofte har d...</td>\n",
       "      <td>2339</td>\n",
       "      <td>66.503113</td>\n",
       "      <td>3.325156</td>\n",
       "      <td>Kvinder</td>\n",
       "      <td>25 - 34 år</td>\n",
       "      <td>0</td>\n",
       "      <td>0</td>\n",
       "      <td>1</td>\n",
       "      <td>1</td>\n",
       "    </tr>\n",
       "    <tr>\n",
       "      <th>1168</th>\n",
       "      <td>Kvinder, 18 - 24 år</td>\n",
       "      <td>Træthed efter arbejdsdag</td>\n",
       "      <td>Træthed og søvnproblemer</td>\n",
       "      <td>2018</td>\n",
       "      <td>Score</td>\n",
       "      <td>Hvor træt er du efter en typisk arbejdsdag 1 I...</td>\n",
       "      <td>667</td>\n",
       "      <td>61.949494</td>\n",
       "      <td>3.097475</td>\n",
       "      <td>Kvinder</td>\n",
       "      <td>18 - 24 år</td>\n",
       "      <td>0</td>\n",
       "      <td>0</td>\n",
       "      <td>1</td>\n",
       "      <td>0</td>\n",
       "    </tr>\n",
       "    <tr>\n",
       "      <th>1169</th>\n",
       "      <td>Kvinder, 18 - 24 år</td>\n",
       "      <td>Træt i løbet af dagen</td>\n",
       "      <td>Træthed og søvnproblemer</td>\n",
       "      <td>2018</td>\n",
       "      <td>Score</td>\n",
       "      <td>Hvor ofte har du følt dig træt i løbet af dage...</td>\n",
       "      <td>664</td>\n",
       "      <td>70.031581</td>\n",
       "      <td>3.501579</td>\n",
       "      <td>Kvinder</td>\n",
       "      <td>18 - 24 år</td>\n",
       "      <td>0</td>\n",
       "      <td>0</td>\n",
       "      <td>1</td>\n",
       "      <td>0</td>\n",
       "    </tr>\n",
       "    <tr>\n",
       "      <th>1170</th>\n",
       "      <td>Kvinder, 18 - 24 år</td>\n",
       "      <td>Søvnproblemer</td>\n",
       "      <td>Træthed og søvnproblemer</td>\n",
       "      <td>2018</td>\n",
       "      <td>Score</td>\n",
       "      <td>Hvor ofte er du vågnet flere gange og har haft...</td>\n",
       "      <td>664</td>\n",
       "      <td>51.212450</td>\n",
       "      <td>2.560623</td>\n",
       "      <td>Kvinder</td>\n",
       "      <td>18 - 24 år</td>\n",
       "      <td>0</td>\n",
       "      <td>2</td>\n",
       "      <td>1</td>\n",
       "      <td>0</td>\n",
       "    </tr>\n",
       "    <tr>\n",
       "      <th>1171</th>\n",
       "      <td>Kvinder, 18 - 24 år</td>\n",
       "      <td>Ikke udhvilet</td>\n",
       "      <td>Træthed og søvnproblemer</td>\n",
       "      <td>2018</td>\n",
       "      <td>Score</td>\n",
       "      <td>Inden for de seneste fire uger hvor ofte har d...</td>\n",
       "      <td>664</td>\n",
       "      <td>65.177157</td>\n",
       "      <td>3.258858</td>\n",
       "      <td>Kvinder</td>\n",
       "      <td>18 - 24 år</td>\n",
       "      <td>0</td>\n",
       "      <td>0</td>\n",
       "      <td>1</td>\n",
       "      <td>0</td>\n",
       "    </tr>\n",
       "  </tbody>\n",
       "</table>\n",
       "<p>450 rows × 15 columns</p>\n",
       "</div>"
      ],
      "text/plain": [
       "                    Group            Question Label               Topic Label  \\\n",
       "12       Mænd, 55 - 64 år       Psykisk arbejdsevne               Arbejdsevne   \n",
       "13       Mænd, 55 - 64 år        Fysisk arbejdsevne               Arbejdsevne   \n",
       "15       Mænd, 45 - 54 år       Psykisk arbejdsevne               Arbejdsevne   \n",
       "16       Mænd, 45 - 54 år        Fysisk arbejdsevne               Arbejdsevne   \n",
       "18       Mænd, 35 - 44 år       Psykisk arbejdsevne               Arbejdsevne   \n",
       "...                   ...                       ...                       ...   \n",
       "1167  Kvinder, 25 - 34 år             Ikke udhvilet  Træthed og søvnproblemer   \n",
       "1168  Kvinder, 18 - 24 år  Træthed efter arbejdsdag  Træthed og søvnproblemer   \n",
       "1169  Kvinder, 18 - 24 år     Træt i løbet af dagen  Træthed og søvnproblemer   \n",
       "1170  Kvinder, 18 - 24 år             Søvnproblemer  Træthed og søvnproblemer   \n",
       "1171  Kvinder, 18 - 24 år             Ikke udhvilet  Træthed og søvnproblemer   \n",
       "\n",
       "      Year   Akse                                      Ordforklaring  Antpers  \\\n",
       "12    2018  Score  Hvordan vurderer du din nuværende arbejdsevne ...     5123   \n",
       "13    2018  Score  Hvordan vurderer du din nuværende arbejdsevne ...     5125   \n",
       "15    2018  Score  Hvordan vurderer du din nuværende arbejdsevne ...     5415   \n",
       "16    2018  Score  Hvordan vurderer du din nuværende arbejdsevne ...     5422   \n",
       "18    2018  Score  Hvordan vurderer du din nuværende arbejdsevne ...     3564   \n",
       "...    ...    ...                                                ...      ...   \n",
       "1167  2018  Score  Inden for de seneste fire uger hvor ofte har d...     2339   \n",
       "1168  2018  Score  Hvor træt er du efter en typisk arbejdsdag 1 I...      667   \n",
       "1169  2018  Score  Hvor ofte har du følt dig træt i løbet af dage...      664   \n",
       "1170  2018  Score  Hvor ofte er du vågnet flere gange og har haft...      664   \n",
       "1171  2018  Score  Inden for de seneste fire uger hvor ofte har d...      664   \n",
       "\n",
       "      Score (Indekseret score)     Score      køn       alder  \\\n",
       "12                   75.879584  3.793979     Mænd  55 - 64 år   \n",
       "13                   75.105668  3.755283     Mænd  55 - 64 år   \n",
       "15                   77.932704  3.896635     Mænd  45 - 54 år   \n",
       "16                   79.307499  3.965375     Mænd  45 - 54 år   \n",
       "18                   77.810989  3.890549     Mænd  35 - 44 år   \n",
       "...                        ...       ...      ...         ...   \n",
       "1167                 66.503113  3.325156  Kvinder  25 - 34 år   \n",
       "1168                 61.949494  3.097475  Kvinder  18 - 24 år   \n",
       "1169                 70.031581  3.501579  Kvinder  18 - 24 år   \n",
       "1170                 51.212450  2.560623  Kvinder  18 - 24 år   \n",
       "1171                 65.177157  3.258858  Kvinder  18 - 24 år   \n",
       "\n",
       "      Hoej Score Godt  Cluster  køn_n  alder_n  \n",
       "12                  1        1      0        4  \n",
       "13                  1        1      0        4  \n",
       "15                  1        1      0        3  \n",
       "16                  1        1      0        3  \n",
       "18                  1        1      0        2  \n",
       "...               ...      ...    ...      ...  \n",
       "1167                0        0      1        1  \n",
       "1168                0        0      1        0  \n",
       "1169                0        0      1        0  \n",
       "1170                0        2      1        0  \n",
       "1171                0        0      1        0  \n",
       "\n",
       "[450 rows x 15 columns]"
      ]
     },
     "execution_count": 1330,
     "metadata": {},
     "output_type": "execute_result"
    }
   ],
   "source": [
    "# Først laver vi one-hot encoding af køn og alder variablerne. Step 1 er at fjerne 'total' rækkerne for kvinder og mænd\n",
    "koen_alder_no_total = koen_alder_data_filtered[~koen_alder_data_filtered['Group'].isin(['Kvinder', 'Mænd'])]\n",
    "\n",
    "# Step 2 er at one-hot encode køn-kolonnen vi lavede tidligere\n",
    "koen_alder_no_total['køn_n'] = np.where(koen_alder_no_total['køn'] == 'Mænd', 0, 1)\n",
    "\n",
    "# Step 3 er at map encode alder-kolonnen. Først en alders range\n",
    "\n",
    "age_range_mapping = {\n",
    "    '18 - 24 år': 0,\n",
    "    '25 - 34 år': 1,\n",
    "    '35 - 44 år': 2,\n",
    "    '45 - 54 år': 3,\n",
    "    '55 - 64 år': 4\n",
    "}\n",
    "\n",
    "# Brug mappingen til at give værdier til kolonnen\n",
    "koen_alder_no_total['alder_n'] = koen_alder_no_total['alder'].map(age_range_mapping)\n",
    "\n",
    "# Fjern Score Indekseret, da vi fokusere på rangen 1-5 som tidligere\n",
    "koen_alder_no_total.drop(columns='Score (Indekseret score)')\n",
    "\n",
    "# Tjek resultatet\n",
    "koen_alder_no_total # Ser super ud"
   ]
  },
  {
   "cell_type": "code",
   "execution_count": 1349,
   "metadata": {},
   "outputs": [
    {
     "data": {
      "application/vnd.plotly.v1+json": {
       "config": {
        "plotlyServerURL": "https://plot.ly"
       },
       "data": [
        {
         "hovertemplate": "x=%{x}<br>y=%{y}<extra></extra>",
         "legendgroup": "",
         "line": {
          "color": "#636efa",
          "dash": "solid"
         },
         "marker": {
          "symbol": "circle"
         },
         "mode": "lines",
         "name": "",
         "orientation": "v",
         "showlegend": false,
         "type": "scatter",
         "x": [
          1,
          2,
          3,
          4,
          5,
          6,
          7,
          8,
          9,
          10,
          11,
          12,
          13,
          14
         ],
         "xaxis": "x",
         "y": [
          1350,
          899.7269084854152,
          716.5271674932868,
          555.4479597108914,
          426.16312760071537,
          355.0629178955793,
          296.8273185297479,
          252.10409937280934,
          227.56012362462073,
          208.143078572116,
          186.9006690193973,
          171.65918441370877,
          157.67957344273836,
          142.4754619307227
         ],
         "yaxis": "y"
        }
       ],
       "layout": {
        "legend": {
         "tracegroupgap": 0
        },
        "margin": {
         "t": 60
        },
        "template": {
         "data": {
          "bar": [
           {
            "error_x": {
             "color": "#2a3f5f"
            },
            "error_y": {
             "color": "#2a3f5f"
            },
            "marker": {
             "line": {
              "color": "#E5ECF6",
              "width": 0.5
             },
             "pattern": {
              "fillmode": "overlay",
              "size": 10,
              "solidity": 0.2
             }
            },
            "type": "bar"
           }
          ],
          "barpolar": [
           {
            "marker": {
             "line": {
              "color": "#E5ECF6",
              "width": 0.5
             },
             "pattern": {
              "fillmode": "overlay",
              "size": 10,
              "solidity": 0.2
             }
            },
            "type": "barpolar"
           }
          ],
          "carpet": [
           {
            "aaxis": {
             "endlinecolor": "#2a3f5f",
             "gridcolor": "white",
             "linecolor": "white",
             "minorgridcolor": "white",
             "startlinecolor": "#2a3f5f"
            },
            "baxis": {
             "endlinecolor": "#2a3f5f",
             "gridcolor": "white",
             "linecolor": "white",
             "minorgridcolor": "white",
             "startlinecolor": "#2a3f5f"
            },
            "type": "carpet"
           }
          ],
          "choropleth": [
           {
            "colorbar": {
             "outlinewidth": 0,
             "ticks": ""
            },
            "type": "choropleth"
           }
          ],
          "contour": [
           {
            "colorbar": {
             "outlinewidth": 0,
             "ticks": ""
            },
            "colorscale": [
             [
              0,
              "#0d0887"
             ],
             [
              0.1111111111111111,
              "#46039f"
             ],
             [
              0.2222222222222222,
              "#7201a8"
             ],
             [
              0.3333333333333333,
              "#9c179e"
             ],
             [
              0.4444444444444444,
              "#bd3786"
             ],
             [
              0.5555555555555556,
              "#d8576b"
             ],
             [
              0.6666666666666666,
              "#ed7953"
             ],
             [
              0.7777777777777778,
              "#fb9f3a"
             ],
             [
              0.8888888888888888,
              "#fdca26"
             ],
             [
              1,
              "#f0f921"
             ]
            ],
            "type": "contour"
           }
          ],
          "contourcarpet": [
           {
            "colorbar": {
             "outlinewidth": 0,
             "ticks": ""
            },
            "type": "contourcarpet"
           }
          ],
          "heatmap": [
           {
            "colorbar": {
             "outlinewidth": 0,
             "ticks": ""
            },
            "colorscale": [
             [
              0,
              "#0d0887"
             ],
             [
              0.1111111111111111,
              "#46039f"
             ],
             [
              0.2222222222222222,
              "#7201a8"
             ],
             [
              0.3333333333333333,
              "#9c179e"
             ],
             [
              0.4444444444444444,
              "#bd3786"
             ],
             [
              0.5555555555555556,
              "#d8576b"
             ],
             [
              0.6666666666666666,
              "#ed7953"
             ],
             [
              0.7777777777777778,
              "#fb9f3a"
             ],
             [
              0.8888888888888888,
              "#fdca26"
             ],
             [
              1,
              "#f0f921"
             ]
            ],
            "type": "heatmap"
           }
          ],
          "heatmapgl": [
           {
            "colorbar": {
             "outlinewidth": 0,
             "ticks": ""
            },
            "colorscale": [
             [
              0,
              "#0d0887"
             ],
             [
              0.1111111111111111,
              "#46039f"
             ],
             [
              0.2222222222222222,
              "#7201a8"
             ],
             [
              0.3333333333333333,
              "#9c179e"
             ],
             [
              0.4444444444444444,
              "#bd3786"
             ],
             [
              0.5555555555555556,
              "#d8576b"
             ],
             [
              0.6666666666666666,
              "#ed7953"
             ],
             [
              0.7777777777777778,
              "#fb9f3a"
             ],
             [
              0.8888888888888888,
              "#fdca26"
             ],
             [
              1,
              "#f0f921"
             ]
            ],
            "type": "heatmapgl"
           }
          ],
          "histogram": [
           {
            "marker": {
             "pattern": {
              "fillmode": "overlay",
              "size": 10,
              "solidity": 0.2
             }
            },
            "type": "histogram"
           }
          ],
          "histogram2d": [
           {
            "colorbar": {
             "outlinewidth": 0,
             "ticks": ""
            },
            "colorscale": [
             [
              0,
              "#0d0887"
             ],
             [
              0.1111111111111111,
              "#46039f"
             ],
             [
              0.2222222222222222,
              "#7201a8"
             ],
             [
              0.3333333333333333,
              "#9c179e"
             ],
             [
              0.4444444444444444,
              "#bd3786"
             ],
             [
              0.5555555555555556,
              "#d8576b"
             ],
             [
              0.6666666666666666,
              "#ed7953"
             ],
             [
              0.7777777777777778,
              "#fb9f3a"
             ],
             [
              0.8888888888888888,
              "#fdca26"
             ],
             [
              1,
              "#f0f921"
             ]
            ],
            "type": "histogram2d"
           }
          ],
          "histogram2dcontour": [
           {
            "colorbar": {
             "outlinewidth": 0,
             "ticks": ""
            },
            "colorscale": [
             [
              0,
              "#0d0887"
             ],
             [
              0.1111111111111111,
              "#46039f"
             ],
             [
              0.2222222222222222,
              "#7201a8"
             ],
             [
              0.3333333333333333,
              "#9c179e"
             ],
             [
              0.4444444444444444,
              "#bd3786"
             ],
             [
              0.5555555555555556,
              "#d8576b"
             ],
             [
              0.6666666666666666,
              "#ed7953"
             ],
             [
              0.7777777777777778,
              "#fb9f3a"
             ],
             [
              0.8888888888888888,
              "#fdca26"
             ],
             [
              1,
              "#f0f921"
             ]
            ],
            "type": "histogram2dcontour"
           }
          ],
          "mesh3d": [
           {
            "colorbar": {
             "outlinewidth": 0,
             "ticks": ""
            },
            "type": "mesh3d"
           }
          ],
          "parcoords": [
           {
            "line": {
             "colorbar": {
              "outlinewidth": 0,
              "ticks": ""
             }
            },
            "type": "parcoords"
           }
          ],
          "pie": [
           {
            "automargin": true,
            "type": "pie"
           }
          ],
          "scatter": [
           {
            "fillpattern": {
             "fillmode": "overlay",
             "size": 10,
             "solidity": 0.2
            },
            "type": "scatter"
           }
          ],
          "scatter3d": [
           {
            "line": {
             "colorbar": {
              "outlinewidth": 0,
              "ticks": ""
             }
            },
            "marker": {
             "colorbar": {
              "outlinewidth": 0,
              "ticks": ""
             }
            },
            "type": "scatter3d"
           }
          ],
          "scattercarpet": [
           {
            "marker": {
             "colorbar": {
              "outlinewidth": 0,
              "ticks": ""
             }
            },
            "type": "scattercarpet"
           }
          ],
          "scattergeo": [
           {
            "marker": {
             "colorbar": {
              "outlinewidth": 0,
              "ticks": ""
             }
            },
            "type": "scattergeo"
           }
          ],
          "scattergl": [
           {
            "marker": {
             "colorbar": {
              "outlinewidth": 0,
              "ticks": ""
             }
            },
            "type": "scattergl"
           }
          ],
          "scattermapbox": [
           {
            "marker": {
             "colorbar": {
              "outlinewidth": 0,
              "ticks": ""
             }
            },
            "type": "scattermapbox"
           }
          ],
          "scatterpolar": [
           {
            "marker": {
             "colorbar": {
              "outlinewidth": 0,
              "ticks": ""
             }
            },
            "type": "scatterpolar"
           }
          ],
          "scatterpolargl": [
           {
            "marker": {
             "colorbar": {
              "outlinewidth": 0,
              "ticks": ""
             }
            },
            "type": "scatterpolargl"
           }
          ],
          "scatterternary": [
           {
            "marker": {
             "colorbar": {
              "outlinewidth": 0,
              "ticks": ""
             }
            },
            "type": "scatterternary"
           }
          ],
          "surface": [
           {
            "colorbar": {
             "outlinewidth": 0,
             "ticks": ""
            },
            "colorscale": [
             [
              0,
              "#0d0887"
             ],
             [
              0.1111111111111111,
              "#46039f"
             ],
             [
              0.2222222222222222,
              "#7201a8"
             ],
             [
              0.3333333333333333,
              "#9c179e"
             ],
             [
              0.4444444444444444,
              "#bd3786"
             ],
             [
              0.5555555555555556,
              "#d8576b"
             ],
             [
              0.6666666666666666,
              "#ed7953"
             ],
             [
              0.7777777777777778,
              "#fb9f3a"
             ],
             [
              0.8888888888888888,
              "#fdca26"
             ],
             [
              1,
              "#f0f921"
             ]
            ],
            "type": "surface"
           }
          ],
          "table": [
           {
            "cells": {
             "fill": {
              "color": "#EBF0F8"
             },
             "line": {
              "color": "white"
             }
            },
            "header": {
             "fill": {
              "color": "#C8D4E3"
             },
             "line": {
              "color": "white"
             }
            },
            "type": "table"
           }
          ]
         },
         "layout": {
          "annotationdefaults": {
           "arrowcolor": "#2a3f5f",
           "arrowhead": 0,
           "arrowwidth": 1
          },
          "autotypenumbers": "strict",
          "coloraxis": {
           "colorbar": {
            "outlinewidth": 0,
            "ticks": ""
           }
          },
          "colorscale": {
           "diverging": [
            [
             0,
             "#8e0152"
            ],
            [
             0.1,
             "#c51b7d"
            ],
            [
             0.2,
             "#de77ae"
            ],
            [
             0.3,
             "#f1b6da"
            ],
            [
             0.4,
             "#fde0ef"
            ],
            [
             0.5,
             "#f7f7f7"
            ],
            [
             0.6,
             "#e6f5d0"
            ],
            [
             0.7,
             "#b8e186"
            ],
            [
             0.8,
             "#7fbc41"
            ],
            [
             0.9,
             "#4d9221"
            ],
            [
             1,
             "#276419"
            ]
           ],
           "sequential": [
            [
             0,
             "#0d0887"
            ],
            [
             0.1111111111111111,
             "#46039f"
            ],
            [
             0.2222222222222222,
             "#7201a8"
            ],
            [
             0.3333333333333333,
             "#9c179e"
            ],
            [
             0.4444444444444444,
             "#bd3786"
            ],
            [
             0.5555555555555556,
             "#d8576b"
            ],
            [
             0.6666666666666666,
             "#ed7953"
            ],
            [
             0.7777777777777778,
             "#fb9f3a"
            ],
            [
             0.8888888888888888,
             "#fdca26"
            ],
            [
             1,
             "#f0f921"
            ]
           ],
           "sequentialminus": [
            [
             0,
             "#0d0887"
            ],
            [
             0.1111111111111111,
             "#46039f"
            ],
            [
             0.2222222222222222,
             "#7201a8"
            ],
            [
             0.3333333333333333,
             "#9c179e"
            ],
            [
             0.4444444444444444,
             "#bd3786"
            ],
            [
             0.5555555555555556,
             "#d8576b"
            ],
            [
             0.6666666666666666,
             "#ed7953"
            ],
            [
             0.7777777777777778,
             "#fb9f3a"
            ],
            [
             0.8888888888888888,
             "#fdca26"
            ],
            [
             1,
             "#f0f921"
            ]
           ]
          },
          "colorway": [
           "#636efa",
           "#EF553B",
           "#00cc96",
           "#ab63fa",
           "#FFA15A",
           "#19d3f3",
           "#FF6692",
           "#B6E880",
           "#FF97FF",
           "#FECB52"
          ],
          "font": {
           "color": "#2a3f5f"
          },
          "geo": {
           "bgcolor": "white",
           "lakecolor": "white",
           "landcolor": "#E5ECF6",
           "showlakes": true,
           "showland": true,
           "subunitcolor": "white"
          },
          "hoverlabel": {
           "align": "left"
          },
          "hovermode": "closest",
          "mapbox": {
           "style": "light"
          },
          "paper_bgcolor": "white",
          "plot_bgcolor": "#E5ECF6",
          "polar": {
           "angularaxis": {
            "gridcolor": "white",
            "linecolor": "white",
            "ticks": ""
           },
           "bgcolor": "#E5ECF6",
           "radialaxis": {
            "gridcolor": "white",
            "linecolor": "white",
            "ticks": ""
           }
          },
          "scene": {
           "xaxis": {
            "backgroundcolor": "#E5ECF6",
            "gridcolor": "white",
            "gridwidth": 2,
            "linecolor": "white",
            "showbackground": true,
            "ticks": "",
            "zerolinecolor": "white"
           },
           "yaxis": {
            "backgroundcolor": "#E5ECF6",
            "gridcolor": "white",
            "gridwidth": 2,
            "linecolor": "white",
            "showbackground": true,
            "ticks": "",
            "zerolinecolor": "white"
           },
           "zaxis": {
            "backgroundcolor": "#E5ECF6",
            "gridcolor": "white",
            "gridwidth": 2,
            "linecolor": "white",
            "showbackground": true,
            "ticks": "",
            "zerolinecolor": "white"
           }
          },
          "shapedefaults": {
           "line": {
            "color": "#2a3f5f"
           }
          },
          "ternary": {
           "aaxis": {
            "gridcolor": "white",
            "linecolor": "white",
            "ticks": ""
           },
           "baxis": {
            "gridcolor": "white",
            "linecolor": "white",
            "ticks": ""
           },
           "bgcolor": "#E5ECF6",
           "caxis": {
            "gridcolor": "white",
            "linecolor": "white",
            "ticks": ""
           }
          },
          "title": {
           "x": 0.05
          },
          "xaxis": {
           "automargin": true,
           "gridcolor": "white",
           "linecolor": "white",
           "ticks": "",
           "title": {
            "standoff": 15
           },
           "zerolinecolor": "white",
           "zerolinewidth": 2
          },
          "yaxis": {
           "automargin": true,
           "gridcolor": "white",
           "linecolor": "white",
           "ticks": "",
           "title": {
            "standoff": 15
           },
           "zerolinecolor": "white",
           "zerolinewidth": 2
          }
         }
        },
        "title": {
         "text": "Albue-metode til optimal antal clusters"
        },
        "xaxis": {
         "anchor": "y",
         "domain": [
          0,
          1
         ],
         "title": {
          "text": "Antal clusters"
         }
        },
        "yaxis": {
         "anchor": "x",
         "domain": [
          0,
          1
         ],
         "title": {
          "text": "Within-Cluster-Sum-of-Squared-Errors (WCSS)"
         }
        }
       }
      }
     },
     "metadata": {},
     "output_type": "display_data"
    }
   ],
   "source": [
    "# Udtræk de funktioner fra koen_alder_no_total som skal bruges til clustering\n",
    "features = koen_alder_no_total[['køn_n', 'alder_n', 'Score']]\n",
    "\n",
    "# Skaler funktionerne\n",
    "scaler = StandardScaler()\n",
    "scaled_features = scaler.fit_transform(features)\n",
    "\n",
    "# Definer en range for antallet af clusters\n",
    "cluster_range = range(1, 15)\n",
    "\n",
    "# Initialiser en liste til at gemme Within-Cluster-Sum-of-Squared-Errors (WCSS) for hvert antal klynger\n",
    "wcss = []\n",
    "\n",
    "# Loop over antallet af clusters\n",
    "for num_clusters in cluster_range:\n",
    "    # Fit KMeans-modellen\n",
    "    kmeans = KMeans(n_clusters=num_clusters)\n",
    "    kmeans.fit(scaled_features)\n",
    "    \n",
    "    # Beregn WCSS\n",
    "    wcss.append(kmeans.inertia_)\n",
    "\n",
    "# Plot WCSS\n",
    "fig = px.line(x=cluster_range, y=wcss)\n",
    "fig.update_layout(\n",
    "    title=\"Albue-metode til optimal antal clusters\",\n",
    "    xaxis_title=\"Antal clusters\",\n",
    "    yaxis_title=\"Within-Cluster-Sum-of-Squared-Errors (WCSS)\",\n",
    ")\n",
    "fig.show()"
   ]
  },
  {
   "attachments": {},
   "cell_type": "markdown",
   "metadata": {},
   "source": [
    "Grunden til at WCSS foretrækkes over SDD til at finde det optimale antal clusters i K-Means clustering, er at det er direkte relateret til målet med clusteralgoritmen, nemlig at minimere summen af kvadrerede afstande mellem hver datapunkt og dets nærmeste cluster center i stedet for meanen i datasættet (SDD)."
   ]
  },
  {
   "cell_type": "code",
   "execution_count": 1350,
   "metadata": {},
   "outputs": [
    {
     "data": {
      "application/vnd.plotly.v1+json": {
       "config": {
        "plotlyServerURL": "https://plot.ly"
       },
       "data": [
        {
         "hovertemplate": "x=%{x}<br>y=%{y}<br>z=%{z}<br>color=%{marker.color}<extra></extra>",
         "legendgroup": "",
         "marker": {
          "color": [
           2,
           2,
           2,
           2,
           2,
           2,
           2,
           2,
           2,
           2,
           3,
           3,
           3,
           3,
           1,
           1,
           1,
           1,
           1,
           1,
           2,
           2,
           2,
           2,
           2,
           3,
           3,
           1,
           1,
           1,
           2,
           2,
           2,
           2,
           2,
           2,
           2,
           2,
           2,
           2,
           2,
           2,
           2,
           2,
           2,
           2,
           2,
           2,
           2,
           2,
           2,
           2,
           2,
           2,
           2,
           3,
           3,
           3,
           3,
           3,
           3,
           3,
           3,
           3,
           3,
           1,
           1,
           1,
           1,
           1,
           1,
           1,
           1,
           1,
           1,
           1,
           1,
           1,
           1,
           1,
           0,
           0,
           0,
           0,
           0,
           0,
           0,
           0,
           0,
           0,
           3,
           3,
           3,
           3,
           1,
           1,
           1,
           1,
           1,
           1,
           2,
           2,
           2,
           2,
           2,
           3,
           3,
           1,
           1,
           1,
           2,
           2,
           2,
           2,
           2,
           2,
           2,
           2,
           2,
           2,
           3,
           3,
           3,
           3,
           1,
           1,
           1,
           1,
           1,
           1,
           0,
           0,
           0,
           0,
           0,
           0,
           0,
           0,
           0,
           0,
           0,
           0,
           0,
           0,
           0,
           0,
           0,
           0,
           0,
           1,
           2,
           2,
           2,
           2,
           2,
           3,
           3,
           1,
           1,
           1,
           2,
           2,
           2,
           2,
           2,
           2,
           2,
           2,
           2,
           2,
           3,
           3,
           3,
           3,
           1,
           1,
           1,
           1,
           1,
           1,
           0,
           0,
           0,
           0,
           0,
           0,
           0,
           0,
           0,
           0,
           3,
           3,
           3,
           3,
           1,
           1,
           1,
           1,
           1,
           1,
           0,
           0,
           0,
           0,
           0,
           2,
           2,
           2,
           0,
           0,
           0,
           2,
           2,
           2,
           2,
           0,
           0,
           2,
           2,
           2,
           0,
           0,
           0,
           2,
           0,
           2,
           0,
           0,
           0,
           2,
           3,
           3,
           3,
           3,
           3,
           3,
           3,
           3,
           3,
           3,
           3,
           3,
           1,
           1,
           1,
           1,
           1,
           1,
           1,
           1,
           1,
           1,
           1,
           1,
           1,
           1,
           1,
           1,
           1,
           1,
           2,
           2,
           2,
           0,
           0,
           0,
           2,
           2,
           2,
           2,
           2,
           0,
           0,
           0,
           2,
           2,
           2,
           2,
           2,
           2,
           2,
           0,
           2,
           2,
           2,
           2,
           2,
           2,
           2,
           2,
           2,
           2,
           2,
           2,
           2,
           2,
           2,
           2,
           2,
           2,
           3,
           3,
           3,
           3,
           3,
           3,
           3,
           3,
           3,
           3,
           3,
           3,
           3,
           3,
           3,
           3,
           1,
           1,
           1,
           1,
           1,
           1,
           1,
           1,
           1,
           1,
           1,
           1,
           1,
           1,
           1,
           1,
           1,
           1,
           1,
           1,
           1,
           1,
           1,
           1,
           2,
           2,
           2,
           2,
           2,
           2,
           2,
           2,
           2,
           2,
           3,
           3,
           3,
           3,
           1,
           1,
           1,
           1,
           1,
           1,
           2,
           2,
           2,
           2,
           2,
           2,
           2,
           2,
           2,
           2,
           2,
           2,
           2,
           2,
           2,
           2,
           2,
           2,
           2,
           2,
           3,
           3,
           3,
           3,
           3,
           3,
           3,
           3,
           1,
           1,
           1,
           1,
           1,
           1,
           1,
           1,
           1,
           1,
           1,
           1,
           2,
           2,
           2,
           2,
           2,
           3,
           3,
           1,
           1,
           1,
           0,
           0,
           0,
           0,
           0,
           0,
           0,
           0,
           0,
           0,
           0,
           0,
           0,
           0,
           0,
           0,
           0,
           0,
           0,
           0,
           3,
           3,
           3,
           3,
           3,
           3,
           3,
           3,
           1,
           1,
           1,
           1,
           1,
           1,
           1,
           1,
           1,
           1,
           1,
           1
          ],
          "coloraxis": "coloraxis",
          "symbol": "circle"
         },
         "mode": "markers",
         "name": "",
         "scene": "scene",
         "showlegend": false,
         "type": "scatter3d",
         "x": [
          -1,
          -1,
          -1,
          -1,
          -1,
          -1,
          -1,
          -1,
          -1,
          -1,
          1,
          1,
          1,
          1,
          1,
          1,
          1,
          1,
          1,
          1,
          -1,
          -1,
          -1,
          -1,
          -1,
          1,
          1,
          1,
          1,
          1,
          -1,
          -1,
          -1,
          -1,
          -1,
          -1,
          -1,
          -1,
          -1,
          -1,
          -1,
          -1,
          -1,
          -1,
          -1,
          -1,
          -1,
          -1,
          -1,
          -1,
          -1,
          -1,
          -1,
          -1,
          -1,
          1,
          1,
          1,
          1,
          1,
          1,
          1,
          1,
          1,
          1,
          1,
          1,
          1,
          1,
          1,
          1,
          1,
          1,
          1,
          1,
          1,
          1,
          1,
          1,
          1,
          -1,
          -1,
          -1,
          -1,
          -1,
          -1,
          -1,
          -1,
          -1,
          -1,
          1,
          1,
          1,
          1,
          1,
          1,
          1,
          1,
          1,
          1,
          -1,
          -1,
          -1,
          -1,
          -1,
          1,
          1,
          1,
          1,
          1,
          -1,
          -1,
          -1,
          -1,
          -1,
          -1,
          -1,
          -1,
          -1,
          -1,
          1,
          1,
          1,
          1,
          1,
          1,
          1,
          1,
          1,
          1,
          -1,
          -1,
          -1,
          -1,
          -1,
          -1,
          -1,
          -1,
          -1,
          -1,
          1,
          1,
          1,
          1,
          1,
          1,
          1,
          1,
          1,
          1,
          -1,
          -1,
          -1,
          -1,
          -1,
          1,
          1,
          1,
          1,
          1,
          -1,
          -1,
          -1,
          -1,
          -1,
          -1,
          -1,
          -1,
          -1,
          -1,
          1,
          1,
          1,
          1,
          1,
          1,
          1,
          1,
          1,
          1,
          -1,
          -1,
          -1,
          -1,
          -1,
          -1,
          -1,
          -1,
          -1,
          -1,
          1,
          1,
          1,
          1,
          1,
          1,
          1,
          1,
          1,
          1,
          -1,
          -1,
          -1,
          -1,
          -1,
          -1,
          -1,
          -1,
          -1,
          -1,
          -1,
          -1,
          -1,
          -1,
          -1,
          -1,
          -1,
          -1,
          -1,
          -1,
          -1,
          -1,
          -1,
          -1,
          -1,
          -1,
          -1,
          -1,
          -1,
          -1,
          1,
          1,
          1,
          1,
          1,
          1,
          1,
          1,
          1,
          1,
          1,
          1,
          1,
          1,
          1,
          1,
          1,
          1,
          1,
          1,
          1,
          1,
          1,
          1,
          1,
          1,
          1,
          1,
          1,
          1,
          -1,
          -1,
          -1,
          -1,
          -1,
          -1,
          -1,
          -1,
          -1,
          -1,
          -1,
          -1,
          -1,
          -1,
          -1,
          -1,
          -1,
          -1,
          -1,
          -1,
          -1,
          -1,
          -1,
          -1,
          -1,
          -1,
          -1,
          -1,
          -1,
          -1,
          -1,
          -1,
          -1,
          -1,
          -1,
          -1,
          -1,
          -1,
          -1,
          -1,
          1,
          1,
          1,
          1,
          1,
          1,
          1,
          1,
          1,
          1,
          1,
          1,
          1,
          1,
          1,
          1,
          1,
          1,
          1,
          1,
          1,
          1,
          1,
          1,
          1,
          1,
          1,
          1,
          1,
          1,
          1,
          1,
          1,
          1,
          1,
          1,
          1,
          1,
          1,
          1,
          -1,
          -1,
          -1,
          -1,
          -1,
          -1,
          -1,
          -1,
          -1,
          -1,
          1,
          1,
          1,
          1,
          1,
          1,
          1,
          1,
          1,
          1,
          -1,
          -1,
          -1,
          -1,
          -1,
          -1,
          -1,
          -1,
          -1,
          -1,
          -1,
          -1,
          -1,
          -1,
          -1,
          -1,
          -1,
          -1,
          -1,
          -1,
          1,
          1,
          1,
          1,
          1,
          1,
          1,
          1,
          1,
          1,
          1,
          1,
          1,
          1,
          1,
          1,
          1,
          1,
          1,
          1,
          -1,
          -1,
          -1,
          -1,
          -1,
          1,
          1,
          1,
          1,
          1,
          -1,
          -1,
          -1,
          -1,
          -1,
          -1,
          -1,
          -1,
          -1,
          -1,
          -1,
          -1,
          -1,
          -1,
          -1,
          -1,
          -1,
          -1,
          -1,
          -1,
          1,
          1,
          1,
          1,
          1,
          1,
          1,
          1,
          1,
          1,
          1,
          1,
          1,
          1,
          1,
          1,
          1,
          1,
          1,
          1
         ],
         "y": [
          1.414213562373095,
          1.414213562373095,
          0.7071067811865475,
          0.7071067811865475,
          0,
          0,
          -0.7071067811865475,
          -0.7071067811865475,
          -1.414213562373095,
          -1.414213562373095,
          1.414213562373095,
          1.414213562373095,
          0.7071067811865475,
          0.7071067811865475,
          0,
          0,
          -0.7071067811865475,
          -0.7071067811865475,
          -1.414213562373095,
          -1.414213562373095,
          1.414213562373095,
          0.7071067811865475,
          0,
          -0.7071067811865475,
          -1.414213562373095,
          1.414213562373095,
          0.7071067811865475,
          0,
          -0.7071067811865475,
          -1.414213562373095,
          1.414213562373095,
          1.414213562373095,
          1.414213562373095,
          1.414213562373095,
          1.414213562373095,
          0.7071067811865475,
          0.7071067811865475,
          0.7071067811865475,
          0.7071067811865475,
          0.7071067811865475,
          0,
          0,
          0,
          0,
          0,
          -0.7071067811865475,
          -0.7071067811865475,
          -0.7071067811865475,
          -0.7071067811865475,
          -0.7071067811865475,
          -1.414213562373095,
          -1.414213562373095,
          -1.414213562373095,
          -1.414213562373095,
          -1.414213562373095,
          1.414213562373095,
          1.414213562373095,
          1.414213562373095,
          1.414213562373095,
          1.414213562373095,
          0.7071067811865475,
          0.7071067811865475,
          0.7071067811865475,
          0.7071067811865475,
          0.7071067811865475,
          0,
          0,
          0,
          0,
          0,
          -0.7071067811865475,
          -0.7071067811865475,
          -0.7071067811865475,
          -0.7071067811865475,
          -0.7071067811865475,
          -1.414213562373095,
          -1.414213562373095,
          -1.414213562373095,
          -1.414213562373095,
          -1.414213562373095,
          1.414213562373095,
          1.414213562373095,
          0.7071067811865475,
          0.7071067811865475,
          0,
          0,
          -0.7071067811865475,
          -0.7071067811865475,
          -1.414213562373095,
          -1.414213562373095,
          1.414213562373095,
          1.414213562373095,
          0.7071067811865475,
          0.7071067811865475,
          0,
          0,
          -0.7071067811865475,
          -0.7071067811865475,
          -1.414213562373095,
          -1.414213562373095,
          1.414213562373095,
          0.7071067811865475,
          0,
          -0.7071067811865475,
          -1.414213562373095,
          1.414213562373095,
          0.7071067811865475,
          0,
          -0.7071067811865475,
          -1.414213562373095,
          1.414213562373095,
          1.414213562373095,
          0.7071067811865475,
          0.7071067811865475,
          0,
          0,
          -0.7071067811865475,
          -0.7071067811865475,
          -1.414213562373095,
          -1.414213562373095,
          1.414213562373095,
          1.414213562373095,
          0.7071067811865475,
          0.7071067811865475,
          0,
          0,
          -0.7071067811865475,
          -0.7071067811865475,
          -1.414213562373095,
          -1.414213562373095,
          1.414213562373095,
          1.414213562373095,
          0.7071067811865475,
          0.7071067811865475,
          0,
          0,
          -0.7071067811865475,
          -0.7071067811865475,
          -1.414213562373095,
          -1.414213562373095,
          1.414213562373095,
          1.414213562373095,
          0.7071067811865475,
          0.7071067811865475,
          0,
          0,
          -0.7071067811865475,
          -0.7071067811865475,
          -1.414213562373095,
          -1.414213562373095,
          1.414213562373095,
          0.7071067811865475,
          0,
          -0.7071067811865475,
          -1.414213562373095,
          1.414213562373095,
          0.7071067811865475,
          0,
          -0.7071067811865475,
          -1.414213562373095,
          1.414213562373095,
          1.414213562373095,
          0.7071067811865475,
          0.7071067811865475,
          0,
          0,
          -0.7071067811865475,
          -0.7071067811865475,
          -1.414213562373095,
          -1.414213562373095,
          1.414213562373095,
          1.414213562373095,
          0.7071067811865475,
          0.7071067811865475,
          0,
          0,
          -0.7071067811865475,
          -0.7071067811865475,
          -1.414213562373095,
          -1.414213562373095,
          1.414213562373095,
          1.414213562373095,
          0.7071067811865475,
          0.7071067811865475,
          0,
          0,
          -0.7071067811865475,
          -0.7071067811865475,
          -1.414213562373095,
          -1.414213562373095,
          1.414213562373095,
          1.414213562373095,
          0.7071067811865475,
          0.7071067811865475,
          0,
          0,
          -0.7071067811865475,
          -0.7071067811865475,
          -1.414213562373095,
          -1.414213562373095,
          1.414213562373095,
          1.414213562373095,
          1.414213562373095,
          1.414213562373095,
          1.414213562373095,
          1.414213562373095,
          0.7071067811865475,
          0.7071067811865475,
          0.7071067811865475,
          0.7071067811865475,
          0.7071067811865475,
          0.7071067811865475,
          0,
          0,
          0,
          0,
          0,
          0,
          -0.7071067811865475,
          -0.7071067811865475,
          -0.7071067811865475,
          -0.7071067811865475,
          -0.7071067811865475,
          -0.7071067811865475,
          -1.414213562373095,
          -1.414213562373095,
          -1.414213562373095,
          -1.414213562373095,
          -1.414213562373095,
          -1.414213562373095,
          1.414213562373095,
          1.414213562373095,
          1.414213562373095,
          1.414213562373095,
          1.414213562373095,
          1.414213562373095,
          0.7071067811865475,
          0.7071067811865475,
          0.7071067811865475,
          0.7071067811865475,
          0.7071067811865475,
          0.7071067811865475,
          0,
          0,
          0,
          0,
          0,
          0,
          -0.7071067811865475,
          -0.7071067811865475,
          -0.7071067811865475,
          -0.7071067811865475,
          -0.7071067811865475,
          -0.7071067811865475,
          -1.414213562373095,
          -1.414213562373095,
          -1.414213562373095,
          -1.414213562373095,
          -1.414213562373095,
          -1.414213562373095,
          1.414213562373095,
          1.414213562373095,
          1.414213562373095,
          1.414213562373095,
          1.414213562373095,
          1.414213562373095,
          1.414213562373095,
          1.414213562373095,
          0.7071067811865475,
          0.7071067811865475,
          0.7071067811865475,
          0.7071067811865475,
          0.7071067811865475,
          0.7071067811865475,
          0.7071067811865475,
          0.7071067811865475,
          0,
          0,
          0,
          0,
          0,
          0,
          0,
          0,
          -0.7071067811865475,
          -0.7071067811865475,
          -0.7071067811865475,
          -0.7071067811865475,
          -0.7071067811865475,
          -0.7071067811865475,
          -0.7071067811865475,
          -0.7071067811865475,
          -1.414213562373095,
          -1.414213562373095,
          -1.414213562373095,
          -1.414213562373095,
          -1.414213562373095,
          -1.414213562373095,
          -1.414213562373095,
          -1.414213562373095,
          1.414213562373095,
          1.414213562373095,
          1.414213562373095,
          1.414213562373095,
          1.414213562373095,
          1.414213562373095,
          1.414213562373095,
          1.414213562373095,
          0.7071067811865475,
          0.7071067811865475,
          0.7071067811865475,
          0.7071067811865475,
          0.7071067811865475,
          0.7071067811865475,
          0.7071067811865475,
          0.7071067811865475,
          0,
          0,
          0,
          0,
          0,
          0,
          0,
          0,
          -0.7071067811865475,
          -0.7071067811865475,
          -0.7071067811865475,
          -0.7071067811865475,
          -0.7071067811865475,
          -0.7071067811865475,
          -0.7071067811865475,
          -0.7071067811865475,
          -1.414213562373095,
          -1.414213562373095,
          -1.414213562373095,
          -1.414213562373095,
          -1.414213562373095,
          -1.414213562373095,
          -1.414213562373095,
          -1.414213562373095,
          1.414213562373095,
          1.414213562373095,
          0.7071067811865475,
          0.7071067811865475,
          0,
          0,
          -0.7071067811865475,
          -0.7071067811865475,
          -1.414213562373095,
          -1.414213562373095,
          1.414213562373095,
          1.414213562373095,
          0.7071067811865475,
          0.7071067811865475,
          0,
          0,
          -0.7071067811865475,
          -0.7071067811865475,
          -1.414213562373095,
          -1.414213562373095,
          1.414213562373095,
          1.414213562373095,
          1.414213562373095,
          1.414213562373095,
          0.7071067811865475,
          0.7071067811865475,
          0.7071067811865475,
          0.7071067811865475,
          0,
          0,
          0,
          0,
          -0.7071067811865475,
          -0.7071067811865475,
          -0.7071067811865475,
          -0.7071067811865475,
          -1.414213562373095,
          -1.414213562373095,
          -1.414213562373095,
          -1.414213562373095,
          1.414213562373095,
          1.414213562373095,
          1.414213562373095,
          1.414213562373095,
          0.7071067811865475,
          0.7071067811865475,
          0.7071067811865475,
          0.7071067811865475,
          0,
          0,
          0,
          0,
          -0.7071067811865475,
          -0.7071067811865475,
          -0.7071067811865475,
          -0.7071067811865475,
          -1.414213562373095,
          -1.414213562373095,
          -1.414213562373095,
          -1.414213562373095,
          1.414213562373095,
          0.7071067811865475,
          0,
          -0.7071067811865475,
          -1.414213562373095,
          1.414213562373095,
          0.7071067811865475,
          0,
          -0.7071067811865475,
          -1.414213562373095,
          1.414213562373095,
          1.414213562373095,
          1.414213562373095,
          1.414213562373095,
          0.7071067811865475,
          0.7071067811865475,
          0.7071067811865475,
          0.7071067811865475,
          0,
          0,
          0,
          0,
          -0.7071067811865475,
          -0.7071067811865475,
          -0.7071067811865475,
          -0.7071067811865475,
          -1.414213562373095,
          -1.414213562373095,
          -1.414213562373095,
          -1.414213562373095,
          1.414213562373095,
          1.414213562373095,
          1.414213562373095,
          1.414213562373095,
          0.7071067811865475,
          0.7071067811865475,
          0.7071067811865475,
          0.7071067811865475,
          0,
          0,
          0,
          0,
          -0.7071067811865475,
          -0.7071067811865475,
          -0.7071067811865475,
          -0.7071067811865475,
          -1.414213562373095,
          -1.414213562373095,
          -1.414213562373095,
          -1.414213562373095
         ],
         "z": [
          0.669131463724566,
          0.6032926738234594,
          0.843794902327545,
          0.9607516932762775,
          0.8334403372016898,
          1.16409676468381,
          0.8836232007523852,
          1.392242274136081,
          0.9444423086038282,
          1.20154989478713,
          0.4535259545838815,
          0.44284428853147184,
          0.5947416819784591,
          0.8497255732780442,
          0.508820342435251,
          0.9524435264287284,
          0.3812932602633735,
          1.0248109461973134,
          0.693409321930234,
          1.0948011337926846,
          0.4484178280670721,
          0.33719770090547085,
          0.2888906284304049,
          0.33389336545436166,
          0.6378681004791158,
          0.4590520085161278,
          0.3805977116172186,
          0.44858146275183275,
          0.40393483287342674,
          0.4844629451208513,
          0.5893324202734876,
          0.47669931865135423,
          0.6424958004344048,
          0.6676217247352455,
          0.7085563174261377,
          0.5564744568128444,
          0.4422687903780417,
          0.6550117780567586,
          0.7720892711513053,
          0.6851263279481273,
          0.5270839445476202,
          0.4330078879972486,
          0.6520865107393139,
          0.7748426194526729,
          0.6682909333253063,
          0.5610129177265941,
          0.4125306866949811,
          0.5775263089493802,
          0.7547254794520424,
          0.6520518489201322,
          0.5106509006195131,
          0.028999675367500873,
          0.18010435750162607,
          0.2651369477198137,
          0.5088882862024493,
          0.5819880075111676,
          0.6538568139822603,
          0.6980264372017841,
          0.9038366714135583,
          0.7438475297040604,
          0.54720083103308,
          0.6280973076293433,
          0.7234667288215442,
          0.9827190431405107,
          0.7126374880152232,
          0.5576409583797763,
          0.609710595827759,
          0.7890400458027995,
          1.0627516829562493,
          0.6985066851116737,
          0.3601331146128354,
          0.3667287388417051,
          0.5828999066845959,
          0.8883991662478894,
          0.4456876636429957,
          0.3661658841193729,
          -0.041588283985998134,
          0.08061022236296256,
          0.3214499595271548,
          0.4108672545587699,
          -0.9317248321101924,
          -1.227049178627137,
          -1.0911534194497805,
          -1.2915067362088197,
          -1.2974738078543693,
          -1.3059608168940338,
          -1.509896200928765,
          -1.3936809571673991,
          -1.621541905198473,
          -1.8675594770442028,
          -0.08765868739063123,
          -0.6050510650067229,
          -0.2788731225338683,
          -0.6918827298875684,
          -0.4098590738171306,
          -0.7243812054332358,
          -0.45927321811820165,
          -0.69166021332688,
          -1.2430797952955475,
          -1.2267878419178904,
          -0.010662599545065026,
          0.16432605988873925,
          0.2358032807019318,
          0.6130478967582835,
          0.8150621836639226,
          -0.10515261234034856,
          0.07520094024066175,
          0.18655061195305964,
          0.4454187844320585,
          0.6685836906027262,
          1.0555618787177454,
          1.692983113495416,
          1.0271417068278554,
          1.6496393116909178,
          0.956542723818041,
          1.657286943910421,
          0.79884116519219,
          1.5895839514694428,
          0.4867404862814266,
          1.265832594958776,
          0.9689629271520722,
          1.5121646038826333,
          0.9605878322994519,
          1.5286603443243383,
          0.8951506512634312,
          1.5239922929208018,
          0.8233703283926981,
          1.4048504445069292,
          0.4508633664150772,
          1.0720809935984796,
          -2.7224265386301725,
          -2.4463188309144477,
          -2.7127403075521115,
          -2.288248290315549,
          -2.8375700767825727,
          -2.4806488514819542,
          -2.8910768491972902,
          -2.4333427538832226,
          -3.039471923754941,
          -2.6389100967412253,
          -2.566209381088122,
          -2.377363482037309,
          -2.5674384005170214,
          -2.180415644775278,
          -2.5817775707721333,
          -2.165449296703679,
          -2.6929183221636364,
          -2.067206628145911,
          -3.0551186282783362,
          -2.173151620142295,
          1.1948613495916902,
          0.9989123638037593,
          1.0033468800946235,
          1.188589690527902,
          1.3986317071603902,
          1.0507123070490811,
          0.9461402919653539,
          0.9822476308298267,
          1.1119432970850787,
          1.230053558240392,
          1.3085977577440386,
          1.348201817746762,
          1.3554004116454808,
          1.2968883258765143,
          1.3991598762433235,
          1.317440899450916,
          1.502417983449172,
          1.4994031470100329,
          1.6315111190071532,
          1.6664091513740555,
          1.2940980102992117,
          1.273860603722457,
          1.3532639746469088,
          1.2573741667770835,
          1.4743302363044233,
          1.3507858213169737,
          1.5677291742511186,
          1.4802739079892815,
          1.6667857336978915,
          1.5675643111237196,
          -1.6465824391243264,
          -1.2515446804575945,
          -1.4247716884916946,
          -1.0970754045281559,
          -1.243896299602687,
          -0.9548937366926826,
          -1.2983684731005212,
          -1.0043014988769383,
          -1.4987722257669818,
          -1.3421689016664862,
          -1.6036852289639985,
          -0.9869552847966603,
          -1.5025414042531098,
          -0.9302650100878432,
          -1.4156140042171563,
          -0.877508191695784,
          -1.2854551249103316,
          -0.7605131488808219,
          -1.5006798032212652,
          -1.1701830341490456,
          -0.5174607483209861,
          -0.4606972689798171,
          -0.5828763856718274,
          -0.8428449960462898,
          -1.6569182049943338,
          0.4336593624354673,
          -0.3386184864463143,
          -0.1202798710847057,
          -0.4339452694493986,
          -0.5724010520438381,
          -1.4979883313374402,
          0.627374945925635,
          -0.1952917552395539,
          -0.06966365142348405,
          -0.3267126245590251,
          -0.5001990738936458,
          -1.2428498162010415,
          0.7864266548901135,
          -0.3092918429896717,
          -0.21042822219937413,
          -0.48320537180753853,
          -0.5864702643724539,
          -1.3866494603921813,
          0.7135190521418137,
          -0.6012993535457131,
          -0.259425407206699,
          -0.865869526291218,
          -0.9400421238024429,
          -1.8065380793995187,
          0.7361539516881123,
          -0.5615291441238507,
          -1.2631284572755321,
          -0.5279574214608627,
          -1.219174293026574,
          -1.314493000975966,
          0.731361718685579,
          -0.4006400405727212,
          -0.899646839548999,
          -0.48075854716779487,
          -0.9842330678179697,
          -1.188563670093752,
          0.827258579041194,
          -0.3306058876618362,
          -0.8888557978641406,
          -0.4480007817501313,
          -0.9755197394900562,
          -1.1034459719402974,
          0.9080070538210774,
          -0.1855150413643173,
          -0.8174428559075574,
          -0.387947400308143,
          -0.7073878844706064,
          -1.049516702031292,
          1.0229418128724435,
          -0.8584828207329335,
          -0.6302061146276476,
          -1.1815936413894932,
          -1.1845195093167047,
          -1.6511712832007306,
          0.917462218581854,
          -0.10008327704754884,
          1.093975839825331,
          0.523931018905421,
          -0.3955720017803247,
          -0.5456899433194464,
          -0.6069506269578571,
          0.17773555087958928,
          -0.17781875464936336,
          -0.10081737871553872,
          1.00239825865321,
          0.46267458887725726,
          -0.3692091020979778,
          -0.4352859308342863,
          -0.5900959719878374,
          0.2204513700845423,
          -0.24579994681205272,
          -0.07573289989150075,
          0.894442176746458,
          0.37130056847712023,
          -0.30122439475178037,
          -0.2847827874555234,
          -0.5109880823528063,
          0.2921651903112286,
          -0.264408406121592,
          0.03737041622467176,
          0.7883535131089244,
          0.3373182346083196,
          -0.15313633387165357,
          -0.058829997071170426,
          -0.2975563875346561,
          0.4100826574328155,
          -0.14214716412581968,
          0.08839392927571386,
          0.4746095845918509,
          0.5159145374255101,
          0.09636710900330935,
          0.13477444809046213,
          -0.046140907720426415,
          0.6408561851126888,
          -0.12834540689942964,
          -0.07599644677663156,
          0.9455363303535946,
          0.6767302151565545,
          -0.4144737577250633,
          -0.529970651787907,
          -0.43617022407721195,
          0.27609031738036405,
          -0.1832618665846807,
          -0.061579428648222516,
          0.8785909909698213,
          0.6158307787263176,
          -0.3940014787005737,
          -0.3776699718519519,
          -0.4024273208248856,
          0.2957989185340941,
          -0.26768871888347023,
          -0.044802754264140134,
          0.7402903732714182,
          0.6035970519640739,
          -0.23724089352491234,
          -0.2009990861304215,
          -0.31149004921480744,
          0.41119621176083637,
          -0.18845526267394616,
          -0.1334374530680604,
          0.4199164700705642,
          0.4184879716340744,
          -0.3340897526884777,
          -0.19518841633076778,
          -0.38686560683711413,
          0.31829951799334,
          -0.3399642232389486,
          -0.1943842117630178,
          0.24633421241873854,
          0.6752497886461692,
          -0.03870607681580663,
          -0.0860577050586228,
          -0.3610931644047143,
          0.44100278836021,
          -0.08922974302238464,
          -0.19296105245811063,
          0.6277945169360729,
          -0.264980872301638,
          0.6111888632055833,
          -0.27610147520121814,
          0.6783454385756696,
          -0.08444184359797069,
          0.7725698083066922,
          0.30642055083292097,
          1.0166369654400627,
          -0.15331638749196783,
          0.3688611025831038,
          -0.21457972708461667,
          0.4164352712068263,
          -0.17338255052595325,
          0.5097999114433778,
          -0.1336970219768892,
          0.5681355234304154,
          0.1640604593605805,
          0.7990327324847201,
          0.4643994550555449,
          0.8367581600001702,
          1.7594022319497493,
          -0.027577276358558674,
          0.46308311070971747,
          0.8250887648137355,
          1.5688631425054373,
          -0.24009736635310916,
          0.4733896253527773,
          0.731051793837202,
          1.3526664649111726,
          -0.37082916782699843,
          0.6549403599407101,
          0.8159307912937007,
          1.2526137933153012,
          -0.31210543772513455,
          0.8605317884413756,
          0.8914468933029026,
          1.2911269962542824,
          -0.276544733716399,
          0.6488534606916123,
          0.8500915130690425,
          1.7148719893549247,
          0.06265530985055433,
          0.6663557822679577,
          0.8508745635823115,
          1.5685807538283567,
          -0.10305931715834638,
          0.6967598720059559,
          0.8294091533387834,
          1.4638122576815413,
          -0.15645227317151725,
          0.643159612043784,
          0.765221485625833,
          1.2919980488592302,
          -0.28013646349312915,
          0.9436125551514905,
          0.9303661220558508,
          1.3979773521773118,
          -0.13370332412583133,
          0.662904210650312,
          0.7041698243949626,
          0.7139004971928852,
          0.7914837925301691,
          0.7953531197173979,
          0.4842885624137184,
          0.6643320029875013,
          0.7258302048192189,
          0.7520019115267367,
          0.9034555717556395,
          -1.1574155779845534,
          -1.000572615691403,
          -1.3120973489689383,
          -1.0577492703146414,
          -1.1239969989020122,
          -0.8674097432486811,
          -1.4439268149844093,
          -0.8611098470186281,
          -1.0201942475300214,
          -0.6067334103955367,
          -1.7161281091358835,
          -0.6037013315219,
          -0.9166997246666404,
          -0.5757059183455062,
          -1.9154610494515294,
          -0.5320036665069321,
          -1.0858809402388017,
          -0.5653770756515368,
          -2.1169663425492296,
          -0.7238473365125719,
          -0.7959812058554875,
          -0.6537321404163722,
          -0.7740152375638627,
          -0.7007266508558425,
          -0.8251755126915674,
          -0.49769855508103167,
          -0.9814770822782491,
          -0.5801538828505279,
          -0.804181752960898,
          -0.285471048816603,
          -1.3449252036748087,
          -0.37785142746220324,
          -0.5595582116971036,
          0.050086458151385536,
          -1.3468980417189462,
          -0.12854560731931816,
          -0.5159320552444051,
          0.171628909774613,
          -1.429356015234016,
          -0.2413476504303558
         ]
        },
        {
         "marker": {
          "color": "red",
          "size": 10,
          "symbol": "circle"
         },
         "mode": "markers",
         "type": "scatter3d",
         "x": [
          -0.783132530120482,
          1,
          -1,
          1
         ],
         "y": [
          0.11075166452319417,
          -0.7125460641187514,
          -0.0515110900202121,
          1.0606601717798205
         ],
         "z": [
          -1.3816819145665746,
          0.1287036081570759,
          0.5753833562988014,
          0.1286656168312462
         ]
        }
       ],
       "layout": {
        "coloraxis": {
         "colorbar": {
          "title": {
           "text": "color"
          }
         },
         "colorscale": [
          [
           0,
           "#0d0887"
          ],
          [
           0.1111111111111111,
           "#46039f"
          ],
          [
           0.2222222222222222,
           "#7201a8"
          ],
          [
           0.3333333333333333,
           "#9c179e"
          ],
          [
           0.4444444444444444,
           "#bd3786"
          ],
          [
           0.5555555555555556,
           "#d8576b"
          ],
          [
           0.6666666666666666,
           "#ed7953"
          ],
          [
           0.7777777777777778,
           "#fb9f3a"
          ],
          [
           0.8888888888888888,
           "#fdca26"
          ],
          [
           1,
           "#f0f921"
          ]
         ]
        },
        "legend": {
         "tracegroupgap": 0
        },
        "margin": {
         "t": 60
        },
        "scene": {
         "domain": {
          "x": [
           0,
           1
          ],
          "y": [
           0,
           1
          ]
         },
         "xaxis": {
          "title": {
           "text": "Køn (skaleret)"
          }
         },
         "yaxis": {
          "title": {
           "text": "Alder (skaleret)"
          }
         },
         "zaxis": {
          "title": {
           "text": "Score (skaleret)"
          }
         }
        },
        "template": {
         "data": {
          "bar": [
           {
            "error_x": {
             "color": "#2a3f5f"
            },
            "error_y": {
             "color": "#2a3f5f"
            },
            "marker": {
             "line": {
              "color": "#E5ECF6",
              "width": 0.5
             },
             "pattern": {
              "fillmode": "overlay",
              "size": 10,
              "solidity": 0.2
             }
            },
            "type": "bar"
           }
          ],
          "barpolar": [
           {
            "marker": {
             "line": {
              "color": "#E5ECF6",
              "width": 0.5
             },
             "pattern": {
              "fillmode": "overlay",
              "size": 10,
              "solidity": 0.2
             }
            },
            "type": "barpolar"
           }
          ],
          "carpet": [
           {
            "aaxis": {
             "endlinecolor": "#2a3f5f",
             "gridcolor": "white",
             "linecolor": "white",
             "minorgridcolor": "white",
             "startlinecolor": "#2a3f5f"
            },
            "baxis": {
             "endlinecolor": "#2a3f5f",
             "gridcolor": "white",
             "linecolor": "white",
             "minorgridcolor": "white",
             "startlinecolor": "#2a3f5f"
            },
            "type": "carpet"
           }
          ],
          "choropleth": [
           {
            "colorbar": {
             "outlinewidth": 0,
             "ticks": ""
            },
            "type": "choropleth"
           }
          ],
          "contour": [
           {
            "colorbar": {
             "outlinewidth": 0,
             "ticks": ""
            },
            "colorscale": [
             [
              0,
              "#0d0887"
             ],
             [
              0.1111111111111111,
              "#46039f"
             ],
             [
              0.2222222222222222,
              "#7201a8"
             ],
             [
              0.3333333333333333,
              "#9c179e"
             ],
             [
              0.4444444444444444,
              "#bd3786"
             ],
             [
              0.5555555555555556,
              "#d8576b"
             ],
             [
              0.6666666666666666,
              "#ed7953"
             ],
             [
              0.7777777777777778,
              "#fb9f3a"
             ],
             [
              0.8888888888888888,
              "#fdca26"
             ],
             [
              1,
              "#f0f921"
             ]
            ],
            "type": "contour"
           }
          ],
          "contourcarpet": [
           {
            "colorbar": {
             "outlinewidth": 0,
             "ticks": ""
            },
            "type": "contourcarpet"
           }
          ],
          "heatmap": [
           {
            "colorbar": {
             "outlinewidth": 0,
             "ticks": ""
            },
            "colorscale": [
             [
              0,
              "#0d0887"
             ],
             [
              0.1111111111111111,
              "#46039f"
             ],
             [
              0.2222222222222222,
              "#7201a8"
             ],
             [
              0.3333333333333333,
              "#9c179e"
             ],
             [
              0.4444444444444444,
              "#bd3786"
             ],
             [
              0.5555555555555556,
              "#d8576b"
             ],
             [
              0.6666666666666666,
              "#ed7953"
             ],
             [
              0.7777777777777778,
              "#fb9f3a"
             ],
             [
              0.8888888888888888,
              "#fdca26"
             ],
             [
              1,
              "#f0f921"
             ]
            ],
            "type": "heatmap"
           }
          ],
          "heatmapgl": [
           {
            "colorbar": {
             "outlinewidth": 0,
             "ticks": ""
            },
            "colorscale": [
             [
              0,
              "#0d0887"
             ],
             [
              0.1111111111111111,
              "#46039f"
             ],
             [
              0.2222222222222222,
              "#7201a8"
             ],
             [
              0.3333333333333333,
              "#9c179e"
             ],
             [
              0.4444444444444444,
              "#bd3786"
             ],
             [
              0.5555555555555556,
              "#d8576b"
             ],
             [
              0.6666666666666666,
              "#ed7953"
             ],
             [
              0.7777777777777778,
              "#fb9f3a"
             ],
             [
              0.8888888888888888,
              "#fdca26"
             ],
             [
              1,
              "#f0f921"
             ]
            ],
            "type": "heatmapgl"
           }
          ],
          "histogram": [
           {
            "marker": {
             "pattern": {
              "fillmode": "overlay",
              "size": 10,
              "solidity": 0.2
             }
            },
            "type": "histogram"
           }
          ],
          "histogram2d": [
           {
            "colorbar": {
             "outlinewidth": 0,
             "ticks": ""
            },
            "colorscale": [
             [
              0,
              "#0d0887"
             ],
             [
              0.1111111111111111,
              "#46039f"
             ],
             [
              0.2222222222222222,
              "#7201a8"
             ],
             [
              0.3333333333333333,
              "#9c179e"
             ],
             [
              0.4444444444444444,
              "#bd3786"
             ],
             [
              0.5555555555555556,
              "#d8576b"
             ],
             [
              0.6666666666666666,
              "#ed7953"
             ],
             [
              0.7777777777777778,
              "#fb9f3a"
             ],
             [
              0.8888888888888888,
              "#fdca26"
             ],
             [
              1,
              "#f0f921"
             ]
            ],
            "type": "histogram2d"
           }
          ],
          "histogram2dcontour": [
           {
            "colorbar": {
             "outlinewidth": 0,
             "ticks": ""
            },
            "colorscale": [
             [
              0,
              "#0d0887"
             ],
             [
              0.1111111111111111,
              "#46039f"
             ],
             [
              0.2222222222222222,
              "#7201a8"
             ],
             [
              0.3333333333333333,
              "#9c179e"
             ],
             [
              0.4444444444444444,
              "#bd3786"
             ],
             [
              0.5555555555555556,
              "#d8576b"
             ],
             [
              0.6666666666666666,
              "#ed7953"
             ],
             [
              0.7777777777777778,
              "#fb9f3a"
             ],
             [
              0.8888888888888888,
              "#fdca26"
             ],
             [
              1,
              "#f0f921"
             ]
            ],
            "type": "histogram2dcontour"
           }
          ],
          "mesh3d": [
           {
            "colorbar": {
             "outlinewidth": 0,
             "ticks": ""
            },
            "type": "mesh3d"
           }
          ],
          "parcoords": [
           {
            "line": {
             "colorbar": {
              "outlinewidth": 0,
              "ticks": ""
             }
            },
            "type": "parcoords"
           }
          ],
          "pie": [
           {
            "automargin": true,
            "type": "pie"
           }
          ],
          "scatter": [
           {
            "fillpattern": {
             "fillmode": "overlay",
             "size": 10,
             "solidity": 0.2
            },
            "type": "scatter"
           }
          ],
          "scatter3d": [
           {
            "line": {
             "colorbar": {
              "outlinewidth": 0,
              "ticks": ""
             }
            },
            "marker": {
             "colorbar": {
              "outlinewidth": 0,
              "ticks": ""
             }
            },
            "type": "scatter3d"
           }
          ],
          "scattercarpet": [
           {
            "marker": {
             "colorbar": {
              "outlinewidth": 0,
              "ticks": ""
             }
            },
            "type": "scattercarpet"
           }
          ],
          "scattergeo": [
           {
            "marker": {
             "colorbar": {
              "outlinewidth": 0,
              "ticks": ""
             }
            },
            "type": "scattergeo"
           }
          ],
          "scattergl": [
           {
            "marker": {
             "colorbar": {
              "outlinewidth": 0,
              "ticks": ""
             }
            },
            "type": "scattergl"
           }
          ],
          "scattermapbox": [
           {
            "marker": {
             "colorbar": {
              "outlinewidth": 0,
              "ticks": ""
             }
            },
            "type": "scattermapbox"
           }
          ],
          "scatterpolar": [
           {
            "marker": {
             "colorbar": {
              "outlinewidth": 0,
              "ticks": ""
             }
            },
            "type": "scatterpolar"
           }
          ],
          "scatterpolargl": [
           {
            "marker": {
             "colorbar": {
              "outlinewidth": 0,
              "ticks": ""
             }
            },
            "type": "scatterpolargl"
           }
          ],
          "scatterternary": [
           {
            "marker": {
             "colorbar": {
              "outlinewidth": 0,
              "ticks": ""
             }
            },
            "type": "scatterternary"
           }
          ],
          "surface": [
           {
            "colorbar": {
             "outlinewidth": 0,
             "ticks": ""
            },
            "colorscale": [
             [
              0,
              "#0d0887"
             ],
             [
              0.1111111111111111,
              "#46039f"
             ],
             [
              0.2222222222222222,
              "#7201a8"
             ],
             [
              0.3333333333333333,
              "#9c179e"
             ],
             [
              0.4444444444444444,
              "#bd3786"
             ],
             [
              0.5555555555555556,
              "#d8576b"
             ],
             [
              0.6666666666666666,
              "#ed7953"
             ],
             [
              0.7777777777777778,
              "#fb9f3a"
             ],
             [
              0.8888888888888888,
              "#fdca26"
             ],
             [
              1,
              "#f0f921"
             ]
            ],
            "type": "surface"
           }
          ],
          "table": [
           {
            "cells": {
             "fill": {
              "color": "#EBF0F8"
             },
             "line": {
              "color": "white"
             }
            },
            "header": {
             "fill": {
              "color": "#C8D4E3"
             },
             "line": {
              "color": "white"
             }
            },
            "type": "table"
           }
          ]
         },
         "layout": {
          "annotationdefaults": {
           "arrowcolor": "#2a3f5f",
           "arrowhead": 0,
           "arrowwidth": 1
          },
          "autotypenumbers": "strict",
          "coloraxis": {
           "colorbar": {
            "outlinewidth": 0,
            "ticks": ""
           }
          },
          "colorscale": {
           "diverging": [
            [
             0,
             "#8e0152"
            ],
            [
             0.1,
             "#c51b7d"
            ],
            [
             0.2,
             "#de77ae"
            ],
            [
             0.3,
             "#f1b6da"
            ],
            [
             0.4,
             "#fde0ef"
            ],
            [
             0.5,
             "#f7f7f7"
            ],
            [
             0.6,
             "#e6f5d0"
            ],
            [
             0.7,
             "#b8e186"
            ],
            [
             0.8,
             "#7fbc41"
            ],
            [
             0.9,
             "#4d9221"
            ],
            [
             1,
             "#276419"
            ]
           ],
           "sequential": [
            [
             0,
             "#0d0887"
            ],
            [
             0.1111111111111111,
             "#46039f"
            ],
            [
             0.2222222222222222,
             "#7201a8"
            ],
            [
             0.3333333333333333,
             "#9c179e"
            ],
            [
             0.4444444444444444,
             "#bd3786"
            ],
            [
             0.5555555555555556,
             "#d8576b"
            ],
            [
             0.6666666666666666,
             "#ed7953"
            ],
            [
             0.7777777777777778,
             "#fb9f3a"
            ],
            [
             0.8888888888888888,
             "#fdca26"
            ],
            [
             1,
             "#f0f921"
            ]
           ],
           "sequentialminus": [
            [
             0,
             "#0d0887"
            ],
            [
             0.1111111111111111,
             "#46039f"
            ],
            [
             0.2222222222222222,
             "#7201a8"
            ],
            [
             0.3333333333333333,
             "#9c179e"
            ],
            [
             0.4444444444444444,
             "#bd3786"
            ],
            [
             0.5555555555555556,
             "#d8576b"
            ],
            [
             0.6666666666666666,
             "#ed7953"
            ],
            [
             0.7777777777777778,
             "#fb9f3a"
            ],
            [
             0.8888888888888888,
             "#fdca26"
            ],
            [
             1,
             "#f0f921"
            ]
           ]
          },
          "colorway": [
           "#636efa",
           "#EF553B",
           "#00cc96",
           "#ab63fa",
           "#FFA15A",
           "#19d3f3",
           "#FF6692",
           "#B6E880",
           "#FF97FF",
           "#FECB52"
          ],
          "font": {
           "color": "#2a3f5f"
          },
          "geo": {
           "bgcolor": "white",
           "lakecolor": "white",
           "landcolor": "#E5ECF6",
           "showlakes": true,
           "showland": true,
           "subunitcolor": "white"
          },
          "hoverlabel": {
           "align": "left"
          },
          "hovermode": "closest",
          "mapbox": {
           "style": "light"
          },
          "paper_bgcolor": "white",
          "plot_bgcolor": "#E5ECF6",
          "polar": {
           "angularaxis": {
            "gridcolor": "white",
            "linecolor": "white",
            "ticks": ""
           },
           "bgcolor": "#E5ECF6",
           "radialaxis": {
            "gridcolor": "white",
            "linecolor": "white",
            "ticks": ""
           }
          },
          "scene": {
           "xaxis": {
            "backgroundcolor": "#E5ECF6",
            "gridcolor": "white",
            "gridwidth": 2,
            "linecolor": "white",
            "showbackground": true,
            "ticks": "",
            "zerolinecolor": "white"
           },
           "yaxis": {
            "backgroundcolor": "#E5ECF6",
            "gridcolor": "white",
            "gridwidth": 2,
            "linecolor": "white",
            "showbackground": true,
            "ticks": "",
            "zerolinecolor": "white"
           },
           "zaxis": {
            "backgroundcolor": "#E5ECF6",
            "gridcolor": "white",
            "gridwidth": 2,
            "linecolor": "white",
            "showbackground": true,
            "ticks": "",
            "zerolinecolor": "white"
           }
          },
          "shapedefaults": {
           "line": {
            "color": "#2a3f5f"
           }
          },
          "ternary": {
           "aaxis": {
            "gridcolor": "white",
            "linecolor": "white",
            "ticks": ""
           },
           "baxis": {
            "gridcolor": "white",
            "linecolor": "white",
            "ticks": ""
           },
           "bgcolor": "#E5ECF6",
           "caxis": {
            "gridcolor": "white",
            "linecolor": "white",
            "ticks": ""
           }
          },
          "title": {
           "x": 0.05
          },
          "xaxis": {
           "automargin": true,
           "gridcolor": "white",
           "linecolor": "white",
           "ticks": "",
           "title": {
            "standoff": 15
           },
           "zerolinecolor": "white",
           "zerolinewidth": 2
          },
          "yaxis": {
           "automargin": true,
           "gridcolor": "white",
           "linecolor": "white",
           "ticks": "",
           "title": {
            "standoff": 15
           },
           "zerolinecolor": "white",
           "zerolinewidth": 2
          }
         }
        }
       }
      }
     },
     "metadata": {},
     "output_type": "display_data"
    }
   ],
   "source": [
    "# Lav K-means clustering\n",
    "kmeans = KMeans(n_clusters=4)\n",
    "kmeans.fit(scaled_features)\n",
    "\n",
    "# Tilføj cluster labels til data framen\n",
    "koen_alder_no_total['Cluster'] = kmeans.labels_\n",
    "\n",
    "# Udtræk cluster centers\n",
    "cluster_centers = kmeans.cluster_centers_\n",
    "\n",
    "# Udtræk koordinaterne af de forskellige clusters\n",
    "x = scaled_features[:, 0]\n",
    "y = scaled_features[:, 1]\n",
    "z = scaled_features[:, 2]\n",
    "\n",
    "# Plot data points\n",
    "fig = px.scatter_3d(x=x, y=y, z=z, color=kmeans.labels_, color_discrete_sequence=px.colors.sequential.Viridis)\n",
    "\n",
    "# Plot cluster centers\n",
    "fig.add_scatter3d(x=cluster_centers[:, 0], y=cluster_centers[:, 1], z=cluster_centers[:, 2], mode='markers', marker=dict(size=10, color='red', symbol='circle'))\n",
    "\n",
    "# Vis plottet\n",
    "fig.update_layout(scene=dict(xaxis_title='Køn (skaleret)', yaxis_title='Alder (skaleret)', zaxis_title='Score (skaleret)'))\n",
    "fig.show()"
   ]
  },
  {
   "attachments": {},
   "cell_type": "markdown",
   "metadata": {},
   "source": [
    "#### Problemstilling: XYZ\n",
    "\n",
    "#### **Finding 4: Svar til ovenfor**\n",
    "\n",
    "Tekst"
   ]
  }
 ],
 "metadata": {
  "kernelspec": {
   "display_name": "Python 3",
   "language": "python",
   "name": "python3"
  },
  "language_info": {
   "codemirror_mode": {
    "name": "ipython",
    "version": 3
   },
   "file_extension": ".py",
   "mimetype": "text/x-python",
   "name": "python",
   "nbconvert_exporter": "python",
   "pygments_lexer": "ipython3",
   "version": "3.10.6"
  },
  "orig_nbformat": 4,
  "vscode": {
   "interpreter": {
    "hash": "6d7f2a304b479854edc588ca56f1f193c9733b369c65d86cad686dc45ead034f"
   }
  }
 },
 "nbformat": 4,
 "nbformat_minor": 2
}
