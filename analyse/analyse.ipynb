{
 "cells": [
  {
   "attachments": {},
   "cell_type": "markdown",
   "metadata": {},
   "source": [
    "# 🔬 Initialization & data wrangling\n",
    "\n",
    "I denne blok sættes environmentet op, med initialisering af nødvendige libraries samt upload af data. Formålet er at skabe et udgangspunkt for data analyse med python og dets stærke data wrangling toolkits såsom pandas og numpy, data analysis vha. seaborn og kvantitativ analyse hjulpet af machine learning librariet scikit-learn "
   ]
  },
  {
   "cell_type": "markdown",
   "metadata": {},
   "source": []
  },
  {
   "cell_type": "code",
   "execution_count": null,
   "metadata": {
    "vscode": {
     "languageId": "plaintext"
    }
   },
   "outputs": [],
   "source": [
    "import pandas as pd"
   ]
  }
 ],
 "metadata": {
  "language_info": {
   "name": "python"
  },
  "orig_nbformat": 4
 },
 "nbformat": 4,
 "nbformat_minor": 2
}
