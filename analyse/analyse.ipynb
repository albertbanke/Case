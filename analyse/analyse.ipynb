{
 "cells": [
  {
   "attachments": {},
   "cell_type": "markdown",
   "metadata": {},
   "source": [
    "To do \n",
    "\n",
    "Tors/fre\n",
    "\n",
    "1. Rød Tråd - fortæl en historie!\n",
    "2. Sammenlign med andre år\n",
    "\n",
    "Findings \n",
    "\n",
    "1. Dårligste og bedste arbejdspladsvilkår i 2018 (branche)\n",
    "2. Største ændring +/- fra 2014-16-18\n",
    "3. Køn/alder (clustering - implikationer ift sensitive attributer)\n",
    "4. Kombination - hvad siger det sammen - og videre analyse, hvad ligger i overfladen, som kan blive bedre med mere data/undersøgelse"
   ]
  },
  {
   "attachments": {},
   "cell_type": "markdown",
   "metadata": {},
   "source": [
    "# Case / PFA / Arbejdstilsynets rapport\n",
    "\n",
    "*af Albert Cort Banke*\n",
    "\n",
    "---\n",
    "\n",
    "## Introduktion\n",
    "\n",
    "Velkommen til min Jupyter Notebook, hvor jeg vil præsentere resultaterne af min undersøgelse af Arbejdstilsynets rapport fra 2018. \n",
    "\n",
    "Notebooken er struktureret i to dele. Første del er en **data wrangling** (DW) del med initialisering og dataforberedelse. Anden del er **dataanalyse** (DA), hvor jeg præsenterer resultater i **EDA (exploratory data analysis)**-delen og resultater i **machine learning-delen**.\n",
    "\n",
    "**Principper for notebooken og kodningen**\n",
    "\n",
    "Med denne notebook stræber jeg efter at opnå tre ting:\n",
    "\n",
    "1. At arbejde så **pythonic** som muligt for at sikre en høj grad af effektivitet og læsbarhed i koden.\n",
    "2. At forklare alle trin med kommentarer for at skabe gennemsigtighed og samtidig gøre det muligt at genskabe resultaterne.\n",
    "3. At visualisere data og modeller for at understøtte mine resultater.\n",
    "\n",
    "**God læsning!**\n"
   ]
  },
  {
   "attachments": {},
   "cell_type": "markdown",
   "metadata": {},
   "source": [
    "_____________________"
   ]
  },
  {
   "attachments": {},
   "cell_type": "markdown",
   "metadata": {},
   "source": [
    "## 1. DW: Initialization & data inspektion\n",
    "\n",
    "I denne blok sættes environmentet op, med initialisering af nødvendige libraries samt upload af data. Formålet er at skabe et udgangspunkt for data analyse med python og dets data wrangling libraries pandas og numpy, data analysis vha. seaborn og kvantitativ analyse hjulpet af machine learning librariet scikit-learn.\n",
    "\n",
    "Notebooken er kodet i Python 3.10.6 med nedenstående libraries og dependencies."
   ]
  },
  {
   "cell_type": "code",
   "execution_count": 1112,
   "metadata": {},
   "outputs": [],
   "source": [
    "# Indlæs libraries\n",
    "\n",
    "# Data wrangling\n",
    "import pandas as pd\n",
    "import numpy as np\n",
    "import re\n",
    "\n",
    "# Visualization \n",
    "import missingno as msno\n",
    "import matplotlib.pyplot as plt\n",
    "import plotly.express as px\n",
    "\n",
    "\n",
    "# Machine learning \n",
    "from sklearn.decomposition import TruncatedSVD"
   ]
  },
  {
   "cell_type": "code",
   "execution_count": 1058,
   "metadata": {},
   "outputs": [
    {
     "name": "stdout",
     "output_type": "stream",
     "text": [
      "Requirement already satisfied: scikit-learn in /Users/albertcortbanke/opt/anaconda3/envs/infomsdasm/lib/python3.10/site-packages (1.2.1)\n",
      "Requirement already satisfied: scipy>=1.3.2 in /Users/albertcortbanke/opt/anaconda3/envs/infomsdasm/lib/python3.10/site-packages (from scikit-learn) (1.9.3)\n",
      "Requirement already satisfied: threadpoolctl>=2.0.0 in /Users/albertcortbanke/opt/anaconda3/envs/infomsdasm/lib/python3.10/site-packages (from scikit-learn) (3.1.0)\n",
      "Requirement already satisfied: joblib>=1.1.1 in /Users/albertcortbanke/opt/anaconda3/envs/infomsdasm/lib/python3.10/site-packages (from scikit-learn) (1.2.0)\n",
      "Requirement already satisfied: numpy>=1.17.3 in /Users/albertcortbanke/opt/anaconda3/envs/infomsdasm/lib/python3.10/site-packages (from scikit-learn) (1.23.4)\n",
      "Note: you may need to restart the kernel to use updated packages.\n"
     ]
    }
   ],
   "source": [
    "%pip install scikit-learn\n",
    "%pip install missingno\n"
   ]
  },
  {
   "cell_type": "code",
   "execution_count": 1227,
   "metadata": {},
   "outputs": [
    {
     "name": "stdout",
     "output_type": "stream",
     "text": [
      "Collecting openpyxl\n",
      "  Downloading openpyxl-3.1.1-py2.py3-none-any.whl (249 kB)\n",
      "\u001b[2K     \u001b[90m━━━━━━━━━━━━━━━━━━━━━━━━━━━━━━━━━━━━━━━\u001b[0m \u001b[32m249.8/249.8 kB\u001b[0m \u001b[31m9.0 MB/s\u001b[0m eta \u001b[36m0:00:00\u001b[0m\n",
      "\u001b[?25hCollecting et-xmlfile\n",
      "  Downloading et_xmlfile-1.1.0-py3-none-any.whl (4.7 kB)\n",
      "Installing collected packages: et-xmlfile, openpyxl\n",
      "Successfully installed et-xmlfile-1.1.0 openpyxl-3.1.1\n",
      "Note: you may need to restart the kernel to use updated packages.\n"
     ]
    }
   ],
   "source": [
    "%pip install openpyxl"
   ]
  },
  {
   "attachments": {},
   "cell_type": "markdown",
   "metadata": {},
   "source": [
    "### 1. Indlæs og inspicer dataet\n",
    "\n",
    "Data består af to semikolonseparerede filer fra det Nationale Center For Arbejdsmiljøs undersøgelse om fysiske og psykiske forhold fra 50.000 adspurgte danskere i 2018.\n",
    "\n",
    "Det ene ark vedrører brancher og jobtyper. Det andet ark vedrører alder og køn."
   ]
  },
  {
   "cell_type": "code",
   "execution_count": 1060,
   "metadata": {},
   "outputs": [],
   "source": [
    "# Filepaths, tilpas disse til lokal-sti\n",
    "\n",
    "brancher_fp = r'/Users/albertcortbanke/Case/data/arbejdsmarkedsanalyse_brancher.csv'\n",
    "koen_alder_fp = r'/Users/albertcortbanke/Case/data/arbejdsmarkedsanalyse_koen_alder.csv'"
   ]
  },
  {
   "cell_type": "code",
   "execution_count": 1061,
   "metadata": {},
   "outputs": [],
   "source": [
    "# Indlæs data med pandas read_csv, brug delimiter = ; til at spalte data korrekt og samtidig enconding = 'latin-1' for at tilpasse encoding til dataet (det er lidt... funky)\n",
    "\n",
    "branche_data = pd.read_csv(brancher_fp, delimiter = \";\", encoding='latin-1')\n",
    "koen_alder_data = pd.read_csv(koen_alder_fp, delimiter = \";\", encoding='latin-1')"
   ]
  },
  {
   "cell_type": "code",
   "execution_count": 1062,
   "metadata": {},
   "outputs": [
    {
     "data": {
      "text/html": [
       "<div>\n",
       "<style scoped>\n",
       "    .dataframe tbody tr th:only-of-type {\n",
       "        vertical-align: middle;\n",
       "    }\n",
       "\n",
       "    .dataframe tbody tr th {\n",
       "        vertical-align: top;\n",
       "    }\n",
       "\n",
       "    .dataframe thead th {\n",
       "        text-align: right;\n",
       "    }\n",
       "</style>\n",
       "<table border=\"1\" class=\"dataframe\">\n",
       "  <thead>\n",
       "    <tr style=\"text-align: right;\">\n",
       "      <th></th>\n",
       "      <th>Field Values Index</th>\n",
       "      <th>Ordforklaring</th>\n",
       "      <th>Akse</th>\n",
       "      <th>Farveskala</th>\n",
       "      <th>Field Values Index (Fixed)</th>\n",
       "      <th>Navigation - Arbejdsmiljøprofiler</th>\n",
       "      <th>Score (Indekseret score) (gennemsnit)</th>\n",
       "      <th>Score (Indekseret score) (gennemsnit) (label)</th>\n",
       "      <th>Score (Total) (Fixed)</th>\n",
       "      <th>Gennemsnit</th>\n",
       "      <th>...</th>\n",
       "      <th>Main Group</th>\n",
       "      <th>Score</th>\n",
       "      <th>Field Values</th>\n",
       "      <th>Mean</th>\n",
       "      <th>Question Label</th>\n",
       "      <th>Sluttekst</th>\n",
       "      <th>Spm Formulering</th>\n",
       "      <th>Topic Label</th>\n",
       "      <th>Type</th>\n",
       "      <th>Year</th>\n",
       "    </tr>\n",
       "  </thead>\n",
       "  <tbody>\n",
       "    <tr>\n",
       "      <th>0</th>\n",
       "      <td>49,824544</td>\n",
       "      <td>Spørgsmål: Hvor ofte oplever du, at du har nok...</td>\n",
       "      <td>Score</td>\n",
       "      <td>-5,059771093</td>\n",
       "      <td>54,88431509</td>\n",
       "      <td>Arbejdsmiljøprofiler</td>\n",
       "      <td>52,18088073</td>\n",
       "      <td>2,609044037</td>\n",
       "      <td>-2,609044037</td>\n",
       "      <td>NaN</td>\n",
       "      <td>...</td>\n",
       "      <td>Job</td>\n",
       "      <td>2,658698159</td>\n",
       "      <td>-2,658698159</td>\n",
       "      <td>2,658698159</td>\n",
       "      <td>Ikke nok tid til arbejdsopgaver</td>\n",
       "      <td>I resultaterne præsenteres den gennemsnitlige ...</td>\n",
       "      <td>Hvor ofte oplever du, at du har nok tid til di...</td>\n",
       "      <td>Kvantitative krav og grænseløshed</td>\n",
       "      <td>kont</td>\n",
       "      <td>2018</td>\n",
       "    </tr>\n",
       "    <tr>\n",
       "      <th>1</th>\n",
       "      <td>59,24585073</td>\n",
       "      <td>Spørgsmål: Hvor ofte oplever du, at du har nok...</td>\n",
       "      <td>Score</td>\n",
       "      <td>4,361535635</td>\n",
       "      <td>54,88431509</td>\n",
       "      <td>Arbejdsmiljøprofiler</td>\n",
       "      <td>52,18088073</td>\n",
       "      <td>2,609044037</td>\n",
       "      <td>-2,609044037</td>\n",
       "      <td>NaN</td>\n",
       "      <td>...</td>\n",
       "      <td>Job</td>\n",
       "      <td>2,566242056</td>\n",
       "      <td>-2,566242056</td>\n",
       "      <td>2,566242056</td>\n",
       "      <td>Ikke nok tid til arbejdsopgaver</td>\n",
       "      <td>I resultaterne præsenteres den gennemsnitlige ...</td>\n",
       "      <td>Hvor ofte oplever du, at du har nok tid til di...</td>\n",
       "      <td>Kvantitative krav og grænseløshed</td>\n",
       "      <td>kont</td>\n",
       "      <td>2018</td>\n",
       "    </tr>\n",
       "    <tr>\n",
       "      <th>2</th>\n",
       "      <td>89,95423342</td>\n",
       "      <td>Spørgsmål: Hvor ofte oplever du, at du har nok...</td>\n",
       "      <td>Score</td>\n",
       "      <td>35,06991833</td>\n",
       "      <td>54,88431509</td>\n",
       "      <td>Arbejdsmiljøprofiler</td>\n",
       "      <td>52,18088073</td>\n",
       "      <td>2,609044037</td>\n",
       "      <td>-2,609044037</td>\n",
       "      <td>NaN</td>\n",
       "      <td>...</td>\n",
       "      <td>Job</td>\n",
       "      <td>2,264884984</td>\n",
       "      <td>-2,264884984</td>\n",
       "      <td>2,264884984</td>\n",
       "      <td>Ikke nok tid til arbejdsopgaver</td>\n",
       "      <td>I resultaterne præsenteres den gennemsnitlige ...</td>\n",
       "      <td>Hvor ofte oplever du, at du har nok tid til di...</td>\n",
       "      <td>Kvantitative krav og grænseløshed</td>\n",
       "      <td>kont</td>\n",
       "      <td>2018</td>\n",
       "    </tr>\n",
       "    <tr>\n",
       "      <th>3</th>\n",
       "      <td>44,36525953</td>\n",
       "      <td>Spørgsmål: Hvor ofte oplever du, at du har nok...</td>\n",
       "      <td>Score</td>\n",
       "      <td>-10,51905556</td>\n",
       "      <td>54,88431509</td>\n",
       "      <td>Arbejdsmiljøprofiler</td>\n",
       "      <td>52,18088073</td>\n",
       "      <td>2,609044037</td>\n",
       "      <td>-2,609044037</td>\n",
       "      <td>NaN</td>\n",
       "      <td>...</td>\n",
       "      <td>Job</td>\n",
       "      <td>2,712272911</td>\n",
       "      <td>-2,712272911</td>\n",
       "      <td>2,712272911</td>\n",
       "      <td>Ikke nok tid til arbejdsopgaver</td>\n",
       "      <td>I resultaterne præsenteres den gennemsnitlige ...</td>\n",
       "      <td>Hvor ofte oplever du, at du har nok tid til di...</td>\n",
       "      <td>Kvantitative krav og grænseløshed</td>\n",
       "      <td>kont</td>\n",
       "      <td>2018</td>\n",
       "    </tr>\n",
       "    <tr>\n",
       "      <th>4</th>\n",
       "      <td>85,4477087</td>\n",
       "      <td>Spørgsmål: Hvor ofte oplever du, at du har nok...</td>\n",
       "      <td>Score</td>\n",
       "      <td>30,5633936</td>\n",
       "      <td>54,88431509</td>\n",
       "      <td>Arbejdsmiljøprofiler</td>\n",
       "      <td>52,18088073</td>\n",
       "      <td>2,609044037</td>\n",
       "      <td>-2,609044037</td>\n",
       "      <td>NaN</td>\n",
       "      <td>...</td>\n",
       "      <td>Job</td>\n",
       "      <td>2,309109817</td>\n",
       "      <td>-2,309109817</td>\n",
       "      <td>2,309109817</td>\n",
       "      <td>Ikke nok tid til arbejdsopgaver</td>\n",
       "      <td>I resultaterne præsenteres den gennemsnitlige ...</td>\n",
       "      <td>Hvor ofte oplever du, at du har nok tid til di...</td>\n",
       "      <td>Kvantitative krav og grænseløshed</td>\n",
       "      <td>kont</td>\n",
       "      <td>2018</td>\n",
       "    </tr>\n",
       "  </tbody>\n",
       "</table>\n",
       "<p>5 rows × 41 columns</p>\n",
       "</div>"
      ],
      "text/plain": [
       "  Field Values Index                                      Ordforklaring  \\\n",
       "0          49,824544  Spørgsmål: Hvor ofte oplever du, at du har nok...   \n",
       "1        59,24585073  Spørgsmål: Hvor ofte oplever du, at du har nok...   \n",
       "2        89,95423342  Spørgsmål: Hvor ofte oplever du, at du har nok...   \n",
       "3        44,36525953  Spørgsmål: Hvor ofte oplever du, at du har nok...   \n",
       "4         85,4477087  Spørgsmål: Hvor ofte oplever du, at du har nok...   \n",
       "\n",
       "    Akse    Farveskala Field Values Index (Fixed)  \\\n",
       "0  Score  -5,059771093                54,88431509   \n",
       "1  Score   4,361535635                54,88431509   \n",
       "2  Score   35,06991833                54,88431509   \n",
       "3  Score  -10,51905556                54,88431509   \n",
       "4  Score    30,5633936                54,88431509   \n",
       "\n",
       "  Navigation - Arbejdsmiljøprofiler Score (Indekseret score) (gennemsnit)  \\\n",
       "0              Arbejdsmiljøprofiler                           52,18088073   \n",
       "1              Arbejdsmiljøprofiler                           52,18088073   \n",
       "2              Arbejdsmiljøprofiler                           52,18088073   \n",
       "3              Arbejdsmiljøprofiler                           52,18088073   \n",
       "4              Arbejdsmiljøprofiler                           52,18088073   \n",
       "\n",
       "  Score (Indekseret score) (gennemsnit) (label) Score (Total) (Fixed)  \\\n",
       "0                                   2,609044037          -2,609044037   \n",
       "1                                   2,609044037          -2,609044037   \n",
       "2                                   2,609044037          -2,609044037   \n",
       "3                                   2,609044037          -2,609044037   \n",
       "4                                   2,609044037          -2,609044037   \n",
       "\n",
       "  Gennemsnit  ... Main Group        Score  Field Values         Mean  \\\n",
       "0        NaN  ...        Job  2,658698159  -2,658698159  2,658698159   \n",
       "1        NaN  ...        Job  2,566242056  -2,566242056  2,566242056   \n",
       "2        NaN  ...        Job  2,264884984  -2,264884984  2,264884984   \n",
       "3        NaN  ...        Job  2,712272911  -2,712272911  2,712272911   \n",
       "4        NaN  ...        Job  2,309109817  -2,309109817  2,309109817   \n",
       "\n",
       "                    Question Label  \\\n",
       "0  Ikke nok tid til arbejdsopgaver   \n",
       "1  Ikke nok tid til arbejdsopgaver   \n",
       "2  Ikke nok tid til arbejdsopgaver   \n",
       "3  Ikke nok tid til arbejdsopgaver   \n",
       "4  Ikke nok tid til arbejdsopgaver   \n",
       "\n",
       "                                           Sluttekst  \\\n",
       "0  I resultaterne præsenteres den gennemsnitlige ...   \n",
       "1  I resultaterne præsenteres den gennemsnitlige ...   \n",
       "2  I resultaterne præsenteres den gennemsnitlige ...   \n",
       "3  I resultaterne præsenteres den gennemsnitlige ...   \n",
       "4  I resultaterne præsenteres den gennemsnitlige ...   \n",
       "\n",
       "                                     Spm Formulering  \\\n",
       "0  Hvor ofte oplever du, at du har nok tid til di...   \n",
       "1  Hvor ofte oplever du, at du har nok tid til di...   \n",
       "2  Hvor ofte oplever du, at du har nok tid til di...   \n",
       "3  Hvor ofte oplever du, at du har nok tid til di...   \n",
       "4  Hvor ofte oplever du, at du har nok tid til di...   \n",
       "\n",
       "                         Topic Label  Type  Year  \n",
       "0  Kvantitative krav og grænseløshed  kont  2018  \n",
       "1  Kvantitative krav og grænseløshed  kont  2018  \n",
       "2  Kvantitative krav og grænseløshed  kont  2018  \n",
       "3  Kvantitative krav og grænseløshed  kont  2018  \n",
       "4  Kvantitative krav og grænseløshed  kont  2018  \n",
       "\n",
       "[5 rows x 41 columns]"
      ]
     },
     "execution_count": 1062,
     "metadata": {},
     "output_type": "execute_result"
    }
   ],
   "source": [
    "# Check at begge data frames er blevet loaded korrekt (i.e ingen formatterings-issues eller lignende)\n",
    "\n",
    "branche_data.head() # ser helt fint ud"
   ]
  },
  {
   "cell_type": "code",
   "execution_count": 1063,
   "metadata": {},
   "outputs": [
    {
     "data": {
      "text/html": [
       "<div>\n",
       "<style scoped>\n",
       "    .dataframe tbody tr th:only-of-type {\n",
       "        vertical-align: middle;\n",
       "    }\n",
       "\n",
       "    .dataframe tbody tr th {\n",
       "        vertical-align: top;\n",
       "    }\n",
       "\n",
       "    .dataframe thead th {\n",
       "        text-align: right;\n",
       "    }\n",
       "</style>\n",
       "<table border=\"1\" class=\"dataframe\">\n",
       "  <thead>\n",
       "    <tr style=\"text-align: right;\">\n",
       "      <th></th>\n",
       "      <th>Group</th>\n",
       "      <th>Question Label</th>\n",
       "      <th>Topic Label</th>\n",
       "      <th>Year</th>\n",
       "      <th>Akse</th>\n",
       "      <th>Ordforklaring</th>\n",
       "      <th>Antpers</th>\n",
       "      <th>Farveskala</th>\n",
       "      <th>Gennemsnit</th>\n",
       "      <th>Score (Indekseret score) (gennemsnit) (label)</th>\n",
       "      <th>Score (Indekseret score) (gennemsnit)</th>\n",
       "      <th>Score (Indekseret score)</th>\n",
       "      <th>Score</th>\n",
       "    </tr>\n",
       "  </thead>\n",
       "  <tbody>\n",
       "    <tr>\n",
       "      <th>0</th>\n",
       "      <td>Mænd, 55 - 64 år</td>\n",
       "      <td>Symptomer på angst</td>\n",
       "      <td>Angstsymptomer</td>\n",
       "      <td>2018</td>\n",
       "      <td>Score</td>\n",
       "      <td>Spørgsmål: I de sidste fire uger, hvor meget h...</td>\n",
       "      <td>5080</td>\n",
       "      <td>38,852616243</td>\n",
       "      <td>NaN</td>\n",
       "      <td>NaN</td>\n",
       "      <td>NaN</td>\n",
       "      <td>18,223967423</td>\n",
       "      <td>0,911198371</td>\n",
       "    </tr>\n",
       "    <tr>\n",
       "      <th>1</th>\n",
       "      <td>Mænd, 45 - 54 år</td>\n",
       "      <td>Symptomer på angst</td>\n",
       "      <td>Angstsymptomer</td>\n",
       "      <td>2018</td>\n",
       "      <td>Score</td>\n",
       "      <td>Spørgsmål: I de sidste fire uger, hvor meget h...</td>\n",
       "      <td>5367</td>\n",
       "      <td>29,425529088</td>\n",
       "      <td>NaN</td>\n",
       "      <td>NaN</td>\n",
       "      <td>NaN</td>\n",
       "      <td>19,637802224</td>\n",
       "      <td>0,981890111</td>\n",
       "    </tr>\n",
       "    <tr>\n",
       "      <th>2</th>\n",
       "      <td>Mænd, 35 - 44 år</td>\n",
       "      <td>Symptomer på angst</td>\n",
       "      <td>Angstsymptomer</td>\n",
       "      <td>2018</td>\n",
       "      <td>Score</td>\n",
       "      <td>Spørgsmål: I de sidste fire uger, hvor meget h...</td>\n",
       "      <td>3496</td>\n",
       "      <td>18,435371488</td>\n",
       "      <td>NaN</td>\n",
       "      <td>NaN</td>\n",
       "      <td>NaN</td>\n",
       "      <td>21,286059742</td>\n",
       "      <td>1,064302987</td>\n",
       "    </tr>\n",
       "    <tr>\n",
       "      <th>3</th>\n",
       "      <td>Mænd, 25 - 34 år</td>\n",
       "      <td>Symptomer på angst</td>\n",
       "      <td>Angstsymptomer</td>\n",
       "      <td>2018</td>\n",
       "      <td>Score</td>\n",
       "      <td>Spørgsmål: I de sidste fire uger, hvor meget h...</td>\n",
       "      <td>1876</td>\n",
       "      <td>2,222449347</td>\n",
       "      <td>NaN</td>\n",
       "      <td>NaN</td>\n",
       "      <td>NaN</td>\n",
       "      <td>23,717605476</td>\n",
       "      <td>1,185880274</td>\n",
       "    </tr>\n",
       "    <tr>\n",
       "      <th>4</th>\n",
       "      <td>Mænd, 18 - 24 år</td>\n",
       "      <td>Symptomer på angst</td>\n",
       "      <td>Angstsymptomer</td>\n",
       "      <td>2018</td>\n",
       "      <td>Score</td>\n",
       "      <td>Spørgsmål: I de sidste fire uger, hvor meget h...</td>\n",
       "      <td>591</td>\n",
       "      <td>9,439166690</td>\n",
       "      <td>NaN</td>\n",
       "      <td>NaN</td>\n",
       "      <td>NaN</td>\n",
       "      <td>22,635272623</td>\n",
       "      <td>1,131763631</td>\n",
       "    </tr>\n",
       "  </tbody>\n",
       "</table>\n",
       "</div>"
      ],
      "text/plain": [
       "              Group      Question Label     Topic Label  Year   Akse  \\\n",
       "0  Mænd, 55 - 64 år  Symptomer på angst  Angstsymptomer  2018  Score   \n",
       "1  Mænd, 45 - 54 år  Symptomer på angst  Angstsymptomer  2018  Score   \n",
       "2  Mænd, 35 - 44 år  Symptomer på angst  Angstsymptomer  2018  Score   \n",
       "3  Mænd, 25 - 34 år  Symptomer på angst  Angstsymptomer  2018  Score   \n",
       "4  Mænd, 18 - 24 år  Symptomer på angst  Angstsymptomer  2018  Score   \n",
       "\n",
       "                                       Ordforklaring  Antpers    Farveskala  \\\n",
       "0  Spørgsmål: I de sidste fire uger, hvor meget h...     5080  38,852616243   \n",
       "1  Spørgsmål: I de sidste fire uger, hvor meget h...     5367  29,425529088   \n",
       "2  Spørgsmål: I de sidste fire uger, hvor meget h...     3496  18,435371488   \n",
       "3  Spørgsmål: I de sidste fire uger, hvor meget h...     1876   2,222449347   \n",
       "4  Spørgsmål: I de sidste fire uger, hvor meget h...      591   9,439166690   \n",
       "\n",
       "   Gennemsnit  Score (Indekseret score) (gennemsnit) (label)  \\\n",
       "0         NaN                                            NaN   \n",
       "1         NaN                                            NaN   \n",
       "2         NaN                                            NaN   \n",
       "3         NaN                                            NaN   \n",
       "4         NaN                                            NaN   \n",
       "\n",
       "   Score (Indekseret score) (gennemsnit) Score (Indekseret score)        Score  \n",
       "0                                    NaN             18,223967423  0,911198371  \n",
       "1                                    NaN             19,637802224  0,981890111  \n",
       "2                                    NaN             21,286059742  1,064302987  \n",
       "3                                    NaN             23,717605476  1,185880274  \n",
       "4                                    NaN             22,635272623  1,131763631  "
      ]
     },
     "execution_count": 1063,
     "metadata": {},
     "output_type": "execute_result"
    }
   ],
   "source": [
    "koen_alder_data.head() # ser også fint ud, kolonnerne er sat rigtigt op og der er index"
   ]
  },
  {
   "attachments": {},
   "cell_type": "markdown",
   "metadata": {},
   "source": [
    "**Kort beskrivelse af hvad dataets opgbyning**\n",
    "\n",
    "* Første data frame, branche_alder_data, er en opsamling af surveys om arbejdsmiljø og helbred blandt danskere i arbejdsmarkedet anno 2018. Hver række indeholder et spørgsmål, et svar fra en gruppe (bl.a. Brandmænd, bus- og taxachauffører) og det indekserede gennemsnit (for alle grupper) samt den individuelle score for gruppen.\n",
    "\n",
    "* Anden data frame, koen_alder_data, er en også opsamling af surveys af samme kilde som ovenfor. Forskellen er at grupperingerne er ud fra køn (M/K) og alder i bins (45 - 54 år, 18 - 24 år). \n"
   ]
  },
  {
   "attachments": {},
   "cell_type": "markdown",
   "metadata": {},
   "source": [
    "**To vigtige takeaways fra en initiel inspektion af dataet**\n",
    "\n",
    "1) Vi har at gøre med brede og korte datasæt. Altså datasæt med mange attributer men få instances; eksempelvis har branche_data 8115 rows × 41 columns. Dette giver intuitivt god mening når vi ved at dataet er sampled ud fra grupper, og kolonner som 'Antpers' tit er i tusinde. \n",
    "\n",
    "2) Det ser ud til at det er en del kolonner med manglende data og samtidig er meget af dataet indkodet med den danske (2,423) - hvilket vi gør bedst ved at ændre for computational standards. Lad os dog først tage et dybere kig i manglende data, da det er ekstremt vigtigt at forholde sig til"
   ]
  },
  {
   "cell_type": "code",
   "execution_count": 1064,
   "metadata": {},
   "outputs": [
    {
     "name": "stdout",
     "output_type": "stream",
     "text": [
      "<class 'pandas.core.frame.DataFrame'>\n",
      "RangeIndex: 8115 entries, 0 to 8114\n",
      "Data columns (total 41 columns):\n",
      " #   Column                                         Non-Null Count  Dtype  \n",
      "---  ------                                         --------------  -----  \n",
      " 0   Field Values Index                             8096 non-null   object \n",
      " 1   Ordforklaring                                  7737 non-null   object \n",
      " 2   Akse                                           8096 non-null   object \n",
      " 3   Farveskala                                     8096 non-null   object \n",
      " 4   Field Values Index (Fixed)                     8115 non-null   object \n",
      " 5   Navigation - Arbejdsmiljøprofiler              8115 non-null   object \n",
      " 6   Score (Indekseret score) (gennemsnit)          8115 non-null   object \n",
      " 7   Score (Indekseret score) (gennemsnit) (label)  8115 non-null   object \n",
      " 8   Score (Total) (Fixed)                          8115 non-null   object \n",
      " 9   Gennemsnit                                     109 non-null    object \n",
      " 10  Score (Indekseret score)                       8096 non-null   object \n",
      " 11  Score (Total)                                  109 non-null    object \n",
      " 12  Antpct                                         3308 non-null   object \n",
      " 13  Antpers                                        8115 non-null   int64  \n",
      " 14  Group                                          8115 non-null   object \n",
      " 15  Hoej Score Godt                                8115 non-null   int64  \n",
      " 16  Kategori10                                     152 non-null    float64\n",
      " 17  Kategori11                                     152 non-null    object \n",
      " 18  Kategori12                                     0 non-null      float64\n",
      " 19  Kategori13                                     0 non-null      float64\n",
      " 20  Kategori14                                     0 non-null      float64\n",
      " 21  Kategori15                                     0 non-null      float64\n",
      " 22  Kategori1                                      7737 non-null   object \n",
      " 23  Kategori2                                      7281 non-null   object \n",
      " 24  Kategori3                                      7129 non-null   object \n",
      " 25  Kategori4                                      6602 non-null   object \n",
      " 26  Kategori5                                      6530 non-null   object \n",
      " 27  Kategori6                                      2265 non-null   object \n",
      " 28  Kategori7                                      152 non-null    float64\n",
      " 29  Kategori8                                      152 non-null    float64\n",
      " 30  Kategori9                                      152 non-null    float64\n",
      " 31  Main Group                                     8115 non-null   object \n",
      " 32  Score                                          8096 non-null   object \n",
      " 33  Field Values                                   8096 non-null   object \n",
      " 34  Mean                                           4788 non-null   object \n",
      " 35  Question Label                                 8115 non-null   object \n",
      " 36  Sluttekst                                      7737 non-null   object \n",
      " 37  Spm Formulering                                7737 non-null   object \n",
      " 38  Topic Label                                    8115 non-null   object \n",
      " 39  Type                                           8096 non-null   object \n",
      " 40  Year                                           8115 non-null   int64  \n",
      "dtypes: float64(8), int64(3), object(30)\n",
      "memory usage: 2.5+ MB\n"
     ]
    }
   ],
   "source": [
    "# Her checker vi dataets integritet, ved bl.a. at kigge på antallet af manglende data i de forskellige kolonner med pandas info() method\n",
    "\n",
    "branche_data.info() "
   ]
  },
  {
   "cell_type": "code",
   "execution_count": 1065,
   "metadata": {},
   "outputs": [
    {
     "name": "stdout",
     "output_type": "stream",
     "text": [
      "<class 'pandas.core.frame.DataFrame'>\n",
      "RangeIndex: 1308 entries, 0 to 1307\n",
      "Data columns (total 13 columns):\n",
      " #   Column                                         Non-Null Count  Dtype  \n",
      "---  ------                                         --------------  -----  \n",
      " 0   Group                                          1308 non-null   object \n",
      " 1   Question Label                                 1308 non-null   object \n",
      " 2   Topic Label                                    1308 non-null   object \n",
      " 3   Year                                           1308 non-null   int64  \n",
      " 4   Akse                                           1308 non-null   object \n",
      " 5   Ordforklaring                                  1248 non-null   object \n",
      " 6   Antpers                                        1308 non-null   int64  \n",
      " 7   Farveskala                                     1308 non-null   object \n",
      " 8   Gennemsnit                                     0 non-null      float64\n",
      " 9   Score (Indekseret score) (gennemsnit) (label)  0 non-null      float64\n",
      " 10  Score (Indekseret score) (gennemsnit)          0 non-null      float64\n",
      " 11  Score (Indekseret score)                       1308 non-null   object \n",
      " 12  Score                                          1308 non-null   object \n",
      "dtypes: float64(3), int64(2), object(8)\n",
      "memory usage: 133.0+ KB\n"
     ]
    }
   ],
   "source": [
    "koen_alder_data.info()"
   ]
  },
  {
   "attachments": {},
   "cell_type": "markdown",
   "metadata": {},
   "source": [
    "Ovenstående viser at begge data frames har kolonner der er incomplete. Derudover ser man at det er en blanding af object og int64 data types, alså en blanding af tekst og numeriske værdier. Dette skal addreseres da incompleteness er vigtigt for videre statistiske analyser og machine learning modelling. \n",
    "\n",
    "Til sammenligning er branche_data både bredere (flere kolonner; 41 i alt) og længere (flere rækker; 8115 i alt) end koen_alder_data, der har 13 kolonner og 1308 rækker. \n",
    "\n",
    "Nedenfor visualisereres missingness for at vise, hvor meget data der mangler:"
   ]
  },
  {
   "cell_type": "code",
   "execution_count": 1066,
   "metadata": {},
   "outputs": [
    {
     "data": {
      "text/plain": [
       "<AxesSubplot: >"
      ]
     },
     "execution_count": 1066,
     "metadata": {},
     "output_type": "execute_result"
    },
    {
     "data": {
      "image/png": "[encoded data removed]",
      "text/plain": [
       "<Figure size 2500x1000 with 2 Axes>"
      ]
     },
     "metadata": {},
     "output_type": "display_data"
    }
   ],
   "source": [
    "# Visualisering af manglende data for branche_data\n",
    "msno.matrix(branche_data, color=(0.50, 0.50, 0.50)) # bemærk at alle kolonners titler kan ses her "
   ]
  },
  {
   "cell_type": "code",
   "execution_count": 1067,
   "metadata": {},
   "outputs": [
    {
     "data": {
      "text/plain": [
       "<AxesSubplot: >"
      ]
     },
     "execution_count": 1067,
     "metadata": {},
     "output_type": "execute_result"
    },
    {
     "data": {
      "image/png": "[encoded data removed]",
      "text/plain": [
       "<Figure size 2500x1000 with 2 Axes>"
      ]
     },
     "metadata": {},
     "output_type": "display_data"
    }
   ],
   "source": [
    "# Visualisering af manglende data for koen_alder_data\n",
    "msno.matrix(koen_alder_data, color=(0.50, 0.50, 0.50))"
   ]
  },
  {
   "attachments": {},
   "cell_type": "markdown",
   "metadata": {},
   "source": [
    "Ud fra graferne, kan man se at der skal graves dybere med data transformations i preprocessing steppet for at gøre dataet klar til EDA (eksplorativ data analyse) og modellering. Dette ses bl.a. i kolonnen 'gennemsnit' for branche_data og koen_alder_data, der ekstremt sparse i begge. "
   ]
  },
  {
   "attachments": {},
   "cell_type": "markdown",
   "metadata": {},
   "source": [
    "# 2. DW: Data pre-processing\n",
    "\n",
    "I denne blok pre-processes begge datasæt så de er klar til EDA. Transformationerne hjælper med at enable data og udvinde findings. Principperne for denne data-preprocessing er respekt for det originale stamdata. To vigtige transformationer finder sted:\n",
    "\n",
    "1) Dimensionalitets reduktion. Vi kan ikke gøre os kloge på noget, når der er over 60 kolonner i spil. Vi skal finde de vigtigste og rigeste data kilder i begge data frames.  \n",
    "2) Konvertere data typer til deres korrekte type. Det vil sige objects some 'Score (Total) (Fixed)' skal konverteres fra object til float64.\n",
    "3) Transformere missing data"
   ]
  },
  {
   "attachments": {},
   "cell_type": "markdown",
   "metadata": {},
   "source": [
    "### 1) Dimensionalitets reduktion\n",
    "\n",
    "Især den første data frame, brance_data, har en stor dimensionalitet. For at øge modellering og visualiseringers effekt gør vi os klogt i at vælge de vigtigste kolonner med bedst, og mest, information, for at finde gode findings. Nu da vi har visualiseret hvor dataet er sparse, altså hvor det mangler noget, kan vi bruge det som pejlemærke til denne del. \n",
    "\n",
    "Den bedste måde at gøre dette initielle skridt er at undersøge kolonnerne individuelt, og se om det er nogle kolonner der gengiver det samme eller unødvendig information. For numeriske kolonner kan man eksempelvis bruge correlations analyse til at se om der er høj correlation mellem kolonner. Dette gør vi dog ikke endnu, da dataet mangler at blive transformeret.\n",
    "\n",
    "Efter at have undersøgt data framen branche_data, er det klart at visse kolonner godt kan fjernes. Eksempelvis gentages alle kategorierne i 'Ordforklaring' og derfor kan man beholde sidstnævnte. "
   ]
  },
  {
   "cell_type": "code",
   "execution_count": 1068,
   "metadata": {},
   "outputs": [
    {
     "data": {
      "text/html": [
       "<div>\n",
       "<style scoped>\n",
       "    .dataframe tbody tr th:only-of-type {\n",
       "        vertical-align: middle;\n",
       "    }\n",
       "\n",
       "    .dataframe tbody tr th {\n",
       "        vertical-align: top;\n",
       "    }\n",
       "\n",
       "    .dataframe thead th {\n",
       "        text-align: right;\n",
       "    }\n",
       "</style>\n",
       "<table border=\"1\" class=\"dataframe\">\n",
       "  <thead>\n",
       "    <tr style=\"text-align: right;\">\n",
       "      <th></th>\n",
       "      <th>Ordforklaring</th>\n",
       "      <th>Akse</th>\n",
       "      <th>Score (Indekseret score) (gennemsnit) (label)</th>\n",
       "      <th>Antpct</th>\n",
       "      <th>Antpers</th>\n",
       "      <th>Group</th>\n",
       "      <th>Hoej Score Godt</th>\n",
       "      <th>Score</th>\n",
       "      <th>Question Label</th>\n",
       "      <th>Topic Label</th>\n",
       "      <th>Type</th>\n",
       "      <th>Year</th>\n",
       "    </tr>\n",
       "  </thead>\n",
       "  <tbody>\n",
       "    <tr>\n",
       "      <th>0</th>\n",
       "      <td>Spørgsmål: Hvor ofte oplever du, at du har nok...</td>\n",
       "      <td>Score</td>\n",
       "      <td>2,609044037</td>\n",
       "      <td>NaN</td>\n",
       "      <td>224</td>\n",
       "      <td>Bibliotekarer og beskæftigede med kultur</td>\n",
       "      <td>0</td>\n",
       "      <td>2,658698159</td>\n",
       "      <td>Ikke nok tid til arbejdsopgaver</td>\n",
       "      <td>Kvantitative krav og grænseløshed</td>\n",
       "      <td>kont</td>\n",
       "      <td>2018</td>\n",
       "    </tr>\n",
       "    <tr>\n",
       "      <th>1</th>\n",
       "      <td>Spørgsmål: Hvor ofte oplever du, at du har nok...</td>\n",
       "      <td>Score</td>\n",
       "      <td>2,609044037</td>\n",
       "      <td>NaN</td>\n",
       "      <td>388</td>\n",
       "      <td>Bogholdere</td>\n",
       "      <td>0</td>\n",
       "      <td>2,566242056</td>\n",
       "      <td>Ikke nok tid til arbejdsopgaver</td>\n",
       "      <td>Kvantitative krav og grænseløshed</td>\n",
       "      <td>kont</td>\n",
       "      <td>2018</td>\n",
       "    </tr>\n",
       "    <tr>\n",
       "      <th>2</th>\n",
       "      <td>Spørgsmål: Hvor ofte oplever du, at du har nok...</td>\n",
       "      <td>Score</td>\n",
       "      <td>2,609044037</td>\n",
       "      <td>NaN</td>\n",
       "      <td>189</td>\n",
       "      <td>Brandmænd, reddere og sikkerhedsvagter</td>\n",
       "      <td>0</td>\n",
       "      <td>2,264884984</td>\n",
       "      <td>Ikke nok tid til arbejdsopgaver</td>\n",
       "      <td>Kvantitative krav og grænseløshed</td>\n",
       "      <td>kont</td>\n",
       "      <td>2018</td>\n",
       "    </tr>\n",
       "    <tr>\n",
       "      <th>3</th>\n",
       "      <td>Spørgsmål: Hvor ofte oplever du, at du har nok...</td>\n",
       "      <td>Score</td>\n",
       "      <td>2,609044037</td>\n",
       "      <td>NaN</td>\n",
       "      <td>182</td>\n",
       "      <td>Bude og kurerer</td>\n",
       "      <td>0</td>\n",
       "      <td>2,712272911</td>\n",
       "      <td>Ikke nok tid til arbejdsopgaver</td>\n",
       "      <td>Kvantitative krav og grænseløshed</td>\n",
       "      <td>kont</td>\n",
       "      <td>2018</td>\n",
       "    </tr>\n",
       "    <tr>\n",
       "      <th>4</th>\n",
       "      <td>Spørgsmål: Hvor ofte oplever du, at du har nok...</td>\n",
       "      <td>Score</td>\n",
       "      <td>2,609044037</td>\n",
       "      <td>NaN</td>\n",
       "      <td>280</td>\n",
       "      <td>Bus- og taxachauffører, lokoførere m.fl.</td>\n",
       "      <td>0</td>\n",
       "      <td>2,309109817</td>\n",
       "      <td>Ikke nok tid til arbejdsopgaver</td>\n",
       "      <td>Kvantitative krav og grænseløshed</td>\n",
       "      <td>kont</td>\n",
       "      <td>2018</td>\n",
       "    </tr>\n",
       "  </tbody>\n",
       "</table>\n",
       "</div>"
      ],
      "text/plain": [
       "                                       Ordforklaring   Akse  \\\n",
       "0  Spørgsmål: Hvor ofte oplever du, at du har nok...  Score   \n",
       "1  Spørgsmål: Hvor ofte oplever du, at du har nok...  Score   \n",
       "2  Spørgsmål: Hvor ofte oplever du, at du har nok...  Score   \n",
       "3  Spørgsmål: Hvor ofte oplever du, at du har nok...  Score   \n",
       "4  Spørgsmål: Hvor ofte oplever du, at du har nok...  Score   \n",
       "\n",
       "  Score (Indekseret score) (gennemsnit) (label) Antpct  Antpers  \\\n",
       "0                                   2,609044037    NaN      224   \n",
       "1                                   2,609044037    NaN      388   \n",
       "2                                   2,609044037    NaN      189   \n",
       "3                                   2,609044037    NaN      182   \n",
       "4                                   2,609044037    NaN      280   \n",
       "\n",
       "                                      Group  Hoej Score Godt        Score  \\\n",
       "0  Bibliotekarer og beskæftigede med kultur                0  2,658698159   \n",
       "1                                Bogholdere                0  2,566242056   \n",
       "2    Brandmænd, reddere og sikkerhedsvagter                0  2,264884984   \n",
       "3                           Bude og kurerer                0  2,712272911   \n",
       "4  Bus- og taxachauffører, lokoførere m.fl.                0  2,309109817   \n",
       "\n",
       "                    Question Label                        Topic Label  Type  \\\n",
       "0  Ikke nok tid til arbejdsopgaver  Kvantitative krav og grænseløshed  kont   \n",
       "1  Ikke nok tid til arbejdsopgaver  Kvantitative krav og grænseløshed  kont   \n",
       "2  Ikke nok tid til arbejdsopgaver  Kvantitative krav og grænseløshed  kont   \n",
       "3  Ikke nok tid til arbejdsopgaver  Kvantitative krav og grænseløshed  kont   \n",
       "4  Ikke nok tid til arbejdsopgaver  Kvantitative krav og grænseløshed  kont   \n",
       "\n",
       "   Year  \n",
       "0  2018  \n",
       "1  2018  \n",
       "2  2018  \n",
       "3  2018  \n",
       "4  2018  "
      ]
     },
     "execution_count": 1068,
     "metadata": {},
     "output_type": "execute_result"
    }
   ],
   "source": [
    "# Liste af kolonner der droppes \n",
    "columns_to_drop = ['Spm Formulering', 'Field Values Index', 'Farveskala', 'Field Values Index (Fixed)', 'Navigation - Arbejdsmiljøprofiler', 'Gennemsnit', \n",
    "                   'Score (Total)', 'Main Group', 'Kategori1', 'Kategori2', 'Kategori3', 'Kategori4', 'Kategori5', 'Kategori6', 'Kategori7', 'Kategori8', 'Kategori9',\n",
    "                   'Kategori10', 'Kategori11', 'Kategori12', 'Kategori13', 'Kategori14', 'Kategori15', 'Score (Total) (Fixed)', 'Field Values', 'Mean', 'Sluttekst', \n",
    "                   'Score (Indekseret score) (gennemsnit)', 'Score (Indekseret score)']\n",
    "\n",
    "# Score == Mean == -(Field Values). Derfor nøjes vi med at beholde score & Score (Indekseret score) (gennemsnit) (label)\n",
    "# Bemærk også at det ville være en lille smule mere clean at lave columns to keep, men at det er vigtigt at vise, hvad der fjernes fra data framen\n",
    "\n",
    "# Drop de specificerede kolonner\n",
    "branche_data = branche_data.drop(columns=columns_to_drop)\n",
    "\n",
    "# Vi recaller framen for at se den igen. Den ser langt bedre ud og mere klar til EDA og [...]\n",
    "branche_data.head()"
   ]
  },
  {
   "cell_type": "code",
   "execution_count": 1069,
   "metadata": {},
   "outputs": [
    {
     "data": {
      "text/html": [
       "<div>\n",
       "<style scoped>\n",
       "    .dataframe tbody tr th:only-of-type {\n",
       "        vertical-align: middle;\n",
       "    }\n",
       "\n",
       "    .dataframe tbody tr th {\n",
       "        vertical-align: top;\n",
       "    }\n",
       "\n",
       "    .dataframe thead th {\n",
       "        text-align: right;\n",
       "    }\n",
       "</style>\n",
       "<table border=\"1\" class=\"dataframe\">\n",
       "  <thead>\n",
       "    <tr style=\"text-align: right;\">\n",
       "      <th></th>\n",
       "      <th>Group</th>\n",
       "      <th>Question Label</th>\n",
       "      <th>Topic Label</th>\n",
       "      <th>Year</th>\n",
       "      <th>Akse</th>\n",
       "      <th>Ordforklaring</th>\n",
       "      <th>Antpers</th>\n",
       "      <th>Score (Indekseret score)</th>\n",
       "      <th>Score</th>\n",
       "    </tr>\n",
       "  </thead>\n",
       "  <tbody>\n",
       "    <tr>\n",
       "      <th>0</th>\n",
       "      <td>Mænd, 55 - 64 år</td>\n",
       "      <td>Symptomer på angst</td>\n",
       "      <td>Angstsymptomer</td>\n",
       "      <td>2018</td>\n",
       "      <td>Score</td>\n",
       "      <td>Spørgsmål: I de sidste fire uger, hvor meget h...</td>\n",
       "      <td>5080</td>\n",
       "      <td>18,223967423</td>\n",
       "      <td>0,911198371</td>\n",
       "    </tr>\n",
       "    <tr>\n",
       "      <th>1</th>\n",
       "      <td>Mænd, 45 - 54 år</td>\n",
       "      <td>Symptomer på angst</td>\n",
       "      <td>Angstsymptomer</td>\n",
       "      <td>2018</td>\n",
       "      <td>Score</td>\n",
       "      <td>Spørgsmål: I de sidste fire uger, hvor meget h...</td>\n",
       "      <td>5367</td>\n",
       "      <td>19,637802224</td>\n",
       "      <td>0,981890111</td>\n",
       "    </tr>\n",
       "    <tr>\n",
       "      <th>2</th>\n",
       "      <td>Mænd, 35 - 44 år</td>\n",
       "      <td>Symptomer på angst</td>\n",
       "      <td>Angstsymptomer</td>\n",
       "      <td>2018</td>\n",
       "      <td>Score</td>\n",
       "      <td>Spørgsmål: I de sidste fire uger, hvor meget h...</td>\n",
       "      <td>3496</td>\n",
       "      <td>21,286059742</td>\n",
       "      <td>1,064302987</td>\n",
       "    </tr>\n",
       "    <tr>\n",
       "      <th>3</th>\n",
       "      <td>Mænd, 25 - 34 år</td>\n",
       "      <td>Symptomer på angst</td>\n",
       "      <td>Angstsymptomer</td>\n",
       "      <td>2018</td>\n",
       "      <td>Score</td>\n",
       "      <td>Spørgsmål: I de sidste fire uger, hvor meget h...</td>\n",
       "      <td>1876</td>\n",
       "      <td>23,717605476</td>\n",
       "      <td>1,185880274</td>\n",
       "    </tr>\n",
       "    <tr>\n",
       "      <th>4</th>\n",
       "      <td>Mænd, 18 - 24 år</td>\n",
       "      <td>Symptomer på angst</td>\n",
       "      <td>Angstsymptomer</td>\n",
       "      <td>2018</td>\n",
       "      <td>Score</td>\n",
       "      <td>Spørgsmål: I de sidste fire uger, hvor meget h...</td>\n",
       "      <td>591</td>\n",
       "      <td>22,635272623</td>\n",
       "      <td>1,131763631</td>\n",
       "    </tr>\n",
       "  </tbody>\n",
       "</table>\n",
       "</div>"
      ],
      "text/plain": [
       "              Group      Question Label     Topic Label  Year   Akse  \\\n",
       "0  Mænd, 55 - 64 år  Symptomer på angst  Angstsymptomer  2018  Score   \n",
       "1  Mænd, 45 - 54 år  Symptomer på angst  Angstsymptomer  2018  Score   \n",
       "2  Mænd, 35 - 44 år  Symptomer på angst  Angstsymptomer  2018  Score   \n",
       "3  Mænd, 25 - 34 år  Symptomer på angst  Angstsymptomer  2018  Score   \n",
       "4  Mænd, 18 - 24 år  Symptomer på angst  Angstsymptomer  2018  Score   \n",
       "\n",
       "                                       Ordforklaring  Antpers  \\\n",
       "0  Spørgsmål: I de sidste fire uger, hvor meget h...     5080   \n",
       "1  Spørgsmål: I de sidste fire uger, hvor meget h...     5367   \n",
       "2  Spørgsmål: I de sidste fire uger, hvor meget h...     3496   \n",
       "3  Spørgsmål: I de sidste fire uger, hvor meget h...     1876   \n",
       "4  Spørgsmål: I de sidste fire uger, hvor meget h...      591   \n",
       "\n",
       "  Score (Indekseret score)        Score  \n",
       "0             18,223967423  0,911198371  \n",
       "1             19,637802224  0,981890111  \n",
       "2             21,286059742  1,064302987  \n",
       "3             23,717605476  1,185880274  \n",
       "4             22,635272623  1,131763631  "
      ]
     },
     "execution_count": 1069,
     "metadata": {},
     "output_type": "execute_result"
    }
   ],
   "source": [
    "# For den anden data frame, koen_alder_data, er det kun fordelagtigt at droppe Farveskala samt Gennemsnit, Score (Indekseret score)(gennemsnit label) \n",
    "# og Score (Indekseret score)(gennemsnit) da disse kolonner er tomme\n",
    "\n",
    "columns_to_drop = ['Score (Indekseret score) (gennemsnit)', 'Score (Indekseret score) (gennemsnit) (label)', 'Farveskala', 'Gennemsnit']\n",
    "\n",
    "# Drop de specificerede kolonner\n",
    "koen_alder_data = koen_alder_data.drop(columns=columns_to_drop)\n",
    "\n",
    "koen_alder_data.head() # Igen en god clean data frame, bemærk også her at kolonnerne score og score (indekseret score) skal have en transformation. "
   ]
  },
  {
   "attachments": {},
   "cell_type": "markdown",
   "metadata": {},
   "source": [
    "### 2) Konvertere data typer til deres korrekte type\n",
    "\n",
    "Fordi at Pandas read_csv havde svært ved at formatere vores data til deres korrekte datatyper (eksempelvis er Score af typen 'object' e.g. en string) skal vi have vores Regex frem og bygge en skarp funktion der kan behandle begge data frames. Den er bygget herunder og transformerer hurtigt, og korrekt, begge data frames kolonner til deres korrekte type som demonstreret. "
   ]
  },
  {
   "cell_type": "code",
   "execution_count": 1070,
   "metadata": {},
   "outputs": [
    {
     "name": "stdout",
     "output_type": "stream",
     "text": [
      "value counts for branche_data før transformationen:\n"
     ]
    },
    {
     "data": {
      "text/plain": [
       "object    9\n",
       "int64     3\n",
       "dtype: int64"
      ]
     },
     "metadata": {},
     "output_type": "display_data"
    },
    {
     "name": "stdout",
     "output_type": "stream",
     "text": [
      "\n",
      "value counts for koen_alder_data før transformationen:\n"
     ]
    },
    {
     "data": {
      "text/plain": [
       "object    7\n",
       "int64     2\n",
       "dtype: int64"
      ]
     },
     "metadata": {},
     "output_type": "display_data"
    }
   ],
   "source": [
    "# Her ser vi antallet af value counts for branche_data og koen_alder_data før\n",
    "\n",
    "print(\"value counts for branche_data før transformationen:\")\n",
    "display(branche_data.dtypes.value_counts())\n",
    "print(\"\\nvalue counts for koen_alder_data før transformationen:\")\n",
    "display(koen_alder_data.dtypes.value_counts())"
   ]
  },
  {
   "cell_type": "code",
   "execution_count": 1071,
   "metadata": {},
   "outputs": [],
   "source": [
    "# Funktionen konverterer kolonner med tal og komma separatorer til numeriske værdier.\n",
    "def convert_columns_to_numeric(df):\n",
    "    # Itererer igennem alle kolonner i dataframen\n",
    "    for column in df.columns:\n",
    "        # Tjekker om kolonnens datatype er 'object' og om kolonnen kun indeholder talværdier og komma separatorer vha. regex\n",
    "        # Vi vil nemlig ikke have at 'Ordforklaring' konverteres ved en fejl\n",
    "        if df[column].dtype == 'object' and re.match(r'^[0-9,]+$', df[column].str.strip().str.cat()):\n",
    "            try:\n",
    "                # Erstatter komma separatorer med punktum separatorer.\n",
    "                df[column] = df[column].str.replace(',', '.')\n",
    "                # Konverterer kolonnen til numerisk datatype.\n",
    "                df[column] = pd.to_numeric(df[column], errors='coerce')\n",
    "            except ValueError:\n",
    "                pass\n",
    "    # Returnerer den konverterede dataframe.\n",
    "    return df"
   ]
  },
  {
   "cell_type": "code",
   "execution_count": 1072,
   "metadata": {},
   "outputs": [],
   "source": [
    "# Konverter dele af branche_datas kolonner til numerisk\n",
    "branche_data = convert_columns_to_numeric(branche_data)\n",
    "\n",
    "# Konverter dele af koen_alder_datas kolonner til numerisk\n",
    "koen_alder_data = convert_columns_to_numeric(koen_alder_data)"
   ]
  },
  {
   "cell_type": "code",
   "execution_count": 1073,
   "metadata": {},
   "outputs": [
    {
     "name": "stdout",
     "output_type": "stream",
     "text": [
      "value counts for branche_data efter transformationen:\n"
     ]
    },
    {
     "data": {
      "text/plain": [
       "object     6\n",
       "float64    3\n",
       "int64      3\n",
       "dtype: int64"
      ]
     },
     "metadata": {},
     "output_type": "display_data"
    },
    {
     "name": "stdout",
     "output_type": "stream",
     "text": [
      "\n",
      "value counts for koen_alder_data efter transformationen:\n"
     ]
    },
    {
     "data": {
      "text/plain": [
       "object     5\n",
       "int64      2\n",
       "float64    2\n",
       "dtype: int64"
      ]
     },
     "metadata": {},
     "output_type": "display_data"
    }
   ],
   "source": [
    "# Her ser vi antallet af value counts for branche_data og koen_alder_data efter transformationen\n",
    "\n",
    "print(\"value counts for branche_data efter transformationen:\")\n",
    "display(branche_data.dtypes.value_counts())\n",
    "print(\"\\nvalue counts for koen_alder_data efter transformationen:\")\n",
    "display(koen_alder_data.dtypes.value_counts())\n",
    "\n",
    "# Succes!"
   ]
  },
  {
   "attachments": {},
   "cell_type": "markdown",
   "metadata": {},
   "source": [
    "### 3) Transformering af manglende og synligt data\n",
    "\n",
    "* Ved at inspicere de to data frames ovenfor ved vi at vi skal forholde os til manglende data. **Vi fjerner rækker fra kolonner som har lav incompleteness (under 5% af samlet data)**\n",
    "\n",
    "* Kolonnen 'Ordforklaring' indeholder meget ekstra tekst som ikke er nødvendigt (/n og Spørgsmål: for hver række). Dette fjerner vi også. \n",
    "\n",
    "* Vi reformatterer grupperne i koen_alder_data ved at spalte køn og alder ud i to individuelle kolonner. Dette er vigtigt for den videre modellering\n",
    "\n",
    "* Mange af spørgsmålene ikke homogenitet i deres svargrundlag. Eksempelvis er nogle scoret fra 1-5. 1-6, 1-10, Ja/Nej, 0-100. Dette fikses ved key-word filtrering\n",
    "\n",
    "* Kolonnen 'Hoej Score Godt' mangler i data framen koen_alder. Denne skabes med de korrekte værdier ud fra et Left-Join (Merge) med branche_data framen's indhold"
   ]
  },
  {
   "cell_type": "code",
   "execution_count": 1074,
   "metadata": {},
   "outputs": [
    {
     "name": "stdout",
     "output_type": "stream",
     "text": [
      "<class 'pandas.core.frame.DataFrame'>\n",
      "RangeIndex: 1308 entries, 0 to 1307\n",
      "Data columns (total 9 columns):\n",
      " #   Column                    Non-Null Count  Dtype  \n",
      "---  ------                    --------------  -----  \n",
      " 0   Group                     1308 non-null   object \n",
      " 1   Question Label            1308 non-null   object \n",
      " 2   Topic Label               1308 non-null   object \n",
      " 3   Year                      1308 non-null   int64  \n",
      " 4   Akse                      1308 non-null   object \n",
      " 5   Ordforklaring             1248 non-null   object \n",
      " 6   Antpers                   1308 non-null   int64  \n",
      " 7   Score (Indekseret score)  1308 non-null   float64\n",
      " 8   Score                     1308 non-null   float64\n",
      "dtypes: float64(2), int64(2), object(5)\n",
      "memory usage: 92.1+ KB\n"
     ]
    }
   ],
   "source": [
    "koen_alder_data.info()"
   ]
  },
  {
   "cell_type": "code",
   "execution_count": 1075,
   "metadata": {},
   "outputs": [
    {
     "name": "stdout",
     "output_type": "stream",
     "text": [
      "Længde af data framen: 8115. Antal af non-null values i 'Type' kolonnen: 8096. Antal af missing values i 'Type' kolonnen: 19 (0.23%)\n",
      "Længde af data framen: 1308. Antal af non-null values i 'Ordforklaring' kolonnen: 1248. Antal af missing values i 'Ordforklaring' kolonnen: 60 (4.59%)\n"
     ]
    }
   ],
   "source": [
    "# Inspicere en udvalgt kolonne i branche_data og koen_alder_data der repræsenterer flere kolonner med incompleteness\n",
    "\n",
    "# Laver en funktion der tager længden af det komplette data og sammenligner med en kolonne med missingness\n",
    "def print_null_info(dataframe, column):\n",
    "    total_rækker = len(dataframe)\n",
    "    non_null_rækker = dataframe[column].count()\n",
    "    missing_rækker = total_rækker - non_null_rækker\n",
    "    print(\"Længde af data framen: {}. Antal af non-null values i '{}' kolonnen: {}. Antal af missing values i '{}' kolonnen: {} ({:.2f}%)\".\n",
    "          format(total_rækker, column, non_null_rækker, column, missing_rækker, (missing_rækker/total_rækker)*100))\n",
    "\n",
    "# Brug funktionen på branche_data \n",
    "print_null_info(branche_data, 'Type')\n",
    "\n",
    "# Brug funktionen på koen_alder_data\n",
    "print_null_info(koen_alder_data, 'Ordforklaring')"
   ]
  },
  {
   "cell_type": "code",
   "execution_count": 1076,
   "metadata": {},
   "outputs": [],
   "source": [
    "# Begge er altså under vores threshold (<5% af den totale mængde data). Vi kan derfor fjerne rækkerne fra dataet\n",
    "\n",
    "branche_data = branche_data.dropna(subset=['Type'])\n",
    "\n",
    "koen_alder_data = koen_alder_data.dropna(subset=['Ordforklaring'])"
   ]
  },
  {
   "cell_type": "code",
   "execution_count": 1077,
   "metadata": {},
   "outputs": [
    {
     "data": {
      "text/plain": [
       "'Hvor ofte oplever du at du har nok tid til dine arbejdsopgaver 1 Altid 2 Ofte 3 Sommetider 4 Sjældent 5 Aldrig I resultaterne præsenteres den gennemsnitlige score 1 5'"
      ]
     },
     "execution_count": 1077,
     "metadata": {},
     "output_type": "execute_result"
    }
   ],
   "source": [
    "# Her fjernes unødvendig tekst fra Ordfoklarings-kolonnen. Bemærl her at der bruges anonyme funktioner (lambda) for demonstrative purposes. Der kunne også bygges en funktion ligesom ovenfor\n",
    "\n",
    "# Definer et regex mønster, der matcher 'Spørgsmål:' og efterfølgende kun bevarer single mellemrum og ikke-special-karakterer\n",
    "regex_pattern = r'Spørgsmål:\\s+|\\s{2,}|\\W+'\n",
    "\n",
    "# Anvend regex mønsteret på 'Ordforklaring' kolonnen i begge dataframes\n",
    "branche_data['Ordforklaring'] = branche_data['Ordforklaring'].apply(lambda x: re.sub(regex_pattern, ' ', str(x)).strip())\n",
    "koen_alder_data['Ordforklaring'] = koen_alder_data['Ordforklaring'].apply(lambda x: re.sub(regex_pattern, ' ', str(x)).strip())\n",
    "\n",
    "# Tjek en af rækkerne\n",
    "branche_data.Ordforklaring[1] # ser godt ud"
   ]
  },
  {
   "cell_type": "code",
   "execution_count": 1078,
   "metadata": {},
   "outputs": [
    {
     "data": {
      "text/html": [
       "<div>\n",
       "<style scoped>\n",
       "    .dataframe tbody tr th:only-of-type {\n",
       "        vertical-align: middle;\n",
       "    }\n",
       "\n",
       "    .dataframe tbody tr th {\n",
       "        vertical-align: top;\n",
       "    }\n",
       "\n",
       "    .dataframe thead th {\n",
       "        text-align: right;\n",
       "    }\n",
       "</style>\n",
       "<table border=\"1\" class=\"dataframe\">\n",
       "  <thead>\n",
       "    <tr style=\"text-align: right;\">\n",
       "      <th></th>\n",
       "      <th>Group</th>\n",
       "      <th>Question Label</th>\n",
       "      <th>Topic Label</th>\n",
       "      <th>Year</th>\n",
       "      <th>Akse</th>\n",
       "      <th>Ordforklaring</th>\n",
       "      <th>Antpers</th>\n",
       "      <th>Score (Indekseret score)</th>\n",
       "      <th>Score</th>\n",
       "      <th>køn</th>\n",
       "      <th>alder</th>\n",
       "    </tr>\n",
       "  </thead>\n",
       "  <tbody>\n",
       "    <tr>\n",
       "      <th>1303</th>\n",
       "      <td>Kvinder, 25 - 34 år</td>\n",
       "      <td>Fysisk vold</td>\n",
       "      <td>Vold og trusler</td>\n",
       "      <td>2018</td>\n",
       "      <td>Andel (%)</td>\n",
       "      <td>Har du indenfor de sidste 12 måneder været uds...</td>\n",
       "      <td>2398</td>\n",
       "      <td>9.368184</td>\n",
       "      <td>9.368184</td>\n",
       "      <td>Kvinder</td>\n",
       "      <td>25 - 34 år</td>\n",
       "    </tr>\n",
       "    <tr>\n",
       "      <th>1304</th>\n",
       "      <td>Kvinder, 18 - 24 år</td>\n",
       "      <td>Trusler</td>\n",
       "      <td>Vold og trusler</td>\n",
       "      <td>2018</td>\n",
       "      <td>Andel (%)</td>\n",
       "      <td>Har du indenfor de sidste 12 måneder været uds...</td>\n",
       "      <td>691</td>\n",
       "      <td>7.562770</td>\n",
       "      <td>7.562770</td>\n",
       "      <td>Kvinder</td>\n",
       "      <td>18 - 24 år</td>\n",
       "    </tr>\n",
       "    <tr>\n",
       "      <th>1305</th>\n",
       "      <td>Kvinder, 18 - 24 år</td>\n",
       "      <td>Fysisk vold</td>\n",
       "      <td>Vold og trusler</td>\n",
       "      <td>2018</td>\n",
       "      <td>Andel (%)</td>\n",
       "      <td>Har du indenfor de sidste 12 måneder været uds...</td>\n",
       "      <td>690</td>\n",
       "      <td>7.334526</td>\n",
       "      <td>7.334526</td>\n",
       "      <td>Kvinder</td>\n",
       "      <td>18 - 24 år</td>\n",
       "    </tr>\n",
       "    <tr>\n",
       "      <th>1306</th>\n",
       "      <td>Kvinder</td>\n",
       "      <td>Trusler</td>\n",
       "      <td>Vold og trusler</td>\n",
       "      <td>2018</td>\n",
       "      <td>Andel (%)</td>\n",
       "      <td>Har du indenfor de sidste 12 måneder været uds...</td>\n",
       "      <td>19694</td>\n",
       "      <td>10.985068</td>\n",
       "      <td>10.985068</td>\n",
       "      <td>Kvinder</td>\n",
       "      <td>18-100 år</td>\n",
       "    </tr>\n",
       "    <tr>\n",
       "      <th>1307</th>\n",
       "      <td>Kvinder</td>\n",
       "      <td>Fysisk vold</td>\n",
       "      <td>Vold og trusler</td>\n",
       "      <td>2018</td>\n",
       "      <td>Andel (%)</td>\n",
       "      <td>Har du indenfor de sidste 12 måneder været uds...</td>\n",
       "      <td>19701</td>\n",
       "      <td>8.482935</td>\n",
       "      <td>8.482935</td>\n",
       "      <td>Kvinder</td>\n",
       "      <td>18-100 år</td>\n",
       "    </tr>\n",
       "  </tbody>\n",
       "</table>\n",
       "</div>"
      ],
      "text/plain": [
       "                    Group Question Label      Topic Label  Year       Akse  \\\n",
       "1303  Kvinder, 25 - 34 år    Fysisk vold  Vold og trusler  2018  Andel (%)   \n",
       "1304  Kvinder, 18 - 24 år        Trusler  Vold og trusler  2018  Andel (%)   \n",
       "1305  Kvinder, 18 - 24 år    Fysisk vold  Vold og trusler  2018  Andel (%)   \n",
       "1306              Kvinder        Trusler  Vold og trusler  2018  Andel (%)   \n",
       "1307              Kvinder    Fysisk vold  Vold og trusler  2018  Andel (%)   \n",
       "\n",
       "                                          Ordforklaring  Antpers  \\\n",
       "1303  Har du indenfor de sidste 12 måneder været uds...     2398   \n",
       "1304  Har du indenfor de sidste 12 måneder været uds...      691   \n",
       "1305  Har du indenfor de sidste 12 måneder været uds...      690   \n",
       "1306  Har du indenfor de sidste 12 måneder været uds...    19694   \n",
       "1307  Har du indenfor de sidste 12 måneder været uds...    19701   \n",
       "\n",
       "      Score (Indekseret score)      Score      køn       alder  \n",
       "1303                  9.368184   9.368184  Kvinder  25 - 34 år  \n",
       "1304                  7.562770   7.562770  Kvinder  18 - 24 år  \n",
       "1305                  7.334526   7.334526  Kvinder  18 - 24 år  \n",
       "1306                 10.985068  10.985068  Kvinder   18-100 år  \n",
       "1307                  8.482935   8.482935  Kvinder   18-100 år  "
      ]
     },
     "execution_count": 1078,
     "metadata": {},
     "output_type": "execute_result"
    }
   ],
   "source": [
    "# Re-encoder Group kolonnen til to nye kolonner, en der indeholder køn, og så en der indeholder aldersgruppe.\n",
    "\n",
    "# Bruger igen regex mønster til at fange informationen vi ønsker \n",
    "koen_alder_data[['køn', 'alder']] = koen_alder_data['Group'].str.extract(r'(\\w+),?\\s*(\\d+\\s*-\\s*\\d+\\s*år)?')\n",
    "\n",
    "# Fillna på alder, der hvor det er totaler\n",
    "koen_alder_data['alder'] = koen_alder_data['alder'].fillna('18-100 år')\n",
    "\n",
    "koen_alder_data.tail() # det ser helt fint ud"
   ]
  },
  {
   "attachments": {},
   "cell_type": "markdown",
   "metadata": {},
   "source": [
    "Efter at have inspiceret spørgsmålene pba. ovenstående transformering, står det klart at sammenligningsgrundlaget er dårligt mellem diverse typer af spørgsmål. Eksempelvis rates nogle 1-5, 1-10, Ja/Nej, 0-100. Vi går os altså klogt i at udvælge et subset af dataet. Efter manuelt at have gennemgået spørgsmålene for branche_data og koen_alder_data er der størst repræsentation i spørgsmålene der rates fra 1-5 og returneres med et gennemsnit. \n",
    "\n",
    "Derfor kan vi lave en ret smart, samt elegant, filtrering af begge datasæt ved at søge efter **'I resultaterne præsenteres den gennemsnitlige score 1 5'** i vores formatterede 'Ordforklarings'-kolonne"
   ]
  },
  {
   "cell_type": "code",
   "execution_count": 1079,
   "metadata": {},
   "outputs": [
    {
     "name": "stdout",
     "output_type": "stream",
     "text": [
      "(3420, 12)\n",
      "(540, 11)\n"
     ]
    }
   ],
   "source": [
    "# Filtrer dataet\n",
    "branche_data_filtered = branche_data[branche_data['Ordforklaring'].str.contains('I resultaterne præsenteres den gennemsnitlige score 1 5')]\n",
    "koen_alder_data_filtered = koen_alder_data[koen_alder_data['Ordforklaring'].str.contains('I resultaterne præsenteres den gennemsnitlige score 1 5')]\n",
    "\n",
    "# Check at dataet indeholder færre rækker men samme antal kolonner\n",
    "print(branche_data_filtered.shape) # Ser godt ud\n",
    "print(koen_alder_data_filtered.shape) # Samme her"
   ]
  },
  {
   "cell_type": "code",
   "execution_count": 1080,
   "metadata": {},
   "outputs": [
    {
     "name": "stderr",
     "output_type": "stream",
     "text": [
      "/var/folders/yg/_flttvqs6wb9krsgqy_16frw0000gn/T/ipykernel_29918/3965772579.py:11: SettingWithCopyWarning: \n",
      "A value is trying to be set on a copy of a slice from a DataFrame.\n",
      "Try using .loc[row_indexer,col_indexer] = value instead\n",
      "\n",
      "See the caveats in the documentation: https://pandas.pydata.org/pandas-docs/stable/user_guide/indexing.html#returning-a-view-versus-a-copy\n",
      "  koen_alder_data_filtered['Hoej Score Godt'] = koen_alder_data_filtered['Ordforklaring'].map(merged_df['Hoej Score Godt'])\n"
     ]
    }
   ],
   "source": [
    "# Skaber kolonenn 'Hoej Score Godt' i data framen koen_alder_data_filtreret ud fra tilsvarende værdier for 'Ordforklaring' i branche_data_filtered\n",
    "\n",
    "# Merge data frames\n",
    "merged_df = koen_alder_data_filtered.merge(branche_data_filtered, on='Ordforklaring', how='left')\n",
    "\n",
    "# Drop duplikater og reset index\n",
    "merged_df.drop_duplicates(subset='Ordforklaring', inplace=True)\n",
    "merged_df.set_index('Ordforklaring', inplace=True)\n",
    "\n",
    "# Skab kolonnen i den originale data frame ud fra merged_df's værdier (inhereted fra )\n",
    "koen_alder_data_filtered['Hoej Score Godt'] = koen_alder_data_filtered['Ordforklaring'].map(merged_df['Hoej Score Godt'])\n"
   ]
  },
  {
   "attachments": {},
   "cell_type": "markdown",
   "metadata": {},
   "source": [
    "Kort afsluttende kommentar til DW. Vi har virkelig gjort nogle store fremskridt, ved bl.a. at transformere data typer og tekst, spaltet kolonner og filtreret ud fra homogenitet. Ovenfor kan man se at vores data er blevet lidt kortere (færre rækker) end førhen. Til dette skal en Data Scientist kommentar knyttes, nemlig; **kvalitet, over kvantitet - *især* når det kommer til data**"
   ]
  },
  {
   "attachments": {},
   "cell_type": "markdown",
   "metadata": {},
   "source": [
    "__________"
   ]
  },
  {
   "attachments": {},
   "cell_type": "markdown",
   "metadata": {},
   "source": [
    "## 3. DA: Eksplorativ Data Analyse (EDA)\n",
    "\n",
    "I denne blok analyseres det processerede data eksplorativt med statistik og visualiseringer. Dette afgiver to interresante findings, som præsenteres og analyseres sammen. \n",
    "\n",
    "Et godt udgangspunkt for at lave stærke dataanalyser er at stille skarpe spørgsmål. Her er to problemformuleringer til de to datasæt - begge med et samfundsmæssigt makro-perspektiv. \n",
    "\n",
    "\n",
    "* Hvordan scorer arbejdsmiljøet i forskellige brancher i 2018?\n",
    "* Hvordan scorer arbejdsmiljøet i forskellige grupper af køn og alder i 2018?\n",
    "\n",
    "\n",
    "De to findings er\n",
    "\n",
    "1) Arbejdsmiljøet scorer bedst i brancher med mere selvstændighed og ansvar, som typisk er i det private\n",
    "2) Arbejdsmiljøet scorer bedst i grupper med mænd og grupper som er yngre\n",
    "\n",
    "Gå gennem koden nedenfor, for at se findings og deres tilsvarende analyse"
   ]
  },
  {
   "attachments": {},
   "cell_type": "markdown",
   "metadata": {},
   "source": [
    "### 1) Statistik"
   ]
  },
  {
   "cell_type": "code",
   "execution_count": 1085,
   "metadata": {},
   "outputs": [
    {
     "data": {
      "text/html": [
       "<div>\n",
       "<style scoped>\n",
       "    .dataframe tbody tr th:only-of-type {\n",
       "        vertical-align: middle;\n",
       "    }\n",
       "\n",
       "    .dataframe tbody tr th {\n",
       "        vertical-align: top;\n",
       "    }\n",
       "\n",
       "    .dataframe thead th {\n",
       "        text-align: right;\n",
       "    }\n",
       "</style>\n",
       "<table border=\"1\" class=\"dataframe\">\n",
       "  <thead>\n",
       "    <tr style=\"text-align: right;\">\n",
       "      <th></th>\n",
       "      <th>Score (Indekseret score) (gennemsnit) (label)</th>\n",
       "      <th>Antpct</th>\n",
       "      <th>Antpers</th>\n",
       "      <th>Hoej Score Godt</th>\n",
       "      <th>Score</th>\n",
       "      <th>Year</th>\n",
       "    </tr>\n",
       "  </thead>\n",
       "  <tbody>\n",
       "    <tr>\n",
       "      <th>count</th>\n",
       "      <td>2204.000000</td>\n",
       "      <td>0.0</td>\n",
       "      <td>2204.000000</td>\n",
       "      <td>2204.0</td>\n",
       "      <td>2204.000000</td>\n",
       "      <td>2204.0</td>\n",
       "    </tr>\n",
       "    <tr>\n",
       "      <th>mean</th>\n",
       "      <td>3.722826</td>\n",
       "      <td>NaN</td>\n",
       "      <td>968.494555</td>\n",
       "      <td>1.0</td>\n",
       "      <td>3.688327</td>\n",
       "      <td>2018.0</td>\n",
       "    </tr>\n",
       "    <tr>\n",
       "      <th>std</th>\n",
       "      <td>0.320690</td>\n",
       "      <td>NaN</td>\n",
       "      <td>4172.115373</td>\n",
       "      <td>0.0</td>\n",
       "      <td>0.369750</td>\n",
       "      <td>0.0</td>\n",
       "    </tr>\n",
       "    <tr>\n",
       "      <th>min</th>\n",
       "      <td>3.155008</td>\n",
       "      <td>NaN</td>\n",
       "      <td>35.000000</td>\n",
       "      <td>1.0</td>\n",
       "      <td>2.539004</td>\n",
       "      <td>2018.0</td>\n",
       "    </tr>\n",
       "    <tr>\n",
       "      <th>25%</th>\n",
       "      <td>3.546519</td>\n",
       "      <td>NaN</td>\n",
       "      <td>193.000000</td>\n",
       "      <td>1.0</td>\n",
       "      <td>3.414974</td>\n",
       "      <td>2018.0</td>\n",
       "    </tr>\n",
       "    <tr>\n",
       "      <th>50%</th>\n",
       "      <td>3.762483</td>\n",
       "      <td>NaN</td>\n",
       "      <td>277.000000</td>\n",
       "      <td>1.0</td>\n",
       "      <td>3.706780</td>\n",
       "      <td>2018.0</td>\n",
       "    </tr>\n",
       "    <tr>\n",
       "      <th>75%</th>\n",
       "      <td>3.884033</td>\n",
       "      <td>NaN</td>\n",
       "      <td>608.000000</td>\n",
       "      <td>1.0</td>\n",
       "      <td>3.941122</td>\n",
       "      <td>2018.0</td>\n",
       "    </tr>\n",
       "    <tr>\n",
       "      <th>max</th>\n",
       "      <td>4.303816</td>\n",
       "      <td>NaN</td>\n",
       "      <td>37190.000000</td>\n",
       "      <td>1.0</td>\n",
       "      <td>4.727714</td>\n",
       "      <td>2018.0</td>\n",
       "    </tr>\n",
       "  </tbody>\n",
       "</table>\n",
       "</div>"
      ],
      "text/plain": [
       "       Score (Indekseret score) (gennemsnit) (label)  Antpct       Antpers  \\\n",
       "count                                    2204.000000     0.0   2204.000000   \n",
       "mean                                        3.722826     NaN    968.494555   \n",
       "std                                         0.320690     NaN   4172.115373   \n",
       "min                                         3.155008     NaN     35.000000   \n",
       "25%                                         3.546519     NaN    193.000000   \n",
       "50%                                         3.762483     NaN    277.000000   \n",
       "75%                                         3.884033     NaN    608.000000   \n",
       "max                                         4.303816     NaN  37190.000000   \n",
       "\n",
       "       Hoej Score Godt        Score    Year  \n",
       "count           2204.0  2204.000000  2204.0  \n",
       "mean               1.0     3.688327  2018.0  \n",
       "std                0.0     0.369750     0.0  \n",
       "min                1.0     2.539004  2018.0  \n",
       "25%                1.0     3.414974  2018.0  \n",
       "50%                1.0     3.706780  2018.0  \n",
       "75%                1.0     3.941122  2018.0  \n",
       "max                1.0     4.727714  2018.0  "
      ]
     },
     "execution_count": 1085,
     "metadata": {},
     "output_type": "execute_result"
    }
   ],
   "source": [
    "# Vi starter med at udforske dataets statistikker, efter vores transformationer i DW.\n",
    "\n",
    "# Summary statistics, hvor 'Hoej Score Godt' == 1, for branche_data_filtered\n",
    "\n",
    "branche_data_filtered[branche_data_filtered['Hoej Score Godt'] == 1].describe()"
   ]
  },
  {
   "cell_type": "code",
   "execution_count": 1086,
   "metadata": {},
   "outputs": [
    {
     "data": {
      "text/html": [
       "<div>\n",
       "<style scoped>\n",
       "    .dataframe tbody tr th:only-of-type {\n",
       "        vertical-align: middle;\n",
       "    }\n",
       "\n",
       "    .dataframe tbody tr th {\n",
       "        vertical-align: top;\n",
       "    }\n",
       "\n",
       "    .dataframe thead th {\n",
       "        text-align: right;\n",
       "    }\n",
       "</style>\n",
       "<table border=\"1\" class=\"dataframe\">\n",
       "  <thead>\n",
       "    <tr style=\"text-align: right;\">\n",
       "      <th></th>\n",
       "      <th>Score (Indekseret score) (gennemsnit) (label)</th>\n",
       "      <th>Antpct</th>\n",
       "      <th>Antpers</th>\n",
       "      <th>Hoej Score Godt</th>\n",
       "      <th>Score</th>\n",
       "      <th>Year</th>\n",
       "    </tr>\n",
       "  </thead>\n",
       "  <tbody>\n",
       "    <tr>\n",
       "      <th>count</th>\n",
       "      <td>1216.000000</td>\n",
       "      <td>0.0</td>\n",
       "      <td>1216.000000</td>\n",
       "      <td>1216.0</td>\n",
       "      <td>1216.000000</td>\n",
       "      <td>1216.0</td>\n",
       "    </tr>\n",
       "    <tr>\n",
       "      <th>mean</th>\n",
       "      <td>2.824478</td>\n",
       "      <td>NaN</td>\n",
       "      <td>967.391447</td>\n",
       "      <td>0.0</td>\n",
       "      <td>2.819438</td>\n",
       "      <td>2018.0</td>\n",
       "    </tr>\n",
       "    <tr>\n",
       "      <th>std</th>\n",
       "      <td>0.454704</td>\n",
       "      <td>NaN</td>\n",
       "      <td>4168.768733</td>\n",
       "      <td>0.0</td>\n",
       "      <td>0.505727</td>\n",
       "      <td>0.0</td>\n",
       "    </tr>\n",
       "    <tr>\n",
       "      <th>min</th>\n",
       "      <td>1.793953</td>\n",
       "      <td>NaN</td>\n",
       "      <td>35.000000</td>\n",
       "      <td>0.0</td>\n",
       "      <td>1.217248</td>\n",
       "      <td>2018.0</td>\n",
       "    </tr>\n",
       "    <tr>\n",
       "      <th>25%</th>\n",
       "      <td>2.600991</td>\n",
       "      <td>NaN</td>\n",
       "      <td>191.750000</td>\n",
       "      <td>0.0</td>\n",
       "      <td>2.539528</td>\n",
       "      <td>2018.0</td>\n",
       "    </tr>\n",
       "    <tr>\n",
       "      <th>50%</th>\n",
       "      <td>2.886710</td>\n",
       "      <td>NaN</td>\n",
       "      <td>275.000000</td>\n",
       "      <td>0.0</td>\n",
       "      <td>2.830700</td>\n",
       "      <td>2018.0</td>\n",
       "    </tr>\n",
       "    <tr>\n",
       "      <th>75%</th>\n",
       "      <td>3.079284</td>\n",
       "      <td>NaN</td>\n",
       "      <td>606.000000</td>\n",
       "      <td>0.0</td>\n",
       "      <td>3.103138</td>\n",
       "      <td>2018.0</td>\n",
       "    </tr>\n",
       "    <tr>\n",
       "      <th>max</th>\n",
       "      <td>3.848065</td>\n",
       "      <td>NaN</td>\n",
       "      <td>37577.000000</td>\n",
       "      <td>0.0</td>\n",
       "      <td>4.416672</td>\n",
       "      <td>2018.0</td>\n",
       "    </tr>\n",
       "  </tbody>\n",
       "</table>\n",
       "</div>"
      ],
      "text/plain": [
       "       Score (Indekseret score) (gennemsnit) (label)  Antpct       Antpers  \\\n",
       "count                                    1216.000000     0.0   1216.000000   \n",
       "mean                                        2.824478     NaN    967.391447   \n",
       "std                                         0.454704     NaN   4168.768733   \n",
       "min                                         1.793953     NaN     35.000000   \n",
       "25%                                         2.600991     NaN    191.750000   \n",
       "50%                                         2.886710     NaN    275.000000   \n",
       "75%                                         3.079284     NaN    606.000000   \n",
       "max                                         3.848065     NaN  37577.000000   \n",
       "\n",
       "       Hoej Score Godt        Score    Year  \n",
       "count           1216.0  1216.000000  1216.0  \n",
       "mean               0.0     2.819438  2018.0  \n",
       "std                0.0     0.505727     0.0  \n",
       "min                0.0     1.217248  2018.0  \n",
       "25%                0.0     2.539528  2018.0  \n",
       "50%                0.0     2.830700  2018.0  \n",
       "75%                0.0     3.103138  2018.0  \n",
       "max                0.0     4.416672  2018.0  "
      ]
     },
     "execution_count": 1086,
     "metadata": {},
     "output_type": "execute_result"
    }
   ],
   "source": [
    "# Summary statistics, hvor 'Hoej Score Godt' == 0, for branche_data_filtered\n",
    "\n",
    "branche_data_filtered[branche_data_filtered['Hoej Score Godt'] == 0].describe()"
   ]
  },
  {
   "attachments": {},
   "cell_type": "markdown",
   "metadata": {},
   "source": [
    "* Den statistiske analyse af branche_data_filtered viser den gennemsnitlige indekserede score for spørgsmål hvor høj score er godt er 3.72. For data hvor høj score er dårligt er dette tal 2.83. Dette fremviser at respondenterne i undersøgelsen generelt har svaret højere ved spørgsmål hvor 5 er godt end hvor 5 er dårligt. \n",
    "\n",
    "* Gennemsnittet af antal personer der har svaret på hvert spørgsmål er 968 hvor høj score er godt, imens at det er 967 hvor høj score er dårligt. Dette tal skal dog holdes op i lyset af at der er total rækker der kan skabe statistisk inflation i dette. **Fokus skal derfor rættes på medianen (50%) hvor tallet falder til henholdsvis 277 og 275 respektivt.**\n",
    "\n",
    "* Der er en lille diskrepans på gennemsnittet for 'Score' og Score Indekseret Gennemsnit. Dette er dog ned til 1. decimal og ændrer derfor ikke i det store billede for dataet og vores fremtidige analyse"
   ]
  },
  {
   "cell_type": "code",
   "execution_count": 1094,
   "metadata": {},
   "outputs": [
    {
     "data": {
      "text/html": [
       "<div>\n",
       "<style scoped>\n",
       "    .dataframe tbody tr th:only-of-type {\n",
       "        vertical-align: middle;\n",
       "    }\n",
       "\n",
       "    .dataframe tbody tr th {\n",
       "        vertical-align: top;\n",
       "    }\n",
       "\n",
       "    .dataframe thead th {\n",
       "        text-align: right;\n",
       "    }\n",
       "</style>\n",
       "<table border=\"1\" class=\"dataframe\">\n",
       "  <thead>\n",
       "    <tr style=\"text-align: right;\">\n",
       "      <th></th>\n",
       "      <th>Year</th>\n",
       "      <th>Antpers</th>\n",
       "      <th>Score (Indekseret score)</th>\n",
       "      <th>Score</th>\n",
       "      <th>Hoej Score Godt</th>\n",
       "    </tr>\n",
       "  </thead>\n",
       "  <tbody>\n",
       "    <tr>\n",
       "      <th>count</th>\n",
       "      <td>348.0</td>\n",
       "      <td>348.000000</td>\n",
       "      <td>348.000000</td>\n",
       "      <td>348.000000</td>\n",
       "      <td>348.0</td>\n",
       "    </tr>\n",
       "    <tr>\n",
       "      <th>mean</th>\n",
       "      <td>2018.0</td>\n",
       "      <td>6133.798851</td>\n",
       "      <td>74.486151</td>\n",
       "      <td>3.724308</td>\n",
       "      <td>1.0</td>\n",
       "    </tr>\n",
       "    <tr>\n",
       "      <th>std</th>\n",
       "      <td>0.0</td>\n",
       "      <td>5822.437094</td>\n",
       "      <td>6.594351</td>\n",
       "      <td>0.329718</td>\n",
       "      <td>0.0</td>\n",
       "    </tr>\n",
       "    <tr>\n",
       "      <th>min</th>\n",
       "      <td>2018.0</td>\n",
       "      <td>610.000000</td>\n",
       "      <td>60.879596</td>\n",
       "      <td>3.043980</td>\n",
       "      <td>1.0</td>\n",
       "    </tr>\n",
       "    <tr>\n",
       "      <th>25%</th>\n",
       "      <td>2018.0</td>\n",
       "      <td>2270.750000</td>\n",
       "      <td>69.485500</td>\n",
       "      <td>3.474275</td>\n",
       "      <td>1.0</td>\n",
       "    </tr>\n",
       "    <tr>\n",
       "      <th>50%</th>\n",
       "      <td>2018.0</td>\n",
       "      <td>4716.500000</td>\n",
       "      <td>74.987705</td>\n",
       "      <td>3.749385</td>\n",
       "      <td>1.0</td>\n",
       "    </tr>\n",
       "    <tr>\n",
       "      <th>75%</th>\n",
       "      <td>2018.0</td>\n",
       "      <td>5916.250000</td>\n",
       "      <td>78.530131</td>\n",
       "      <td>3.926507</td>\n",
       "      <td>1.0</td>\n",
       "    </tr>\n",
       "    <tr>\n",
       "      <th>max</th>\n",
       "      <td>2018.0</td>\n",
       "      <td>19969.000000</td>\n",
       "      <td>88.695413</td>\n",
       "      <td>4.434771</td>\n",
       "      <td>1.0</td>\n",
       "    </tr>\n",
       "  </tbody>\n",
       "</table>\n",
       "</div>"
      ],
      "text/plain": [
       "         Year       Antpers  Score (Indekseret score)       Score  \\\n",
       "count   348.0    348.000000                348.000000  348.000000   \n",
       "mean   2018.0   6133.798851                 74.486151    3.724308   \n",
       "std       0.0   5822.437094                  6.594351    0.329718   \n",
       "min    2018.0    610.000000                 60.879596    3.043980   \n",
       "25%    2018.0   2270.750000                 69.485500    3.474275   \n",
       "50%    2018.0   4716.500000                 74.987705    3.749385   \n",
       "75%    2018.0   5916.250000                 78.530131    3.926507   \n",
       "max    2018.0  19969.000000                 88.695413    4.434771   \n",
       "\n",
       "       Hoej Score Godt  \n",
       "count            348.0  \n",
       "mean               1.0  \n",
       "std                0.0  \n",
       "min                1.0  \n",
       "25%                1.0  \n",
       "50%                1.0  \n",
       "75%                1.0  \n",
       "max                1.0  "
      ]
     },
     "execution_count": 1094,
     "metadata": {},
     "output_type": "execute_result"
    }
   ],
   "source": [
    "# Vi analyserer også det andet datasæt koen_alder_data_filtered\n",
    "\n",
    "koen_alder_data_filtered[koen_alder_data_filtered['Hoej Score Godt'] == 1].describe()"
   ]
  },
  {
   "cell_type": "code",
   "execution_count": 1095,
   "metadata": {},
   "outputs": [
    {
     "data": {
      "text/html": [
       "<div>\n",
       "<style scoped>\n",
       "    .dataframe tbody tr th:only-of-type {\n",
       "        vertical-align: middle;\n",
       "    }\n",
       "\n",
       "    .dataframe tbody tr th {\n",
       "        vertical-align: top;\n",
       "    }\n",
       "\n",
       "    .dataframe thead th {\n",
       "        text-align: right;\n",
       "    }\n",
       "</style>\n",
       "<table border=\"1\" class=\"dataframe\">\n",
       "  <thead>\n",
       "    <tr style=\"text-align: right;\">\n",
       "      <th></th>\n",
       "      <th>Year</th>\n",
       "      <th>Antpers</th>\n",
       "      <th>Score (Indekseret score)</th>\n",
       "      <th>Score</th>\n",
       "      <th>Hoej Score Godt</th>\n",
       "    </tr>\n",
       "  </thead>\n",
       "  <tbody>\n",
       "    <tr>\n",
       "      <th>count</th>\n",
       "      <td>192.0</td>\n",
       "      <td>192.00000</td>\n",
       "      <td>192.000000</td>\n",
       "      <td>192.000000</td>\n",
       "      <td>192.0</td>\n",
       "    </tr>\n",
       "    <tr>\n",
       "      <th>mean</th>\n",
       "      <td>2018.0</td>\n",
       "      <td>6126.81250</td>\n",
       "      <td>56.315480</td>\n",
       "      <td>2.815774</td>\n",
       "      <td>0.0</td>\n",
       "    </tr>\n",
       "    <tr>\n",
       "      <th>std</th>\n",
       "      <td>0.0</td>\n",
       "      <td>5825.63768</td>\n",
       "      <td>9.730638</td>\n",
       "      <td>0.486532</td>\n",
       "      <td>0.0</td>\n",
       "    </tr>\n",
       "    <tr>\n",
       "      <th>min</th>\n",
       "      <td>2018.0</td>\n",
       "      <td>616.00000</td>\n",
       "      <td>32.102065</td>\n",
       "      <td>1.605103</td>\n",
       "      <td>0.0</td>\n",
       "    </tr>\n",
       "    <tr>\n",
       "      <th>25%</th>\n",
       "      <td>2018.0</td>\n",
       "      <td>2285.75000</td>\n",
       "      <td>51.693791</td>\n",
       "      <td>2.584690</td>\n",
       "      <td>0.0</td>\n",
       "    </tr>\n",
       "    <tr>\n",
       "      <th>50%</th>\n",
       "      <td>2018.0</td>\n",
       "      <td>4811.50000</td>\n",
       "      <td>57.070546</td>\n",
       "      <td>2.853527</td>\n",
       "      <td>0.0</td>\n",
       "    </tr>\n",
       "    <tr>\n",
       "      <th>75%</th>\n",
       "      <td>2018.0</td>\n",
       "      <td>5939.75000</td>\n",
       "      <td>61.995728</td>\n",
       "      <td>3.099786</td>\n",
       "      <td>0.0</td>\n",
       "    </tr>\n",
       "    <tr>\n",
       "      <th>max</th>\n",
       "      <td>2018.0</td>\n",
       "      <td>20189.00000</td>\n",
       "      <td>80.038526</td>\n",
       "      <td>4.001926</td>\n",
       "      <td>0.0</td>\n",
       "    </tr>\n",
       "  </tbody>\n",
       "</table>\n",
       "</div>"
      ],
      "text/plain": [
       "         Year      Antpers  Score (Indekseret score)       Score  \\\n",
       "count   192.0    192.00000                192.000000  192.000000   \n",
       "mean   2018.0   6126.81250                 56.315480    2.815774   \n",
       "std       0.0   5825.63768                  9.730638    0.486532   \n",
       "min    2018.0    616.00000                 32.102065    1.605103   \n",
       "25%    2018.0   2285.75000                 51.693791    2.584690   \n",
       "50%    2018.0   4811.50000                 57.070546    2.853527   \n",
       "75%    2018.0   5939.75000                 61.995728    3.099786   \n",
       "max    2018.0  20189.00000                 80.038526    4.001926   \n",
       "\n",
       "       Hoej Score Godt  \n",
       "count            192.0  \n",
       "mean               0.0  \n",
       "std                0.0  \n",
       "min                0.0  \n",
       "25%                0.0  \n",
       "50%                0.0  \n",
       "75%                0.0  \n",
       "max                0.0  "
      ]
     },
     "execution_count": 1095,
     "metadata": {},
     "output_type": "execute_result"
    }
   ],
   "source": [
    "koen_alder_data_filtered[koen_alder_data_filtered['Hoej Score Godt'] == 0].describe()"
   ]
  },
  {
   "attachments": {},
   "cell_type": "markdown",
   "metadata": {},
   "source": [
    "* Den statistiske analyse af koen_alder_data_filtered viser den gennemsnitlige indekserede score for spørgsmål hvor høj score er godt er 3.72. For data hvor høj score er dårligt er dette tal 2.815. Dette peger på stort overlap blandt spørgsmålene, men samtidig også den samplede population\n",
    "\n",
    "* En stor forskel ift. branche-dataet er gennemsnittet af antal personer der har svaret på hvert spørgsmål. **Sættes fokus på medianen (50%) som beskrevet i analysen for branche-dataet, er tallene 4716 og 4811 respektivt.** altså markant højere end før. Dette giver god mening, da sampling her ikke er på branche men derimod på køn og grupperet alder\n",
    "\n",
    "* Der er flere spørgsmål hvor 'Hoej Score Godt' er == 1. Tallene er 348 for godt og 192 for ikke godt. "
   ]
  },
  {
   "attachments": {},
   "cell_type": "markdown",
   "metadata": {},
   "source": [
    "### 2) Visualiseringer"
   ]
  },
  {
   "cell_type": "code",
   "execution_count": 1130,
   "metadata": {},
   "outputs": [],
   "source": [
    "import warnings\n",
    "\n",
    "warnings.simplefilter(action='ignore', category=FutureWarning)\n",
    "warnings.simplefilter(action='ignore', category=UserWarning)\n",
    "\n",
    "pd.options.mode.chained_assignment = None  # Suppress warning about assigning to a copy of a slice of a DataFrame\n"
   ]
  },
  {
   "cell_type": "code",
   "execution_count": 1218,
   "metadata": {},
   "outputs": [],
   "source": [
    "# Bygger en visualiserings funktion med Plotly, der kan genbruges på tværs af de to data frames \n",
    "\n",
    "def plot_top_and_bottom_groups(dataframe, hsg_value, kilde):\n",
    "    # Filtrer dataframen til kun at inkludere rækker, hvor 'Hoej Score Godt' er lig med hsg_værdi\n",
    "    filtreret_hoej_score_data = dataframe[dataframe['Hoej Score Godt'] == hsg_value]\n",
    "\n",
    "    # Gruppér data efter \"Group\" kolonnen og beregn hver gruppes gennemsnitsscore for alle spørgsmål\n",
    "    grupperet_data = filtreret_hoej_score_data.groupby(['Group'], as_index=False).mean()\n",
    "\n",
    "    # Sortér data efter gennemsnitsscore i faldende orden\n",
    "    grupperet_data.sort_values(by='Score', ascending=True, inplace=True)\n",
    "\n",
    "    # Filtrer de øverste 5 og de nederste 5 grupper\n",
    "    top_5_grupper = grupperet_data.head(5)\n",
    "    bottom_5_grupper = grupperet_data.tail(5)\n",
    "\n",
    "    # Tilføj en kolonne for at adskille de øverste og nederste 5 grupper\n",
    "    top_5_grupper.loc[:, 'Group Type'] = 'Nederste 5 Grupper'\n",
    "    bottom_5_grupper.loc[:, 'Group Type'] = 'Øverste 5 Grupper'\n",
    "\n",
    "    # Kobl de to dataframes\n",
    "    kombineret_data = pd.concat([top_5_grupper, bottom_5_grupper])\n",
    "\n",
    "    # Opret et søjlediagram med Plotlys px\n",
    "    fig = px.bar(kombineret_data, x='Score', y='Group', color='Group Type', color_discrete_sequence=['lightsalmon', '#1f77b4'], orientation='h')\n",
    "    fig.update_layout(title=f'Øverste og nederste 5 grupper efter samlet score for {kilde}. Høj score godt = {hsg_value}', xaxis_title='Score', yaxis_title='Group')\n",
    "    fig.show()\n",
    "\n"
   ]
  },
  {
   "attachments": {},
   "cell_type": "markdown",
   "metadata": {},
   "source": [
    "#### Branche data"
   ]
  },
  {
   "cell_type": "code",
   "execution_count": 1220,
   "metadata": {},
   "outputs": [
    {
     "data": {
      "application/vnd.plotly.v1+json": {
       "config": {
        "plotlyServerURL": "https://plot.ly"
       },
       "data": [
        {
         "alignmentgroup": "True",
         "hovertemplate": "Group Type=Nederste 5 Grupper<br>Score=%{x}<br>Group=%{y}<extra></extra>",
         "legendgroup": "Nederste 5 Grupper",
         "marker": {
          "color": "lightsalmon",
          "pattern": {
           "shape": ""
          }
         },
         "name": "Nederste 5 Grupper",
         "offsetgroup": "Nederste 5 Grupper",
         "orientation": "h",
         "showlegend": true,
         "textposition": "auto",
         "type": "bar",
         "x": [
          3.419797299551724,
          3.440240885896552,
          3.4673987027586204,
          3.480888222551724,
          3.481338753206897
         ],
         "xaxis": "x",
         "y": [
          "Passagerservicemedarbejdere",
          "Bude og kurerer",
          "Nærings- og nydelsesmiddelindustrimedarbejdere",
          "Præcisionshåndværkere",
          "Politi og fængselsbetjente"
         ],
         "yaxis": "y"
        },
        {
         "alignmentgroup": "True",
         "hovertemplate": "Group Type=Øverste 5 Grupper<br>Score=%{x}<br>Group=%{y}<extra></extra>",
         "legendgroup": "Øverste 5 Grupper",
         "marker": {
          "color": "#1f77b4",
          "pattern": {
           "shape": ""
          }
         },
         "name": "Øverste 5 Grupper",
         "offsetgroup": "Øverste 5 Grupper",
         "orientation": "h",
         "showlegend": true,
         "textposition": "auto",
         "type": "bar",
         "x": [
          3.8473837389655174,
          3.8501838596551723,
          3.884164780448276,
          3.9273909443448276,
          3.938459844689655
         ],
         "xaxis": "x",
         "y": [
          "Revisorer, rådgivere og analytikere",
          "Uoplyst",
          "Frisører og kosmetologer",
          "Farmaceuter, tandlæger og dyrlæger",
          "Ledere"
         ],
         "yaxis": "y"
        }
       ],
       "layout": {
        "barmode": "relative",
        "legend": {
         "title": {
          "text": "Group Type"
         },
         "tracegroupgap": 0
        },
        "margin": {
         "t": 60
        },
        "template": {
         "data": {
          "bar": [
           {
            "error_x": {
             "color": "#2a3f5f"
            },
            "error_y": {
             "color": "#2a3f5f"
            },
            "marker": {
             "line": {
              "color": "#E5ECF6",
              "width": 0.5
             },
             "pattern": {
              "fillmode": "overlay",
              "size": 10,
              "solidity": 0.2
             }
            },
            "type": "bar"
           }
          ],
          "barpolar": [
           {
            "marker": {
             "line": {
              "color": "#E5ECF6",
              "width": 0.5
             },
             "pattern": {
              "fillmode": "overlay",
              "size": 10,
              "solidity": 0.2
             }
            },
            "type": "barpolar"
           }
          ],
          "carpet": [
           {
            "aaxis": {
             "endlinecolor": "#2a3f5f",
             "gridcolor": "white",
             "linecolor": "white",
             "minorgridcolor": "white",
             "startlinecolor": "#2a3f5f"
            },
            "baxis": {
             "endlinecolor": "#2a3f5f",
             "gridcolor": "white",
             "linecolor": "white",
             "minorgridcolor": "white",
             "startlinecolor": "#2a3f5f"
            },
            "type": "carpet"
           }
          ],
          "choropleth": [
           {
            "colorbar": {
             "outlinewidth": 0,
             "ticks": ""
            },
            "type": "choropleth"
           }
          ],
          "contour": [
           {
            "colorbar": {
             "outlinewidth": 0,
             "ticks": ""
            },
            "colorscale": [
             [
              0,
              "#0d0887"
             ],
             [
              0.1111111111111111,
              "#46039f"
             ],
             [
              0.2222222222222222,
              "#7201a8"
             ],
             [
              0.3333333333333333,
              "#9c179e"
             ],
             [
              0.4444444444444444,
              "#bd3786"
             ],
             [
              0.5555555555555556,
              "#d8576b"
             ],
             [
              0.6666666666666666,
              "#ed7953"
             ],
             [
              0.7777777777777778,
              "#fb9f3a"
             ],
             [
              0.8888888888888888,
              "#fdca26"
             ],
             [
              1,
              "#f0f921"
             ]
            ],
            "type": "contour"
           }
          ],
          "contourcarpet": [
           {
            "colorbar": {
             "outlinewidth": 0,
             "ticks": ""
            },
            "type": "contourcarpet"
           }
          ],
          "heatmap": [
           {
            "colorbar": {
             "outlinewidth": 0,
             "ticks": ""
            },
            "colorscale": [
             [
              0,
              "#0d0887"
             ],
             [
              0.1111111111111111,
              "#46039f"
             ],
             [
              0.2222222222222222,
              "#7201a8"
             ],
             [
              0.3333333333333333,
              "#9c179e"
             ],
             [
              0.4444444444444444,
              "#bd3786"
             ],
             [
              0.5555555555555556,
              "#d8576b"
             ],
             [
              0.6666666666666666,
              "#ed7953"
             ],
             [
              0.7777777777777778,
              "#fb9f3a"
             ],
             [
              0.8888888888888888,
              "#fdca26"
             ],
             [
              1,
              "#f0f921"
             ]
            ],
            "type": "heatmap"
           }
          ],
          "heatmapgl": [
           {
            "colorbar": {
             "outlinewidth": 0,
             "ticks": ""
            },
            "colorscale": [
             [
              0,
              "#0d0887"
             ],
             [
              0.1111111111111111,
              "#46039f"
             ],
             [
              0.2222222222222222,
              "#7201a8"
             ],
             [
              0.3333333333333333,
              "#9c179e"
             ],
             [
              0.4444444444444444,
              "#bd3786"
             ],
             [
              0.5555555555555556,
              "#d8576b"
             ],
             [
              0.6666666666666666,
              "#ed7953"
             ],
             [
              0.7777777777777778,
              "#fb9f3a"
             ],
             [
              0.8888888888888888,
              "#fdca26"
             ],
             [
              1,
              "#f0f921"
             ]
            ],
            "type": "heatmapgl"
           }
          ],
          "histogram": [
           {
            "marker": {
             "pattern": {
              "fillmode": "overlay",
              "size": 10,
              "solidity": 0.2
             }
            },
            "type": "histogram"
           }
          ],
          "histogram2d": [
           {
            "colorbar": {
             "outlinewidth": 0,
             "ticks": ""
            },
            "colorscale": [
             [
              0,
              "#0d0887"
             ],
             [
              0.1111111111111111,
              "#46039f"
             ],
             [
              0.2222222222222222,
              "#7201a8"
             ],
             [
              0.3333333333333333,
              "#9c179e"
             ],
             [
              0.4444444444444444,
              "#bd3786"
             ],
             [
              0.5555555555555556,
              "#d8576b"
             ],
             [
              0.6666666666666666,
              "#ed7953"
             ],
             [
              0.7777777777777778,
              "#fb9f3a"
             ],
             [
              0.8888888888888888,
              "#fdca26"
             ],
             [
              1,
              "#f0f921"
             ]
            ],
            "type": "histogram2d"
           }
          ],
          "histogram2dcontour": [
           {
            "colorbar": {
             "outlinewidth": 0,
             "ticks": ""
            },
            "colorscale": [
             [
              0,
              "#0d0887"
             ],
             [
              0.1111111111111111,
              "#46039f"
             ],
             [
              0.2222222222222222,
              "#7201a8"
             ],
             [
              0.3333333333333333,
              "#9c179e"
             ],
             [
              0.4444444444444444,
              "#bd3786"
             ],
             [
              0.5555555555555556,
              "#d8576b"
             ],
             [
              0.6666666666666666,
              "#ed7953"
             ],
             [
              0.7777777777777778,
              "#fb9f3a"
             ],
             [
              0.8888888888888888,
              "#fdca26"
             ],
             [
              1,
              "#f0f921"
             ]
            ],
            "type": "histogram2dcontour"
           }
          ],
          "mesh3d": [
           {
            "colorbar": {
             "outlinewidth": 0,
             "ticks": ""
            },
            "type": "mesh3d"
           }
          ],
          "parcoords": [
           {
            "line": {
             "colorbar": {
              "outlinewidth": 0,
              "ticks": ""
             }
            },
            "type": "parcoords"
           }
          ],
          "pie": [
           {
            "automargin": true,
            "type": "pie"
           }
          ],
          "scatter": [
           {
            "fillpattern": {
             "fillmode": "overlay",
             "size": 10,
             "solidity": 0.2
            },
            "type": "scatter"
           }
          ],
          "scatter3d": [
           {
            "line": {
             "colorbar": {
              "outlinewidth": 0,
              "ticks": ""
             }
            },
            "marker": {
             "colorbar": {
              "outlinewidth": 0,
              "ticks": ""
             }
            },
            "type": "scatter3d"
           }
          ],
          "scattercarpet": [
           {
            "marker": {
             "colorbar": {
              "outlinewidth": 0,
              "ticks": ""
             }
            },
            "type": "scattercarpet"
           }
          ],
          "scattergeo": [
           {
            "marker": {
             "colorbar": {
              "outlinewidth": 0,
              "ticks": ""
             }
            },
            "type": "scattergeo"
           }
          ],
          "scattergl": [
           {
            "marker": {
             "colorbar": {
              "outlinewidth": 0,
              "ticks": ""
             }
            },
            "type": "scattergl"
           }
          ],
          "scattermapbox": [
           {
            "marker": {
             "colorbar": {
              "outlinewidth": 0,
              "ticks": ""
             }
            },
            "type": "scattermapbox"
           }
          ],
          "scatterpolar": [
           {
            "marker": {
             "colorbar": {
              "outlinewidth": 0,
              "ticks": ""
             }
            },
            "type": "scatterpolar"
           }
          ],
          "scatterpolargl": [
           {
            "marker": {
             "colorbar": {
              "outlinewidth": 0,
              "ticks": ""
             }
            },
            "type": "scatterpolargl"
           }
          ],
          "scatterternary": [
           {
            "marker": {
             "colorbar": {
              "outlinewidth": 0,
              "ticks": ""
             }
            },
            "type": "scatterternary"
           }
          ],
          "surface": [
           {
            "colorbar": {
             "outlinewidth": 0,
             "ticks": ""
            },
            "colorscale": [
             [
              0,
              "#0d0887"
             ],
             [
              0.1111111111111111,
              "#46039f"
             ],
             [
              0.2222222222222222,
              "#7201a8"
             ],
             [
              0.3333333333333333,
              "#9c179e"
             ],
             [
              0.4444444444444444,
              "#bd3786"
             ],
             [
              0.5555555555555556,
              "#d8576b"
             ],
             [
              0.6666666666666666,
              "#ed7953"
             ],
             [
              0.7777777777777778,
              "#fb9f3a"
             ],
             [
              0.8888888888888888,
              "#fdca26"
             ],
             [
              1,
              "#f0f921"
             ]
            ],
            "type": "surface"
           }
          ],
          "table": [
           {
            "cells": {
             "fill": {
              "color": "#EBF0F8"
             },
             "line": {
              "color": "white"
             }
            },
            "header": {
             "fill": {
              "color": "#C8D4E3"
             },
             "line": {
              "color": "white"
             }
            },
            "type": "table"
           }
          ]
         },
         "layout": {
          "annotationdefaults": {
           "arrowcolor": "#2a3f5f",
           "arrowhead": 0,
           "arrowwidth": 1
          },
          "autotypenumbers": "strict",
          "coloraxis": {
           "colorbar": {
            "outlinewidth": 0,
            "ticks": ""
           }
          },
          "colorscale": {
           "diverging": [
            [
             0,
             "#8e0152"
            ],
            [
             0.1,
             "#c51b7d"
            ],
            [
             0.2,
             "#de77ae"
            ],
            [
             0.3,
             "#f1b6da"
            ],
            [
             0.4,
             "#fde0ef"
            ],
            [
             0.5,
             "#f7f7f7"
            ],
            [
             0.6,
             "#e6f5d0"
            ],
            [
             0.7,
             "#b8e186"
            ],
            [
             0.8,
             "#7fbc41"
            ],
            [
             0.9,
             "#4d9221"
            ],
            [
             1,
             "#276419"
            ]
           ],
           "sequential": [
            [
             0,
             "#0d0887"
            ],
            [
             0.1111111111111111,
             "#46039f"
            ],
            [
             0.2222222222222222,
             "#7201a8"
            ],
            [
             0.3333333333333333,
             "#9c179e"
            ],
            [
             0.4444444444444444,
             "#bd3786"
            ],
            [
             0.5555555555555556,
             "#d8576b"
            ],
            [
             0.6666666666666666,
             "#ed7953"
            ],
            [
             0.7777777777777778,
             "#fb9f3a"
            ],
            [
             0.8888888888888888,
             "#fdca26"
            ],
            [
             1,
             "#f0f921"
            ]
           ],
           "sequentialminus": [
            [
             0,
             "#0d0887"
            ],
            [
             0.1111111111111111,
             "#46039f"
            ],
            [
             0.2222222222222222,
             "#7201a8"
            ],
            [
             0.3333333333333333,
             "#9c179e"
            ],
            [
             0.4444444444444444,
             "#bd3786"
            ],
            [
             0.5555555555555556,
             "#d8576b"
            ],
            [
             0.6666666666666666,
             "#ed7953"
            ],
            [
             0.7777777777777778,
             "#fb9f3a"
            ],
            [
             0.8888888888888888,
             "#fdca26"
            ],
            [
             1,
             "#f0f921"
            ]
           ]
          },
          "colorway": [
           "#636efa",
           "#EF553B",
           "#00cc96",
           "#ab63fa",
           "#FFA15A",
           "#19d3f3",
           "#FF6692",
           "#B6E880",
           "#FF97FF",
           "#FECB52"
          ],
          "font": {
           "color": "#2a3f5f"
          },
          "geo": {
           "bgcolor": "white",
           "lakecolor": "white",
           "landcolor": "#E5ECF6",
           "showlakes": true,
           "showland": true,
           "subunitcolor": "white"
          },
          "hoverlabel": {
           "align": "left"
          },
          "hovermode": "closest",
          "mapbox": {
           "style": "light"
          },
          "paper_bgcolor": "white",
          "plot_bgcolor": "#E5ECF6",
          "polar": {
           "angularaxis": {
            "gridcolor": "white",
            "linecolor": "white",
            "ticks": ""
           },
           "bgcolor": "#E5ECF6",
           "radialaxis": {
            "gridcolor": "white",
            "linecolor": "white",
            "ticks": ""
           }
          },
          "scene": {
           "xaxis": {
            "backgroundcolor": "#E5ECF6",
            "gridcolor": "white",
            "gridwidth": 2,
            "linecolor": "white",
            "showbackground": true,
            "ticks": "",
            "zerolinecolor": "white"
           },
           "yaxis": {
            "backgroundcolor": "#E5ECF6",
            "gridcolor": "white",
            "gridwidth": 2,
            "linecolor": "white",
            "showbackground": true,
            "ticks": "",
            "zerolinecolor": "white"
           },
           "zaxis": {
            "backgroundcolor": "#E5ECF6",
            "gridcolor": "white",
            "gridwidth": 2,
            "linecolor": "white",
            "showbackground": true,
            "ticks": "",
            "zerolinecolor": "white"
           }
          },
          "shapedefaults": {
           "line": {
            "color": "#2a3f5f"
           }
          },
          "ternary": {
           "aaxis": {
            "gridcolor": "white",
            "linecolor": "white",
            "ticks": ""
           },
           "baxis": {
            "gridcolor": "white",
            "linecolor": "white",
            "ticks": ""
           },
           "bgcolor": "#E5ECF6",
           "caxis": {
            "gridcolor": "white",
            "linecolor": "white",
            "ticks": ""
           }
          },
          "title": {
           "x": 0.05
          },
          "xaxis": {
           "automargin": true,
           "gridcolor": "white",
           "linecolor": "white",
           "ticks": "",
           "title": {
            "standoff": 15
           },
           "zerolinecolor": "white",
           "zerolinewidth": 2
          },
          "yaxis": {
           "automargin": true,
           "gridcolor": "white",
           "linecolor": "white",
           "ticks": "",
           "title": {
            "standoff": 15
           },
           "zerolinecolor": "white",
           "zerolinewidth": 2
          }
         }
        },
        "title": {
         "text": "Øverste og nederste 5 grupper efter samlet score for branche data. Høj score godt = 1"
        },
        "xaxis": {
         "anchor": "y",
         "domain": [
          0,
          1
         ],
         "title": {
          "text": "Score"
         }
        },
        "yaxis": {
         "anchor": "x",
         "domain": [
          0,
          1
         ],
         "title": {
          "text": "Group"
         }
        }
       }
      }
     },
     "metadata": {},
     "output_type": "display_data"
    }
   ],
   "source": [
    "plot_top_and_bottom_groups(branche_data_filtered, 1, 'branche data')"
   ]
  },
  {
   "cell_type": "code",
   "execution_count": 1221,
   "metadata": {},
   "outputs": [
    {
     "data": {
      "application/vnd.plotly.v1+json": {
       "config": {
        "plotlyServerURL": "https://plot.ly"
       },
       "data": [
        {
         "alignmentgroup": "True",
         "hovertemplate": "Group Type=Nederste 5 Grupper<br>Score=%{x}<br>Group=%{y}<extra></extra>",
         "legendgroup": "Nederste 5 Grupper",
         "marker": {
          "color": "lightsalmon",
          "pattern": {
           "shape": ""
          }
         },
         "name": "Nederste 5 Grupper",
         "offsetgroup": "Nederste 5 Grupper",
         "orientation": "h",
         "showlegend": true,
         "textposition": "auto",
         "type": "bar",
         "x": [
          2.617660357,
          2.652127758875,
          2.66235104,
          2.6646268503125,
          2.6668171418125
         ],
         "xaxis": "x",
         "y": [
          "Tekniske tegnere",
          "Frisører og kosmetologer",
          "Jord- og betonarbejdere",
          "Dagplejere og børneomsorgsbeskæftigede",
          "Tømrere og snedkere"
         ],
         "yaxis": "y"
        },
        {
         "alignmentgroup": "True",
         "hovertemplate": "Group Type=Øverste 5 Grupper<br>Score=%{x}<br>Group=%{y}<extra></extra>",
         "legendgroup": "Øverste 5 Grupper",
         "marker": {
          "color": "#1f77b4",
          "pattern": {
           "shape": ""
          }
         },
         "name": "Øverste 5 Grupper",
         "offsetgroup": "Øverste 5 Grupper",
         "orientation": "h",
         "showlegend": true,
         "textposition": "auto",
         "type": "bar",
         "x": [
          2.9947307773125003,
          3.029811516,
          3.073238663875,
          3.109016724125,
          3.120241292625
         ],
         "xaxis": "x",
         "y": [
          "SOSU´er",
          "Sygeplejersker",
          "Gymnasielærere",
          "Socialrådgivere",
          "Læger"
         ],
         "yaxis": "y"
        }
       ],
       "layout": {
        "barmode": "relative",
        "legend": {
         "title": {
          "text": "Group Type"
         },
         "tracegroupgap": 0
        },
        "margin": {
         "t": 60
        },
        "template": {
         "data": {
          "bar": [
           {
            "error_x": {
             "color": "#2a3f5f"
            },
            "error_y": {
             "color": "#2a3f5f"
            },
            "marker": {
             "line": {
              "color": "#E5ECF6",
              "width": 0.5
             },
             "pattern": {
              "fillmode": "overlay",
              "size": 10,
              "solidity": 0.2
             }
            },
            "type": "bar"
           }
          ],
          "barpolar": [
           {
            "marker": {
             "line": {
              "color": "#E5ECF6",
              "width": 0.5
             },
             "pattern": {
              "fillmode": "overlay",
              "size": 10,
              "solidity": 0.2
             }
            },
            "type": "barpolar"
           }
          ],
          "carpet": [
           {
            "aaxis": {
             "endlinecolor": "#2a3f5f",
             "gridcolor": "white",
             "linecolor": "white",
             "minorgridcolor": "white",
             "startlinecolor": "#2a3f5f"
            },
            "baxis": {
             "endlinecolor": "#2a3f5f",
             "gridcolor": "white",
             "linecolor": "white",
             "minorgridcolor": "white",
             "startlinecolor": "#2a3f5f"
            },
            "type": "carpet"
           }
          ],
          "choropleth": [
           {
            "colorbar": {
             "outlinewidth": 0,
             "ticks": ""
            },
            "type": "choropleth"
           }
          ],
          "contour": [
           {
            "colorbar": {
             "outlinewidth": 0,
             "ticks": ""
            },
            "colorscale": [
             [
              0,
              "#0d0887"
             ],
             [
              0.1111111111111111,
              "#46039f"
             ],
             [
              0.2222222222222222,
              "#7201a8"
             ],
             [
              0.3333333333333333,
              "#9c179e"
             ],
             [
              0.4444444444444444,
              "#bd3786"
             ],
             [
              0.5555555555555556,
              "#d8576b"
             ],
             [
              0.6666666666666666,
              "#ed7953"
             ],
             [
              0.7777777777777778,
              "#fb9f3a"
             ],
             [
              0.8888888888888888,
              "#fdca26"
             ],
             [
              1,
              "#f0f921"
             ]
            ],
            "type": "contour"
           }
          ],
          "contourcarpet": [
           {
            "colorbar": {
             "outlinewidth": 0,
             "ticks": ""
            },
            "type": "contourcarpet"
           }
          ],
          "heatmap": [
           {
            "colorbar": {
             "outlinewidth": 0,
             "ticks": ""
            },
            "colorscale": [
             [
              0,
              "#0d0887"
             ],
             [
              0.1111111111111111,
              "#46039f"
             ],
             [
              0.2222222222222222,
              "#7201a8"
             ],
             [
              0.3333333333333333,
              "#9c179e"
             ],
             [
              0.4444444444444444,
              "#bd3786"
             ],
             [
              0.5555555555555556,
              "#d8576b"
             ],
             [
              0.6666666666666666,
              "#ed7953"
             ],
             [
              0.7777777777777778,
              "#fb9f3a"
             ],
             [
              0.8888888888888888,
              "#fdca26"
             ],
             [
              1,
              "#f0f921"
             ]
            ],
            "type": "heatmap"
           }
          ],
          "heatmapgl": [
           {
            "colorbar": {
             "outlinewidth": 0,
             "ticks": ""
            },
            "colorscale": [
             [
              0,
              "#0d0887"
             ],
             [
              0.1111111111111111,
              "#46039f"
             ],
             [
              0.2222222222222222,
              "#7201a8"
             ],
             [
              0.3333333333333333,
              "#9c179e"
             ],
             [
              0.4444444444444444,
              "#bd3786"
             ],
             [
              0.5555555555555556,
              "#d8576b"
             ],
             [
              0.6666666666666666,
              "#ed7953"
             ],
             [
              0.7777777777777778,
              "#fb9f3a"
             ],
             [
              0.8888888888888888,
              "#fdca26"
             ],
             [
              1,
              "#f0f921"
             ]
            ],
            "type": "heatmapgl"
           }
          ],
          "histogram": [
           {
            "marker": {
             "pattern": {
              "fillmode": "overlay",
              "size": 10,
              "solidity": 0.2
             }
            },
            "type": "histogram"
           }
          ],
          "histogram2d": [
           {
            "colorbar": {
             "outlinewidth": 0,
             "ticks": ""
            },
            "colorscale": [
             [
              0,
              "#0d0887"
             ],
             [
              0.1111111111111111,
              "#46039f"
             ],
             [
              0.2222222222222222,
              "#7201a8"
             ],
             [
              0.3333333333333333,
              "#9c179e"
             ],
             [
              0.4444444444444444,
              "#bd3786"
             ],
             [
              0.5555555555555556,
              "#d8576b"
             ],
             [
              0.6666666666666666,
              "#ed7953"
             ],
             [
              0.7777777777777778,
              "#fb9f3a"
             ],
             [
              0.8888888888888888,
              "#fdca26"
             ],
             [
              1,
              "#f0f921"
             ]
            ],
            "type": "histogram2d"
           }
          ],
          "histogram2dcontour": [
           {
            "colorbar": {
             "outlinewidth": 0,
             "ticks": ""
            },
            "colorscale": [
             [
              0,
              "#0d0887"
             ],
             [
              0.1111111111111111,
              "#46039f"
             ],
             [
              0.2222222222222222,
              "#7201a8"
             ],
             [
              0.3333333333333333,
              "#9c179e"
             ],
             [
              0.4444444444444444,
              "#bd3786"
             ],
             [
              0.5555555555555556,
              "#d8576b"
             ],
             [
              0.6666666666666666,
              "#ed7953"
             ],
             [
              0.7777777777777778,
              "#fb9f3a"
             ],
             [
              0.8888888888888888,
              "#fdca26"
             ],
             [
              1,
              "#f0f921"
             ]
            ],
            "type": "histogram2dcontour"
           }
          ],
          "mesh3d": [
           {
            "colorbar": {
             "outlinewidth": 0,
             "ticks": ""
            },
            "type": "mesh3d"
           }
          ],
          "parcoords": [
           {
            "line": {
             "colorbar": {
              "outlinewidth": 0,
              "ticks": ""
             }
            },
            "type": "parcoords"
           }
          ],
          "pie": [
           {
            "automargin": true,
            "type": "pie"
           }
          ],
          "scatter": [
           {
            "fillpattern": {
             "fillmode": "overlay",
             "size": 10,
             "solidity": 0.2
            },
            "type": "scatter"
           }
          ],
          "scatter3d": [
           {
            "line": {
             "colorbar": {
              "outlinewidth": 0,
              "ticks": ""
             }
            },
            "marker": {
             "colorbar": {
              "outlinewidth": 0,
              "ticks": ""
             }
            },
            "type": "scatter3d"
           }
          ],
          "scattercarpet": [
           {
            "marker": {
             "colorbar": {
              "outlinewidth": 0,
              "ticks": ""
             }
            },
            "type": "scattercarpet"
           }
          ],
          "scattergeo": [
           {
            "marker": {
             "colorbar": {
              "outlinewidth": 0,
              "ticks": ""
             }
            },
            "type": "scattergeo"
           }
          ],
          "scattergl": [
           {
            "marker": {
             "colorbar": {
              "outlinewidth": 0,
              "ticks": ""
             }
            },
            "type": "scattergl"
           }
          ],
          "scattermapbox": [
           {
            "marker": {
             "colorbar": {
              "outlinewidth": 0,
              "ticks": ""
             }
            },
            "type": "scattermapbox"
           }
          ],
          "scatterpolar": [
           {
            "marker": {
             "colorbar": {
              "outlinewidth": 0,
              "ticks": ""
             }
            },
            "type": "scatterpolar"
           }
          ],
          "scatterpolargl": [
           {
            "marker": {
             "colorbar": {
              "outlinewidth": 0,
              "ticks": ""
             }
            },
            "type": "scatterpolargl"
           }
          ],
          "scatterternary": [
           {
            "marker": {
             "colorbar": {
              "outlinewidth": 0,
              "ticks": ""
             }
            },
            "type": "scatterternary"
           }
          ],
          "surface": [
           {
            "colorbar": {
             "outlinewidth": 0,
             "ticks": ""
            },
            "colorscale": [
             [
              0,
              "#0d0887"
             ],
             [
              0.1111111111111111,
              "#46039f"
             ],
             [
              0.2222222222222222,
              "#7201a8"
             ],
             [
              0.3333333333333333,
              "#9c179e"
             ],
             [
              0.4444444444444444,
              "#bd3786"
             ],
             [
              0.5555555555555556,
              "#d8576b"
             ],
             [
              0.6666666666666666,
              "#ed7953"
             ],
             [
              0.7777777777777778,
              "#fb9f3a"
             ],
             [
              0.8888888888888888,
              "#fdca26"
             ],
             [
              1,
              "#f0f921"
             ]
            ],
            "type": "surface"
           }
          ],
          "table": [
           {
            "cells": {
             "fill": {
              "color": "#EBF0F8"
             },
             "line": {
              "color": "white"
             }
            },
            "header": {
             "fill": {
              "color": "#C8D4E3"
             },
             "line": {
              "color": "white"
             }
            },
            "type": "table"
           }
          ]
         },
         "layout": {
          "annotationdefaults": {
           "arrowcolor": "#2a3f5f",
           "arrowhead": 0,
           "arrowwidth": 1
          },
          "autotypenumbers": "strict",
          "coloraxis": {
           "colorbar": {
            "outlinewidth": 0,
            "ticks": ""
           }
          },
          "colorscale": {
           "diverging": [
            [
             0,
             "#8e0152"
            ],
            [
             0.1,
             "#c51b7d"
            ],
            [
             0.2,
             "#de77ae"
            ],
            [
             0.3,
             "#f1b6da"
            ],
            [
             0.4,
             "#fde0ef"
            ],
            [
             0.5,
             "#f7f7f7"
            ],
            [
             0.6,
             "#e6f5d0"
            ],
            [
             0.7,
             "#b8e186"
            ],
            [
             0.8,
             "#7fbc41"
            ],
            [
             0.9,
             "#4d9221"
            ],
            [
             1,
             "#276419"
            ]
           ],
           "sequential": [
            [
             0,
             "#0d0887"
            ],
            [
             0.1111111111111111,
             "#46039f"
            ],
            [
             0.2222222222222222,
             "#7201a8"
            ],
            [
             0.3333333333333333,
             "#9c179e"
            ],
            [
             0.4444444444444444,
             "#bd3786"
            ],
            [
             0.5555555555555556,
             "#d8576b"
            ],
            [
             0.6666666666666666,
             "#ed7953"
            ],
            [
             0.7777777777777778,
             "#fb9f3a"
            ],
            [
             0.8888888888888888,
             "#fdca26"
            ],
            [
             1,
             "#f0f921"
            ]
           ],
           "sequentialminus": [
            [
             0,
             "#0d0887"
            ],
            [
             0.1111111111111111,
             "#46039f"
            ],
            [
             0.2222222222222222,
             "#7201a8"
            ],
            [
             0.3333333333333333,
             "#9c179e"
            ],
            [
             0.4444444444444444,
             "#bd3786"
            ],
            [
             0.5555555555555556,
             "#d8576b"
            ],
            [
             0.6666666666666666,
             "#ed7953"
            ],
            [
             0.7777777777777778,
             "#fb9f3a"
            ],
            [
             0.8888888888888888,
             "#fdca26"
            ],
            [
             1,
             "#f0f921"
            ]
           ]
          },
          "colorway": [
           "#636efa",
           "#EF553B",
           "#00cc96",
           "#ab63fa",
           "#FFA15A",
           "#19d3f3",
           "#FF6692",
           "#B6E880",
           "#FF97FF",
           "#FECB52"
          ],
          "font": {
           "color": "#2a3f5f"
          },
          "geo": {
           "bgcolor": "white",
           "lakecolor": "white",
           "landcolor": "#E5ECF6",
           "showlakes": true,
           "showland": true,
           "subunitcolor": "white"
          },
          "hoverlabel": {
           "align": "left"
          },
          "hovermode": "closest",
          "mapbox": {
           "style": "light"
          },
          "paper_bgcolor": "white",
          "plot_bgcolor": "#E5ECF6",
          "polar": {
           "angularaxis": {
            "gridcolor": "white",
            "linecolor": "white",
            "ticks": ""
           },
           "bgcolor": "#E5ECF6",
           "radialaxis": {
            "gridcolor": "white",
            "linecolor": "white",
            "ticks": ""
           }
          },
          "scene": {
           "xaxis": {
            "backgroundcolor": "#E5ECF6",
            "gridcolor": "white",
            "gridwidth": 2,
            "linecolor": "white",
            "showbackground": true,
            "ticks": "",
            "zerolinecolor": "white"
           },
           "yaxis": {
            "backgroundcolor": "#E5ECF6",
            "gridcolor": "white",
            "gridwidth": 2,
            "linecolor": "white",
            "showbackground": true,
            "ticks": "",
            "zerolinecolor": "white"
           },
           "zaxis": {
            "backgroundcolor": "#E5ECF6",
            "gridcolor": "white",
            "gridwidth": 2,
            "linecolor": "white",
            "showbackground": true,
            "ticks": "",
            "zerolinecolor": "white"
           }
          },
          "shapedefaults": {
           "line": {
            "color": "#2a3f5f"
           }
          },
          "ternary": {
           "aaxis": {
            "gridcolor": "white",
            "linecolor": "white",
            "ticks": ""
           },
           "baxis": {
            "gridcolor": "white",
            "linecolor": "white",
            "ticks": ""
           },
           "bgcolor": "#E5ECF6",
           "caxis": {
            "gridcolor": "white",
            "linecolor": "white",
            "ticks": ""
           }
          },
          "title": {
           "x": 0.05
          },
          "xaxis": {
           "automargin": true,
           "gridcolor": "white",
           "linecolor": "white",
           "ticks": "",
           "title": {
            "standoff": 15
           },
           "zerolinecolor": "white",
           "zerolinewidth": 2
          },
          "yaxis": {
           "automargin": true,
           "gridcolor": "white",
           "linecolor": "white",
           "ticks": "",
           "title": {
            "standoff": 15
           },
           "zerolinecolor": "white",
           "zerolinewidth": 2
          }
         }
        },
        "title": {
         "text": "Øverste og nederste 5 grupper efter samlet score for branche data. Høj score godt = 0"
        },
        "xaxis": {
         "anchor": "y",
         "domain": [
          0,
          1
         ],
         "title": {
          "text": "Score"
         }
        },
        "yaxis": {
         "anchor": "x",
         "domain": [
          0,
          1
         ],
         "title": {
          "text": "Group"
         }
        }
       }
      }
     },
     "metadata": {},
     "output_type": "display_data"
    }
   ],
   "source": [
    "plot_top_and_bottom_groups(branche_data_filtered, 0, 'branche data')"
   ]
  },
  {
   "attachments": {},
   "cell_type": "markdown",
   "metadata": {},
   "source": [
    "#### Problemstilling: Hvordan scorer arbejdsmiljøet i forskellige brancher i 2018?\n",
    "\n",
    "#### **Finding 1: Arbejdsmiljøet scorer bedst i brancher med mere selvstændighed og ansvar, som typisk er i det private.**\n",
    "\n",
    "Når man sammenligner de øverste 5 grupper med de nederste 5 grupper i den første graf, er to ting tydelige. Ledere scorer højest i HSG = 1 med en gennemsnitlig score på 3.93, mens passagerservicemedarbejdere scorer lavest med en gennemsnitlig score på 3.41.\n",
    "\n",
    "De øverste 5 grupper i denne graf med HSG = 1 består typisk af brancher og arbejdstyper, der har mere selvstændighed og ansvar, såsom frisører, kosmetologer og ledere. Disse brancher er mere autonome end f.eks. bud og kurer, der findes i de nederste 5 grupper. For eksempel har frisører mere frihed og ejer ofte deres egen butik, mens bud typisk er ansat i en virksomhed som DHL.\n",
    "\n",
    "Når man sammenligner de øverste 5 grupper med de nederste 5 grupper i den anden graf med HSG = 0, ser man et klart mønster: Folk ansat i offentlige stillinger scorer i gennemsnit højere. Socialrådgivere (3.10), gymnasielærere (3.07) og SOSU-assistenter (2.99) er typisk ansat i offentlige stillinger (med undtagelse af særlige stillinger som vikariater). De nederste 5 grupper indeholder typisk brancher, der er mere privat end offentlig i ansættelsesnatur, såsom frisører og kosmetologer (2.65) og f.eks. også tømrere og snedkere (2.66).\n",
    "\n",
    "Det er vigtigt at bemærke, at dataet er et snapshot fra 2018, og det er derfor nødvendigt at sammenligne med andre tidspunkter for at se udviklingen i de forskellige branchers arbejdsmiljø."
   ]
  },
  {
   "attachments": {},
   "cell_type": "markdown",
   "metadata": {},
   "source": [
    "#### Køn og alder data"
   ]
  },
  {
   "cell_type": "code",
   "execution_count": 1222,
   "metadata": {},
   "outputs": [
    {
     "data": {
      "application/vnd.plotly.v1+json": {
       "config": {
        "plotlyServerURL": "https://plot.ly"
       },
       "data": [
        {
         "alignmentgroup": "True",
         "hovertemplate": "Group Type=Nederste 5 Grupper<br>Score=%{x}<br>Group=%{y}<extra></extra>",
         "legendgroup": "Nederste 5 Grupper",
         "marker": {
          "color": "lightsalmon",
          "pattern": {
           "shape": ""
          }
         },
         "name": "Nederste 5 Grupper",
         "offsetgroup": "Nederste 5 Grupper",
         "orientation": "h",
         "showlegend": true,
         "textposition": "auto",
         "type": "bar",
         "x": [
          3.697843903724138,
          3.708080600413793,
          3.711487478275862,
          3.711936177896552,
          3.714746862551724
         ],
         "xaxis": "x",
         "y": [
          "Kvinder, 25 - 34 år",
          "Kvinder, 55 - 64 år",
          "Mænd, 35 - 44 år",
          "Mænd, 45 - 54 år",
          "Mænd, 55 - 64 år"
         ],
         "yaxis": "y"
        },
        {
         "alignmentgroup": "True",
         "hovertemplate": "Group Type=Øverste 5 Grupper<br>Score=%{x}<br>Group=%{y}<extra></extra>",
         "legendgroup": "Øverste 5 Grupper",
         "marker": {
          "color": "#1f77b4",
          "pattern": {
           "shape": ""
          }
         },
         "name": "Øverste 5 Grupper",
         "offsetgroup": "Øverste 5 Grupper",
         "orientation": "h",
         "showlegend": true,
         "textposition": "auto",
         "type": "bar",
         "x": [
          3.7184124728275862,
          3.727783502,
          3.7393321807931033,
          3.7568327589655173,
          3.769627015448276
         ],
         "xaxis": "x",
         "y": [
          "Kvinder, 45 - 54 år",
          "Mænd",
          "Kvinder, 35 - 44 år",
          "Mænd, 25 - 34 år",
          "Mænd, 18 - 24 år"
         ],
         "yaxis": "y"
        }
       ],
       "layout": {
        "barmode": "relative",
        "legend": {
         "title": {
          "text": "Group Type"
         },
         "tracegroupgap": 0
        },
        "margin": {
         "t": 60
        },
        "template": {
         "data": {
          "bar": [
           {
            "error_x": {
             "color": "#2a3f5f"
            },
            "error_y": {
             "color": "#2a3f5f"
            },
            "marker": {
             "line": {
              "color": "#E5ECF6",
              "width": 0.5
             },
             "pattern": {
              "fillmode": "overlay",
              "size": 10,
              "solidity": 0.2
             }
            },
            "type": "bar"
           }
          ],
          "barpolar": [
           {
            "marker": {
             "line": {
              "color": "#E5ECF6",
              "width": 0.5
             },
             "pattern": {
              "fillmode": "overlay",
              "size": 10,
              "solidity": 0.2
             }
            },
            "type": "barpolar"
           }
          ],
          "carpet": [
           {
            "aaxis": {
             "endlinecolor": "#2a3f5f",
             "gridcolor": "white",
             "linecolor": "white",
             "minorgridcolor": "white",
             "startlinecolor": "#2a3f5f"
            },
            "baxis": {
             "endlinecolor": "#2a3f5f",
             "gridcolor": "white",
             "linecolor": "white",
             "minorgridcolor": "white",
             "startlinecolor": "#2a3f5f"
            },
            "type": "carpet"
           }
          ],
          "choropleth": [
           {
            "colorbar": {
             "outlinewidth": 0,
             "ticks": ""
            },
            "type": "choropleth"
           }
          ],
          "contour": [
           {
            "colorbar": {
             "outlinewidth": 0,
             "ticks": ""
            },
            "colorscale": [
             [
              0,
              "#0d0887"
             ],
             [
              0.1111111111111111,
              "#46039f"
             ],
             [
              0.2222222222222222,
              "#7201a8"
             ],
             [
              0.3333333333333333,
              "#9c179e"
             ],
             [
              0.4444444444444444,
              "#bd3786"
             ],
             [
              0.5555555555555556,
              "#d8576b"
             ],
             [
              0.6666666666666666,
              "#ed7953"
             ],
             [
              0.7777777777777778,
              "#fb9f3a"
             ],
             [
              0.8888888888888888,
              "#fdca26"
             ],
             [
              1,
              "#f0f921"
             ]
            ],
            "type": "contour"
           }
          ],
          "contourcarpet": [
           {
            "colorbar": {
             "outlinewidth": 0,
             "ticks": ""
            },
            "type": "contourcarpet"
           }
          ],
          "heatmap": [
           {
            "colorbar": {
             "outlinewidth": 0,
             "ticks": ""
            },
            "colorscale": [
             [
              0,
              "#0d0887"
             ],
             [
              0.1111111111111111,
              "#46039f"
             ],
             [
              0.2222222222222222,
              "#7201a8"
             ],
             [
              0.3333333333333333,
              "#9c179e"
             ],
             [
              0.4444444444444444,
              "#bd3786"
             ],
             [
              0.5555555555555556,
              "#d8576b"
             ],
             [
              0.6666666666666666,
              "#ed7953"
             ],
             [
              0.7777777777777778,
              "#fb9f3a"
             ],
             [
              0.8888888888888888,
              "#fdca26"
             ],
             [
              1,
              "#f0f921"
             ]
            ],
            "type": "heatmap"
           }
          ],
          "heatmapgl": [
           {
            "colorbar": {
             "outlinewidth": 0,
             "ticks": ""
            },
            "colorscale": [
             [
              0,
              "#0d0887"
             ],
             [
              0.1111111111111111,
              "#46039f"
             ],
             [
              0.2222222222222222,
              "#7201a8"
             ],
             [
              0.3333333333333333,
              "#9c179e"
             ],
             [
              0.4444444444444444,
              "#bd3786"
             ],
             [
              0.5555555555555556,
              "#d8576b"
             ],
             [
              0.6666666666666666,
              "#ed7953"
             ],
             [
              0.7777777777777778,
              "#fb9f3a"
             ],
             [
              0.8888888888888888,
              "#fdca26"
             ],
             [
              1,
              "#f0f921"
             ]
            ],
            "type": "heatmapgl"
           }
          ],
          "histogram": [
           {
            "marker": {
             "pattern": {
              "fillmode": "overlay",
              "size": 10,
              "solidity": 0.2
             }
            },
            "type": "histogram"
           }
          ],
          "histogram2d": [
           {
            "colorbar": {
             "outlinewidth": 0,
             "ticks": ""
            },
            "colorscale": [
             [
              0,
              "#0d0887"
             ],
             [
              0.1111111111111111,
              "#46039f"
             ],
             [
              0.2222222222222222,
              "#7201a8"
             ],
             [
              0.3333333333333333,
              "#9c179e"
             ],
             [
              0.4444444444444444,
              "#bd3786"
             ],
             [
              0.5555555555555556,
              "#d8576b"
             ],
             [
              0.6666666666666666,
              "#ed7953"
             ],
             [
              0.7777777777777778,
              "#fb9f3a"
             ],
             [
              0.8888888888888888,
              "#fdca26"
             ],
             [
              1,
              "#f0f921"
             ]
            ],
            "type": "histogram2d"
           }
          ],
          "histogram2dcontour": [
           {
            "colorbar": {
             "outlinewidth": 0,
             "ticks": ""
            },
            "colorscale": [
             [
              0,
              "#0d0887"
             ],
             [
              0.1111111111111111,
              "#46039f"
             ],
             [
              0.2222222222222222,
              "#7201a8"
             ],
             [
              0.3333333333333333,
              "#9c179e"
             ],
             [
              0.4444444444444444,
              "#bd3786"
             ],
             [
              0.5555555555555556,
              "#d8576b"
             ],
             [
              0.6666666666666666,
              "#ed7953"
             ],
             [
              0.7777777777777778,
              "#fb9f3a"
             ],
             [
              0.8888888888888888,
              "#fdca26"
             ],
             [
              1,
              "#f0f921"
             ]
            ],
            "type": "histogram2dcontour"
           }
          ],
          "mesh3d": [
           {
            "colorbar": {
             "outlinewidth": 0,
             "ticks": ""
            },
            "type": "mesh3d"
           }
          ],
          "parcoords": [
           {
            "line": {
             "colorbar": {
              "outlinewidth": 0,
              "ticks": ""
             }
            },
            "type": "parcoords"
           }
          ],
          "pie": [
           {
            "automargin": true,
            "type": "pie"
           }
          ],
          "scatter": [
           {
            "fillpattern": {
             "fillmode": "overlay",
             "size": 10,
             "solidity": 0.2
            },
            "type": "scatter"
           }
          ],
          "scatter3d": [
           {
            "line": {
             "colorbar": {
              "outlinewidth": 0,
              "ticks": ""
             }
            },
            "marker": {
             "colorbar": {
              "outlinewidth": 0,
              "ticks": ""
             }
            },
            "type": "scatter3d"
           }
          ],
          "scattercarpet": [
           {
            "marker": {
             "colorbar": {
              "outlinewidth": 0,
              "ticks": ""
             }
            },
            "type": "scattercarpet"
           }
          ],
          "scattergeo": [
           {
            "marker": {
             "colorbar": {
              "outlinewidth": 0,
              "ticks": ""
             }
            },
            "type": "scattergeo"
           }
          ],
          "scattergl": [
           {
            "marker": {
             "colorbar": {
              "outlinewidth": 0,
              "ticks": ""
             }
            },
            "type": "scattergl"
           }
          ],
          "scattermapbox": [
           {
            "marker": {
             "colorbar": {
              "outlinewidth": 0,
              "ticks": ""
             }
            },
            "type": "scattermapbox"
           }
          ],
          "scatterpolar": [
           {
            "marker": {
             "colorbar": {
              "outlinewidth": 0,
              "ticks": ""
             }
            },
            "type": "scatterpolar"
           }
          ],
          "scatterpolargl": [
           {
            "marker": {
             "colorbar": {
              "outlinewidth": 0,
              "ticks": ""
             }
            },
            "type": "scatterpolargl"
           }
          ],
          "scatterternary": [
           {
            "marker": {
             "colorbar": {
              "outlinewidth": 0,
              "ticks": ""
             }
            },
            "type": "scatterternary"
           }
          ],
          "surface": [
           {
            "colorbar": {
             "outlinewidth": 0,
             "ticks": ""
            },
            "colorscale": [
             [
              0,
              "#0d0887"
             ],
             [
              0.1111111111111111,
              "#46039f"
             ],
             [
              0.2222222222222222,
              "#7201a8"
             ],
             [
              0.3333333333333333,
              "#9c179e"
             ],
             [
              0.4444444444444444,
              "#bd3786"
             ],
             [
              0.5555555555555556,
              "#d8576b"
             ],
             [
              0.6666666666666666,
              "#ed7953"
             ],
             [
              0.7777777777777778,
              "#fb9f3a"
             ],
             [
              0.8888888888888888,
              "#fdca26"
             ],
             [
              1,
              "#f0f921"
             ]
            ],
            "type": "surface"
           }
          ],
          "table": [
           {
            "cells": {
             "fill": {
              "color": "#EBF0F8"
             },
             "line": {
              "color": "white"
             }
            },
            "header": {
             "fill": {
              "color": "#C8D4E3"
             },
             "line": {
              "color": "white"
             }
            },
            "type": "table"
           }
          ]
         },
         "layout": {
          "annotationdefaults": {
           "arrowcolor": "#2a3f5f",
           "arrowhead": 0,
           "arrowwidth": 1
          },
          "autotypenumbers": "strict",
          "coloraxis": {
           "colorbar": {
            "outlinewidth": 0,
            "ticks": ""
           }
          },
          "colorscale": {
           "diverging": [
            [
             0,
             "#8e0152"
            ],
            [
             0.1,
             "#c51b7d"
            ],
            [
             0.2,
             "#de77ae"
            ],
            [
             0.3,
             "#f1b6da"
            ],
            [
             0.4,
             "#fde0ef"
            ],
            [
             0.5,
             "#f7f7f7"
            ],
            [
             0.6,
             "#e6f5d0"
            ],
            [
             0.7,
             "#b8e186"
            ],
            [
             0.8,
             "#7fbc41"
            ],
            [
             0.9,
             "#4d9221"
            ],
            [
             1,
             "#276419"
            ]
           ],
           "sequential": [
            [
             0,
             "#0d0887"
            ],
            [
             0.1111111111111111,
             "#46039f"
            ],
            [
             0.2222222222222222,
             "#7201a8"
            ],
            [
             0.3333333333333333,
             "#9c179e"
            ],
            [
             0.4444444444444444,
             "#bd3786"
            ],
            [
             0.5555555555555556,
             "#d8576b"
            ],
            [
             0.6666666666666666,
             "#ed7953"
            ],
            [
             0.7777777777777778,
             "#fb9f3a"
            ],
            [
             0.8888888888888888,
             "#fdca26"
            ],
            [
             1,
             "#f0f921"
            ]
           ],
           "sequentialminus": [
            [
             0,
             "#0d0887"
            ],
            [
             0.1111111111111111,
             "#46039f"
            ],
            [
             0.2222222222222222,
             "#7201a8"
            ],
            [
             0.3333333333333333,
             "#9c179e"
            ],
            [
             0.4444444444444444,
             "#bd3786"
            ],
            [
             0.5555555555555556,
             "#d8576b"
            ],
            [
             0.6666666666666666,
             "#ed7953"
            ],
            [
             0.7777777777777778,
             "#fb9f3a"
            ],
            [
             0.8888888888888888,
             "#fdca26"
            ],
            [
             1,
             "#f0f921"
            ]
           ]
          },
          "colorway": [
           "#636efa",
           "#EF553B",
           "#00cc96",
           "#ab63fa",
           "#FFA15A",
           "#19d3f3",
           "#FF6692",
           "#B6E880",
           "#FF97FF",
           "#FECB52"
          ],
          "font": {
           "color": "#2a3f5f"
          },
          "geo": {
           "bgcolor": "white",
           "lakecolor": "white",
           "landcolor": "#E5ECF6",
           "showlakes": true,
           "showland": true,
           "subunitcolor": "white"
          },
          "hoverlabel": {
           "align": "left"
          },
          "hovermode": "closest",
          "mapbox": {
           "style": "light"
          },
          "paper_bgcolor": "white",
          "plot_bgcolor": "#E5ECF6",
          "polar": {
           "angularaxis": {
            "gridcolor": "white",
            "linecolor": "white",
            "ticks": ""
           },
           "bgcolor": "#E5ECF6",
           "radialaxis": {
            "gridcolor": "white",
            "linecolor": "white",
            "ticks": ""
           }
          },
          "scene": {
           "xaxis": {
            "backgroundcolor": "#E5ECF6",
            "gridcolor": "white",
            "gridwidth": 2,
            "linecolor": "white",
            "showbackground": true,
            "ticks": "",
            "zerolinecolor": "white"
           },
           "yaxis": {
            "backgroundcolor": "#E5ECF6",
            "gridcolor": "white",
            "gridwidth": 2,
            "linecolor": "white",
            "showbackground": true,
            "ticks": "",
            "zerolinecolor": "white"
           },
           "zaxis": {
            "backgroundcolor": "#E5ECF6",
            "gridcolor": "white",
            "gridwidth": 2,
            "linecolor": "white",
            "showbackground": true,
            "ticks": "",
            "zerolinecolor": "white"
           }
          },
          "shapedefaults": {
           "line": {
            "color": "#2a3f5f"
           }
          },
          "ternary": {
           "aaxis": {
            "gridcolor": "white",
            "linecolor": "white",
            "ticks": ""
           },
           "baxis": {
            "gridcolor": "white",
            "linecolor": "white",
            "ticks": ""
           },
           "bgcolor": "#E5ECF6",
           "caxis": {
            "gridcolor": "white",
            "linecolor": "white",
            "ticks": ""
           }
          },
          "title": {
           "x": 0.05
          },
          "xaxis": {
           "automargin": true,
           "gridcolor": "white",
           "linecolor": "white",
           "ticks": "",
           "title": {
            "standoff": 15
           },
           "zerolinecolor": "white",
           "zerolinewidth": 2
          },
          "yaxis": {
           "automargin": true,
           "gridcolor": "white",
           "linecolor": "white",
           "ticks": "",
           "title": {
            "standoff": 15
           },
           "zerolinecolor": "white",
           "zerolinewidth": 2
          }
         }
        },
        "title": {
         "text": "Øverste og nederste 5 grupper efter samlet score for køn og alder data. Høj score godt = 1"
        },
        "xaxis": {
         "anchor": "y",
         "domain": [
          0,
          1
         ],
         "title": {
          "text": "Score"
         }
        },
        "yaxis": {
         "anchor": "x",
         "domain": [
          0,
          1
         ],
         "title": {
          "text": "Group"
         }
        }
       }
      }
     },
     "metadata": {},
     "output_type": "display_data"
    }
   ],
   "source": [
    "plot_top_and_bottom_groups(koen_alder_data_filtered, 1, 'køn og alder data')"
   ]
  },
  {
   "cell_type": "code",
   "execution_count": 1223,
   "metadata": {},
   "outputs": [
    {
     "data": {
      "application/vnd.plotly.v1+json": {
       "config": {
        "plotlyServerURL": "https://plot.ly"
       },
       "data": [
        {
         "alignmentgroup": "True",
         "hovertemplate": "Group Type=Nederste 5 Grupper<br>Score=%{x}<br>Group=%{y}<extra></extra>",
         "legendgroup": "Nederste 5 Grupper",
         "marker": {
          "color": "lightsalmon",
          "pattern": {
           "shape": ""
          }
         },
         "name": "Nederste 5 Grupper",
         "offsetgroup": "Nederste 5 Grupper",
         "orientation": "h",
         "showlegend": true,
         "textposition": "auto",
         "type": "bar",
         "x": [
          2.657311692875,
          2.72552203,
          2.7732708579375,
          2.7772465059374998,
          2.786042544375
         ],
         "xaxis": "x",
         "y": [
          "Mænd, 18 - 24 år",
          "Mænd, 55 - 64 år",
          "Mænd",
          "Kvinder, 18 - 24 år",
          "Mænd, 25 - 34 år"
         ],
         "yaxis": "y"
        },
        {
         "alignmentgroup": "True",
         "hovertemplate": "Group Type=Øverste 5 Grupper<br>Score=%{x}<br>Group=%{y}<extra></extra>",
         "legendgroup": "Øverste 5 Grupper",
         "marker": {
          "color": "#1f77b4",
          "pattern": {
           "shape": ""
          }
         },
         "name": "Øverste 5 Grupper",
         "offsetgroup": "Øverste 5 Grupper",
         "orientation": "h",
         "showlegend": true,
         "textposition": "auto",
         "type": "bar",
         "x": [
          2.83845259125,
          2.880363088625,
          2.8804681514375,
          2.892849730375,
          2.957450360375
         ],
         "xaxis": "x",
         "y": [
          "Kvinder, 55 - 64 år",
          "Kvinder",
          "Kvinder, 45 - 54 år",
          "Kvinder, 35 - 44 år",
          "Kvinder, 25 - 34 år"
         ],
         "yaxis": "y"
        }
       ],
       "layout": {
        "barmode": "relative",
        "legend": {
         "title": {
          "text": "Group Type"
         },
         "tracegroupgap": 0
        },
        "margin": {
         "t": 60
        },
        "template": {
         "data": {
          "bar": [
           {
            "error_x": {
             "color": "#2a3f5f"
            },
            "error_y": {
             "color": "#2a3f5f"
            },
            "marker": {
             "line": {
              "color": "#E5ECF6",
              "width": 0.5
             },
             "pattern": {
              "fillmode": "overlay",
              "size": 10,
              "solidity": 0.2
             }
            },
            "type": "bar"
           }
          ],
          "barpolar": [
           {
            "marker": {
             "line": {
              "color": "#E5ECF6",
              "width": 0.5
             },
             "pattern": {
              "fillmode": "overlay",
              "size": 10,
              "solidity": 0.2
             }
            },
            "type": "barpolar"
           }
          ],
          "carpet": [
           {
            "aaxis": {
             "endlinecolor": "#2a3f5f",
             "gridcolor": "white",
             "linecolor": "white",
             "minorgridcolor": "white",
             "startlinecolor": "#2a3f5f"
            },
            "baxis": {
             "endlinecolor": "#2a3f5f",
             "gridcolor": "white",
             "linecolor": "white",
             "minorgridcolor": "white",
             "startlinecolor": "#2a3f5f"
            },
            "type": "carpet"
           }
          ],
          "choropleth": [
           {
            "colorbar": {
             "outlinewidth": 0,
             "ticks": ""
            },
            "type": "choropleth"
           }
          ],
          "contour": [
           {
            "colorbar": {
             "outlinewidth": 0,
             "ticks": ""
            },
            "colorscale": [
             [
              0,
              "#0d0887"
             ],
             [
              0.1111111111111111,
              "#46039f"
             ],
             [
              0.2222222222222222,
              "#7201a8"
             ],
             [
              0.3333333333333333,
              "#9c179e"
             ],
             [
              0.4444444444444444,
              "#bd3786"
             ],
             [
              0.5555555555555556,
              "#d8576b"
             ],
             [
              0.6666666666666666,
              "#ed7953"
             ],
             [
              0.7777777777777778,
              "#fb9f3a"
             ],
             [
              0.8888888888888888,
              "#fdca26"
             ],
             [
              1,
              "#f0f921"
             ]
            ],
            "type": "contour"
           }
          ],
          "contourcarpet": [
           {
            "colorbar": {
             "outlinewidth": 0,
             "ticks": ""
            },
            "type": "contourcarpet"
           }
          ],
          "heatmap": [
           {
            "colorbar": {
             "outlinewidth": 0,
             "ticks": ""
            },
            "colorscale": [
             [
              0,
              "#0d0887"
             ],
             [
              0.1111111111111111,
              "#46039f"
             ],
             [
              0.2222222222222222,
              "#7201a8"
             ],
             [
              0.3333333333333333,
              "#9c179e"
             ],
             [
              0.4444444444444444,
              "#bd3786"
             ],
             [
              0.5555555555555556,
              "#d8576b"
             ],
             [
              0.6666666666666666,
              "#ed7953"
             ],
             [
              0.7777777777777778,
              "#fb9f3a"
             ],
             [
              0.8888888888888888,
              "#fdca26"
             ],
             [
              1,
              "#f0f921"
             ]
            ],
            "type": "heatmap"
           }
          ],
          "heatmapgl": [
           {
            "colorbar": {
             "outlinewidth": 0,
             "ticks": ""
            },
            "colorscale": [
             [
              0,
              "#0d0887"
             ],
             [
              0.1111111111111111,
              "#46039f"
             ],
             [
              0.2222222222222222,
              "#7201a8"
             ],
             [
              0.3333333333333333,
              "#9c179e"
             ],
             [
              0.4444444444444444,
              "#bd3786"
             ],
             [
              0.5555555555555556,
              "#d8576b"
             ],
             [
              0.6666666666666666,
              "#ed7953"
             ],
             [
              0.7777777777777778,
              "#fb9f3a"
             ],
             [
              0.8888888888888888,
              "#fdca26"
             ],
             [
              1,
              "#f0f921"
             ]
            ],
            "type": "heatmapgl"
           }
          ],
          "histogram": [
           {
            "marker": {
             "pattern": {
              "fillmode": "overlay",
              "size": 10,
              "solidity": 0.2
             }
            },
            "type": "histogram"
           }
          ],
          "histogram2d": [
           {
            "colorbar": {
             "outlinewidth": 0,
             "ticks": ""
            },
            "colorscale": [
             [
              0,
              "#0d0887"
             ],
             [
              0.1111111111111111,
              "#46039f"
             ],
             [
              0.2222222222222222,
              "#7201a8"
             ],
             [
              0.3333333333333333,
              "#9c179e"
             ],
             [
              0.4444444444444444,
              "#bd3786"
             ],
             [
              0.5555555555555556,
              "#d8576b"
             ],
             [
              0.6666666666666666,
              "#ed7953"
             ],
             [
              0.7777777777777778,
              "#fb9f3a"
             ],
             [
              0.8888888888888888,
              "#fdca26"
             ],
             [
              1,
              "#f0f921"
             ]
            ],
            "type": "histogram2d"
           }
          ],
          "histogram2dcontour": [
           {
            "colorbar": {
             "outlinewidth": 0,
             "ticks": ""
            },
            "colorscale": [
             [
              0,
              "#0d0887"
             ],
             [
              0.1111111111111111,
              "#46039f"
             ],
             [
              0.2222222222222222,
              "#7201a8"
             ],
             [
              0.3333333333333333,
              "#9c179e"
             ],
             [
              0.4444444444444444,
              "#bd3786"
             ],
             [
              0.5555555555555556,
              "#d8576b"
             ],
             [
              0.6666666666666666,
              "#ed7953"
             ],
             [
              0.7777777777777778,
              "#fb9f3a"
             ],
             [
              0.8888888888888888,
              "#fdca26"
             ],
             [
              1,
              "#f0f921"
             ]
            ],
            "type": "histogram2dcontour"
           }
          ],
          "mesh3d": [
           {
            "colorbar": {
             "outlinewidth": 0,
             "ticks": ""
            },
            "type": "mesh3d"
           }
          ],
          "parcoords": [
           {
            "line": {
             "colorbar": {
              "outlinewidth": 0,
              "ticks": ""
             }
            },
            "type": "parcoords"
           }
          ],
          "pie": [
           {
            "automargin": true,
            "type": "pie"
           }
          ],
          "scatter": [
           {
            "fillpattern": {
             "fillmode": "overlay",
             "size": 10,
             "solidity": 0.2
            },
            "type": "scatter"
           }
          ],
          "scatter3d": [
           {
            "line": {
             "colorbar": {
              "outlinewidth": 0,
              "ticks": ""
             }
            },
            "marker": {
             "colorbar": {
              "outlinewidth": 0,
              "ticks": ""
             }
            },
            "type": "scatter3d"
           }
          ],
          "scattercarpet": [
           {
            "marker": {
             "colorbar": {
              "outlinewidth": 0,
              "ticks": ""
             }
            },
            "type": "scattercarpet"
           }
          ],
          "scattergeo": [
           {
            "marker": {
             "colorbar": {
              "outlinewidth": 0,
              "ticks": ""
             }
            },
            "type": "scattergeo"
           }
          ],
          "scattergl": [
           {
            "marker": {
             "colorbar": {
              "outlinewidth": 0,
              "ticks": ""
             }
            },
            "type": "scattergl"
           }
          ],
          "scattermapbox": [
           {
            "marker": {
             "colorbar": {
              "outlinewidth": 0,
              "ticks": ""
             }
            },
            "type": "scattermapbox"
           }
          ],
          "scatterpolar": [
           {
            "marker": {
             "colorbar": {
              "outlinewidth": 0,
              "ticks": ""
             }
            },
            "type": "scatterpolar"
           }
          ],
          "scatterpolargl": [
           {
            "marker": {
             "colorbar": {
              "outlinewidth": 0,
              "ticks": ""
             }
            },
            "type": "scatterpolargl"
           }
          ],
          "scatterternary": [
           {
            "marker": {
             "colorbar": {
              "outlinewidth": 0,
              "ticks": ""
             }
            },
            "type": "scatterternary"
           }
          ],
          "surface": [
           {
            "colorbar": {
             "outlinewidth": 0,
             "ticks": ""
            },
            "colorscale": [
             [
              0,
              "#0d0887"
             ],
             [
              0.1111111111111111,
              "#46039f"
             ],
             [
              0.2222222222222222,
              "#7201a8"
             ],
             [
              0.3333333333333333,
              "#9c179e"
             ],
             [
              0.4444444444444444,
              "#bd3786"
             ],
             [
              0.5555555555555556,
              "#d8576b"
             ],
             [
              0.6666666666666666,
              "#ed7953"
             ],
             [
              0.7777777777777778,
              "#fb9f3a"
             ],
             [
              0.8888888888888888,
              "#fdca26"
             ],
             [
              1,
              "#f0f921"
             ]
            ],
            "type": "surface"
           }
          ],
          "table": [
           {
            "cells": {
             "fill": {
              "color": "#EBF0F8"
             },
             "line": {
              "color": "white"
             }
            },
            "header": {
             "fill": {
              "color": "#C8D4E3"
             },
             "line": {
              "color": "white"
             }
            },
            "type": "table"
           }
          ]
         },
         "layout": {
          "annotationdefaults": {
           "arrowcolor": "#2a3f5f",
           "arrowhead": 0,
           "arrowwidth": 1
          },
          "autotypenumbers": "strict",
          "coloraxis": {
           "colorbar": {
            "outlinewidth": 0,
            "ticks": ""
           }
          },
          "colorscale": {
           "diverging": [
            [
             0,
             "#8e0152"
            ],
            [
             0.1,
             "#c51b7d"
            ],
            [
             0.2,
             "#de77ae"
            ],
            [
             0.3,
             "#f1b6da"
            ],
            [
             0.4,
             "#fde0ef"
            ],
            [
             0.5,
             "#f7f7f7"
            ],
            [
             0.6,
             "#e6f5d0"
            ],
            [
             0.7,
             "#b8e186"
            ],
            [
             0.8,
             "#7fbc41"
            ],
            [
             0.9,
             "#4d9221"
            ],
            [
             1,
             "#276419"
            ]
           ],
           "sequential": [
            [
             0,
             "#0d0887"
            ],
            [
             0.1111111111111111,
             "#46039f"
            ],
            [
             0.2222222222222222,
             "#7201a8"
            ],
            [
             0.3333333333333333,
             "#9c179e"
            ],
            [
             0.4444444444444444,
             "#bd3786"
            ],
            [
             0.5555555555555556,
             "#d8576b"
            ],
            [
             0.6666666666666666,
             "#ed7953"
            ],
            [
             0.7777777777777778,
             "#fb9f3a"
            ],
            [
             0.8888888888888888,
             "#fdca26"
            ],
            [
             1,
             "#f0f921"
            ]
           ],
           "sequentialminus": [
            [
             0,
             "#0d0887"
            ],
            [
             0.1111111111111111,
             "#46039f"
            ],
            [
             0.2222222222222222,
             "#7201a8"
            ],
            [
             0.3333333333333333,
             "#9c179e"
            ],
            [
             0.4444444444444444,
             "#bd3786"
            ],
            [
             0.5555555555555556,
             "#d8576b"
            ],
            [
             0.6666666666666666,
             "#ed7953"
            ],
            [
             0.7777777777777778,
             "#fb9f3a"
            ],
            [
             0.8888888888888888,
             "#fdca26"
            ],
            [
             1,
             "#f0f921"
            ]
           ]
          },
          "colorway": [
           "#636efa",
           "#EF553B",
           "#00cc96",
           "#ab63fa",
           "#FFA15A",
           "#19d3f3",
           "#FF6692",
           "#B6E880",
           "#FF97FF",
           "#FECB52"
          ],
          "font": {
           "color": "#2a3f5f"
          },
          "geo": {
           "bgcolor": "white",
           "lakecolor": "white",
           "landcolor": "#E5ECF6",
           "showlakes": true,
           "showland": true,
           "subunitcolor": "white"
          },
          "hoverlabel": {
           "align": "left"
          },
          "hovermode": "closest",
          "mapbox": {
           "style": "light"
          },
          "paper_bgcolor": "white",
          "plot_bgcolor": "#E5ECF6",
          "polar": {
           "angularaxis": {
            "gridcolor": "white",
            "linecolor": "white",
            "ticks": ""
           },
           "bgcolor": "#E5ECF6",
           "radialaxis": {
            "gridcolor": "white",
            "linecolor": "white",
            "ticks": ""
           }
          },
          "scene": {
           "xaxis": {
            "backgroundcolor": "#E5ECF6",
            "gridcolor": "white",
            "gridwidth": 2,
            "linecolor": "white",
            "showbackground": true,
            "ticks": "",
            "zerolinecolor": "white"
           },
           "yaxis": {
            "backgroundcolor": "#E5ECF6",
            "gridcolor": "white",
            "gridwidth": 2,
            "linecolor": "white",
            "showbackground": true,
            "ticks": "",
            "zerolinecolor": "white"
           },
           "zaxis": {
            "backgroundcolor": "#E5ECF6",
            "gridcolor": "white",
            "gridwidth": 2,
            "linecolor": "white",
            "showbackground": true,
            "ticks": "",
            "zerolinecolor": "white"
           }
          },
          "shapedefaults": {
           "line": {
            "color": "#2a3f5f"
           }
          },
          "ternary": {
           "aaxis": {
            "gridcolor": "white",
            "linecolor": "white",
            "ticks": ""
           },
           "baxis": {
            "gridcolor": "white",
            "linecolor": "white",
            "ticks": ""
           },
           "bgcolor": "#E5ECF6",
           "caxis": {
            "gridcolor": "white",
            "linecolor": "white",
            "ticks": ""
           }
          },
          "title": {
           "x": 0.05
          },
          "xaxis": {
           "automargin": true,
           "gridcolor": "white",
           "linecolor": "white",
           "ticks": "",
           "title": {
            "standoff": 15
           },
           "zerolinecolor": "white",
           "zerolinewidth": 2
          },
          "yaxis": {
           "automargin": true,
           "gridcolor": "white",
           "linecolor": "white",
           "ticks": "",
           "title": {
            "standoff": 15
           },
           "zerolinecolor": "white",
           "zerolinewidth": 2
          }
         }
        },
        "title": {
         "text": "Øverste og nederste 5 grupper efter samlet score for køn og alder data. Høj score godt = 0"
        },
        "xaxis": {
         "anchor": "y",
         "domain": [
          0,
          1
         ],
         "title": {
          "text": "Score"
         }
        },
        "yaxis": {
         "anchor": "x",
         "domain": [
          0,
          1
         ],
         "title": {
          "text": "Group"
         }
        }
       }
      }
     },
     "metadata": {},
     "output_type": "display_data"
    }
   ],
   "source": [
    "plot_top_and_bottom_groups(koen_alder_data_filtered, 0, 'køn og alder data')"
   ]
  },
  {
   "attachments": {},
   "cell_type": "markdown",
   "metadata": {},
   "source": [
    "#### Problemstilling: Hvordan scorer arbejdsmiljøet i forskellige grupper af køn og alder i 2018?\n",
    "\n",
    "#### **Finding 2: Arbejdsmiljøet scorer bedst i grupper med mænd og grupper som er yngre**\n",
    "\n",
    "Når man sammenligner de øverste 5 grupper med de nederste 5 grupper i den første graf med HSG = 1, er det tydeligt, at mænd i alderen 18-24 scorer højest med en gennemsnitlig score på 3.77, mens kvinder i alderen 25-34 scorer lavest med en gennemsnitlig score på 3.69. De øverste 5 grupper i denne graf består af et flertal af grupper med mænd (3 ud af 5) og de to øverste grupper er de yngste i sættet (18-24 år og 25-34 år).\n",
    "\n",
    "Når man sammenligner de øverste 5 grupper med de nederste 5 grupper i den anden graf med HSG = 0, ser man et klart mønster: Grupper med kvinder scorer i gennemsnit højere. Kvinder i alderen 25-34 har den højeste score (2.95) og alle grupper i de øverste 5 værdier i denne graf er kvinder. Samtidig er kvinders samlede gruppe i de øverste rækker med en score på 2.88, mens mænds samlede gruppe er at finde i de nederste 5 rækker med en score på 2.77. Selvom forskellen mellem kvinders og mænds score for arbejdsmiljø ikke er stor i decimalpunkter, er det vigtigt at fokusere på det overordnede billede. Kvinder er overrepræsenterede, når scoren for arbejdsmiljø er høj, hvilket indikerer et dårligt arbejdsmiljø for kvinder.\n",
    "\n",
    "Det er vigtigt at bemærke, at dataet er et snapshot fra 2018, og det er derfor nødvendigt at sammenligne med andre tidspunkter for at se udviklingen i arbejdsmiljøet i grupper med forskellige køn og alder. Desuden er det værd at bemærke, at dataet ikke tager højde for personer, der ikke identificerer sig som mand eller kvinde, hvilket begrænser generaliserbarheden til den danske befolkning."
   ]
  },
  {
   "attachments": {},
   "cell_type": "markdown",
   "metadata": {},
   "source": [
    "_________"
   ]
  },
  {
   "attachments": {},
   "cell_type": "markdown",
   "metadata": {},
   "source": [
    "## 4. DA: Time-Series Analyse og Cluster-Modelling\n",
    "\n",
    "I denne blok bruger vi indsigterne fra ovenstående EDA til at lave mere dybdegående analyser af vores data. Dette inkluderer en (kort) time-series analyse af informationen omkring offentlige brancher. Bagefter laves der clustering modelling (unsupervised learning). Tilsammen afgiver dette afgiver to interresante findings, som præsenteres og analyseres sammen. \n",
    "\n",
    "Igen stilles der to problemformuleringer til de to datasæt. Denne gange zoomes der ind på specifikke brancher og aldersgrupper. \n",
    "\n",
    "* Hvordan har arbejdsmiljøet udviklet sig for undervisning (gymnasielærere) ift. tid til arbejdsopgaver fra 2012 til 2018?\n",
    "* Spørgsmål til clustering\n",
    "\n",
    "De to findings er\n",
    "\n",
    "1) Arbejdsmiljøet scorer bedst i brancher med mere selvstændighed og ansvar, som typisk er i det private\n",
    "2) Arbejdsmiljøet scorer bedst i grupper med mænd og grupper som er yngre"
   ]
  },
  {
   "attachments": {},
   "cell_type": "markdown",
   "metadata": {},
   "source": [
    "### 1) Time-series analyse\n",
    "\n",
    "Data indlæses fra https://at.dk/arbejdsmiljoe-i-tal/national-overvaagning-af-arbejdsmiljoeet-blandt-loenmodtagere-2021/arbejdsmiljoe-og-helbred-2012-2018/. Bagefter plottes det sammen med data for gymnasielærere som er repræsentativt for undervisningsbranchen"
   ]
  },
  {
   "cell_type": "code",
   "execution_count": 1230,
   "metadata": {},
   "outputs": [
    {
     "data": {
      "text/html": [
       "<div>\n",
       "<style scoped>\n",
       "    .dataframe tbody tr th:only-of-type {\n",
       "        vertical-align: middle;\n",
       "    }\n",
       "\n",
       "    .dataframe tbody tr th {\n",
       "        vertical-align: top;\n",
       "    }\n",
       "\n",
       "    .dataframe thead th {\n",
       "        text-align: right;\n",
       "    }\n",
       "</style>\n",
       "<table border=\"1\" class=\"dataframe\">\n",
       "  <thead>\n",
       "    <tr style=\"text-align: right;\">\n",
       "      <th></th>\n",
       "      <th>År</th>\n",
       "      <th>Score eller andel</th>\n",
       "      <th>Øvre konfidensgrænse</th>\n",
       "      <th>Nedre konfidensgrænse</th>\n",
       "      <th>topic_label</th>\n",
       "      <th>Antal personer</th>\n",
       "      <th>Spørgsmålsformulering</th>\n",
       "      <th>Branche</th>\n",
       "      <th>main_group</th>\n",
       "      <th>Antal svarpersoner</th>\n",
       "      <th>...</th>\n",
       "      <th>topic_label2</th>\n",
       "      <th>hoej_score_godt</th>\n",
       "      <th>Start_y_akse</th>\n",
       "      <th>Sex</th>\n",
       "      <th>Age</th>\n",
       "      <th>Målt_Ved_Spørgsmålet</th>\n",
       "      <th>Score</th>\n",
       "      <th>test</th>\n",
       "      <th>IsFiltered</th>\n",
       "      <th>GRoupIsFiltered</th>\n",
       "    </tr>\n",
       "  </thead>\n",
       "  <tbody>\n",
       "    <tr>\n",
       "      <th>0</th>\n",
       "      <td>2012</td>\n",
       "      <td>2.626250</td>\n",
       "      <td>2.667541</td>\n",
       "      <td>2.584960</td>\n",
       "      <td>Kvantitative krav og grænseløshed</td>\n",
       "      <td>2564</td>\n",
       "      <td>Ikke nok tid til arbejdsopgaver\\n\\nHvor ofte o...</td>\n",
       "      <td>Undervisning</td>\n",
       "      <td>at_br36</td>\n",
       "      <td>2564</td>\n",
       "      <td>...</td>\n",
       "      <td>Kvantitative krav og grænseløshed</td>\n",
       "      <td>0</td>\n",
       "      <td>1</td>\n",
       "      <td>Ukendt</td>\n",
       "      <td>Ukendt</td>\n",
       "      <td>Målt ved spørgsmålet:</td>\n",
       "      <td>6.136376</td>\n",
       "      <td>0</td>\n",
       "      <td>False</td>\n",
       "      <td>0</td>\n",
       "    </tr>\n",
       "    <tr>\n",
       "      <th>1</th>\n",
       "      <td>2014</td>\n",
       "      <td>2.694688</td>\n",
       "      <td>2.736669</td>\n",
       "      <td>2.652707</td>\n",
       "      <td>Kvantitative krav og grænseløshed</td>\n",
       "      <td>2602</td>\n",
       "      <td>Ikke nok tid til arbejdsopgaver\\n\\nHvor ofte o...</td>\n",
       "      <td>Undervisning</td>\n",
       "      <td>at_br36</td>\n",
       "      <td>2602</td>\n",
       "      <td>...</td>\n",
       "      <td>Kvantitative krav og grænseløshed</td>\n",
       "      <td>0</td>\n",
       "      <td>1</td>\n",
       "      <td>Ukendt</td>\n",
       "      <td>Ukendt</td>\n",
       "      <td>Målt ved spørgsmålet:</td>\n",
       "      <td>6.136376</td>\n",
       "      <td>0</td>\n",
       "      <td>False</td>\n",
       "      <td>0</td>\n",
       "    </tr>\n",
       "    <tr>\n",
       "      <th>2</th>\n",
       "      <td>2016</td>\n",
       "      <td>2.945910</td>\n",
       "      <td>2.998930</td>\n",
       "      <td>2.892889</td>\n",
       "      <td>Kvantitative krav og grænseløshed</td>\n",
       "      <td>2671</td>\n",
       "      <td>Ikke nok tid til arbejdsopgaver\\n\\nHvor ofte o...</td>\n",
       "      <td>Undervisning</td>\n",
       "      <td>at_br36</td>\n",
       "      <td>2671</td>\n",
       "      <td>...</td>\n",
       "      <td>Kvantitative krav og grænseløshed</td>\n",
       "      <td>0</td>\n",
       "      <td>1</td>\n",
       "      <td>Ukendt</td>\n",
       "      <td>Ukendt</td>\n",
       "      <td>Målt ved spørgsmålet:</td>\n",
       "      <td>6.136376</td>\n",
       "      <td>0</td>\n",
       "      <td>False</td>\n",
       "      <td>0</td>\n",
       "    </tr>\n",
       "    <tr>\n",
       "      <th>3</th>\n",
       "      <td>2018</td>\n",
       "      <td>2.896863</td>\n",
       "      <td>2.934863</td>\n",
       "      <td>2.858862</td>\n",
       "      <td>Kvantitative krav og grænseløshed</td>\n",
       "      <td>3520</td>\n",
       "      <td>Ikke nok tid til arbejdsopgaver\\n\\nHvor ofte o...</td>\n",
       "      <td>Undervisning</td>\n",
       "      <td>at_br36</td>\n",
       "      <td>3520</td>\n",
       "      <td>...</td>\n",
       "      <td>Kvantitative krav og grænseløshed</td>\n",
       "      <td>0</td>\n",
       "      <td>1</td>\n",
       "      <td>Ukendt</td>\n",
       "      <td>Ukendt</td>\n",
       "      <td>Målt ved spørgsmålet:</td>\n",
       "      <td>6.136376</td>\n",
       "      <td>0</td>\n",
       "      <td>False</td>\n",
       "      <td>0</td>\n",
       "    </tr>\n",
       "  </tbody>\n",
       "</table>\n",
       "<p>4 rows × 28 columns</p>\n",
       "</div>"
      ],
      "text/plain": [
       "     År  Score eller andel  Øvre konfidensgrænse  Nedre konfidensgrænse  \\\n",
       "0  2012           2.626250              2.667541               2.584960   \n",
       "1  2014           2.694688              2.736669               2.652707   \n",
       "2  2016           2.945910              2.998930               2.892889   \n",
       "3  2018           2.896863              2.934863               2.858862   \n",
       "\n",
       "                         topic_label  Antal personer  \\\n",
       "0  Kvantitative krav og grænseløshed            2564   \n",
       "1  Kvantitative krav og grænseløshed            2602   \n",
       "2  Kvantitative krav og grænseløshed            2671   \n",
       "3  Kvantitative krav og grænseløshed            3520   \n",
       "\n",
       "                               Spørgsmålsformulering       Branche main_group  \\\n",
       "0  Ikke nok tid til arbejdsopgaver\\n\\nHvor ofte o...  Undervisning    at_br36   \n",
       "1  Ikke nok tid til arbejdsopgaver\\n\\nHvor ofte o...  Undervisning    at_br36   \n",
       "2  Ikke nok tid til arbejdsopgaver\\n\\nHvor ofte o...  Undervisning    at_br36   \n",
       "3  Ikke nok tid til arbejdsopgaver\\n\\nHvor ofte o...  Undervisning    at_br36   \n",
       "\n",
       "   Antal svarpersoner  ...                       topic_label2  \\\n",
       "0                2564  ...  Kvantitative krav og grænseløshed   \n",
       "1                2602  ...  Kvantitative krav og grænseløshed   \n",
       "2                2671  ...  Kvantitative krav og grænseløshed   \n",
       "3                3520  ...  Kvantitative krav og grænseløshed   \n",
       "\n",
       "   hoej_score_godt Start_y_akse     Sex     Age    Målt_Ved_Spørgsmålet  \\\n",
       "0                0            1  Ukendt  Ukendt  Målt ved spørgsmålet:    \n",
       "1                0            1  Ukendt  Ukendt  Målt ved spørgsmålet:    \n",
       "2                0            1  Ukendt  Ukendt  Målt ved spørgsmålet:    \n",
       "3                0            1  Ukendt  Ukendt  Målt ved spørgsmålet:    \n",
       "\n",
       "      Score test IsFiltered  GRoupIsFiltered  \n",
       "0  6.136376    0      False                0  \n",
       "1  6.136376    0      False                0  \n",
       "2  6.136376    0      False                0  \n",
       "3  6.136376    0      False                0  \n",
       "\n",
       "[4 rows x 28 columns]"
      ]
     },
     "execution_count": 1230,
     "metadata": {},
     "output_type": "execute_result"
    }
   ],
   "source": [
    "# Sætter filepathen\n",
    "excel_fp = r'/Users/albertcortbanke/Case/data/Udvikling i branchen undervisning (2012 til 2018).xlsm'\n",
    "\n",
    "# Reader dataet med read_excel\n",
    "undervisning_2012_2018 = pd.read_excel(excel_fp)\n",
    "\n",
    "# Checker at dataet er loaded korrekt\n",
    "\n",
    "undervisning_2012_2018 # Ser helt fint ud, ikke behov for så tunge transformationer som tidligere data "
   ]
  },
  {
   "cell_type": "code",
   "execution_count": 1235,
   "metadata": {},
   "outputs": [
    {
     "data": {
      "text/html": [
       "<div>\n",
       "<style scoped>\n",
       "    .dataframe tbody tr th:only-of-type {\n",
       "        vertical-align: middle;\n",
       "    }\n",
       "\n",
       "    .dataframe tbody tr th {\n",
       "        vertical-align: top;\n",
       "    }\n",
       "\n",
       "    .dataframe thead th {\n",
       "        text-align: right;\n",
       "    }\n",
       "</style>\n",
       "<table border=\"1\" class=\"dataframe\">\n",
       "  <thead>\n",
       "    <tr style=\"text-align: right;\">\n",
       "      <th></th>\n",
       "      <th>Ordforklaring</th>\n",
       "      <th>Akse</th>\n",
       "      <th>Score (Indekseret score) (gennemsnit) (label)</th>\n",
       "      <th>Antpct</th>\n",
       "      <th>Antpers</th>\n",
       "      <th>Group</th>\n",
       "      <th>Hoej Score Godt</th>\n",
       "      <th>Score</th>\n",
       "      <th>Question Label</th>\n",
       "      <th>Topic Label</th>\n",
       "      <th>Type</th>\n",
       "      <th>Year</th>\n",
       "    </tr>\n",
       "  </thead>\n",
       "  <tbody>\n",
       "    <tr>\n",
       "      <th>16</th>\n",
       "      <td>Hvor ofte oplever du at du har nok tid til din...</td>\n",
       "      <td>Score</td>\n",
       "      <td>2.609044</td>\n",
       "      <td>NaN</td>\n",
       "      <td>349</td>\n",
       "      <td>Gymnasielærere</td>\n",
       "      <td>0</td>\n",
       "      <td>3.02137</td>\n",
       "      <td>Ikke nok tid til arbejdsopgaver</td>\n",
       "      <td>Kvantitative krav og grænseløshed</td>\n",
       "      <td>kont</td>\n",
       "      <td>2018</td>\n",
       "    </tr>\n",
       "  </tbody>\n",
       "</table>\n",
       "</div>"
      ],
      "text/plain": [
       "                                        Ordforklaring   Akse  \\\n",
       "16  Hvor ofte oplever du at du har nok tid til din...  Score   \n",
       "\n",
       "    Score (Indekseret score) (gennemsnit) (label)  Antpct  Antpers  \\\n",
       "16                                       2.609044     NaN      349   \n",
       "\n",
       "             Group  Hoej Score Godt    Score                   Question Label  \\\n",
       "16  Gymnasielærere                0  3.02137  Ikke nok tid til arbejdsopgaver   \n",
       "\n",
       "                          Topic Label  Type  Year  \n",
       "16  Kvantitative krav og grænseløshed  kont  2018  "
      ]
     },
     "execution_count": 1235,
     "metadata": {},
     "output_type": "execute_result"
    }
   ],
   "source": [
    "# Laver en skal af branche der indeholder gymnasielærere og 'Question Label' er 'Ikke nok tid til arbejdsopgaver'\n",
    "\n",
    "branche_data_filtered_shell = branche_data_filtered[(branche_data_filtered['Group'] == 'Gymnasielærere') & \n",
    "                                              (branche_data_filtered['Question Label'].str.contains('Ikke nok tid til arbejdsopgaver'))]\n",
    "\n",
    "branche_data_filtered_shell # Klar til visualisering"
   ]
  },
  {
   "cell_type": "code",
   "execution_count": 1225,
   "metadata": {},
   "outputs": [
    {
     "data": {
      "text/plain": [
       "12"
      ]
     },
     "execution_count": 1225,
     "metadata": {},
     "output_type": "execute_result"
    }
   ],
   "source": [
    "koen_alder_data_filtered['Group'].nunique()"
   ]
  }
 ],
 "metadata": {
  "kernelspec": {
   "display_name": "Python 3",
   "language": "python",
   "name": "python3"
  },
  "language_info": {
   "codemirror_mode": {
    "name": "ipython",
    "version": 3
   },
   "file_extension": ".py",
   "mimetype": "text/x-python",
   "name": "python",
   "nbconvert_exporter": "python",
   "pygments_lexer": "ipython3",
   "version": "3.10.6"
  },
  "orig_nbformat": 4,
  "vscode": {
   "interpreter": {
    "hash": "6d7f2a304b479854edc588ca56f1f193c9733b369c65d86cad686dc45ead034f"
   }
  }
 },
 "nbformat": 4,
 "nbformat_minor": 2
}
